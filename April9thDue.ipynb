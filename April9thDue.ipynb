{
  "nbformat": 4,
  "nbformat_minor": 0,
  "metadata": {
    "kernelspec": {
      "display_name": "Python 3",
      "language": "python",
      "name": "python3"
    },
    "language_info": {
      "codemirror_mode": {
        "name": "ipython",
        "version": 3
      },
      "file_extension": ".py",
      "mimetype": "text/x-python",
      "name": "python",
      "nbconvert_exporter": "python",
      "pygments_lexer": "ipython3",
      "version": "3.7.1"
    },
    "colab": {
      "name": "April9thDue.ipynb",
      "provenance": [],
      "collapsed_sections": [],
      "toc_visible": true,
      "include_colab_link": true
    }
  },
  "cells": [
    {
      "cell_type": "markdown",
      "metadata": {
        "id": "view-in-github",
        "colab_type": "text"
      },
      "source": [
        "<a href=\"https://colab.research.google.com/github/zjzsu2000/257ML/blob/master/April9thDue.ipynb\" target=\"_parent\"><img src=\"https://colab.research.google.com/assets/colab-badge.svg\" alt=\"Open In Colab\"/></a>"
      ]
    },
    {
      "cell_type": "code",
      "metadata": {
        "id": "JSvhT_9n-Vzm",
        "colab_type": "code",
        "outputId": "55561341-0af9-4c10-d2af-282ea5a74acf",
        "colab": {
          "base_uri": "https://localhost:8080/",
          "height": 105
        }
      },
      "source": [
        "import numpy as np\n",
        "import pandas as pd# Data and Numbers\n",
        "import pandas as pd\n",
        "import numpy as np\n",
        "import datetime as dt\n",
        "import statsmodels.api as sm\n",
        "\n",
        "# Modeling\n",
        "from sklearn.neighbors import KNeighborsClassifier\n",
        "from sklearn.linear_model import LogisticRegression, LogisticRegressionCV\n",
        "from sklearn.model_selection import train_test_split, StratifiedKFold, GridSearchCV\n",
        "from sklearn.metrics import precision_score, recall_score,\\\n",
        "precision_recall_curve,f1_score, fbeta_score,\\\n",
        "accuracy_score, confusion_matrix, roc_auc_score, roc_curve\n",
        "from sklearn.naive_bayes import BernoulliNB, GaussianNB\n",
        "from sklearn.tree import DecisionTreeClassifier\n",
        "from sklearn.ensemble import BaggingClassifier, RandomForestClassifier\n",
        "from sklearn import svm\n",
        "from sklearn.svm import LinearSVC, SVC\n",
        "from sklearn.preprocessing import StandardScaler\n",
        "from sklearn.externals.six import StringIO\n",
        "from xgboost import XGBClassifier\n",
        "\n",
        "# Saving\n",
        "import joblib\n",
        "import pickle\n",
        "\n",
        "# Plotting\n",
        "import matplotlib.pyplot as plt\n",
        "import seaborn as sns\n",
        "from IPython.display import Image\n",
        "import pydotplus\n",
        "from sklearn.tree import export_graphviz\n",
        "%matplotlib inline\n",
        "from matplotlib import rcParams"
      ],
      "execution_count": 0,
      "outputs": [
        {
          "output_type": "stream",
          "text": [
            "/usr/local/lib/python3.6/dist-packages/statsmodels/tools/_testing.py:19: FutureWarning: pandas.util.testing is deprecated. Use the functions in the public API at pandas.testing instead.\n",
            "  import pandas.util.testing as tm\n",
            "/usr/local/lib/python3.6/dist-packages/sklearn/externals/six.py:31: FutureWarning: The module is deprecated in version 0.21 and will be removed in version 0.23 since we've dropped support for Python 2.7. Please rely on the official version of six (https://pypi.org/project/six/).\n",
            "  \"(https://pypi.org/project/six/).\", FutureWarning)\n"
          ],
          "name": "stderr"
        }
      ]
    },
    {
      "cell_type": "markdown",
      "metadata": {
        "id": "UuNaUkeo-rwV",
        "colab_type": "text"
      },
      "source": [
        "## **Import Datasets**"
      ]
    },
    {
      "cell_type": "code",
      "metadata": {
        "id": "DW9rPjw8-q6O",
        "colab_type": "code",
        "outputId": "bab60a0a-a150-48ab-c22a-eb296fff044c",
        "colab": {
          "base_uri": "https://localhost:8080/",
          "height": 34
        }
      },
      "source": [
        "from google.colab import drive\n",
        "drive.mount('/content/drive')"
      ],
      "execution_count": 0,
      "outputs": [
        {
          "output_type": "stream",
          "text": [
            "Drive already mounted at /content/drive; to attempt to forcibly remount, call drive.mount(\"/content/drive\", force_remount=True).\n"
          ],
          "name": "stdout"
        }
      ]
    },
    {
      "cell_type": "code",
      "metadata": {
        "id": "kkywI5XL-Vzq",
        "colab_type": "code",
        "colab": {}
      },
      "source": [
        "df = pd.read_csv(\"/content/drive/My Drive/MLSpring2020/AIInsight_CrunchbasePrediction/Datasets/crunchbase/newdata.csv\",encoding= 'unicode_escape')"
      ],
      "execution_count": 0,
      "outputs": []
    },
    {
      "cell_type": "code",
      "metadata": {
        "id": "Gk7zszyY-Vzt",
        "colab_type": "code",
        "colab": {}
      },
      "source": [
        "#df.head()"
      ],
      "execution_count": 0,
      "outputs": []
    },
    {
      "cell_type": "code",
      "metadata": {
        "id": "SgGtYzEc-Vzw",
        "colab_type": "code",
        "outputId": "6b3760a9-1f3d-4c24-9cce-8fcb5eb2a593",
        "colab": {
          "base_uri": "https://localhost:8080/",
          "height": 34
        }
      },
      "source": [
        "df.shape"
      ],
      "execution_count": 0,
      "outputs": [
        {
          "output_type": "execute_result",
          "data": {
            "text/plain": [
              "(8448, 50)"
            ]
          },
          "metadata": {
            "tags": []
          },
          "execution_count": 5
        }
      ]
    },
    {
      "cell_type": "code",
      "metadata": {
        "id": "ma-FQtNm-Vzz",
        "colab_type": "code",
        "colab": {}
      },
      "source": [
        "#df.info()"
      ],
      "execution_count": 0,
      "outputs": []
    },
    {
      "cell_type": "markdown",
      "metadata": {
        "id": "rmCQzo21-Vz3",
        "colab_type": "text"
      },
      "source": [
        "## Todo1: define the target value as success and failure"
      ]
    },
    {
      "cell_type": "markdown",
      "metadata": {
        "id": "VyRXt_P5u3Jq",
        "colab_type": "text"
      },
      "source": [
        "References:"
      ]
    },
    {
      "cell_type": "markdown",
      "metadata": {
        "id": "-cZ35bzbuip-",
        "colab_type": "text"
      },
      "source": [
        "\n",
        "> CrunchBase Reveals: The Average Successful Startup Raises $41M, Exits at $242.9M--https://techcrunch.com/2013/12/14/crunchbase-reveals-the-average-successful-startup-raises-41m-exits-at-242-9m/\n",
        "\n",
        "> https://www.cbinsights.com/reports/CB%20Insights%20Venture%20Capital%20Exit%20Data%20Comparison.pdf\n",
        "\n",
        "\n",
        "> How Long Does It Take a Startup to Exit? https://about.crunchbase.com/blog/startup-exit/\n",
        "\n",
        "\n",
        "\n",
        "\n"
      ]
    },
    {
      "cell_type": "code",
      "metadata": {
        "id": "CvRAjLai-Vz3",
        "colab_type": "code",
        "outputId": "d08404c7-715f-4aea-89a1-90b9f2d51c98",
        "colab": {
          "base_uri": "https://localhost:8080/",
          "height": 85
        }
      },
      "source": [
        "#Status_new 0= Closed\n",
        "#Status_new 1= aqcquired/IPO\n",
        "#Status_new 2= Active\n",
        "df.Status_new.value_counts()"
      ],
      "execution_count": 0,
      "outputs": [
        {
          "output_type": "execute_result",
          "data": {
            "text/plain": [
              "2    7459\n",
              "0     964\n",
              "1      25\n",
              "Name: Status_new, dtype: int64"
            ]
          },
          "metadata": {
            "tags": []
          },
          "execution_count": 7
        }
      ]
    },
    {
      "cell_type": "markdown",
      "metadata": {
        "id": "wkFQMSSMxby9",
        "colab_type": "text"
      },
      "source": [
        "The most important thing of the project is how to define the so-called success  for a startup? \n",
        "Changing the world maybe cool,but this cannot be quantified, nor can it give a very clear definition."
      ]
    },
    {
      "cell_type": "markdown",
      "metadata": {
        "id": "roD0VcuAv7hF",
        "colab_type": "text"
      },
      "source": [
        "\n",
        "\n",
        "> For startups, the traditional definition of success is, of course, the success of an IPO or acquisition by a large company. However, we can see from the database that only 25 of the more than 8,000 companies have successfully IPOed or were acquired. This number is actually very small. If you use such data for machine learning and training, you may not get good results. Therefore, we need to redefine what is success. So that our goal can be yes or no(1/0).\n",
        "\n"
      ]
    },
    {
      "cell_type": "markdown",
      "metadata": {
        "id": "Ff1INm_Iw880",
        "colab_type": "text"
      },
      "source": [
        "Acording to the refences above,we are tring to find more companies from the \"Active\" category.\n",
        "\n",
        ">For example, it has survived long enough (not closed) and has obtained enough financing (the amount is m USD).\n",
        "\n",
        " We know that a company must first have enough money to pay for employees ’salaries and office rent, and then live long enough to be recognized by the capital market before it can eventually IPO or become the company that really can change the world."
      ]
    },
    {
      "cell_type": "code",
      "metadata": {
        "id": "wfnc0jGtzJdO",
        "colab_type": "code",
        "outputId": "575b2a80-5fc1-410e-f781-b35ed9177229",
        "colab": {
          "base_uri": "https://localhost:8080/",
          "height": 357
        }
      },
      "source": [
        "columns_o=df.columns.to_list\n",
        "columns_o"
      ],
      "execution_count": 0,
      "outputs": [
        {
          "output_type": "execute_result",
          "data": {
            "text/plain": [
              "<bound method IndexOpsMixin.tolist of Index(['OrganizationName', 'AcquisitionStatus', 'BuiltWith-ActiveTechCount',\n",
              "       'CBRank(Organization)', 'ClosedDate', 'CompanyType', 'Description',\n",
              "       'EstimatedRevenueRange', 'FoundedDate', 'FoundedDatePrecision',\n",
              "       'FullDescription', 'FundingStatus', 'HeadquartersLocation', 'IPOStatus',\n",
              "       'IPqwery-PatentsGranted', 'Industries', 'IndustryGroups',\n",
              "       'LastEquityFundingAmount', 'LastEquityFundingAmountCurrency',\n",
              "       'LastEquityFundingAmountCurrency(inUSD)', 'LastEquityFundingType',\n",
              "       'LastFundingAmount', 'LastFundingAmountCurrency',\n",
              "       'LastFundingAmountCurrency(inUSD)', 'LastFundingDate',\n",
              "       'NumberofAcquisitions', 'NumberofArticles', 'NumberofEmployees',\n",
              "       'NumberofFounders', 'NumberofFundingRounds', 'NumberofInvestors',\n",
              "       'NumberofLeadInvestors', 'OperatingStatus', 'Unnamed: 33',\n",
              "       'OrganizationNameURL', 'SimilarWeb-AverageVisits(6months)',\n",
              "       'SimilarWeb-MonthlyRankChange(#)', 'SimilarWeb-MonthlyRankGrowth',\n",
              "       'SimilarWeb-MonthlyVisits', 'Status_new', 'Top5Investors',\n",
              "       'TotalEquityFundingAmount', 'TotalEquityFundingAmountCurrency',\n",
              "       'TotalEquityFundingAmountCurrency(inUSD)', 'TotalFundingAmount',\n",
              "       'TotalFundingAmountCurrency', 'TotalFundingAmountCurrency(inUSD)',\n",
              "       'TrendScore(30Days)', 'TrendScore(7Days)', 'TrendScore(90Days)'],\n",
              "      dtype='object')>"
            ]
          },
          "metadata": {
            "tags": []
          },
          "execution_count": 8
        }
      ]
    },
    {
      "cell_type": "markdown",
      "metadata": {
        "id": "knnHBWxkzJxv",
        "colab_type": "text"
      },
      "source": [
        "Maybe we can apply some clustering algorithm to find the m here."
      ]
    },
    {
      "cell_type": "code",
      "metadata": {
        "id": "FZz4CgCC178o",
        "colab_type": "code",
        "outputId": "6bc3384b-6f9e-490e-b124-9e286eb45224",
        "colab": {
          "base_uri": "https://localhost:8080/",
          "height": 170
        }
      },
      "source": [
        "df['TotalEquityFundingAmountCurrency(inUSD)'].describe()"
      ],
      "execution_count": 0,
      "outputs": [
        {
          "output_type": "execute_result",
          "data": {
            "text/plain": [
              "count    6.614000e+03\n",
              "mean     2.337424e+07\n",
              "std      8.676618e+07\n",
              "min      1.000000e+03\n",
              "25%      4.850000e+05\n",
              "50%      3.000000e+06\n",
              "75%      1.500000e+07\n",
              "max      2.071820e+09\n",
              "Name: TotalEquityFundingAmountCurrency(inUSD), dtype: float64"
            ]
          },
          "metadata": {
            "tags": []
          },
          "execution_count": 9
        }
      ]
    },
    {
      "cell_type": "markdown",
      "metadata": {
        "id": "QN2WfVsF1zFX",
        "colab_type": "text"
      },
      "source": [
        "The mean of 'TotalEquityFundingAmountCurrency(inUSD)' is $2.33 million here.It seems better than 2013 year.Let us ignore the factor of inflation here."
      ]
    },
    {
      "cell_type": "code",
      "metadata": {
        "id": "BdtIbNEn4WXV",
        "colab_type": "code",
        "outputId": "b1c9b80a-1516-496e-cc00-667590c61c53",
        "colab": {
          "base_uri": "https://localhost:8080/",
          "height": 170
        }
      },
      "source": [
        "df['TotalFundingAmountCurrency(inUSD)'].describe()"
      ],
      "execution_count": 0,
      "outputs": [
        {
          "output_type": "execute_result",
          "data": {
            "text/plain": [
              "count    6.677000e+03\n",
              "mean     2.451944e+07\n",
              "std      9.212093e+07\n",
              "min      1.000000e+03\n",
              "25%      5.000000e+05\n",
              "50%      3.000000e+06\n",
              "75%      1.500000e+07\n",
              "max      2.071820e+09\n",
              "Name: TotalFundingAmountCurrency(inUSD), dtype: float64"
            ]
          },
          "metadata": {
            "tags": []
          },
          "execution_count": 10
        }
      ]
    },
    {
      "cell_type": "markdown",
      "metadata": {
        "id": "QPA2gsMz4e5w",
        "colab_type": "text"
      },
      "source": [
        "The mean of 'TotalFundingAmount(inUSD)' is $2.45 million here."
      ]
    },
    {
      "cell_type": "markdown",
      "metadata": {
        "id": "uLbAqp_17sZb",
        "colab_type": "text"
      },
      "source": [
        "Let's plot them"
      ]
    },
    {
      "cell_type": "code",
      "metadata": {
        "id": "-qHJG_-A7rei",
        "colab_type": "code",
        "outputId": "869ac7ff-707f-4a6b-a4bb-76a36914cca1",
        "colab": {
          "base_uri": "https://localhost:8080/",
          "height": 221
        }
      },
      "source": [
        "df[\"TotalFundingAmountCurrency(inUSD)\"].fillna(0)"
      ],
      "execution_count": 0,
      "outputs": [
        {
          "output_type": "execute_result",
          "data": {
            "text/plain": [
              "0          575000.0\n",
              "1        15250000.0\n",
              "2       228478585.0\n",
              "3         2000000.0\n",
              "4        36900000.0\n",
              "           ...     \n",
              "8443      9000000.0\n",
              "8444            0.0\n",
              "8445     30000000.0\n",
              "8446            0.0\n",
              "8447            0.0\n",
              "Name: TotalFundingAmountCurrency(inUSD), Length: 8448, dtype: float64"
            ]
          },
          "metadata": {
            "tags": []
          },
          "execution_count": 11
        }
      ]
    },
    {
      "cell_type": "code",
      "metadata": {
        "id": "Cq0MOPzQ-eGV",
        "colab_type": "code",
        "outputId": "09467ffc-f973-4482-f7c4-97b5f2e08689",
        "colab": {
          "base_uri": "https://localhost:8080/",
          "height": 221
        }
      },
      "source": [
        "df[\"TotalFundingAmountCurrency(inUSD)\"].fillna(0)"
      ],
      "execution_count": 0,
      "outputs": [
        {
          "output_type": "execute_result",
          "data": {
            "text/plain": [
              "0          575000.0\n",
              "1        15250000.0\n",
              "2       228478585.0\n",
              "3         2000000.0\n",
              "4        36900000.0\n",
              "           ...     \n",
              "8443      9000000.0\n",
              "8444            0.0\n",
              "8445     30000000.0\n",
              "8446            0.0\n",
              "8447            0.0\n",
              "Name: TotalFundingAmountCurrency(inUSD), Length: 8448, dtype: float64"
            ]
          },
          "metadata": {
            "tags": []
          },
          "execution_count": 12
        }
      ]
    },
    {
      "cell_type": "code",
      "metadata": {
        "id": "xjuw3M9w98CI",
        "colab_type": "code",
        "outputId": "436ef1a5-a890-46f1-d1c6-d48dc3d56c8c",
        "colab": {
          "base_uri": "https://localhost:8080/",
          "height": 296
        }
      },
      "source": [
        "sns.boxplot(x=\"TotalFundingAmountCurrency(inUSD)\", data=df)"
      ],
      "execution_count": 0,
      "outputs": [
        {
          "output_type": "execute_result",
          "data": {
            "text/plain": [
              "<matplotlib.axes._subplots.AxesSubplot at 0x7f00db9605c0>"
            ]
          },
          "metadata": {
            "tags": []
          },
          "execution_count": 13
        },
        {
          "output_type": "display_data",
          "data": {
            "image/png": "[encoded data removed]",
            "text/plain": [
              "<Figure size 432x288 with 1 Axes>"
            ]
          },
          "metadata": {
            "tags": []
          }
        }
      ]
    },
    {
      "cell_type": "code",
      "metadata": {
        "id": "gbH_FqAwAlue",
        "colab_type": "code",
        "outputId": "ef3a9487-48da-455f-899f-b423f3808eca",
        "colab": {
          "base_uri": "https://localhost:8080/",
          "height": 296
        }
      },
      "source": [
        "sns.boxplot(x=\"TotalEquityFundingAmountCurrency(inUSD)\", data=df)"
      ],
      "execution_count": 0,
      "outputs": [
        {
          "output_type": "execute_result",
          "data": {
            "text/plain": [
              "<matplotlib.axes._subplots.AxesSubplot at 0x7f00db45a898>"
            ]
          },
          "metadata": {
            "tags": []
          },
          "execution_count": 14
        },
        {
          "output_type": "display_data",
          "data": {
            "image/png": "[encoded data removed]",
            "text/plain": [
              "<Figure size 432x288 with 1 Axes>"
            ]
          },
          "metadata": {
            "tags": []
          }
        }
      ]
    },
    {
      "cell_type": "markdown",
      "metadata": {
        "id": "ZjZJLwxWQM1Q",
        "colab_type": "text"
      },
      "source": [
        "#To do2: data cleaning and preprocessing"
      ]
    },
    {
      "cell_type": "markdown",
      "metadata": {
        "id": "kTzA8P560VgN",
        "colab_type": "text"
      },
      "source": [
        "## **Data narrative**"
      ]
    },
    {
      "cell_type": "code",
      "metadata": {
        "id": "7TfdEoGX6DqS",
        "colab_type": "code",
        "outputId": "c401d0b3-1437-48f1-db50-71f7ed48de6e",
        "colab": {
          "base_uri": "https://localhost:8080/",
          "height": 986
        }
      },
      "source": [
        "df.info()"
      ],
      "execution_count": 0,
      "outputs": [
        {
          "output_type": "stream",
          "text": [
            "<class 'pandas.core.frame.DataFrame'>\n",
            "RangeIndex: 8448 entries, 0 to 8447\n",
            "Data columns (total 50 columns):\n",
            " #   Column                                   Non-Null Count  Dtype  \n",
            "---  ------                                   --------------  -----  \n",
            " 0   OrganizationName                         8448 non-null   object \n",
            " 1   AcquisitionStatus                        418 non-null    object \n",
            " 2   BuiltWith-ActiveTechCount                7892 non-null   float64\n",
            " 3   CBRank(Organization)                     8448 non-null   object \n",
            " 4   ClosedDate                               518 non-null    object \n",
            " 5   CompanyType                              6403 non-null   object \n",
            " 6   Description                              8448 non-null   object \n",
            " 7   EstimatedRevenueRange                    4383 non-null   object \n",
            " 8   FoundedDate                              8212 non-null   object \n",
            " 9   FoundedDatePrecision                     8212 non-null   object \n",
            " 10  FullDescription                          7852 non-null   object \n",
            " 11  FundingStatus                            8448 non-null   object \n",
            " 12  HeadquartersLocation                     8448 non-null   object \n",
            " 13  IPOStatus                                8448 non-null   object \n",
            " 14  IPqwery-PatentsGranted                   3123 non-null   float64\n",
            " 15  Industries                               8366 non-null   object \n",
            " 16  IndustryGroups                           8346 non-null   object \n",
            " 17  LastEquityFundingAmount                  6167 non-null   float64\n",
            " 18  LastEquityFundingAmountCurrency          6167 non-null   object \n",
            " 19  LastEquityFundingAmountCurrency(inUSD)   6167 non-null   float64\n",
            " 20  LastEquityFundingType                    8448 non-null   object \n",
            " 21  LastFundingAmount                        6130 non-null   float64\n",
            " 22  LastFundingAmountCurrency                6130 non-null   object \n",
            " 23  LastFundingAmountCurrency(inUSD)         6130 non-null   float64\n",
            " 24  LastFundingDate                          8448 non-null   object \n",
            " 25  NumberofAcquisitions                     418 non-null    float64\n",
            " 26  NumberofArticles                         4987 non-null   object \n",
            " 27  NumberofEmployees                        7274 non-null   object \n",
            " 28  NumberofFounders                         7146 non-null   float64\n",
            " 29  NumberofFundingRounds                    8448 non-null   int64  \n",
            " 30  NumberofInvestors                        6959 non-null   float64\n",
            " 31  NumberofLeadInvestors                    3997 non-null   float64\n",
            " 32  OperatingStatus                          8448 non-null   object \n",
            " 33  Unnamed: 33                              0 non-null      float64\n",
            " 34  OrganizationNameURL                      8448 non-null   object \n",
            " 35  SimilarWeb-AverageVisits(6months)        6464 non-null   object \n",
            " 36  SimilarWeb-MonthlyRankChange(#)          4931 non-null   object \n",
            " 37  SimilarWeb-MonthlyRankGrowth             4931 non-null   object \n",
            " 38  SimilarWeb-MonthlyVisits                 5350 non-null   object \n",
            " 39  Status_new                               8448 non-null   int64  \n",
            " 40  Top5Investors                            6959 non-null   object \n",
            " 41  TotalEquityFundingAmount                 6614 non-null   float64\n",
            " 42  TotalEquityFundingAmountCurrency         6614 non-null   object \n",
            " 43  TotalEquityFundingAmountCurrency(inUSD)  6614 non-null   float64\n",
            " 44  TotalFundingAmount                       6677 non-null   float64\n",
            " 45  TotalFundingAmountCurrency               6677 non-null   object \n",
            " 46  TotalFundingAmountCurrency(inUSD)        6677 non-null   float64\n",
            " 47  TrendScore(30Days)                       8448 non-null   float64\n",
            " 48  TrendScore(7Days)                        8448 non-null   float64\n",
            " 49  TrendScore(90Days)                       8448 non-null   float64\n",
            "dtypes: float64(18), int64(2), object(30)\n",
            "memory usage: 3.2+ MB\n"
          ],
          "name": "stdout"
        }
      ]
    },
    {
      "cell_type": "markdown",
      "metadata": {
        "id": "6E16_cKB5LGJ",
        "colab_type": "text"
      },
      "source": [
        "numbers:"
      ]
    },
    {
      "cell_type": "code",
      "metadata": {
        "id": "QS_GrKjQz6xb",
        "colab_type": "code",
        "outputId": "a1c96cee-12f3-4fb1-a7b2-a92d3a3736ae",
        "colab": {
          "base_uri": "https://localhost:8080/",
          "height": 334
        }
      },
      "source": [
        "df.describe()"
      ],
      "execution_count": 0,
      "outputs": [
        {
          "output_type": "execute_result",
          "data": {
            "text/html": [
              "<div>\n",
              "<style scoped>\n",
              "    .dataframe tbody tr th:only-of-type {\n",
              "        vertical-align: middle;\n",
              "    }\n",
              "\n",
              "    .dataframe tbody tr th {\n",
              "        vertical-align: top;\n",
              "    }\n",
              "\n",
              "    .dataframe thead th {\n",
              "        text-align: right;\n",
              "    }\n",
              "</style>\n",
              "<table border=\"1\" class=\"dataframe\">\n",
              "  <thead>\n",
              "    <tr style=\"text-align: right;\">\n",
              "      <th></th>\n",
              "      <th>BuiltWith-ActiveTechCount</th>\n",
              "      <th>IPqwery-PatentsGranted</th>\n",
              "      <th>LastEquityFundingAmount</th>\n",
              "      <th>LastEquityFundingAmountCurrency(inUSD)</th>\n",
              "      <th>LastFundingAmount</th>\n",
              "      <th>LastFundingAmountCurrency(inUSD)</th>\n",
              "      <th>NumberofAcquisitions</th>\n",
              "      <th>NumberofFounders</th>\n",
              "      <th>NumberofFundingRounds</th>\n",
              "      <th>NumberofInvestors</th>\n",
              "      <th>NumberofLeadInvestors</th>\n",
              "      <th>Unnamed: 33</th>\n",
              "      <th>Status_new</th>\n",
              "      <th>TotalEquityFundingAmount</th>\n",
              "      <th>TotalEquityFundingAmountCurrency(inUSD)</th>\n",
              "      <th>TotalFundingAmount</th>\n",
              "      <th>TotalFundingAmountCurrency(inUSD)</th>\n",
              "      <th>TrendScore(30Days)</th>\n",
              "      <th>TrendScore(7Days)</th>\n",
              "      <th>TrendScore(90Days)</th>\n",
              "    </tr>\n",
              "  </thead>\n",
              "  <tbody>\n",
              "    <tr>\n",
              "      <th>count</th>\n",
              "      <td>7892.000000</td>\n",
              "      <td>3123.000000</td>\n",
              "      <td>6.167000e+03</td>\n",
              "      <td>6.167000e+03</td>\n",
              "      <td>6.130000e+03</td>\n",
              "      <td>6.130000e+03</td>\n",
              "      <td>418.000000</td>\n",
              "      <td>7146.000000</td>\n",
              "      <td>8448.000000</td>\n",
              "      <td>6959.000000</td>\n",
              "      <td>3997.000000</td>\n",
              "      <td>0.0</td>\n",
              "      <td>8448.000000</td>\n",
              "      <td>6.614000e+03</td>\n",
              "      <td>6.614000e+03</td>\n",
              "      <td>6.677000e+03</td>\n",
              "      <td>6.677000e+03</td>\n",
              "      <td>8448.000000</td>\n",
              "      <td>8448.000000</td>\n",
              "      <td>8448.000000</td>\n",
              "    </tr>\n",
              "    <tr>\n",
              "      <th>mean</th>\n",
              "      <td>22.376964</td>\n",
              "      <td>3.045789</td>\n",
              "      <td>1.326951e+07</td>\n",
              "      <td>1.290183e+07</td>\n",
              "      <td>1.328849e+07</td>\n",
              "      <td>1.290943e+07</td>\n",
              "      <td>1.555024</td>\n",
              "      <td>2.031486</td>\n",
              "      <td>2.206795</td>\n",
              "      <td>5.098290</td>\n",
              "      <td>1.905179</td>\n",
              "      <td>NaN</td>\n",
              "      <td>1.768821</td>\n",
              "      <td>2.356841e+07</td>\n",
              "      <td>2.337424e+07</td>\n",
              "      <td>2.471917e+07</td>\n",
              "      <td>2.451944e+07</td>\n",
              "      <td>0.544022</td>\n",
              "      <td>0.130196</td>\n",
              "      <td>0.804226</td>\n",
              "    </tr>\n",
              "    <tr>\n",
              "      <th>std</th>\n",
              "      <td>18.653907</td>\n",
              "      <td>13.315643</td>\n",
              "      <td>4.275189e+07</td>\n",
              "      <td>4.151520e+07</td>\n",
              "      <td>4.372436e+07</td>\n",
              "      <td>4.247941e+07</td>\n",
              "      <td>1.335042</td>\n",
              "      <td>0.995576</td>\n",
              "      <td>1.708541</td>\n",
              "      <td>5.779168</td>\n",
              "      <td>1.333433</td>\n",
              "      <td>NaN</td>\n",
              "      <td>0.637184</td>\n",
              "      <td>8.711167e+07</td>\n",
              "      <td>8.676618e+07</td>\n",
              "      <td>9.246583e+07</td>\n",
              "      <td>9.212093e+07</td>\n",
              "      <td>1.676787</td>\n",
              "      <td>0.929359</td>\n",
              "      <td>2.328609</td>\n",
              "    </tr>\n",
              "    <tr>\n",
              "      <th>min</th>\n",
              "      <td>1.000000</td>\n",
              "      <td>0.000000</td>\n",
              "      <td>1.000000e+03</td>\n",
              "      <td>1.000000e+03</td>\n",
              "      <td>1.000000e+03</td>\n",
              "      <td>1.000000e+03</td>\n",
              "      <td>1.000000</td>\n",
              "      <td>1.000000</td>\n",
              "      <td>1.000000</td>\n",
              "      <td>1.000000</td>\n",
              "      <td>1.000000</td>\n",
              "      <td>NaN</td>\n",
              "      <td>0.000000</td>\n",
              "      <td>1.000000e+03</td>\n",
              "      <td>1.000000e+03</td>\n",
              "      <td>1.000000e+03</td>\n",
              "      <td>1.000000e+03</td>\n",
              "      <td>-5.300000</td>\n",
              "      <td>-4.100000</td>\n",
              "      <td>-6.800000</td>\n",
              "    </tr>\n",
              "    <tr>\n",
              "      <th>25%</th>\n",
              "      <td>8.000000</td>\n",
              "      <td>0.000000</td>\n",
              "      <td>3.427315e+05</td>\n",
              "      <td>3.300000e+05</td>\n",
              "      <td>3.000000e+05</td>\n",
              "      <td>3.000000e+05</td>\n",
              "      <td>1.000000</td>\n",
              "      <td>1.000000</td>\n",
              "      <td>1.000000</td>\n",
              "      <td>1.000000</td>\n",
              "      <td>1.000000</td>\n",
              "      <td>NaN</td>\n",
              "      <td>2.000000</td>\n",
              "      <td>4.999962e+05</td>\n",
              "      <td>4.850000e+05</td>\n",
              "      <td>5.000000e+05</td>\n",
              "      <td>5.000000e+05</td>\n",
              "      <td>-0.200000</td>\n",
              "      <td>-0.300000</td>\n",
              "      <td>-0.400000</td>\n",
              "    </tr>\n",
              "    <tr>\n",
              "      <th>50%</th>\n",
              "      <td>18.000000</td>\n",
              "      <td>0.000000</td>\n",
              "      <td>2.500000e+06</td>\n",
              "      <td>2.500000e+06</td>\n",
              "      <td>2.416000e+06</td>\n",
              "      <td>2.400000e+06</td>\n",
              "      <td>1.000000</td>\n",
              "      <td>2.000000</td>\n",
              "      <td>2.000000</td>\n",
              "      <td>3.000000</td>\n",
              "      <td>1.000000</td>\n",
              "      <td>NaN</td>\n",
              "      <td>2.000000</td>\n",
              "      <td>3.000000e+06</td>\n",
              "      <td>3.000000e+06</td>\n",
              "      <td>3.000000e+06</td>\n",
              "      <td>3.000000e+06</td>\n",
              "      <td>-0.100000</td>\n",
              "      <td>-0.100000</td>\n",
              "      <td>-0.100000</td>\n",
              "    </tr>\n",
              "    <tr>\n",
              "      <th>75%</th>\n",
              "      <td>32.000000</td>\n",
              "      <td>1.000000</td>\n",
              "      <td>1.038000e+07</td>\n",
              "      <td>1.010000e+07</td>\n",
              "      <td>1.000000e+07</td>\n",
              "      <td>1.000000e+07</td>\n",
              "      <td>2.000000</td>\n",
              "      <td>3.000000</td>\n",
              "      <td>3.000000</td>\n",
              "      <td>7.000000</td>\n",
              "      <td>2.000000</td>\n",
              "      <td>NaN</td>\n",
              "      <td>2.000000</td>\n",
              "      <td>1.500000e+07</td>\n",
              "      <td>1.500000e+07</td>\n",
              "      <td>1.500000e+07</td>\n",
              "      <td>1.500000e+07</td>\n",
              "      <td>0.800000</td>\n",
              "      <td>0.300000</td>\n",
              "      <td>1.200000</td>\n",
              "    </tr>\n",
              "    <tr>\n",
              "      <th>max</th>\n",
              "      <td>195.000000</td>\n",
              "      <td>287.000000</td>\n",
              "      <td>1.100000e+09</td>\n",
              "      <td>1.100000e+09</td>\n",
              "      <td>1.100000e+09</td>\n",
              "      <td>1.100000e+09</td>\n",
              "      <td>14.000000</td>\n",
              "      <td>11.000000</td>\n",
              "      <td>20.000000</td>\n",
              "      <td>104.000000</td>\n",
              "      <td>12.000000</td>\n",
              "      <td>NaN</td>\n",
              "      <td>2.000000</td>\n",
              "      <td>2.071820e+09</td>\n",
              "      <td>2.071820e+09</td>\n",
              "      <td>2.071820e+09</td>\n",
              "      <td>2.071820e+09</td>\n",
              "      <td>10.000000</td>\n",
              "      <td>9.700000</td>\n",
              "      <td>10.000000</td>\n",
              "    </tr>\n",
              "  </tbody>\n",
              "</table>\n",
              "</div>"
            ],
            "text/plain": [
              "       BuiltWith-ActiveTechCount  ...  TrendScore(90Days)\n",
              "count                7892.000000  ...         8448.000000\n",
              "mean                   22.376964  ...            0.804226\n",
              "std                    18.653907  ...            2.328609\n",
              "min                     1.000000  ...           -6.800000\n",
              "25%                     8.000000  ...           -0.400000\n",
              "50%                    18.000000  ...           -0.100000\n",
              "75%                    32.000000  ...            1.200000\n",
              "max                   195.000000  ...           10.000000\n",
              "\n",
              "[8 rows x 20 columns]"
            ]
          },
          "metadata": {
            "tags": []
          },
          "execution_count": 16
        }
      ]
    },
    {
      "cell_type": "markdown",
      "metadata": {
        "id": "uLIbSaXt5Psh",
        "colab_type": "text"
      },
      "source": [
        "categorical columns:"
      ]
    },
    {
      "cell_type": "code",
      "metadata": {
        "id": "deiehlx56Wh_",
        "colab_type": "code",
        "colab": {}
      },
      "source": [
        "def get_cat_columns(data):\n",
        "  cat_columns_map={}\n",
        "  cat_columns=[]\n",
        "  for column in data.select_dtypes(include=[object]):\n",
        "    cat_columns.append(column)\n",
        "  for name in   cat_columns:\n",
        "    cat_columns_map[name]=data[name].unique().tolist()\n",
        "  return cat_columns_map"
      ],
      "execution_count": 0,
      "outputs": []
    },
    {
      "cell_type": "code",
      "metadata": {
        "id": "q1MMk_BeHDyK",
        "colab_type": "code",
        "colab": {}
      },
      "source": [
        "cat_columns_map0=get_cat_columns(df)"
      ],
      "execution_count": 0,
      "outputs": []
    },
    {
      "cell_type": "code",
      "metadata": {
        "id": "Yjhd_8kpI6H1",
        "colab_type": "code",
        "colab": {}
      },
      "source": [
        "def get_report_cluster(cat_columns_map):\n",
        "  cat_columns_catNumber={}\n",
        "  for name in cat_columns_map:\n",
        "     cat_columns_catNumber[name]=len(df[name].unique().tolist())\n",
        "  cat_columns_catNumber\n",
        "  report_cluster={}\n",
        "  for i in range(0,np.asarray(list(cat_columns_catNumber.values())).max()+1):\n",
        "      if [j for j,k in cat_columns_catNumber.items() if k == i]:\n",
        "        report_cluster[i]=[l for l,m in cat_columns_catNumber.items() if m == i]\n",
        "  return report_cluster"
      ],
      "execution_count": 0,
      "outputs": []
    },
    {
      "cell_type": "code",
      "metadata": {
        "id": "lwC2ZQpNY1zk",
        "colab_type": "code",
        "outputId": "e29712e4-e629-42c9-d6ba-3ef1f72d4ff7",
        "colab": {
          "base_uri": "https://localhost:8080/",
          "height": 476
        }
      },
      "source": [
        "report_cluster0=get_report_cluster(cat_columns_map0)\n",
        "report_cluster0"
      ],
      "execution_count": 0,
      "outputs": [
        {
          "output_type": "execute_result",
          "data": {
            "text/plain": [
              "{1: ['IPOStatus'],\n",
              " 2: ['AcquisitionStatus', 'OperatingStatus'],\n",
              " 3: ['CompanyType', 'FundingStatus'],\n",
              " 4: ['FoundedDatePrecision'],\n",
              " 9: ['EstimatedRevenueRange'],\n",
              " 10: ['NumberofEmployees'],\n",
              " 12: ['LastEquityFundingType'],\n",
              " 17: ['TotalFundingAmountCurrency'],\n",
              " 18: ['TotalEquityFundingAmountCurrency'],\n",
              " 19: ['LastFundingAmountCurrency'],\n",
              " 20: ['LastEquityFundingAmountCurrency'],\n",
              " 98: ['HeadquartersLocation'],\n",
              " 285: ['NumberofArticles'],\n",
              " 300: ['ClosedDate'],\n",
              " 1429: ['FoundedDate'],\n",
              " 2851: ['LastFundingDate'],\n",
              " 3182: ['IndustryGroups'],\n",
              " 3931: ['SimilarWeb-MonthlyVisits'],\n",
              " 4055: ['SimilarWeb-MonthlyRankGrowth'],\n",
              " 4875: ['SimilarWeb-MonthlyRankChange(#)'],\n",
              " 5756: ['Top5Investors'],\n",
              " 6288: ['SimilarWeb-AverageVisits(6months)'],\n",
              " 7070: ['Industries'],\n",
              " 7763: ['FullDescription'],\n",
              " 8312: ['OrganizationName'],\n",
              " 8349: ['Description'],\n",
              " 8355: ['CBRank(Organization)', 'OrganizationNameURL']}"
            ]
          },
          "metadata": {
            "tags": []
          },
          "execution_count": 20
        }
      ]
    },
    {
      "cell_type": "markdown",
      "metadata": {
        "id": "4hLaCkWCJlB1",
        "colab_type": "text"
      },
      "source": [
        "We can see that some of the features have too many categories here.And many of them not make sense.We will deal with them with features engneering in data preprocessing."
      ]
    },
    {
      "cell_type": "code",
      "metadata": {
        "id": "LpUcybJP5NIN",
        "colab_type": "code",
        "colab": {}
      },
      "source": [
        "#print(\"Unique values in each categorical column:\")\n",
        "#cat_columns_map"
      ],
      "execution_count": 0,
      "outputs": []
    },
    {
      "cell_type": "code",
      "metadata": {
        "id": "ENViWYAR6lv1",
        "colab_type": "code",
        "outputId": "d54acff7-a1ab-4cbe-d312-4873a07c069b",
        "colab": {
          "base_uri": "https://localhost:8080/",
          "height": 34
        }
      },
      "source": [
        "cat_columns0=cat_columns_map0.keys()\n",
        "len(cat_columns0)"
      ],
      "execution_count": 0,
      "outputs": [
        {
          "output_type": "execute_result",
          "data": {
            "text/plain": [
              "30"
            ]
          },
          "metadata": {
            "tags": []
          },
          "execution_count": 22
        }
      ]
    },
    {
      "cell_type": "markdown",
      "metadata": {
        "id": "7QQl-EMyP6K4",
        "colab_type": "text"
      },
      "source": [
        "##Data preprocessing"
      ]
    },
    {
      "cell_type": "markdown",
      "metadata": {
        "id": "NY1WT4kcRn1l",
        "colab_type": "text"
      },
      "source": [
        "###Data cleaning"
      ]
    },
    {
      "cell_type": "code",
      "metadata": {
        "id": "F2FA6u17RZkt",
        "colab_type": "code",
        "outputId": "157eb537-2406-45cc-fd4b-abbc1d494715",
        "colab": {
          "base_uri": "https://localhost:8080/",
          "height": 34
        }
      },
      "source": [
        "df.shape"
      ],
      "execution_count": 0,
      "outputs": [
        {
          "output_type": "execute_result",
          "data": {
            "text/plain": [
              "(8448, 50)"
            ]
          },
          "metadata": {
            "tags": []
          },
          "execution_count": 23
        }
      ]
    },
    {
      "cell_type": "markdown",
      "metadata": {
        "id": "-ifH2flORdgh",
        "colab_type": "text"
      },
      "source": [
        "There are 51 features here,it is too many to apply any ML algorithm and input X for predict.So we must reduce dimension here."
      ]
    },
    {
      "cell_type": "markdown",
      "metadata": {
        "id": "faZjUHUURxKF",
        "colab_type": "text"
      },
      "source": [
        "Removing the unimportant features will help with memory, computational cost and the accuracy of our model.Also, it will help to avoid the overfitting. Sometimes, a feature that makes business sense, but it doesn’t mean that this feature will help us with our prediction."
      ]
    },
    {
      "cell_type": "code",
      "metadata": {
        "id": "1LxR_tfISgkb",
        "colab_type": "code",
        "outputId": "8e2fc5d8-5b31-452a-9072-62e1efc241a1",
        "colab": {
          "base_uri": "https://localhost:8080/",
          "height": 357
        }
      },
      "source": [
        "df.columns"
      ],
      "execution_count": 0,
      "outputs": [
        {
          "output_type": "execute_result",
          "data": {
            "text/plain": [
              "Index(['OrganizationName', 'AcquisitionStatus', 'BuiltWith-ActiveTechCount',\n",
              "       'CBRank(Organization)', 'ClosedDate', 'CompanyType', 'Description',\n",
              "       'EstimatedRevenueRange', 'FoundedDate', 'FoundedDatePrecision',\n",
              "       'FullDescription', 'FundingStatus', 'HeadquartersLocation', 'IPOStatus',\n",
              "       'IPqwery-PatentsGranted', 'Industries', 'IndustryGroups',\n",
              "       'LastEquityFundingAmount', 'LastEquityFundingAmountCurrency',\n",
              "       'LastEquityFundingAmountCurrency(inUSD)', 'LastEquityFundingType',\n",
              "       'LastFundingAmount', 'LastFundingAmountCurrency',\n",
              "       'LastFundingAmountCurrency(inUSD)', 'LastFundingDate',\n",
              "       'NumberofAcquisitions', 'NumberofArticles', 'NumberofEmployees',\n",
              "       'NumberofFounders', 'NumberofFundingRounds', 'NumberofInvestors',\n",
              "       'NumberofLeadInvestors', 'OperatingStatus', 'Unnamed: 33',\n",
              "       'OrganizationNameURL', 'SimilarWeb-AverageVisits(6months)',\n",
              "       'SimilarWeb-MonthlyRankChange(#)', 'SimilarWeb-MonthlyRankGrowth',\n",
              "       'SimilarWeb-MonthlyVisits', 'Status_new', 'Top5Investors',\n",
              "       'TotalEquityFundingAmount', 'TotalEquityFundingAmountCurrency',\n",
              "       'TotalEquityFundingAmountCurrency(inUSD)', 'TotalFundingAmount',\n",
              "       'TotalFundingAmountCurrency', 'TotalFundingAmountCurrency(inUSD)',\n",
              "       'TrendScore(30Days)', 'TrendScore(7Days)', 'TrendScore(90Days)'],\n",
              "      dtype='object')"
            ]
          },
          "metadata": {
            "tags": []
          },
          "execution_count": 24
        }
      ]
    },
    {
      "cell_type": "markdown",
      "metadata": {
        "id": "nyPn0NQATF80",
        "colab_type": "text"
      },
      "source": [
        "Some features (such as 'CBRank(Organization)','Description','FullDescription','OrganizationNameURL','SimilarWeb-AverageVisits(6months)','SimilarWeb-MonthlyRankChange(#)', 'SimilarWeb-MonthlyRankGrowth',\n",
        "       'SimilarWeb-MonthlyVisits', 'TrendScore(30Days)', 'TrendScore(7Days)', 'TrendScore(90Days)') are duplicate and some of them (such as permalink,company_name) will not help us with our prediction.We drop them first."
      ]
    },
    {
      "cell_type": "code",
      "metadata": {
        "id": "-1XwaqhwS8Jv",
        "colab_type": "code",
        "colab": {}
      },
      "source": [
        "useless_cols=['CBRank(Organization)','Description','FullDescription','OrganizationNameURL','SimilarWeb-AverageVisits(6months)','SimilarWeb-MonthlyRankChange(#)',\n",
        "             'SimilarWeb-MonthlyRankGrowth', 'SimilarWeb-MonthlyVisits', 'TrendScore(30Days)', 'TrendScore(7Days)', 'TrendScore(90Days)']"
      ],
      "execution_count": 0,
      "outputs": []
    },
    {
      "cell_type": "code",
      "metadata": {
        "id": "AtlvHxOwU_gn",
        "colab_type": "code",
        "colab": {}
      },
      "source": [
        "df_clean=df.copy()"
      ],
      "execution_count": 0,
      "outputs": []
    },
    {
      "cell_type": "code",
      "metadata": {
        "id": "0tFhj59iaSrk",
        "colab_type": "code",
        "colab": {}
      },
      "source": [
        "for col in useless_cols:\n",
        "   df_clean.drop([col],axis=1,inplace=True)"
      ],
      "execution_count": 0,
      "outputs": []
    },
    {
      "cell_type": "code",
      "metadata": {
        "id": "viYWTcJuVWPU",
        "colab_type": "code",
        "outputId": "7a1a54ae-c90c-46c9-b35d-f2d549e2ae57",
        "colab": {
          "base_uri": "https://localhost:8080/",
          "height": 34
        }
      },
      "source": [
        "df_clean.shape"
      ],
      "execution_count": 0,
      "outputs": [
        {
          "output_type": "execute_result",
          "data": {
            "text/plain": [
              "(8448, 39)"
            ]
          },
          "metadata": {
            "tags": []
          },
          "execution_count": 28
        }
      ]
    },
    {
      "cell_type": "markdown",
      "metadata": {
        "id": "gquHSeSpTQqw",
        "colab_type": "text"
      },
      "source": [
        "Some of other features(such as  'AcquisitionStatus', 'ClosedDate', 'IPOStatus','LastEquityFundingAmount', 'LastEquityFundingAmountCurrency', 'LastEquityFundingAmountCurrency(inUSD)', 'LastFundingAmount', LastFundingAmountCurrency','LastFundingAmountCurrency(inUSD)', 'OperatingStatus', 'Status_new', 'TotalEquityFundingAmount', 'TotalEquityFundingAmountCurrency','TotalEquityFundingAmountCurrency(inUSD)', 'TotalFundingAmount', 'TotalFundingAmountCurrency', 'TotalFundingAmountCurrency(inUSD)'）.All of them related to the features 'status'and 'TotalFundingAmountCurrency(inUSD)'  ,which have been used by us to define the so-called success, if you keep them, it is equivalent to a repetition.So we drop them."
      ]
    },
    {
      "cell_type": "code",
      "metadata": {
        "id": "MwC-7ZmnXIyA",
        "colab_type": "code",
        "colab": {}
      },
      "source": [
        "status_relate_cols=['AcquisitionStatus', 'ClosedDate', 'IPOStatus','LastEquityFundingAmount', 'LastEquityFundingAmountCurrency', 'LastEquityFundingAmountCurrency(inUSD)', \n",
        " 'LastFundingAmount', 'LastFundingAmountCurrency','LastFundingAmountCurrency(inUSD)', 'OperatingStatus', 'Status_new', 'TotalEquityFundingAmount', \n",
        "'TotalEquityFundingAmountCurrency','TotalEquityFundingAmountCurrency(inUSD)', 'TotalFundingAmount', 'TotalFundingAmountCurrency', 'TotalFundingAmountCurrency(inUSD)']"
      ],
      "execution_count": 0,
      "outputs": []
    },
    {
      "cell_type": "code",
      "metadata": {
        "id": "Z5H4DpgDXcse",
        "colab_type": "code",
        "colab": {}
      },
      "source": [
        "for col in status_relate_cols:\n",
        "    df_clean.drop([col],axis=1,inplace=True)"
      ],
      "execution_count": 0,
      "outputs": []
    },
    {
      "cell_type": "code",
      "metadata": {
        "id": "wvZC1xWDXoQq",
        "colab_type": "code",
        "outputId": "1999d3f9-5644-443b-ddea-2b8ae87aa926",
        "colab": {
          "base_uri": "https://localhost:8080/",
          "height": 34
        }
      },
      "source": [
        "df_clean.shape"
      ],
      "execution_count": 0,
      "outputs": [
        {
          "output_type": "execute_result",
          "data": {
            "text/plain": [
              "(8448, 22)"
            ]
          },
          "metadata": {
            "tags": []
          },
          "execution_count": 31
        }
      ]
    },
    {
      "cell_type": "code",
      "metadata": {
        "id": "UtY8UQPUYELr",
        "colab_type": "code",
        "outputId": "1e6639ab-b6dd-4fba-c677-27fa1c08a132",
        "colab": {
          "base_uri": "https://localhost:8080/",
          "height": 250
        }
      },
      "source": [
        "df_clean.head(2)"
      ],
      "execution_count": 0,
      "outputs": [
        {
          "output_type": "execute_result",
          "data": {
            "text/html": [
              "<div>\n",
              "<style scoped>\n",
              "    .dataframe tbody tr th:only-of-type {\n",
              "        vertical-align: middle;\n",
              "    }\n",
              "\n",
              "    .dataframe tbody tr th {\n",
              "        vertical-align: top;\n",
              "    }\n",
              "\n",
              "    .dataframe thead th {\n",
              "        text-align: right;\n",
              "    }\n",
              "</style>\n",
              "<table border=\"1\" class=\"dataframe\">\n",
              "  <thead>\n",
              "    <tr style=\"text-align: right;\">\n",
              "      <th></th>\n",
              "      <th>OrganizationName</th>\n",
              "      <th>BuiltWith-ActiveTechCount</th>\n",
              "      <th>CompanyType</th>\n",
              "      <th>EstimatedRevenueRange</th>\n",
              "      <th>FoundedDate</th>\n",
              "      <th>FoundedDatePrecision</th>\n",
              "      <th>FundingStatus</th>\n",
              "      <th>HeadquartersLocation</th>\n",
              "      <th>IPqwery-PatentsGranted</th>\n",
              "      <th>Industries</th>\n",
              "      <th>IndustryGroups</th>\n",
              "      <th>LastEquityFundingType</th>\n",
              "      <th>LastFundingDate</th>\n",
              "      <th>NumberofAcquisitions</th>\n",
              "      <th>NumberofArticles</th>\n",
              "      <th>NumberofEmployees</th>\n",
              "      <th>NumberofFounders</th>\n",
              "      <th>NumberofFundingRounds</th>\n",
              "      <th>NumberofInvestors</th>\n",
              "      <th>NumberofLeadInvestors</th>\n",
              "      <th>Unnamed: 33</th>\n",
              "      <th>Top5Investors</th>\n",
              "    </tr>\n",
              "  </thead>\n",
              "  <tbody>\n",
              "    <tr>\n",
              "      <th>0</th>\n",
              "      <td>C. Light Technologies</td>\n",
              "      <td>11.0</td>\n",
              "      <td>For Profit</td>\n",
              "      <td>NaN</td>\n",
              "      <td>9/1/14</td>\n",
              "      <td>month</td>\n",
              "      <td>Seed</td>\n",
              "      <td>Berkeley, California, United States</td>\n",
              "      <td>NaN</td>\n",
              "      <td>Health Care, Software</td>\n",
              "      <td>Health Care, Software</td>\n",
              "      <td>Pre-Seed</td>\n",
              "      <td>1/1/17</td>\n",
              "      <td>NaN</td>\n",
              "      <td>2</td>\n",
              "      <td>10-Jan</td>\n",
              "      <td>2.0</td>\n",
              "      <td>1</td>\n",
              "      <td>2.0</td>\n",
              "      <td>NaN</td>\n",
              "      <td>NaN</td>\n",
              "      <td>National Institutes of Health, C. Light Ventures</td>\n",
              "    </tr>\n",
              "    <tr>\n",
              "      <th>1</th>\n",
              "      <td>C1X</td>\n",
              "      <td>23.0</td>\n",
              "      <td>For Profit</td>\n",
              "      <td>Less than $1M</td>\n",
              "      <td>1/1/14</td>\n",
              "      <td>year</td>\n",
              "      <td>Early Stage Venture</td>\n",
              "      <td>San Jose, California, United States</td>\n",
              "      <td>NaN</td>\n",
              "      <td>Advertising, E-Commerce, Internet</td>\n",
              "      <td>Advertising, Commerce and Shopping, Internet S...</td>\n",
              "      <td>Series B</td>\n",
              "      <td>10/12/16</td>\n",
              "      <td>NaN</td>\n",
              "      <td>12</td>\n",
              "      <td>51-100</td>\n",
              "      <td>2.0</td>\n",
              "      <td>2</td>\n",
              "      <td>5.0</td>\n",
              "      <td>2.0</td>\n",
              "      <td>NaN</td>\n",
              "      <td>UTEC- University of Tokyo Edge Capital, Mynavi...</td>\n",
              "    </tr>\n",
              "  </tbody>\n",
              "</table>\n",
              "</div>"
            ],
            "text/plain": [
              "        OrganizationName  ...                                      Top5Investors\n",
              "0  C. Light Technologies  ...   National Institutes of Health, C. Light Ventures\n",
              "1                    C1X  ...  UTEC- University of Tokyo Edge Capital, Mynavi...\n",
              "\n",
              "[2 rows x 22 columns]"
            ]
          },
          "metadata": {
            "tags": []
          },
          "execution_count": 32
        }
      ]
    },
    {
      "cell_type": "code",
      "metadata": {
        "id": "L9DcXMQdYP6X",
        "colab_type": "code",
        "outputId": "44cb0d4f-f2d0-4a74-dd1c-23e3afabd419",
        "colab": {
          "base_uri": "https://localhost:8080/",
          "height": 510
        }
      },
      "source": [
        "df_clean.info()"
      ],
      "execution_count": 0,
      "outputs": [
        {
          "output_type": "stream",
          "text": [
            "<class 'pandas.core.frame.DataFrame'>\n",
            "RangeIndex: 8448 entries, 0 to 8447\n",
            "Data columns (total 22 columns):\n",
            " #   Column                     Non-Null Count  Dtype  \n",
            "---  ------                     --------------  -----  \n",
            " 0   OrganizationName           8448 non-null   object \n",
            " 1   BuiltWith-ActiveTechCount  7892 non-null   float64\n",
            " 2   CompanyType                6403 non-null   object \n",
            " 3   EstimatedRevenueRange      4383 non-null   object \n",
            " 4   FoundedDate                8212 non-null   object \n",
            " 5   FoundedDatePrecision       8212 non-null   object \n",
            " 6   FundingStatus              8448 non-null   object \n",
            " 7   HeadquartersLocation       8448 non-null   object \n",
            " 8   IPqwery-PatentsGranted     3123 non-null   float64\n",
            " 9   Industries                 8366 non-null   object \n",
            " 10  IndustryGroups             8346 non-null   object \n",
            " 11  LastEquityFundingType      8448 non-null   object \n",
            " 12  LastFundingDate            8448 non-null   object \n",
            " 13  NumberofAcquisitions       418 non-null    float64\n",
            " 14  NumberofArticles           4987 non-null   object \n",
            " 15  NumberofEmployees          7274 non-null   object \n",
            " 16  NumberofFounders           7146 non-null   float64\n",
            " 17  NumberofFundingRounds      8448 non-null   int64  \n",
            " 18  NumberofInvestors          6959 non-null   float64\n",
            " 19  NumberofLeadInvestors      3997 non-null   float64\n",
            " 20  Unnamed: 33                0 non-null      float64\n",
            " 21  Top5Investors              6959 non-null   object \n",
            "dtypes: float64(7), int64(1), object(14)\n",
            "memory usage: 1.4+ MB\n"
          ],
          "name": "stdout"
        }
      ]
    },
    {
      "cell_type": "markdown",
      "metadata": {
        "id": "pHJT8VPqbu11",
        "colab_type": "text"
      },
      "source": [
        "Let's find the data of the features which are null？"
      ]
    },
    {
      "cell_type": "code",
      "metadata": {
        "id": "DBV7WvbdbuLG",
        "colab_type": "code",
        "colab": {}
      },
      "source": [
        "def cal_missing_data(data):\n",
        "  missing_data = data.isnull().sum().sort_values(ascending = False)\n",
        "  missing_data_rate = (data.isnull().sum()/data.isnull().count()).sort_values(ascending = False)\n",
        "  print(missing_data_rate)"
      ],
      "execution_count": 0,
      "outputs": []
    },
    {
      "cell_type": "code",
      "metadata": {
        "id": "gZbIvHWKfISK",
        "colab_type": "code",
        "outputId": "795ed006-39fd-44b5-9317-defbc8b26965",
        "colab": {
          "base_uri": "https://localhost:8080/",
          "height": 408
        }
      },
      "source": [
        "cal_missing_data(df_clean)"
      ],
      "execution_count": 0,
      "outputs": [
        {
          "output_type": "stream",
          "text": [
            "Unnamed: 33                  1.000000\n",
            "NumberofAcquisitions         0.950521\n",
            "IPqwery-PatentsGranted       0.630327\n",
            "NumberofLeadInvestors        0.526870\n",
            "EstimatedRevenueRange        0.481179\n",
            "NumberofArticles             0.409683\n",
            "CompanyType                  0.242069\n",
            "Top5Investors                0.176255\n",
            "NumberofInvestors            0.176255\n",
            "NumberofFounders             0.154119\n",
            "NumberofEmployees            0.138968\n",
            "BuiltWith-ActiveTechCount    0.065814\n",
            "FoundedDatePrecision         0.027936\n",
            "FoundedDate                  0.027936\n",
            "IndustryGroups               0.012074\n",
            "Industries                   0.009706\n",
            "FundingStatus                0.000000\n",
            "HeadquartersLocation         0.000000\n",
            "LastEquityFundingType        0.000000\n",
            "LastFundingDate              0.000000\n",
            "NumberofFundingRounds        0.000000\n",
            "OrganizationName             0.000000\n",
            "dtype: float64\n"
          ],
          "name": "stdout"
        }
      ]
    },
    {
      "cell_type": "markdown",
      "metadata": {
        "id": "YOLuPFyXeX3A",
        "colab_type": "text"
      },
      "source": [
        "Some features are too many missing data(such as \"avg_time_bw_rounds\"), it does n’t make much sense to keep or fill, so they also should be deleted."
      ]
    },
    {
      "cell_type": "code",
      "metadata": {
        "id": "TxZ22-4bep31",
        "colab_type": "code",
        "colab": {}
      },
      "source": [
        "df_clean.drop(['Unnamed: 33'],axis=1,inplace=True)\n",
        "df_clean.drop(['NumberofAcquisitions'],axis=1,inplace=True)"
      ],
      "execution_count": 0,
      "outputs": []
    },
    {
      "cell_type": "markdown",
      "metadata": {
        "id": "KHPhuSzbgLNC",
        "colab_type": "text"
      },
      "source": [
        "Some features are not too many missing(such as \"FoundedDatePrecision\",\"FoundedDate\"),we can just remove the missing data.And we will deal with the two columns to become one later."
      ]
    },
    {
      "cell_type": "code",
      "metadata": {
        "id": "aBaLy0WAhHTl",
        "colab_type": "code",
        "colab": {}
      },
      "source": [
        "df_clean.dropna(subset=['FoundedDatePrecision'],axis=0, inplace = True)\n",
        "df_clean.dropna(subset=['FoundedDate'],axis=0,inplace=True)"
      ],
      "execution_count": 0,
      "outputs": []
    },
    {
      "cell_type": "code",
      "metadata": {
        "id": "yfZQXSF0hlfq",
        "colab_type": "code",
        "outputId": "e26e52a0-8d6b-4752-de01-e80d0260fc9c",
        "colab": {
          "base_uri": "https://localhost:8080/",
          "height": 374
        }
      },
      "source": [
        "df_clean.isnull().sum().sort_values(ascending = False)"
      ],
      "execution_count": 0,
      "outputs": [
        {
          "output_type": "execute_result",
          "data": {
            "text/plain": [
              "IPqwery-PatentsGranted       5125\n",
              "NumberofLeadInvestors        4268\n",
              "EstimatedRevenueRange        3882\n",
              "NumberofArticles             3248\n",
              "CompanyType                  1946\n",
              "Top5Investors                1453\n",
              "NumberofInvestors            1453\n",
              "NumberofFounders             1169\n",
              "NumberofEmployees            1028\n",
              "BuiltWith-ActiveTechCount     474\n",
              "IndustryGroups                 90\n",
              "Industries                     71\n",
              "HeadquartersLocation            0\n",
              "FundingStatus                   0\n",
              "FoundedDatePrecision            0\n",
              "FoundedDate                     0\n",
              "LastEquityFundingType           0\n",
              "LastFundingDate                 0\n",
              "NumberofFundingRounds           0\n",
              "OrganizationName                0\n",
              "dtype: int64"
            ]
          },
          "metadata": {
            "tags": []
          },
          "execution_count": 38
        }
      ]
    },
    {
      "cell_type": "markdown",
      "metadata": {
        "id": "l5pLb6Afh04s",
        "colab_type": "text"
      },
      "source": [
        "We should fill them.Let's analysis them."
      ]
    },
    {
      "cell_type": "code",
      "metadata": {
        "id": "IOkKz8AqiJ-X",
        "colab_type": "code",
        "outputId": "15718744-f6e9-4ac2-aaca-0c821d277728",
        "colab": {
          "base_uri": "https://localhost:8080/",
          "height": 476
        }
      },
      "source": [
        "df_clean.info()"
      ],
      "execution_count": 0,
      "outputs": [
        {
          "output_type": "stream",
          "text": [
            "<class 'pandas.core.frame.DataFrame'>\n",
            "Int64Index: 8212 entries, 0 to 8447\n",
            "Data columns (total 20 columns):\n",
            " #   Column                     Non-Null Count  Dtype  \n",
            "---  ------                     --------------  -----  \n",
            " 0   OrganizationName           8212 non-null   object \n",
            " 1   BuiltWith-ActiveTechCount  7738 non-null   float64\n",
            " 2   CompanyType                6266 non-null   object \n",
            " 3   EstimatedRevenueRange      4330 non-null   object \n",
            " 4   FoundedDate                8212 non-null   object \n",
            " 5   FoundedDatePrecision       8212 non-null   object \n",
            " 6   FundingStatus              8212 non-null   object \n",
            " 7   HeadquartersLocation       8212 non-null   object \n",
            " 8   IPqwery-PatentsGranted     3087 non-null   float64\n",
            " 9   Industries                 8141 non-null   object \n",
            " 10  IndustryGroups             8122 non-null   object \n",
            " 11  LastEquityFundingType      8212 non-null   object \n",
            " 12  LastFundingDate            8212 non-null   object \n",
            " 13  NumberofArticles           4964 non-null   object \n",
            " 14  NumberofEmployees          7184 non-null   object \n",
            " 15  NumberofFounders           7043 non-null   float64\n",
            " 16  NumberofFundingRounds      8212 non-null   int64  \n",
            " 17  NumberofInvestors          6759 non-null   float64\n",
            " 18  NumberofLeadInvestors      3944 non-null   float64\n",
            " 19  Top5Investors              6759 non-null   object \n",
            "dtypes: float64(5), int64(1), object(14)\n",
            "memory usage: 1.3+ MB\n"
          ],
          "name": "stdout"
        }
      ]
    },
    {
      "cell_type": "markdown",
      "metadata": {
        "id": "Hukv-bFBiqQq",
        "colab_type": "text"
      },
      "source": [
        "Fill some of them with 0(IPqwery-PatentsGranted and BuiltWith-ActiveTechCount,which only some companies have these)"
      ]
    },
    {
      "cell_type": "code",
      "metadata": {
        "id": "CHpEEM0pithM",
        "colab_type": "code",
        "colab": {}
      },
      "source": [
        "df_clean['BuiltWith-ActiveTechCount']=df_clean['BuiltWith-ActiveTechCount'].fillna(0)\n",
        "df_clean['IPqwery-PatentsGranted']=df_clean['IPqwery-PatentsGranted'].fillna(0)\n",
        "df_clean['NumberofInvestors']=df_clean['NumberofInvestors'].fillna(0)    \n",
        "df_clean['NumberofLeadInvestors']=df_clean['NumberofLeadInvestors'].fillna(0)   "
      ],
      "execution_count": 0,
      "outputs": []
    },
    {
      "cell_type": "markdown",
      "metadata": {
        "id": "A54pI2pajhcU",
        "colab_type": "text"
      },
      "source": [
        "Fill some of them with mean."
      ]
    },
    {
      "cell_type": "code",
      "metadata": {
        "id": "ENUKaJjkkmvJ",
        "colab_type": "code",
        "colab": {}
      },
      "source": [
        "df_clean['NumberofFounders']=df_clean['NumberofFounders'].fillna(df_clean['NumberofFounders'].mean())"
      ],
      "execution_count": 0,
      "outputs": []
    },
    {
      "cell_type": "code",
      "metadata": {
        "id": "xPEvunVEipic",
        "colab_type": "code",
        "outputId": "9647e842-4fb3-4dcd-9ac0-d9b144053478",
        "colab": {
          "base_uri": "https://localhost:8080/",
          "height": 374
        }
      },
      "source": [
        "df_clean.isnull().sum().sort_values(ascending = False)"
      ],
      "execution_count": 0,
      "outputs": [
        {
          "output_type": "execute_result",
          "data": {
            "text/plain": [
              "EstimatedRevenueRange        3882\n",
              "NumberofArticles             3248\n",
              "CompanyType                  1946\n",
              "Top5Investors                1453\n",
              "NumberofEmployees            1028\n",
              "IndustryGroups                 90\n",
              "Industries                     71\n",
              "LastFundingDate                 0\n",
              "LastEquityFundingType           0\n",
              "NumberofFounders                0\n",
              "NumberofLeadInvestors           0\n",
              "IPqwery-PatentsGranted          0\n",
              "HeadquartersLocation            0\n",
              "FundingStatus                   0\n",
              "FoundedDatePrecision            0\n",
              "FoundedDate                     0\n",
              "NumberofFundingRounds           0\n",
              "NumberofInvestors               0\n",
              "BuiltWith-ActiveTechCount       0\n",
              "OrganizationName                0\n",
              "dtype: int64"
            ]
          },
          "metadata": {
            "tags": []
          },
          "execution_count": 42
        }
      ]
    },
    {
      "cell_type": "code",
      "metadata": {
        "id": "4xO78zxalwPs",
        "colab_type": "code",
        "outputId": "51f2432f-ee9e-4b71-e0f6-4873a939b1d2",
        "colab": {
          "base_uri": "https://localhost:8080/",
          "height": 238
        }
      },
      "source": [
        "cat_columns_map1=get_cat_columns(df_clean)\n",
        "report_cluster1=get_report_cluster(cat_columns_map1)\n",
        "report_cluster1"
      ],
      "execution_count": 0,
      "outputs": [
        {
          "output_type": "execute_result",
          "data": {
            "text/plain": [
              "{3: ['CompanyType', 'FundingStatus'],\n",
              " 4: ['FoundedDatePrecision'],\n",
              " 9: ['EstimatedRevenueRange'],\n",
              " 10: ['NumberofEmployees'],\n",
              " 12: ['LastEquityFundingType'],\n",
              " 98: ['HeadquartersLocation'],\n",
              " 285: ['NumberofArticles'],\n",
              " 1429: ['FoundedDate'],\n",
              " 2851: ['LastFundingDate'],\n",
              " 3182: ['IndustryGroups'],\n",
              " 5756: ['Top5Investors'],\n",
              " 7070: ['Industries'],\n",
              " 8312: ['OrganizationName']}"
            ]
          },
          "metadata": {
            "tags": []
          },
          "execution_count": 43
        }
      ]
    },
    {
      "cell_type": "code",
      "metadata": {
        "id": "TXBczy_RSHpG",
        "colab_type": "code",
        "colab": {}
      },
      "source": [
        "pd.set_option('display.max_columns', None)\n",
        "def style_specific_cell(x):\n",
        "    color_thresh = 'background-color: lightgreen'   \n",
        "    df_color = pd.DataFrame('', index=x.index, columns=x.columns)\n",
        "    rows_number=len(x.index)\n",
        "    column_number=len(x.columns)\n",
        "    for r in range(0,rows_number): \n",
        "        for c in range(0,column_number):\n",
        "            try:\n",
        "                val=float(x.iloc[r, c])\n",
        "                if x.iloc[r, 0]==\"%\":\n",
        "                    if val<10:\n",
        "                        df_color.iloc[r, c]=color_thresh\n",
        "            except:\n",
        "                pass            \n",
        "    return df_color"
      ],
      "execution_count": 0,
      "outputs": []
    },
    {
      "cell_type": "code",
      "metadata": {
        "id": "SUdPwLVDSUkL",
        "colab_type": "code",
        "colab": {}
      },
      "source": [
        "def make_percent_report(report_cluster,key,df):\n",
        "    percentage_report=[]\n",
        "    for name in sorted(report_cluster[key]):\n",
        "        data=pd.crosstab(df[name],columns=[\"%\"]).apply(lambda r: (round((r/r.sum())*100,2)), axis=0).reset_index()\n",
        "        data.columns=[name,\"%\"]\n",
        "        data=data.transpose().reset_index()\n",
        "        [percentage_report.append(x) for x in data.values.tolist()]\n",
        "        options=[]\n",
        "    percentage_report=pd.DataFrame(percentage_report)\n",
        "    [options.append(\"Category\"+str(itr)) for itr in range(1,len(percentage_report.columns))]\n",
        "    percentage_report.columns=[\"Features\"]+options\n",
        "    display(percentage_report.style.apply(style_specific_cell, axis=None))"
      ],
      "execution_count": 0,
      "outputs": []
    },
    {
      "cell_type": "code",
      "metadata": {
        "id": "7TwzqVvNSYUx",
        "colab_type": "code",
        "outputId": "b14a2800-a20e-4160-f6f0-440c849af08b",
        "colab": {
          "base_uri": "https://localhost:8080/",
          "height": 319
        }
      },
      "source": [
        "for key in report_cluster1.keys():\n",
        "  if key<12:\n",
        "    make_percent_report(report_cluster1,key,df)"
      ],
      "execution_count": 0,
      "outputs": [
        {
          "output_type": "display_data",
          "data": {
            "text/html": [
              "<style  type=\"text/css\" >\n",
              "    #T_45f22dae_7ada_11ea_a0b6_0242ac1c0002row1_col2 {\n",
              "            background-color:  lightgreen;\n",
              "        }    #T_45f22dae_7ada_11ea_a0b6_0242ac1c0002row3_col2 {\n",
              "            background-color:  lightgreen;\n",
              "        }</style><table id=\"T_45f22dae_7ada_11ea_a0b6_0242ac1c0002\" ><thead>    <tr>        <th class=\"blank level0\" ></th>        <th class=\"col_heading level0 col0\" >Features</th>        <th class=\"col_heading level0 col1\" >Category1</th>        <th class=\"col_heading level0 col2\" >Category2</th>        <th class=\"col_heading level0 col3\" >Category3</th>    </tr></thead><tbody>\n",
              "                <tr>\n",
              "                        <th id=\"T_45f22dae_7ada_11ea_a0b6_0242ac1c0002level0_row0\" class=\"row_heading level0 row0\" >0</th>\n",
              "                        <td id=\"T_45f22dae_7ada_11ea_a0b6_0242ac1c0002row0_col0\" class=\"data row0 col0\" >CompanyType</td>\n",
              "                        <td id=\"T_45f22dae_7ada_11ea_a0b6_0242ac1c0002row0_col1\" class=\"data row0 col1\" >For Profit</td>\n",
              "                        <td id=\"T_45f22dae_7ada_11ea_a0b6_0242ac1c0002row0_col2\" class=\"data row0 col2\" >Non-profit</td>\n",
              "                        <td id=\"T_45f22dae_7ada_11ea_a0b6_0242ac1c0002row0_col3\" class=\"data row0 col3\" >None</td>\n",
              "            </tr>\n",
              "            <tr>\n",
              "                        <th id=\"T_45f22dae_7ada_11ea_a0b6_0242ac1c0002level0_row1\" class=\"row_heading level0 row1\" >1</th>\n",
              "                        <td id=\"T_45f22dae_7ada_11ea_a0b6_0242ac1c0002row1_col0\" class=\"data row1 col0\" >%</td>\n",
              "                        <td id=\"T_45f22dae_7ada_11ea_a0b6_0242ac1c0002row1_col1\" class=\"data row1 col1\" >99.610000</td>\n",
              "                        <td id=\"T_45f22dae_7ada_11ea_a0b6_0242ac1c0002row1_col2\" class=\"data row1 col2\" >0.390000</td>\n",
              "                        <td id=\"T_45f22dae_7ada_11ea_a0b6_0242ac1c0002row1_col3\" class=\"data row1 col3\" >None</td>\n",
              "            </tr>\n",
              "            <tr>\n",
              "                        <th id=\"T_45f22dae_7ada_11ea_a0b6_0242ac1c0002level0_row2\" class=\"row_heading level0 row2\" >2</th>\n",
              "                        <td id=\"T_45f22dae_7ada_11ea_a0b6_0242ac1c0002row2_col0\" class=\"data row2 col0\" >FundingStatus</td>\n",
              "                        <td id=\"T_45f22dae_7ada_11ea_a0b6_0242ac1c0002row2_col1\" class=\"data row2 col1\" >Early Stage Venture</td>\n",
              "                        <td id=\"T_45f22dae_7ada_11ea_a0b6_0242ac1c0002row2_col2\" class=\"data row2 col2\" >Late Stage Venture</td>\n",
              "                        <td id=\"T_45f22dae_7ada_11ea_a0b6_0242ac1c0002row2_col3\" class=\"data row2 col3\" >Seed</td>\n",
              "            </tr>\n",
              "            <tr>\n",
              "                        <th id=\"T_45f22dae_7ada_11ea_a0b6_0242ac1c0002level0_row3\" class=\"row_heading level0 row3\" >3</th>\n",
              "                        <td id=\"T_45f22dae_7ada_11ea_a0b6_0242ac1c0002row3_col0\" class=\"data row3 col0\" >%</td>\n",
              "                        <td id=\"T_45f22dae_7ada_11ea_a0b6_0242ac1c0002row3_col1\" class=\"data row3 col1\" >27.890000</td>\n",
              "                        <td id=\"T_45f22dae_7ada_11ea_a0b6_0242ac1c0002row3_col2\" class=\"data row3 col2\" >9.690000</td>\n",
              "                        <td id=\"T_45f22dae_7ada_11ea_a0b6_0242ac1c0002row3_col3\" class=\"data row3 col3\" >62.420000</td>\n",
              "            </tr>\n",
              "    </tbody></table>"
            ],
            "text/plain": [
              "<pandas.io.formats.style.Styler at 0x7f00db45aef0>"
            ]
          },
          "metadata": {
            "tags": []
          }
        },
        {
          "output_type": "display_data",
          "data": {
            "text/html": [
              "<style  type=\"text/css\" >\n",
              "    #T_45f7048c_7ada_11ea_a0b6_0242ac1c0002row1_col2 {\n",
              "            background-color:  lightgreen;\n",
              "        }</style><table id=\"T_45f7048c_7ada_11ea_a0b6_0242ac1c0002\" ><thead>    <tr>        <th class=\"blank level0\" ></th>        <th class=\"col_heading level0 col0\" >Features</th>        <th class=\"col_heading level0 col1\" >Category1</th>        <th class=\"col_heading level0 col2\" >Category2</th>        <th class=\"col_heading level0 col3\" >Category3</th>    </tr></thead><tbody>\n",
              "                <tr>\n",
              "                        <th id=\"T_45f7048c_7ada_11ea_a0b6_0242ac1c0002level0_row0\" class=\"row_heading level0 row0\" >0</th>\n",
              "                        <td id=\"T_45f7048c_7ada_11ea_a0b6_0242ac1c0002row0_col0\" class=\"data row0 col0\" >FoundedDatePrecision</td>\n",
              "                        <td id=\"T_45f7048c_7ada_11ea_a0b6_0242ac1c0002row0_col1\" class=\"data row0 col1\" >day</td>\n",
              "                        <td id=\"T_45f7048c_7ada_11ea_a0b6_0242ac1c0002row0_col2\" class=\"data row0 col2\" >month</td>\n",
              "                        <td id=\"T_45f7048c_7ada_11ea_a0b6_0242ac1c0002row0_col3\" class=\"data row0 col3\" >year</td>\n",
              "            </tr>\n",
              "            <tr>\n",
              "                        <th id=\"T_45f7048c_7ada_11ea_a0b6_0242ac1c0002level0_row1\" class=\"row_heading level0 row1\" >1</th>\n",
              "                        <td id=\"T_45f7048c_7ada_11ea_a0b6_0242ac1c0002row1_col0\" class=\"data row1 col0\" >%</td>\n",
              "                        <td id=\"T_45f7048c_7ada_11ea_a0b6_0242ac1c0002row1_col1\" class=\"data row1 col1\" >33.580000</td>\n",
              "                        <td id=\"T_45f7048c_7ada_11ea_a0b6_0242ac1c0002row1_col2\" class=\"data row1 col2\" >9.270000</td>\n",
              "                        <td id=\"T_45f7048c_7ada_11ea_a0b6_0242ac1c0002row1_col3\" class=\"data row1 col3\" >57.150000</td>\n",
              "            </tr>\n",
              "    </tbody></table>"
            ],
            "text/plain": [
              "<pandas.io.formats.style.Styler at 0x7f00fe842cf8>"
            ]
          },
          "metadata": {
            "tags": []
          }
        },
        {
          "output_type": "display_data",
          "data": {
            "text/html": [
              "<style  type=\"text/css\" >\n",
              "    #T_45fb1e00_7ada_11ea_a0b6_0242ac1c0002row1_col1 {\n",
              "            background-color:  lightgreen;\n",
              "        }    #T_45fb1e00_7ada_11ea_a0b6_0242ac1c0002row1_col2 {\n",
              "            background-color:  lightgreen;\n",
              "        }    #T_45fb1e00_7ada_11ea_a0b6_0242ac1c0002row1_col3 {\n",
              "            background-color:  lightgreen;\n",
              "        }    #T_45fb1e00_7ada_11ea_a0b6_0242ac1c0002row1_col4 {\n",
              "            background-color:  lightgreen;\n",
              "        }    #T_45fb1e00_7ada_11ea_a0b6_0242ac1c0002row1_col6 {\n",
              "            background-color:  lightgreen;\n",
              "        }    #T_45fb1e00_7ada_11ea_a0b6_0242ac1c0002row1_col7 {\n",
              "            background-color:  lightgreen;\n",
              "        }</style><table id=\"T_45fb1e00_7ada_11ea_a0b6_0242ac1c0002\" ><thead>    <tr>        <th class=\"blank level0\" ></th>        <th class=\"col_heading level0 col0\" >Features</th>        <th class=\"col_heading level0 col1\" >Category1</th>        <th class=\"col_heading level0 col2\" >Category2</th>        <th class=\"col_heading level0 col3\" >Category3</th>        <th class=\"col_heading level0 col4\" >Category4</th>        <th class=\"col_heading level0 col5\" >Category5</th>        <th class=\"col_heading level0 col6\" >Category6</th>        <th class=\"col_heading level0 col7\" >Category7</th>        <th class=\"col_heading level0 col8\" >Category8</th>    </tr></thead><tbody>\n",
              "                <tr>\n",
              "                        <th id=\"T_45fb1e00_7ada_11ea_a0b6_0242ac1c0002level0_row0\" class=\"row_heading level0 row0\" >0</th>\n",
              "                        <td id=\"T_45fb1e00_7ada_11ea_a0b6_0242ac1c0002row0_col0\" class=\"data row0 col0\" >EstimatedRevenueRange</td>\n",
              "                        <td id=\"T_45fb1e00_7ada_11ea_a0b6_0242ac1c0002row0_col1\" class=\"data row0 col1\" >$100M to $500M</td>\n",
              "                        <td id=\"T_45fb1e00_7ada_11ea_a0b6_0242ac1c0002row0_col2\" class=\"data row0 col2\" >$10B+</td>\n",
              "                        <td id=\"T_45fb1e00_7ada_11ea_a0b6_0242ac1c0002row0_col3\" class=\"data row0 col3\" >$10M to $50M</td>\n",
              "                        <td id=\"T_45fb1e00_7ada_11ea_a0b6_0242ac1c0002row0_col4\" class=\"data row0 col4\" >$1B to $10B</td>\n",
              "                        <td id=\"T_45fb1e00_7ada_11ea_a0b6_0242ac1c0002row0_col5\" class=\"data row0 col5\" >$1M to $10M</td>\n",
              "                        <td id=\"T_45fb1e00_7ada_11ea_a0b6_0242ac1c0002row0_col6\" class=\"data row0 col6\" >$500M to $1B</td>\n",
              "                        <td id=\"T_45fb1e00_7ada_11ea_a0b6_0242ac1c0002row0_col7\" class=\"data row0 col7\" >$50M to $100M</td>\n",
              "                        <td id=\"T_45fb1e00_7ada_11ea_a0b6_0242ac1c0002row0_col8\" class=\"data row0 col8\" >Less than $1M</td>\n",
              "            </tr>\n",
              "            <tr>\n",
              "                        <th id=\"T_45fb1e00_7ada_11ea_a0b6_0242ac1c0002level0_row1\" class=\"row_heading level0 row1\" >1</th>\n",
              "                        <td id=\"T_45fb1e00_7ada_11ea_a0b6_0242ac1c0002row1_col0\" class=\"data row1 col0\" >%</td>\n",
              "                        <td id=\"T_45fb1e00_7ada_11ea_a0b6_0242ac1c0002row1_col1\" class=\"data row1 col1\" >1.230000</td>\n",
              "                        <td id=\"T_45fb1e00_7ada_11ea_a0b6_0242ac1c0002row1_col2\" class=\"data row1 col2\" >0.050000</td>\n",
              "                        <td id=\"T_45fb1e00_7ada_11ea_a0b6_0242ac1c0002row1_col3\" class=\"data row1 col3\" >9.030000</td>\n",
              "                        <td id=\"T_45fb1e00_7ada_11ea_a0b6_0242ac1c0002row1_col4\" class=\"data row1 col4\" >0.160000</td>\n",
              "                        <td id=\"T_45fb1e00_7ada_11ea_a0b6_0242ac1c0002row1_col5\" class=\"data row1 col5\" >56.130000</td>\n",
              "                        <td id=\"T_45fb1e00_7ada_11ea_a0b6_0242ac1c0002row1_col6\" class=\"data row1 col6\" >0.090000</td>\n",
              "                        <td id=\"T_45fb1e00_7ada_11ea_a0b6_0242ac1c0002row1_col7\" class=\"data row1 col7\" >1.160000</td>\n",
              "                        <td id=\"T_45fb1e00_7ada_11ea_a0b6_0242ac1c0002row1_col8\" class=\"data row1 col8\" >32.150000</td>\n",
              "            </tr>\n",
              "    </tbody></table>"
            ],
            "text/plain": [
              "<pandas.io.formats.style.Styler at 0x7f0108781080>"
            ]
          },
          "metadata": {
            "tags": []
          }
        },
        {
          "output_type": "display_data",
          "data": {
            "text/html": [
              "<style  type=\"text/css\" >\n",
              "    #T_45ffdcba_7ada_11ea_a0b6_0242ac1c0002row1_col2 {\n",
              "            background-color:  lightgreen;\n",
              "        }    #T_45ffdcba_7ada_11ea_a0b6_0242ac1c0002row1_col3 {\n",
              "            background-color:  lightgreen;\n",
              "        }    #T_45ffdcba_7ada_11ea_a0b6_0242ac1c0002row1_col4 {\n",
              "            background-color:  lightgreen;\n",
              "        }    #T_45ffdcba_7ada_11ea_a0b6_0242ac1c0002row1_col5 {\n",
              "            background-color:  lightgreen;\n",
              "        }    #T_45ffdcba_7ada_11ea_a0b6_0242ac1c0002row1_col6 {\n",
              "            background-color:  lightgreen;\n",
              "        }    #T_45ffdcba_7ada_11ea_a0b6_0242ac1c0002row1_col7 {\n",
              "            background-color:  lightgreen;\n",
              "        }    #T_45ffdcba_7ada_11ea_a0b6_0242ac1c0002row1_col8 {\n",
              "            background-color:  lightgreen;\n",
              "        }</style><table id=\"T_45ffdcba_7ada_11ea_a0b6_0242ac1c0002\" ><thead>    <tr>        <th class=\"blank level0\" ></th>        <th class=\"col_heading level0 col0\" >Features</th>        <th class=\"col_heading level0 col1\" >Category1</th>        <th class=\"col_heading level0 col2\" >Category2</th>        <th class=\"col_heading level0 col3\" >Category3</th>        <th class=\"col_heading level0 col4\" >Category4</th>        <th class=\"col_heading level0 col5\" >Category5</th>        <th class=\"col_heading level0 col6\" >Category6</th>        <th class=\"col_heading level0 col7\" >Category7</th>        <th class=\"col_heading level0 col8\" >Category8</th>        <th class=\"col_heading level0 col9\" >Category9</th>    </tr></thead><tbody>\n",
              "                <tr>\n",
              "                        <th id=\"T_45ffdcba_7ada_11ea_a0b6_0242ac1c0002level0_row0\" class=\"row_heading level0 row0\" >0</th>\n",
              "                        <td id=\"T_45ffdcba_7ada_11ea_a0b6_0242ac1c0002row0_col0\" class=\"data row0 col0\" >NumberofEmployees</td>\n",
              "                        <td id=\"T_45ffdcba_7ada_11ea_a0b6_0242ac1c0002row0_col1\" class=\"data row0 col1\" >10-Jan</td>\n",
              "                        <td id=\"T_45ffdcba_7ada_11ea_a0b6_0242ac1c0002row0_col2\" class=\"data row0 col2\" >10001+</td>\n",
              "                        <td id=\"T_45ffdcba_7ada_11ea_a0b6_0242ac1c0002row0_col3\" class=\"data row0 col3\" >1001-5000</td>\n",
              "                        <td id=\"T_45ffdcba_7ada_11ea_a0b6_0242ac1c0002row0_col4\" class=\"data row0 col4\" >101-250</td>\n",
              "                        <td id=\"T_45ffdcba_7ada_11ea_a0b6_0242ac1c0002row0_col5\" class=\"data row0 col5\" >251-500</td>\n",
              "                        <td id=\"T_45ffdcba_7ada_11ea_a0b6_0242ac1c0002row0_col6\" class=\"data row0 col6\" >5001-10000</td>\n",
              "                        <td id=\"T_45ffdcba_7ada_11ea_a0b6_0242ac1c0002row0_col7\" class=\"data row0 col7\" >501-1000</td>\n",
              "                        <td id=\"T_45ffdcba_7ada_11ea_a0b6_0242ac1c0002row0_col8\" class=\"data row0 col8\" >51-100</td>\n",
              "                        <td id=\"T_45ffdcba_7ada_11ea_a0b6_0242ac1c0002row0_col9\" class=\"data row0 col9\" >Nov-50</td>\n",
              "            </tr>\n",
              "            <tr>\n",
              "                        <th id=\"T_45ffdcba_7ada_11ea_a0b6_0242ac1c0002level0_row1\" class=\"row_heading level0 row1\" >1</th>\n",
              "                        <td id=\"T_45ffdcba_7ada_11ea_a0b6_0242ac1c0002row1_col0\" class=\"data row1 col0\" >%</td>\n",
              "                        <td id=\"T_45ffdcba_7ada_11ea_a0b6_0242ac1c0002row1_col1\" class=\"data row1 col1\" >45.770000</td>\n",
              "                        <td id=\"T_45ffdcba_7ada_11ea_a0b6_0242ac1c0002row1_col2\" class=\"data row1 col2\" >0.080000</td>\n",
              "                        <td id=\"T_45ffdcba_7ada_11ea_a0b6_0242ac1c0002row1_col3\" class=\"data row1 col3\" >0.380000</td>\n",
              "                        <td id=\"T_45ffdcba_7ada_11ea_a0b6_0242ac1c0002row1_col4\" class=\"data row1 col4\" >5.440000</td>\n",
              "                        <td id=\"T_45ffdcba_7ada_11ea_a0b6_0242ac1c0002row1_col5\" class=\"data row1 col5\" >1.510000</td>\n",
              "                        <td id=\"T_45ffdcba_7ada_11ea_a0b6_0242ac1c0002row1_col6\" class=\"data row1 col6\" >0.050000</td>\n",
              "                        <td id=\"T_45ffdcba_7ada_11ea_a0b6_0242ac1c0002row1_col7\" class=\"data row1 col7\" >0.870000</td>\n",
              "                        <td id=\"T_45ffdcba_7ada_11ea_a0b6_0242ac1c0002row1_col8\" class=\"data row1 col8\" >7.050000</td>\n",
              "                        <td id=\"T_45ffdcba_7ada_11ea_a0b6_0242ac1c0002row1_col9\" class=\"data row1 col9\" >38.840000</td>\n",
              "            </tr>\n",
              "    </tbody></table>"
            ],
            "text/plain": [
              "<pandas.io.formats.style.Styler at 0x7f00db9a5400>"
            ]
          },
          "metadata": {
            "tags": []
          }
        }
      ]
    },
    {
      "cell_type": "markdown",
      "metadata": {
        "id": "cfCkxrAgTbsx",
        "colab_type": "text"
      },
      "source": [
        "Some of other features don't seem to be the things that explicitly impacts success,we drop them."
      ]
    },
    {
      "cell_type": "code",
      "metadata": {
        "id": "Ax7E06Ij5HWo",
        "colab_type": "code",
        "colab": {}
      },
      "source": [
        "df_clean.drop(['NumberofArticles'],axis=1,inplace=True)"
      ],
      "execution_count": 0,
      "outputs": []
    },
    {
      "cell_type": "markdown",
      "metadata": {
        "id": "o8UgVB8N5LBF",
        "colab_type": "text"
      },
      "source": [
        ""
      ]
    },
    {
      "cell_type": "markdown",
      "metadata": {
        "id": "GR4zE2xHtFf4",
        "colab_type": "text"
      },
      "source": [
        "There is only 0.39% of \"Non-profit\" in \"CompanyType\" feature here. The ratio is so low, this feature will become outliers which will affect our algorithm implementation, and it don't make sense , we can remove this feature first."
      ]
    },
    {
      "cell_type": "code",
      "metadata": {
        "id": "0hbxmaLYtE1j",
        "colab_type": "code",
        "colab": {}
      },
      "source": [
        "df_clean.drop(['CompanyType'],axis=1,inplace=True)"
      ],
      "execution_count": 0,
      "outputs": []
    },
    {
      "cell_type": "markdown",
      "metadata": {
        "id": "3i_TweswuzHs",
        "colab_type": "text"
      },
      "source": [
        "###Merge the categarical features"
      ]
    },
    {
      "cell_type": "markdown",
      "metadata": {
        "id": "BKKi2yrMvni1",
        "colab_type": "text"
      },
      "source": [
        "####NumberofEmployees"
      ]
    },
    {
      "cell_type": "code",
      "metadata": {
        "id": "12PsBiYSwe75",
        "colab_type": "code",
        "outputId": "a0e38282-55f4-4a75-8daa-cae3fccaf6ec",
        "colab": {
          "base_uri": "https://localhost:8080/",
          "height": 187
        }
      },
      "source": [
        "df_clean['NumberofEmployees'].value_counts()"
      ],
      "execution_count": 0,
      "outputs": [
        {
          "output_type": "execute_result",
          "data": {
            "text/plain": [
              "10-Jan        3258\n",
              "Nov-50        2810\n",
              "51-100         513\n",
              "101-250        394\n",
              "251-500        110\n",
              "501-1000        62\n",
              "1001-5000       28\n",
              "10001+           5\n",
              "5001-10000       4\n",
              "Name: NumberofEmployees, dtype: int64"
            ]
          },
          "metadata": {
            "tags": []
          },
          "execution_count": 49
        }
      ]
    },
    {
      "cell_type": "markdown",
      "metadata": {
        "id": "JlpvO51cw8Jy",
        "colab_type": "text"
      },
      "source": [
        "We can merge the >100 categaries."
      ]
    },
    {
      "cell_type": "code",
      "metadata": {
        "id": "v3yX_n_iv456",
        "colab_type": "code",
        "colab": {}
      },
      "source": [
        "NumberofEmployees={'10-Jan':\"<10\", 'Nov-50':\"11~50\", '51-100':\"51~100\",\n",
        "                   '101-250':\">100\",'251-500':\">100\",'501-1000':\">100\",\n",
        "                   '1001-5000':\">100\",'10001+':\">100\",'5001-10000':\">100\"}\n",
        "df_clean['NumberofEmployees']=df_clean['NumberofEmployees'].map(NumberofEmployees)"
      ],
      "execution_count": 0,
      "outputs": []
    },
    {
      "cell_type": "code",
      "metadata": {
        "id": "rj6hpD7ryBEw",
        "colab_type": "code",
        "outputId": "2a4cc3bd-2f36-4bed-90b8-0655afa3f62e",
        "colab": {
          "base_uri": "https://localhost:8080/",
          "height": 102
        }
      },
      "source": [
        "df_clean['NumberofEmployees'].value_counts()"
      ],
      "execution_count": 0,
      "outputs": [
        {
          "output_type": "execute_result",
          "data": {
            "text/plain": [
              "<10       3258\n",
              "11~50     2810\n",
              ">100       603\n",
              "51~100     513\n",
              "Name: NumberofEmployees, dtype: int64"
            ]
          },
          "metadata": {
            "tags": []
          },
          "execution_count": 51
        }
      ]
    },
    {
      "cell_type": "markdown",
      "metadata": {
        "id": "T4EMqmuozGHE",
        "colab_type": "text"
      },
      "source": [
        "####EstimatedRevenueRange\n"
      ]
    },
    {
      "cell_type": "code",
      "metadata": {
        "id": "pUKuHQUzy6q1",
        "colab_type": "code",
        "outputId": "724deb66-d544-466f-81c0-02786c47ad29",
        "colab": {
          "base_uri": "https://localhost:8080/",
          "height": 170
        }
      },
      "source": [
        "df_clean['EstimatedRevenueRange'].value_counts()"
      ],
      "execution_count": 0,
      "outputs": [
        {
          "output_type": "execute_result",
          "data": {
            "text/plain": [
              "$1M to $10M       2432\n",
              "Less than $1M     1385\n",
              "$10M to $50M       395\n",
              "$100M to $500M      54\n",
              "$50M to $100M       51\n",
              "$1B to $10B          7\n",
              "$500M to $1B         4\n",
              "$10B+                2\n",
              "Name: EstimatedRevenueRange, dtype: int64"
            ]
          },
          "metadata": {
            "tags": []
          },
          "execution_count": 52
        }
      ]
    },
    {
      "cell_type": "markdown",
      "metadata": {
        "id": "xpGIKw_CzzeR",
        "colab_type": "text"
      },
      "source": [
        "You know, if the company EstimatedRevenueRange is more than 10M usd,I think it is not a start-up now.So 10M+ usd should be a type here."
      ]
    },
    {
      "cell_type": "code",
      "metadata": {
        "id": "DH1foMKWzbQT",
        "colab_type": "code",
        "colab": {}
      },
      "source": [
        "EstimatedRevenueRange={'$1M to $10M':\"$1M to $10M\",'Less than $1M':\"Less than $1M\",\n",
        "                       '$10M to $50M':\"$10M+\", '$100M to $500M':\"$10M+\",'$50M to $100M':\"$10M+\",\n",
        "                       '$1B to $10B':\"$10M+\",'$500M to $1B':\"$10M+\",'$10B+':\"$10M+\"}\n",
        "df_clean['EstimatedRevenueRange']=df_clean['EstimatedRevenueRange'].map(EstimatedRevenueRange)"
      ],
      "execution_count": 0,
      "outputs": []
    },
    {
      "cell_type": "code",
      "metadata": {
        "id": "i1I6WbRw1e8-",
        "colab_type": "code",
        "outputId": "8b41082d-5503-4d51-b863-53ce6826b5fd",
        "colab": {
          "base_uri": "https://localhost:8080/",
          "height": 85
        }
      },
      "source": [
        "df_clean['EstimatedRevenueRange'].value_counts()"
      ],
      "execution_count": 0,
      "outputs": [
        {
          "output_type": "execute_result",
          "data": {
            "text/plain": [
              "$1M to $10M      2432\n",
              "Less than $1M    1385\n",
              "$10M+             513\n",
              "Name: EstimatedRevenueRange, dtype: int64"
            ]
          },
          "metadata": {
            "tags": []
          },
          "execution_count": 54
        }
      ]
    },
    {
      "cell_type": "markdown",
      "metadata": {
        "id": "GP4YmYq55lhu",
        "colab_type": "text"
      },
      "source": [
        "####Top5Investors (1453 missing)"
      ]
    },
    {
      "cell_type": "code",
      "metadata": {
        "id": "4NBoLbyW5tlU",
        "colab_type": "code",
        "outputId": "c7c19334-fdd1-4367-c1fc-9b3f5b9293c9",
        "colab": {
          "base_uri": "https://localhost:8080/",
          "height": 221
        }
      },
      "source": [
        "df_clean['Top5Investors'].value_counts()"
      ],
      "execution_count": 0,
      "outputs": [
        {
          "output_type": "execute_result",
          "data": {
            "text/plain": [
              "Y Combinator                                                                                 295\n",
              "500 Startups                                                                                 107\n",
              "Plug and Play                                                                                 63\n",
              "Start-Up Chile                                                                                30\n",
              "Alchemist Accelerator                                                                         25\n",
              "                                                                                            ... \n",
              "Joyance Partners                                                                               1\n",
              "Susa Ventures, Universal Music Group, GV, Detroit Venture Partners, David Spector              1\n",
              "LabCorp, Artis Ventures (AV), Originate, Acadia Woods Partners                                 1\n",
              "First Round Capital, Stewart Butterfield, Reid Hoffman, Caterina Fake, Joi Ito                 1\n",
              "Runa Capital, Bessemer Venture Partners, Samsung NEXT, Scrum Ventures, ff Venture Capital      1\n",
              "Name: Top5Investors, Length: 5675, dtype: int64"
            ]
          },
          "metadata": {
            "tags": []
          },
          "execution_count": 55
        }
      ]
    },
    {
      "cell_type": "markdown",
      "metadata": {
        "id": "raI2TnsR52Xg",
        "colab_type": "text"
      },
      "source": [
        "['Y Combinator',                       'Startups',\n",
        "'Plug and Play',\n",
        "'Start-Up Chile','Alchemist Accelerator']are the most famous Investor, but some of others are not.We can make a list of famous investors."
      ]
    },
    {
      "cell_type": "code",
      "metadata": {
        "id": "bHCWOQo79uuY",
        "colab_type": "code",
        "colab": {}
      },
      "source": [
        "famous_investor=['Y Combinator',  'Startups', 'Plug and Play',\n",
        "                 'Start-Up Chile','Alchemist Accelerator']"
      ],
      "execution_count": 0,
      "outputs": []
    },
    {
      "cell_type": "markdown",
      "metadata": {
        "id": "0voJ5-Za8Id_",
        "colab_type": "text"
      },
      "source": [
        "##Latent Manifold"
      ]
    },
    {
      "cell_type": "markdown",
      "metadata": {
        "id": "e85-jj8V7xtE",
        "colab_type": "text"
      },
      "source": [
        "###Now,we can get the Latent Manifold here, if the company was invested by famous investors.It seems that companies invested by well-known investment institutions may be more likely to succeed because they have an invisible endorsement"
      ]
    },
    {
      "cell_type": "code",
      "metadata": {
        "id": "DZSdXABO_3gZ",
        "colab_type": "code",
        "colab": {}
      },
      "source": [
        "df_clean['Top5Investors']=df_clean['Top5Investors'].fillna('none')"
      ],
      "execution_count": 0,
      "outputs": []
    },
    {
      "cell_type": "code",
      "metadata": {
        "id": "2mtk33PB_jDu",
        "colab_type": "code",
        "colab": {}
      },
      "source": [
        "list_inv=df_clean['Top5Investors'].values.tolist()"
      ],
      "execution_count": 0,
      "outputs": []
    },
    {
      "cell_type": "code",
      "metadata": {
        "id": "j8-rdOnSAIi6",
        "colab_type": "code",
        "outputId": "c43a830c-204e-4bea-adf9-f2c433d4d9f4",
        "colab": {
          "base_uri": "https://localhost:8080/",
          "height": 34
        }
      },
      "source": [
        "len(list_inv)"
      ],
      "execution_count": 0,
      "outputs": [
        {
          "output_type": "execute_result",
          "data": {
            "text/plain": [
              "8212"
            ]
          },
          "metadata": {
            "tags": []
          },
          "execution_count": 59
        }
      ]
    },
    {
      "cell_type": "code",
      "metadata": {
        "id": "aP15lgB5AMSf",
        "colab_type": "code",
        "outputId": "1771e639-b490-4003-a5f5-9caa3f74920c",
        "colab": {
          "base_uri": "https://localhost:8080/",
          "height": 34
        }
      },
      "source": [
        "df_clean.shape"
      ],
      "execution_count": 0,
      "outputs": [
        {
          "output_type": "execute_result",
          "data": {
            "text/plain": [
              "(8212, 18)"
            ]
          },
          "metadata": {
            "tags": []
          },
          "execution_count": 60
        }
      ]
    },
    {
      "cell_type": "code",
      "metadata": {
        "id": "iwwXav4J61Hf",
        "colab_type": "code",
        "colab": {}
      },
      "source": [
        "df_clean['inv_by_famous_investor']=None"
      ],
      "execution_count": 0,
      "outputs": []
    },
    {
      "cell_type": "code",
      "metadata": {
        "id": "0JTzsNykDKVm",
        "colab_type": "code",
        "colab": {}
      },
      "source": [
        "df_clean['inv_by_famous_investor']=df_clean['inv_by_famous_investor'].fillna(0)"
      ],
      "execution_count": 0,
      "outputs": []
    },
    {
      "cell_type": "code",
      "metadata": {
        "id": "skx4fMBHCYqr",
        "colab_type": "code",
        "outputId": "49073cef-2ed2-4ab2-ff4d-71bc7552500f",
        "colab": {
          "base_uri": "https://localhost:8080/",
          "height": 102
        }
      },
      "source": [
        "famous_investor"
      ],
      "execution_count": 0,
      "outputs": [
        {
          "output_type": "execute_result",
          "data": {
            "text/plain": [
              "['Y Combinator',\n",
              " 'Startups',\n",
              " 'Plug and Play',\n",
              " 'Start-Up Chile',\n",
              " 'Alchemist Accelerator']"
            ]
          },
          "metadata": {
            "tags": []
          },
          "execution_count": 63
        }
      ]
    },
    {
      "cell_type": "code",
      "metadata": {
        "id": "0Xmg_Wev6ltb",
        "colab_type": "code",
        "outputId": "251f160b-1923-4f8d-8444-e009e52c377d",
        "colab": {
          "base_uri": "https://localhost:8080/",
          "height": 187
        }
      },
      "source": [
        "for inv_name in famous_investor:\n",
        "  print(inv_name)\n",
        "  for i in range(df_clean.shape[1]):     \n",
        "    if df_clean['Top5Investors'][i]==inv_name:\n",
        "      df_clean['inv_by_famous_investor'][i]=1\n",
        "    if  inv_name in df_clean['Top5Investors'][i]:\n",
        "      df_clean['inv_by_famous_investor'][i]=1"
      ],
      "execution_count": 0,
      "outputs": [
        {
          "output_type": "stream",
          "text": [
            "Y Combinator\n",
            "Startups\n",
            "Plug and Play\n",
            "Start-Up Chile\n",
            "Alchemist Accelerator\n"
          ],
          "name": "stdout"
        },
        {
          "output_type": "stream",
          "text": [
            "/usr/local/lib/python3.6/dist-packages/ipykernel_launcher.py:7: SettingWithCopyWarning: \n",
            "A value is trying to be set on a copy of a slice from a DataFrame\n",
            "\n",
            "See the caveats in the documentation: https://pandas.pydata.org/pandas-docs/stable/user_guide/indexing.html#returning-a-view-versus-a-copy\n",
            "  import sys\n"
          ],
          "name": "stderr"
        }
      ]
    },
    {
      "cell_type": "code",
      "metadata": {
        "id": "eLpZaDiKBU8B",
        "colab_type": "code",
        "colab": {}
      },
      "source": [
        "df_clean['inv_by_famous_investor']=df_clean['inv_by_famous_investor'].fillna(0)"
      ],
      "execution_count": 0,
      "outputs": []
    },
    {
      "cell_type": "code",
      "metadata": {
        "id": "lYOEPTF2A3kJ",
        "colab_type": "code",
        "outputId": "acba6458-3b5c-49ed-e831-9c8b824a78e5",
        "colab": {
          "base_uri": "https://localhost:8080/",
          "height": 68
        }
      },
      "source": [
        "df_clean['inv_by_famous_investor'].value_counts()"
      ],
      "execution_count": 0,
      "outputs": [
        {
          "output_type": "execute_result",
          "data": {
            "text/plain": [
              "0    8209\n",
              "1       3\n",
              "Name: inv_by_famous_investor, dtype: int64"
            ]
          },
          "metadata": {
            "tags": []
          },
          "execution_count": 66
        }
      ]
    },
    {
      "cell_type": "code",
      "metadata": {
        "id": "LiTGbk3RBGTP",
        "colab_type": "code",
        "outputId": "3459f170-a4c8-465f-94e9-350574f55feb",
        "colab": {
          "base_uri": "https://localhost:8080/",
          "height": 496
        }
      },
      "source": [
        "df_clean.head()"
      ],
      "execution_count": 0,
      "outputs": [
        {
          "output_type": "execute_result",
          "data": {
            "text/html": [
              "<div>\n",
              "<style scoped>\n",
              "    .dataframe tbody tr th:only-of-type {\n",
              "        vertical-align: middle;\n",
              "    }\n",
              "\n",
              "    .dataframe tbody tr th {\n",
              "        vertical-align: top;\n",
              "    }\n",
              "\n",
              "    .dataframe thead th {\n",
              "        text-align: right;\n",
              "    }\n",
              "</style>\n",
              "<table border=\"1\" class=\"dataframe\">\n",
              "  <thead>\n",
              "    <tr style=\"text-align: right;\">\n",
              "      <th></th>\n",
              "      <th>OrganizationName</th>\n",
              "      <th>BuiltWith-ActiveTechCount</th>\n",
              "      <th>EstimatedRevenueRange</th>\n",
              "      <th>FoundedDate</th>\n",
              "      <th>FoundedDatePrecision</th>\n",
              "      <th>FundingStatus</th>\n",
              "      <th>HeadquartersLocation</th>\n",
              "      <th>IPqwery-PatentsGranted</th>\n",
              "      <th>Industries</th>\n",
              "      <th>IndustryGroups</th>\n",
              "      <th>LastEquityFundingType</th>\n",
              "      <th>LastFundingDate</th>\n",
              "      <th>NumberofEmployees</th>\n",
              "      <th>NumberofFounders</th>\n",
              "      <th>NumberofFundingRounds</th>\n",
              "      <th>NumberofInvestors</th>\n",
              "      <th>NumberofLeadInvestors</th>\n",
              "      <th>Top5Investors</th>\n",
              "      <th>inv_by_famous_investor</th>\n",
              "    </tr>\n",
              "  </thead>\n",
              "  <tbody>\n",
              "    <tr>\n",
              "      <th>0</th>\n",
              "      <td>C. Light Technologies</td>\n",
              "      <td>11.0</td>\n",
              "      <td>NaN</td>\n",
              "      <td>9/1/14</td>\n",
              "      <td>month</td>\n",
              "      <td>Seed</td>\n",
              "      <td>Berkeley, California, United States</td>\n",
              "      <td>0.0</td>\n",
              "      <td>Health Care, Software</td>\n",
              "      <td>Health Care, Software</td>\n",
              "      <td>Pre-Seed</td>\n",
              "      <td>1/1/17</td>\n",
              "      <td>&lt;10</td>\n",
              "      <td>2.0</td>\n",
              "      <td>1</td>\n",
              "      <td>2.0</td>\n",
              "      <td>0.0</td>\n",
              "      <td>National Institutes of Health, C. Light Ventures</td>\n",
              "      <td>0</td>\n",
              "    </tr>\n",
              "    <tr>\n",
              "      <th>1</th>\n",
              "      <td>C1X</td>\n",
              "      <td>23.0</td>\n",
              "      <td>Less than $1M</td>\n",
              "      <td>1/1/14</td>\n",
              "      <td>year</td>\n",
              "      <td>Early Stage Venture</td>\n",
              "      <td>San Jose, California, United States</td>\n",
              "      <td>0.0</td>\n",
              "      <td>Advertising, E-Commerce, Internet</td>\n",
              "      <td>Advertising, Commerce and Shopping, Internet S...</td>\n",
              "      <td>Series B</td>\n",
              "      <td>10/12/16</td>\n",
              "      <td>51~100</td>\n",
              "      <td>2.0</td>\n",
              "      <td>2</td>\n",
              "      <td>5.0</td>\n",
              "      <td>2.0</td>\n",
              "      <td>UTEC- University of Tokyo Edge Capital, Mynavi...</td>\n",
              "      <td>0</td>\n",
              "    </tr>\n",
              "    <tr>\n",
              "      <th>2</th>\n",
              "      <td>C3</td>\n",
              "      <td>13.0</td>\n",
              "      <td>$10M+</td>\n",
              "      <td>1/1/09</td>\n",
              "      <td>year</td>\n",
              "      <td>Late Stage Venture</td>\n",
              "      <td>Redwood City, California, United States</td>\n",
              "      <td>0.0</td>\n",
              "      <td>Artificial Intelligence, Big Data, Cloud Compu...</td>\n",
              "      <td>Apps, Artificial Intelligence, Data and Analyt...</td>\n",
              "      <td>Series F</td>\n",
              "      <td>3/28/18</td>\n",
              "      <td>&gt;100</td>\n",
              "      <td>2.0</td>\n",
              "      <td>6</td>\n",
              "      <td>8.0</td>\n",
              "      <td>2.0</td>\n",
              "      <td>TPG Growth, Sutter Hill Ventures, The Rise Fun...</td>\n",
              "      <td>0</td>\n",
              "    </tr>\n",
              "    <tr>\n",
              "      <th>3</th>\n",
              "      <td>C3DNA</td>\n",
              "      <td>14.0</td>\n",
              "      <td>NaN</td>\n",
              "      <td>4/17/13</td>\n",
              "      <td>day</td>\n",
              "      <td>Seed</td>\n",
              "      <td>Cupertino, California, United States</td>\n",
              "      <td>5.0</td>\n",
              "      <td>Cloud Computing, Software</td>\n",
              "      <td>Internet Services, Software</td>\n",
              "      <td>Seed</td>\n",
              "      <td>10/1/14</td>\n",
              "      <td>11~50</td>\n",
              "      <td>2.0</td>\n",
              "      <td>1</td>\n",
              "      <td>0.0</td>\n",
              "      <td>0.0</td>\n",
              "      <td>none</td>\n",
              "      <td>0</td>\n",
              "    </tr>\n",
              "    <tr>\n",
              "      <th>4</th>\n",
              "      <td>C3Nano</td>\n",
              "      <td>31.0</td>\n",
              "      <td>$1M to $10M</td>\n",
              "      <td>1/1/10</td>\n",
              "      <td>year</td>\n",
              "      <td>Late Stage Venture</td>\n",
              "      <td>Hayward, California, United States</td>\n",
              "      <td>0.0</td>\n",
              "      <td>Clean Energy, Electronics, Manufacturing, Solar</td>\n",
              "      <td>Consumer Electronics, Energy, Hardware, Manufa...</td>\n",
              "      <td>Series D</td>\n",
              "      <td>2/22/17</td>\n",
              "      <td>11~50</td>\n",
              "      <td>1.0</td>\n",
              "      <td>4</td>\n",
              "      <td>6.0</td>\n",
              "      <td>3.0</td>\n",
              "      <td>GSR Ventures, Phoenix Venture Partners LLC, Ni...</td>\n",
              "      <td>0</td>\n",
              "    </tr>\n",
              "  </tbody>\n",
              "</table>\n",
              "</div>"
            ],
            "text/plain": [
              "        OrganizationName  BuiltWith-ActiveTechCount EstimatedRevenueRange  \\\n",
              "0  C. Light Technologies                       11.0                   NaN   \n",
              "1                    C1X                       23.0         Less than $1M   \n",
              "2                     C3                       13.0                 $10M+   \n",
              "3                  C3DNA                       14.0                   NaN   \n",
              "4                 C3Nano                       31.0           $1M to $10M   \n",
              "\n",
              "  FoundedDate FoundedDatePrecision        FundingStatus  \\\n",
              "0      9/1/14                month                 Seed   \n",
              "1      1/1/14                 year  Early Stage Venture   \n",
              "2      1/1/09                 year   Late Stage Venture   \n",
              "3     4/17/13                  day                 Seed   \n",
              "4      1/1/10                 year   Late Stage Venture   \n",
              "\n",
              "                      HeadquartersLocation  IPqwery-PatentsGranted  \\\n",
              "0      Berkeley, California, United States                     0.0   \n",
              "1      San Jose, California, United States                     0.0   \n",
              "2  Redwood City, California, United States                     0.0   \n",
              "3     Cupertino, California, United States                     5.0   \n",
              "4       Hayward, California, United States                     0.0   \n",
              "\n",
              "                                          Industries  \\\n",
              "0                              Health Care, Software   \n",
              "1                  Advertising, E-Commerce, Internet   \n",
              "2  Artificial Intelligence, Big Data, Cloud Compu...   \n",
              "3                          Cloud Computing, Software   \n",
              "4    Clean Energy, Electronics, Manufacturing, Solar   \n",
              "\n",
              "                                      IndustryGroups LastEquityFundingType  \\\n",
              "0                              Health Care, Software              Pre-Seed   \n",
              "1  Advertising, Commerce and Shopping, Internet S...              Series B   \n",
              "2  Apps, Artificial Intelligence, Data and Analyt...              Series F   \n",
              "3                        Internet Services, Software                  Seed   \n",
              "4  Consumer Electronics, Energy, Hardware, Manufa...              Series D   \n",
              "\n",
              "  LastFundingDate NumberofEmployees  NumberofFounders  NumberofFundingRounds  \\\n",
              "0          1/1/17               <10               2.0                      1   \n",
              "1        10/12/16            51~100               2.0                      2   \n",
              "2         3/28/18              >100               2.0                      6   \n",
              "3         10/1/14             11~50               2.0                      1   \n",
              "4         2/22/17             11~50               1.0                      4   \n",
              "\n",
              "   NumberofInvestors  NumberofLeadInvestors  \\\n",
              "0                2.0                    0.0   \n",
              "1                5.0                    2.0   \n",
              "2                8.0                    2.0   \n",
              "3                0.0                    0.0   \n",
              "4                6.0                    3.0   \n",
              "\n",
              "                                       Top5Investors  inv_by_famous_investor  \n",
              "0   National Institutes of Health, C. Light Ventures                       0  \n",
              "1  UTEC- University of Tokyo Edge Capital, Mynavi...                       0  \n",
              "2  TPG Growth, Sutter Hill Ventures, The Rise Fun...                       0  \n",
              "3                                               none                       0  \n",
              "4  GSR Ventures, Phoenix Venture Partners LLC, Ni...                       0  "
            ]
          },
          "metadata": {
            "tags": []
          },
          "execution_count": 67
        }
      ]
    },
    {
      "cell_type": "code",
      "metadata": {
        "id": "8Nm1ZqIs4J_I",
        "colab_type": "code",
        "outputId": "d3ebfec9-635d-4b8b-aa24-3abf4e29afd6",
        "colab": {
          "base_uri": "https://localhost:8080/",
          "height": 459
        }
      },
      "source": [
        "df_clean.info()"
      ],
      "execution_count": 0,
      "outputs": [
        {
          "output_type": "stream",
          "text": [
            "<class 'pandas.core.frame.DataFrame'>\n",
            "Int64Index: 8212 entries, 0 to 8447\n",
            "Data columns (total 19 columns):\n",
            " #   Column                     Non-Null Count  Dtype  \n",
            "---  ------                     --------------  -----  \n",
            " 0   OrganizationName           8212 non-null   object \n",
            " 1   BuiltWith-ActiveTechCount  8212 non-null   float64\n",
            " 2   EstimatedRevenueRange      4330 non-null   object \n",
            " 3   FoundedDate                8212 non-null   object \n",
            " 4   FoundedDatePrecision       8212 non-null   object \n",
            " 5   FundingStatus              8212 non-null   object \n",
            " 6   HeadquartersLocation       8212 non-null   object \n",
            " 7   IPqwery-PatentsGranted     8212 non-null   float64\n",
            " 8   Industries                 8141 non-null   object \n",
            " 9   IndustryGroups             8122 non-null   object \n",
            " 10  LastEquityFundingType      8212 non-null   object \n",
            " 11  LastFundingDate            8212 non-null   object \n",
            " 12  NumberofEmployees          7184 non-null   object \n",
            " 13  NumberofFounders           8212 non-null   float64\n",
            " 14  NumberofFundingRounds      8212 non-null   int64  \n",
            " 15  NumberofInvestors          8212 non-null   float64\n",
            " 16  NumberofLeadInvestors      8212 non-null   float64\n",
            " 17  Top5Investors              8212 non-null   object \n",
            " 18  inv_by_famous_investor     8212 non-null   int64  \n",
            "dtypes: float64(5), int64(2), object(12)\n",
            "memory usage: 1.6+ MB\n"
          ],
          "name": "stdout"
        }
      ]
    },
    {
      "cell_type": "code",
      "metadata": {
        "id": "ZFno10Pwu67y",
        "colab_type": "code",
        "outputId": "8a469e28-1a82-405a-9b35-e66a8b9922f5",
        "colab": {
          "base_uri": "https://localhost:8080/",
          "height": 221
        }
      },
      "source": [
        "cat_columns_map2=get_cat_columns(df_clean)\n",
        "report_cluster2=get_report_cluster(cat_columns_map2)\n",
        "report_cluster2"
      ],
      "execution_count": 0,
      "outputs": [
        {
          "output_type": "execute_result",
          "data": {
            "text/plain": [
              "{3: ['FundingStatus'],\n",
              " 4: ['FoundedDatePrecision'],\n",
              " 9: ['EstimatedRevenueRange'],\n",
              " 10: ['NumberofEmployees'],\n",
              " 12: ['LastEquityFundingType'],\n",
              " 98: ['HeadquartersLocation'],\n",
              " 1429: ['FoundedDate'],\n",
              " 2851: ['LastFundingDate'],\n",
              " 3182: ['IndustryGroups'],\n",
              " 5756: ['Top5Investors'],\n",
              " 7070: ['Industries'],\n",
              " 8312: ['OrganizationName']}"
            ]
          },
          "metadata": {
            "tags": []
          },
          "execution_count": 69
        }
      ]
    },
    {
      "cell_type": "code",
      "metadata": {
        "id": "_igPQ9NRuBdg",
        "colab_type": "code",
        "outputId": "50a609c5-a0a6-4fb3-e40d-746cd4f0431f",
        "colab": {
          "base_uri": "https://localhost:8080/",
          "height": 130
        }
      },
      "source": [
        "df_clean[]"
      ],
      "execution_count": 0,
      "outputs": [
        {
          "output_type": "error",
          "ename": "SyntaxError",
          "evalue": "ignored",
          "traceback": [
            "\u001b[0;36m  File \u001b[0;32m\"<ipython-input-70-41fdaf82c4e5>\"\u001b[0;36m, line \u001b[0;32m1\u001b[0m\n\u001b[0;31m    df_clean[]\u001b[0m\n\u001b[0m             ^\u001b[0m\n\u001b[0;31mSyntaxError\u001b[0m\u001b[0;31m:\u001b[0m invalid syntax\n"
          ]
        }
      ]
    },
    {
      "cell_type": "markdown",
      "metadata": {
        "id": "12yrC9s7-Vz7",
        "colab_type": "text"
      },
      "source": [
        "##Get the Business type of companies by the Industries"
      ]
    },
    {
      "cell_type": "markdown",
      "metadata": {
        "id": "RTYQ0nvE1FEu",
        "colab_type": "text"
      },
      "source": [
        "> The time it takes for a startup to exit depends on the industry.\n",
        "\n"
      ]
    },
    {
      "cell_type": "code",
      "metadata": {
        "id": "PsUUWsAY-Vz7",
        "colab_type": "code",
        "colab": {}
      },
      "source": [
        "#df.columns"
      ],
      "execution_count": 0,
      "outputs": []
    },
    {
      "cell_type": "code",
      "metadata": {
        "id": "_OKdpGN7-Vz-",
        "colab_type": "code",
        "colab": {}
      },
      "source": [
        "df = pd.DataFrame(df)"
      ],
      "execution_count": 0,
      "outputs": []
    },
    {
      "cell_type": "code",
      "metadata": {
        "id": "_Quasd57-V0B",
        "colab_type": "code",
        "colab": {}
      },
      "source": [
        "df_new = df[['Industries']]"
      ],
      "execution_count": 0,
      "outputs": []
    },
    {
      "cell_type": "code",
      "metadata": {
        "id": "ZO_2bZ4X-V0D",
        "colab_type": "code",
        "colab": {}
      },
      "source": [
        "df_new['Industries'] = df_new['Industries'].astype(str)"
      ],
      "execution_count": 0,
      "outputs": []
    },
    {
      "cell_type": "code",
      "metadata": {
        "id": "2xeBht16-V0G",
        "colab_type": "code",
        "colab": {}
      },
      "source": [
        "for i in range(len(df['Industries'])):\n",
        "    af = df_new['Industries'].iloc[i]\n",
        "    bf = af.split(',',1)[0]\n",
        "    cf = bf.lower() \n",
        "    df_new['Industries'].iloc[i] = cf"
      ],
      "execution_count": 0,
      "outputs": []
    },
    {
      "cell_type": "code",
      "metadata": {
        "id": "QshlqgQd-V0K",
        "colab_type": "code",
        "colab": {}
      },
      "source": [
        "#df_new"
      ],
      "execution_count": 0,
      "outputs": []
    },
    {
      "cell_type": "code",
      "metadata": {
        "id": "vxj21JiY-V0N",
        "colab_type": "code",
        "colab": {}
      },
      "source": [
        "df['Buessiness'] = df_new['Industries']"
      ],
      "execution_count": 0,
      "outputs": []
    },
    {
      "cell_type": "code",
      "metadata": {
        "id": "Q5BwXNnJ-V0P",
        "colab_type": "code",
        "colab": {}
      },
      "source": [
        "df.Buessiness.value_counts()"
      ],
      "execution_count": 0,
      "outputs": []
    },
    {
      "cell_type": "code",
      "metadata": {
        "id": "HbMWQwUG-V0R",
        "colab_type": "code",
        "colab": {}
      },
      "source": [
        "df.columns"
      ],
      "execution_count": 0,
      "outputs": []
    },
    {
      "cell_type": "code",
      "metadata": {
        "id": "Dq8Evn-IEp2o",
        "colab_type": "code",
        "colab": {}
      },
      "source": [
        ""
      ],
      "execution_count": 0,
      "outputs": []
    },
    {
      "cell_type": "code",
      "metadata": {
        "id": "L3jwAsaSEp5Z",
        "colab_type": "code",
        "colab": {}
      },
      "source": [
        ""
      ],
      "execution_count": 0,
      "outputs": []
    },
    {
      "cell_type": "code",
      "metadata": {
        "id": "I6NpYz_TEp8K",
        "colab_type": "code",
        "colab": {}
      },
      "source": [
        ""
      ],
      "execution_count": 0,
      "outputs": []
    },
    {
      "cell_type": "code",
      "metadata": {
        "id": "zJOsc8OdEp-t",
        "colab_type": "code",
        "colab": {}
      },
      "source": [
        ""
      ],
      "execution_count": 0,
      "outputs": []
    },
    {
      "cell_type": "code",
      "metadata": {
        "id": "d4N3JI9K-V0T",
        "colab_type": "code",
        "colab": {}
      },
      "source": [
        "df.FoundedDate = pd.to_datetime(df.loc[:, 'FoundedDate'])"
      ],
      "execution_count": 0,
      "outputs": []
    },
    {
      "cell_type": "code",
      "metadata": {
        "id": "syp_HVn8-V0X",
        "colab_type": "code",
        "colab": {}
      },
      "source": [
        "#df.info()"
      ],
      "execution_count": 0,
      "outputs": []
    },
    {
      "cell_type": "code",
      "metadata": {
        "id": "F__Eob3W-V0a",
        "colab_type": "code",
        "colab": {}
      },
      "source": [
        "df.sort_values(by=['OrganizationName', 'FoundedDate'],\n",
        "                            ascending=True,\n",
        "                            inplace=True)"
      ],
      "execution_count": 0,
      "outputs": []
    },
    {
      "cell_type": "code",
      "metadata": {
        "id": "Q42MrSfs-V0d",
        "colab_type": "code",
        "colab": {}
      },
      "source": [
        "df['time_between_next_round'] = df.groupby(\n",
        "    'OrganizationName').FoundedDate.diff()"
      ],
      "execution_count": 0,
      "outputs": []
    },
    {
      "cell_type": "code",
      "metadata": {
        "id": "Q8oviT_V-V0f",
        "colab_type": "code",
        "colab": {}
      },
      "source": [
        "#df['time_between_next_round']"
      ],
      "execution_count": 0,
      "outputs": []
    },
    {
      "cell_type": "markdown",
      "metadata": {
        "id": "TRzD9XIE-V0T",
        "colab_type": "text"
      },
      "source": [
        "# Todo3: get the features X of the model"
      ]
    },
    {
      "cell_type": "markdown",
      "metadata": {
        "id": "XdEgKDXg-V0h",
        "colab_type": "text"
      },
      "source": [
        "Choose the X columns as the features"
      ]
    },
    {
      "cell_type": "code",
      "metadata": {
        "id": "EGTe8awhS7PD",
        "colab_type": "code",
        "colab": {}
      },
      "source": [
        ""
      ],
      "execution_count": 0,
      "outputs": []
    },
    {
      "cell_type": "code",
      "metadata": {
        "id": "TIWRAgyYS7Vz",
        "colab_type": "code",
        "colab": {}
      },
      "source": [
        ""
      ],
      "execution_count": 0,
      "outputs": []
    },
    {
      "cell_type": "code",
      "metadata": {
        "id": "RBHcKnCpS7Yb",
        "colab_type": "code",
        "colab": {}
      },
      "source": [
        ""
      ],
      "execution_count": 0,
      "outputs": []
    },
    {
      "cell_type": "code",
      "metadata": {
        "id": "f4DYzQT8S7a4",
        "colab_type": "code",
        "colab": {}
      },
      "source": [
        "#merge business into the X features\n",
        "bus_dummies = pd.get_dummies(df['Buessiness'], drop_first=True)\n"
      ],
      "execution_count": 0,
      "outputs": []
    },
    {
      "cell_type": "code",
      "metadata": {
        "id": "Mq112UdR-V0h",
        "colab_type": "code",
        "colab": {}
      },
      "source": [
        "X_col_nodummies = [\n",
        "    'BuiltWith-ActiveTechCount', 'IPqwery-PatentsGranted', 'NumberofInvestors',\n",
        "    'NumberofFundingRounds'#,'TotalFundingAmountCurrency'\n",
        "]\n",
        "#cannot import LastEquityFundingAmountCurrency(inUSD), features with (inUSD)\n",
        "X_nodummies = df[X_col_nodummies]"
      ],
      "execution_count": 0,
      "outputs": []
    },
    {
      "cell_type": "code",
      "metadata": {
        "id": "RhXwDU7DTQ1q",
        "colab_type": "code",
        "colab": {}
      },
      "source": [
        "X = X_nodummies.merge(bus_dummies, left_index=True, right_index=True)"
      ],
      "execution_count": 0,
      "outputs": []
    },
    {
      "cell_type": "code",
      "metadata": {
        "id": "ZNrMptYTTQ43",
        "colab_type": "code",
        "colab": {}
      },
      "source": [
        ""
      ],
      "execution_count": 0,
      "outputs": []
    },
    {
      "cell_type": "markdown",
      "metadata": {
        "id": "iWlrKRYJ-V0j",
        "colab_type": "text"
      },
      "source": [
        "And clean the columns change all NAN to 0"
      ]
    },
    {
      "cell_type": "code",
      "metadata": {
        "id": "j1-EQ7vA-V0j",
        "colab_type": "code",
        "colab": {}
      },
      "source": [
        "df['NumberofInvestors'] = df['NumberofInvestors'].replace(np.nan, 0)\n",
        "df['BuiltWith-ActiveTechCount'] = df['BuiltWith-ActiveTechCount'].replace(np.nan, 0)\n",
        "df['IPqwery-PatentsGranted'] = df['IPqwery-PatentsGranted'].replace(np.nan, 0)\n",
        "df['NumberofFundingRounds'] = df['NumberofFundingRounds'].replace(np.nan, 0)"
      ],
      "execution_count": 0,
      "outputs": []
    },
    {
      "cell_type": "code",
      "metadata": {
        "id": "HMXC1gZF-V0l",
        "colab_type": "code",
        "colab": {}
      },
      "source": [
        "#df.info()"
      ],
      "execution_count": 0,
      "outputs": []
    },
    {
      "cell_type": "markdown",
      "metadata": {
        "id": "lr5TSnDeGCUd",
        "colab_type": "text"
      },
      "source": [
        "# **X and Y values**"
      ]
    },
    {
      "cell_type": "code",
      "metadata": {
        "id": "coUQNEma-V0n",
        "colab_type": "code",
        "colab": {}
      },
      "source": [
        "X_nodummies = df[X_col_nodummies]\n",
        "X = X_nodummies\n",
        "X['intercept'] = 1"
      ],
      "execution_count": 0,
      "outputs": []
    },
    {
      "cell_type": "code",
      "metadata": {
        "id": "QA2skuiXTkjl",
        "colab_type": "code",
        "colab": {}
      },
      "source": [
        "#X['intercept']"
      ],
      "execution_count": 0,
      "outputs": []
    },
    {
      "cell_type": "code",
      "metadata": {
        "id": "3vzwSS4F-V0r",
        "colab_type": "code",
        "colab": {}
      },
      "source": [
        "y = df.Status_new"
      ],
      "execution_count": 0,
      "outputs": []
    },
    {
      "cell_type": "markdown",
      "metadata": {
        "id": "uhwBGLWW-V0u",
        "colab_type": "text"
      },
      "source": [
        "Target values "
      ]
    },
    {
      "cell_type": "code",
      "metadata": {
        "id": "Wro4PzpL-V0v",
        "colab_type": "code",
        "colab": {}
      },
      "source": [
        "\n",
        "# Count target values\n",
        "target_count = y.value_counts()\n",
        "\n",
        "# # print class balance\n",
        "print(f'Class 0: {target_count[0]}')\n",
        "print(f'Class 1: {target_count[1]}')\n",
        "print(f'Proportion: {round(target_count[0] / target_count[1], 2)} : 1')\n",
        "print('Percentage of Majority Class: {:f}'.format(\n",
        "    round(target_count[0] / sum(target_count), 4) * 100))"
      ],
      "execution_count": 0,
      "outputs": []
    },
    {
      "cell_type": "code",
      "metadata": {
        "id": "gmDz7V5y-V0x",
        "colab_type": "code",
        "colab": {}
      },
      "source": [
        "target_count"
      ],
      "execution_count": 0,
      "outputs": []
    },
    {
      "cell_type": "markdown",
      "metadata": {
        "id": "1gTHZosO-V0z",
        "colab_type": "text"
      },
      "source": [
        "# **TODO3: Modeling Part**\n",
        "\n"
      ]
    },
    {
      "cell_type": "markdown",
      "metadata": {
        "id": "439Fx4ANF3oy",
        "colab_type": "text"
      },
      "source": [
        "# **GMM**"
      ]
    },
    {
      "cell_type": "code",
      "metadata": {
        "id": "6wQ3d_ViF4pr",
        "colab_type": "code",
        "colab": {}
      },
      "source": [
        ""
      ],
      "execution_count": 0,
      "outputs": []
    },
    {
      "cell_type": "markdown",
      "metadata": {
        "id": "DD1h33cOF4Fp",
        "colab_type": "text"
      },
      "source": [
        "# **Data Split**"
      ]
    },
    {
      "cell_type": "code",
      "metadata": {
        "id": "PKXgyJAN-V0z",
        "colab_type": "code",
        "colab": {}
      },
      "source": [
        "# Split the data with 80% to train and 20% to test\n",
        "# Stratify to ensure train and test sets have \n",
        "# similar proportions of either target class\n",
        "X_train, X_test, y_train, y_test = train_test_split(X,\n",
        "                                                    y,\n",
        "                                                    test_size=0.2,\n",
        "                                                    random_state=40,\n",
        "                                                    stratify=y)"
      ],
      "execution_count": 0,
      "outputs": []
    },
    {
      "cell_type": "code",
      "metadata": {
        "id": "UDpFPz2X-V02",
        "colab_type": "code",
        "colab": {}
      },
      "source": [
        "# Standardize the data\n",
        "\n",
        "scaler = StandardScaler()\n",
        "\n",
        "# Fit the scaler using the training data and scale it\n",
        "X_train_scaled = pd.DataFrame(scaler.fit_transform(X_train.values),\n",
        "                              columns=X.columns)\n",
        "\n",
        "# Scale the test data\n",
        "X_test_scaled = pd.DataFrame(scaler.transform(X_test.values),\n",
        "                             columns=X.columns)"
      ],
      "execution_count": 0,
      "outputs": []
    },
    {
      "cell_type": "markdown",
      "metadata": {
        "id": "hD0f25Nm-V04",
        "colab_type": "text"
      },
      "source": [
        "## **Logistic Regression**"
      ]
    },
    {
      "cell_type": "code",
      "metadata": {
        "id": "VZu71ytY-V04",
        "colab_type": "code",
        "colab": {}
      },
      "source": [
        "\n",
        "# Instantiate model\n",
        "logreg = LogisticRegression(C=10, solver='lbfgs')\n",
        "\n",
        "# Fit model to the training data\n",
        "logreg.fit(X_train_scaled, y_train)\n",
        "\n",
        "# Pickle this for later\n",
        "joblib.dump(logreg, 'logreg.pkl')"
      ],
      "execution_count": 0,
      "outputs": []
    },
    {
      "cell_type": "code",
      "metadata": {
        "id": "i0qyzs1n-V06",
        "colab_type": "code",
        "colab": {}
      },
      "source": [
        "\n",
        "# Calculate ROC curve for logistic regression\n",
        "#fpr_lr, tpr_lr, thresholds_lr = roc_curve(y_test,logreg.predict_proba(X_test_scaled)[:, 1])\n",
        "# Calculate area under the curve (AUC) for ROC\n",
        "#auc_lr = roc_auc_score(y_test, logreg.predict_proba(X_test_scaled)[:, 1])"
      ],
      "execution_count": 0,
      "outputs": []
    },
    {
      "cell_type": "code",
      "metadata": {
        "id": "485Xy_xp-V09",
        "colab_type": "code",
        "colab": {}
      },
      "source": [
        "\n",
        "def fbeta(model, y_test=y_test, X_test=X_test_scaled):\n",
        "    \"\"\"\n",
        "    Calculate the probability threshold that yields the highest f_beta value\n",
        "    input: fitted model, y_test, X_test\n",
        "    \"\"\"\n",
        "    prob_thresholds = np.arange(0, 1, 0.005)\n",
        "    fbeta = []\n",
        "    for prob in prob_thresholds:\n",
        "        fbeta.append(\n",
        "            fbeta_score(y_test,\n",
        "                        model.predict_proba(X_test)[:, 1] > prob, 3))\n",
        "    all_fbeta = list(zip(prob_thresholds, fbeta))\n",
        "    best_fbeta = max(list(zip(prob_thresholds, fbeta)), key=lambda x: x[1])\n",
        "    print(\n",
        "        'Probability that yields the best fbeta score is {} with fbeta={:5f}'.\n",
        "        format(best_fbeta[0], best_fbeta[1]))\n",
        "    return all_fbeta, best_fbeta"
      ],
      "execution_count": 0,
      "outputs": []
    },
    {
      "cell_type": "code",
      "metadata": {
        "id": "SecedPoY-V1A",
        "colab_type": "code",
        "colab": {}
      },
      "source": [
        "# Calculate fbeta for logistic regression\n",
        "#all_fbeta_lr, best_fbeta_lr = fbeta(logreg, X_test=X_test_scaled)\n",
        "#p_thresh = best_fbeta_lr[0]"
      ],
      "execution_count": 0,
      "outputs": []
    },
    {
      "cell_type": "markdown",
      "metadata": {
        "id": "81TYzTiEEt9P",
        "colab_type": "text"
      },
      "source": [
        "## **KNN**"
      ]
    },
    {
      "cell_type": "code",
      "metadata": {
        "id": "y3lLaDwl-V1E",
        "colab_type": "code",
        "colab": {}
      },
      "source": [
        "\n",
        "# Instantiate Model\n",
        "knn = KNeighborsClassifier(n_neighbors=5)\n",
        "\n",
        "# Fit Model\n",
        "knn.fit(X_train_scaled, y_train)"
      ],
      "execution_count": 0,
      "outputs": []
    },
    {
      "cell_type": "code",
      "metadata": {
        "id": "oVi7j4zI-V1G",
        "colab_type": "code",
        "colab": {}
      },
      "source": [
        "# Calculate fbeta for KNN\n",
        "#all_fbeta_knn, best_fbeta_knn = fbeta(knn,\n",
        "#                                      X_test=X_test_scaled)  # scaled for knn\n",
        "\n",
        "# Calculate ROC Score and AUC for knn\n",
        "#fpr_knn, tpr_knn, thresholds_knn = roc_curve(\n",
        "#    y_test,\n",
        "#    knn.predict_proba(X_test_scaled)[:, 1])  # scaled for knn\n",
        "#auc_knn = roc_auc_score(\n",
        "#    y_test,\n",
        "#    knn.predict_proba(X_test_scaled)[:, 1])  # scaled for knn"
      ],
      "execution_count": 0,
      "outputs": []
    },
    {
      "cell_type": "code",
      "metadata": {
        "id": "R94U4Fe8-V1I",
        "colab_type": "code",
        "colab": {}
      },
      "source": [
        ""
      ],
      "execution_count": 0,
      "outputs": []
    },
    {
      "cell_type": "markdown",
      "metadata": {
        "id": "tQ69vTaZE3Yo",
        "colab_type": "text"
      },
      "source": [
        "## **Naives Bayes**"
      ]
    },
    {
      "cell_type": "code",
      "metadata": {
        "id": "9fWwoQG_FP4X",
        "colab_type": "code",
        "colab": {}
      },
      "source": [
        "nbb = BernoulliNB()\n",
        "nbb.fit(X_train_scaled, y_train)"
      ],
      "execution_count": 0,
      "outputs": []
    },
    {
      "cell_type": "markdown",
      "metadata": {
        "id": "Uw93EQlPE3fP",
        "colab_type": "text"
      },
      "source": [
        "# **SVM**"
      ]
    },
    {
      "cell_type": "code",
      "metadata": {
        "id": "EY2ufeziFQYz",
        "colab_type": "code",
        "colab": {}
      },
      "source": [
        "svm_model = svm.SVC(kernel=\"linear\", probability=True)\n",
        "svm_model.fit(X_train_scaled, y_train)"
      ],
      "execution_count": 0,
      "outputs": []
    },
    {
      "cell_type": "markdown",
      "metadata": {
        "id": "J0unpxXPE3lE",
        "colab_type": "text"
      },
      "source": [
        "# **XGB**"
      ]
    },
    {
      "cell_type": "code",
      "metadata": {
        "id": "_n-c__tX-V1K",
        "colab_type": "code",
        "colab": {}
      },
      "source": [
        "xgb = XGBClassifier()\n",
        "xgb.fit(X_train, y_train)"
      ],
      "execution_count": 0,
      "outputs": []
    },
    {
      "cell_type": "markdown",
      "metadata": {
        "id": "jwk9la4NFRHl",
        "colab_type": "text"
      },
      "source": [
        "# **Random Forest**"
      ]
    },
    {
      "cell_type": "code",
      "metadata": {
        "id": "Obi_whkzFVjY",
        "colab_type": "code",
        "colab": {}
      },
      "source": [
        "# Instantiate Model\n",
        "rf = RandomForestClassifier(n_estimators=500,\n",
        "                            bootstrap=True,\n",
        "                            oob_score=True,\n",
        "                            random_state=1234,\n",
        "                            n_jobs=-1)\n",
        "\n",
        "# fit\n",
        "rf.fit(X_train, y_train)"
      ],
      "execution_count": 0,
      "outputs": []
    },
    {
      "cell_type": "markdown",
      "metadata": {
        "id": "iYnAz_L9Ff0R",
        "colab_type": "text"
      },
      "source": [
        "# **Decision Tree**\n",
        "\n",
        "use the column['Business'] ['target'] ['    '] to see if business type is important or not"
      ]
    },
    {
      "cell_type": "code",
      "metadata": {
        "id": "Xt6F04beFjAu",
        "colab_type": "code",
        "colab": {}
      },
      "source": [
        "#regr = tree.DecisionTreeRegressor(max_depth=2)\n",
        "#regr.fit(boston.data, boston.target)\n",
        "\n",
        "#viz = dtreeviz(regr,\n",
        "#               boston.data,\n",
        "#               boston.target,\n",
        "#               target_name='price',\n",
        "#               feature_names=boston.feature_names)\n",
        "              \n",
        "#viz.view()   "
      ],
      "execution_count": 0,
      "outputs": []
    },
    {
      "cell_type": "markdown",
      "metadata": {
        "id": "WJbMJopAFqJn",
        "colab_type": "text"
      },
      "source": [
        "## **KMeans**"
      ]
    },
    {
      "cell_type": "code",
      "metadata": {
        "id": "JSt_JhZHFsh1",
        "colab_type": "code",
        "colab": {}
      },
      "source": [
        ""
      ],
      "execution_count": 0,
      "outputs": []
    },
    {
      "cell_type": "markdown",
      "metadata": {
        "id": "sDVHTvPbHlbF",
        "colab_type": "text"
      },
      "source": [
        "# **Model Comparison & Conclusion**"
      ]
    },
    {
      "cell_type": "code",
      "metadata": {
        "id": "7S5driSZHqk3",
        "colab_type": "code",
        "colab": {}
      },
      "source": [
        ""
      ],
      "execution_count": 0,
      "outputs": []
    }
  ]
}