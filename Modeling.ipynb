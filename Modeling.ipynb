{
  "nbformat": 4,
  "nbformat_minor": 0,
  "metadata": {
    "kernelspec": {
      "display_name": "Python 3",
      "language": "python",
      "name": "python3"
    },
    "language_info": {
      "codemirror_mode": {
        "name": "ipython",
        "version": 3
      },
      "file_extension": ".py",
      "mimetype": "text/x-python",
      "name": "python",
      "nbconvert_exporter": "python",
      "pygments_lexer": "ipython3",
      "version": "3.7.1"
    },
    "colab": {
      "name": "Modeling.ipynb",
      "provenance": [],
      "collapsed_sections": [],
      "toc_visible": true,
      "include_colab_link": true
    }
  },
  "cells": [
    {
      "cell_type": "markdown",
      "metadata": {
        "id": "view-in-github",
        "colab_type": "text"
      },
      "source": [
        "<a href=\"https://colab.research.google.com/github/FatherOfLove/257ML/blob/master/Modeling.ipynb\" target=\"_parent\"><img src=\"https://colab.research.google.com/assets/colab-badge.svg\" alt=\"Open In Colab\"/></a>"
      ]
    },
    {
      "cell_type": "code",
      "metadata": {
        "id": "JSvhT_9n-Vzm",
        "colab_type": "code",
        "outputId": "b2f3e97a-e92a-4957-d2a7-e516108a658c",
        "colab": {
          "base_uri": "https://localhost:8080/",
          "height": 109
        }
      },
      "source": [
        "import numpy as np\n",
        "import pandas as pd# Data and Numbers\n",
        "import pandas as pd\n",
        "import numpy as np\n",
        "import datetime as dt\n",
        "import statsmodels.api as sm\n",
        "\n",
        "# Modeling\n",
        "from sklearn.neighbors import KNeighborsClassifier\n",
        "from sklearn.linear_model import LogisticRegression, LogisticRegressionCV\n",
        "from sklearn.model_selection import train_test_split, StratifiedKFold, GridSearchCV\n",
        "from sklearn.metrics import precision_score, recall_score,\\\n",
        "precision_recall_curve,f1_score, fbeta_score,\\\n",
        "accuracy_score, confusion_matrix, roc_auc_score, roc_curve\n",
        "from sklearn.naive_bayes import BernoulliNB, GaussianNB\n",
        "from sklearn.tree import DecisionTreeClassifier\n",
        "from sklearn.ensemble import BaggingClassifier, RandomForestClassifier\n",
        "from sklearn import svm\n",
        "from sklearn.svm import LinearSVC, SVC\n",
        "from sklearn.preprocessing import StandardScaler\n",
        "from sklearn.externals.six import StringIO\n",
        "from xgboost import XGBClassifier\n",
        "\n",
        "# Saving\n",
        "import joblib\n",
        "import pickle\n",
        "\n",
        "# Plotting\n",
        "import matplotlib.pyplot as plt\n",
        "import seaborn as sns\n",
        "from IPython.display import Image\n",
        "import pydotplus\n",
        "from sklearn.tree import export_graphviz\n",
        "%matplotlib inline\n",
        "from matplotlib import rcParams\n",
        "\n",
        "from sklearn.preprocessing import LabelEncoder\n",
        "from collections import defaultdict"
      ],
      "execution_count": 0,
      "outputs": [
        {
          "output_type": "stream",
          "text": [
            "/usr/local/lib/python3.6/dist-packages/statsmodels/tools/_testing.py:19: FutureWarning: pandas.util.testing is deprecated. Use the functions in the public API at pandas.testing instead.\n",
            "  import pandas.util.testing as tm\n",
            "/usr/local/lib/python3.6/dist-packages/sklearn/externals/six.py:31: FutureWarning: The module is deprecated in version 0.21 and will be removed in version 0.23 since we've dropped support for Python 2.7. Please rely on the official version of six (https://pypi.org/project/six/).\n",
            "  \"(https://pypi.org/project/six/).\", FutureWarning)\n"
          ],
          "name": "stderr"
        }
      ]
    },
    {
      "cell_type": "markdown",
      "metadata": {
        "id": "UuNaUkeo-rwV",
        "colab_type": "text"
      },
      "source": [
        "## **Import Datasets**"
      ]
    },
    {
      "cell_type": "code",
      "metadata": {
        "id": "DW9rPjw8-q6O",
        "colab_type": "code",
        "outputId": "81b3f8b4-df5c-4c51-9612-0e594aee6f8a",
        "colab": {
          "base_uri": "https://localhost:8080/",
          "height": 127
        }
      },
      "source": [
        "from google.colab import drive\n",
        "drive.mount('/content/drive')"
      ],
      "execution_count": 0,
      "outputs": [
        {
          "output_type": "stream",
          "text": [
            "Go to this URL in a browser: https://accounts.google.com/o/oauth2/auth?client_id=947318989803-6bn6qk8qdgf4n4g3pfee6491hc0brc4i.apps.googleusercontent.com&redirect_uri=urn%3aietf%3awg%3aoauth%3a2.0%3aoob&response_type=code&scope=email%20https%3a%2f%2fwww.googleapis.com%2fauth%2fdocs.test%20https%3a%2f%2fwww.googleapis.com%2fauth%2fdrive%20https%3a%2f%2fwww.googleapis.com%2fauth%2fdrive.photos.readonly%20https%3a%2f%2fwww.googleapis.com%2fauth%2fpeopleapi.readonly\n",
            "\n",
            "Enter your authorization code:\n",
            "··········\n",
            "Mounted at /content/drive\n"
          ],
          "name": "stdout"
        }
      ]
    },
    {
      "cell_type": "code",
      "metadata": {
        "id": "kkywI5XL-Vzq",
        "colab_type": "code",
        "colab": {}
      },
      "source": [
        "df = pd.read_csv(\"/content/drive/My Drive/MLSpring2020/AIInsight_CrunchbasePrediction/Datasets/crunchbase/newdata.csv\",encoding= 'unicode_escape')"
      ],
      "execution_count": 0,
      "outputs": []
    },
    {
      "cell_type": "code",
      "metadata": {
        "id": "Gk7zszyY-Vzt",
        "colab_type": "code",
        "colab": {}
      },
      "source": [
        "#df.head()"
      ],
      "execution_count": 0,
      "outputs": []
    },
    {
      "cell_type": "code",
      "metadata": {
        "id": "SgGtYzEc-Vzw",
        "colab_type": "code",
        "outputId": "00136527-dd41-4376-82c5-2c84ffcdd8f4",
        "colab": {
          "base_uri": "https://localhost:8080/",
          "height": 35
        }
      },
      "source": [
        "df.shape"
      ],
      "execution_count": 0,
      "outputs": [
        {
          "output_type": "execute_result",
          "data": {
            "text/plain": [
              "(8448, 50)"
            ]
          },
          "metadata": {
            "tags": []
          },
          "execution_count": 5
        }
      ]
    },
    {
      "cell_type": "code",
      "metadata": {
        "id": "ma-FQtNm-Vzz",
        "colab_type": "code",
        "colab": {}
      },
      "source": [
        "#df.info()"
      ],
      "execution_count": 0,
      "outputs": []
    },
    {
      "cell_type": "markdown",
      "metadata": {
        "id": "rmCQzo21-Vz3",
        "colab_type": "text"
      },
      "source": [
        "## Todo1: define the target value as success and failure"
      ]
    },
    {
      "cell_type": "markdown",
      "metadata": {
        "id": "VyRXt_P5u3Jq",
        "colab_type": "text"
      },
      "source": [
        "References:"
      ]
    },
    {
      "cell_type": "markdown",
      "metadata": {
        "id": "-cZ35bzbuip-",
        "colab_type": "text"
      },
      "source": [
        "\n",
        "> CrunchBase Reveals: The Average Successful Startup Raises $41M, Exits at $242.9M--https://techcrunch.com/2013/12/14/crunchbase-reveals-the-average-successful-startup-raises-41m-exits-at-242-9m/\n",
        "\n",
        "> https://www.cbinsights.com/reports/CB%20Insights%20Venture%20Capital%20Exit%20Data%20Comparison.pdf\n",
        "\n",
        "\n",
        "> How Long Does It Take a Startup to Exit? https://about.crunchbase.com/blog/startup-exit/\n",
        "\n",
        "\n",
        "\n",
        "\n"
      ]
    },
    {
      "cell_type": "code",
      "metadata": {
        "id": "CvRAjLai-Vz3",
        "colab_type": "code",
        "outputId": "01574eb0-4921-46dd-c7b0-2fbcc206f4cf",
        "colab": {
          "base_uri": "https://localhost:8080/",
          "height": 89
        }
      },
      "source": [
        "#Status_new 0= Closed\n",
        "#Status_new 1= aqcquired/IPO\n",
        "#Status_new 2= Active\n",
        "df.Status_new.value_counts()"
      ],
      "execution_count": 0,
      "outputs": [
        {
          "output_type": "execute_result",
          "data": {
            "text/plain": [
              "2    7459\n",
              "0     964\n",
              "1      25\n",
              "Name: Status_new, dtype: int64"
            ]
          },
          "metadata": {
            "tags": []
          },
          "execution_count": 7
        }
      ]
    },
    {
      "cell_type": "markdown",
      "metadata": {
        "id": "wkFQMSSMxby9",
        "colab_type": "text"
      },
      "source": [
        "The most important thing of the project is how to define the so-called success  for a startup? \n",
        "Changing the world maybe cool,but this cannot be quantified, nor can it give a very clear definition."
      ]
    },
    {
      "cell_type": "markdown",
      "metadata": {
        "id": "roD0VcuAv7hF",
        "colab_type": "text"
      },
      "source": [
        "\n",
        "\n",
        "> For startups, the traditional definition of success is, of course, the success of an IPO or acquisition by a large company. However, we can see from the database that only 25 of the more than 8,000 companies have successfully IPOed or were acquired. This number is actually very small. If you use such data for machine learning and training, you may not get good results. Therefore, we need to redefine what is success. So that our goal can be yes or no(1/0).\n",
        "\n"
      ]
    },
    {
      "cell_type": "markdown",
      "metadata": {
        "id": "Ff1INm_Iw880",
        "colab_type": "text"
      },
      "source": [
        "Acording to the references above,we are tring to find more companies from the \"Active\" category.\n",
        "\n",
        ">For example, it has survived long enough (not closed) and has obtained enough financing (the amount is m USD).\n",
        "\n",
        " We know that a company must first have enough money to pay for employees ’salaries and office rent, and then live long enough to be recognized by the capital market before it can eventually IPO or become the company that really can change the world."
      ]
    },
    {
      "cell_type": "code",
      "metadata": {
        "id": "wfnc0jGtzJdO",
        "colab_type": "code",
        "outputId": "0938aaa9-c4f9-4999-a9ca-342d62b149e7",
        "colab": {
          "base_uri": "https://localhost:8080/",
          "height": 377
        }
      },
      "source": [
        "columns_o=df.columns.to_list\n",
        "columns_o"
      ],
      "execution_count": 0,
      "outputs": [
        {
          "output_type": "execute_result",
          "data": {
            "text/plain": [
              "<bound method IndexOpsMixin.tolist of Index(['OrganizationName', 'AcquisitionStatus', 'BuiltWith-ActiveTechCount',\n",
              "       'CBRank(Organization)', 'ClosedDate', 'CompanyType', 'Description',\n",
              "       'EstimatedRevenueRange', 'FoundedDate', 'FoundedDatePrecision',\n",
              "       'FullDescription', 'FundingStatus', 'HeadquartersLocation', 'IPOStatus',\n",
              "       'IPqwery-PatentsGranted', 'Industries', 'IndustryGroups',\n",
              "       'LastEquityFundingAmount', 'LastEquityFundingAmountCurrency',\n",
              "       'LastEquityFundingAmountCurrency(inUSD)', 'LastEquityFundingType',\n",
              "       'LastFundingAmount', 'LastFundingAmountCurrency',\n",
              "       'LastFundingAmountCurrency(inUSD)', 'LastFundingDate',\n",
              "       'NumberofAcquisitions', 'NumberofArticles', 'NumberofEmployees',\n",
              "       'NumberofFounders', 'NumberofFundingRounds', 'NumberofInvestors',\n",
              "       'NumberofLeadInvestors', 'OperatingStatus', 'Unnamed: 33',\n",
              "       'OrganizationNameURL', 'SimilarWeb-AverageVisits(6months)',\n",
              "       'SimilarWeb-MonthlyRankChange(#)', 'SimilarWeb-MonthlyRankGrowth',\n",
              "       'SimilarWeb-MonthlyVisits', 'Status_new', 'Top5Investors',\n",
              "       'TotalEquityFundingAmount', 'TotalEquityFundingAmountCurrency',\n",
              "       'TotalEquityFundingAmountCurrency(inUSD)', 'TotalFundingAmount',\n",
              "       'TotalFundingAmountCurrency', 'TotalFundingAmountCurrency(inUSD)',\n",
              "       'TrendScore(30Days)', 'TrendScore(7Days)', 'TrendScore(90Days)'],\n",
              "      dtype='object')>"
            ]
          },
          "metadata": {
            "tags": []
          },
          "execution_count": 8
        }
      ]
    },
    {
      "cell_type": "markdown",
      "metadata": {
        "id": "knnHBWxkzJxv",
        "colab_type": "text"
      },
      "source": [
        "Maybe we can apply some clustering algorithm to find the m here."
      ]
    },
    {
      "cell_type": "code",
      "metadata": {
        "id": "FZz4CgCC178o",
        "colab_type": "code",
        "outputId": "0da69522-0e95-4152-a76b-fc7920b82715",
        "colab": {
          "base_uri": "https://localhost:8080/",
          "height": 179
        }
      },
      "source": [
        "df['TotalEquityFundingAmountCurrency(inUSD)'].describe()"
      ],
      "execution_count": 0,
      "outputs": [
        {
          "output_type": "execute_result",
          "data": {
            "text/plain": [
              "count    6.614000e+03\n",
              "mean     2.337424e+07\n",
              "std      8.676618e+07\n",
              "min      1.000000e+03\n",
              "25%      4.850000e+05\n",
              "50%      3.000000e+06\n",
              "75%      1.500000e+07\n",
              "max      2.071820e+09\n",
              "Name: TotalEquityFundingAmountCurrency(inUSD), dtype: float64"
            ]
          },
          "metadata": {
            "tags": []
          },
          "execution_count": 9
        }
      ]
    },
    {
      "cell_type": "markdown",
      "metadata": {
        "id": "QN2WfVsF1zFX",
        "colab_type": "text"
      },
      "source": [
        "The mean of 'TotalEquityFundingAmountCurrency(inUSD)' is $2.33 million here.It seems better than 2013 year.Let us ignore the factor of inflation here."
      ]
    },
    {
      "cell_type": "code",
      "metadata": {
        "id": "BdtIbNEn4WXV",
        "colab_type": "code",
        "outputId": "3c2c64e3-81a1-4f07-8325-a828b4ad635a",
        "colab": {
          "base_uri": "https://localhost:8080/",
          "height": 179
        }
      },
      "source": [
        "df['TotalFundingAmountCurrency(inUSD)'].describe()"
      ],
      "execution_count": 0,
      "outputs": [
        {
          "output_type": "execute_result",
          "data": {
            "text/plain": [
              "count    6.677000e+03\n",
              "mean     2.451944e+07\n",
              "std      9.212093e+07\n",
              "min      1.000000e+03\n",
              "25%      5.000000e+05\n",
              "50%      3.000000e+06\n",
              "75%      1.500000e+07\n",
              "max      2.071820e+09\n",
              "Name: TotalFundingAmountCurrency(inUSD), dtype: float64"
            ]
          },
          "metadata": {
            "tags": []
          },
          "execution_count": 10
        }
      ]
    },
    {
      "cell_type": "markdown",
      "metadata": {
        "id": "QPA2gsMz4e5w",
        "colab_type": "text"
      },
      "source": [
        "The mean of 'TotalFundingAmount(inUSD)' is $2.45 million here."
      ]
    },
    {
      "cell_type": "markdown",
      "metadata": {
        "id": "uLbAqp_17sZb",
        "colab_type": "text"
      },
      "source": [
        "Let's plot them"
      ]
    },
    {
      "cell_type": "code",
      "metadata": {
        "id": "-qHJG_-A7rei",
        "colab_type": "code",
        "outputId": "2d961ad3-3925-4302-c66a-3088d3d6de9c",
        "colab": {
          "base_uri": "https://localhost:8080/",
          "height": 233
        }
      },
      "source": [
        "df[\"TotalFundingAmountCurrency(inUSD)\"].fillna(0)"
      ],
      "execution_count": 0,
      "outputs": [
        {
          "output_type": "execute_result",
          "data": {
            "text/plain": [
              "0          575000.0\n",
              "1        15250000.0\n",
              "2       228478585.0\n",
              "3         2000000.0\n",
              "4        36900000.0\n",
              "           ...     \n",
              "8443      9000000.0\n",
              "8444            0.0\n",
              "8445     30000000.0\n",
              "8446            0.0\n",
              "8447            0.0\n",
              "Name: TotalFundingAmountCurrency(inUSD), Length: 8448, dtype: float64"
            ]
          },
          "metadata": {
            "tags": []
          },
          "execution_count": 11
        }
      ]
    },
    {
      "cell_type": "code",
      "metadata": {
        "id": "Cq0MOPzQ-eGV",
        "colab_type": "code",
        "outputId": "09546672-1ed6-485a-a04e-8b3230fa1715",
        "colab": {
          "base_uri": "https://localhost:8080/",
          "height": 233
        }
      },
      "source": [
        "df[\"TotalFundingAmountCurrency(inUSD)\"].fillna(0)"
      ],
      "execution_count": 0,
      "outputs": [
        {
          "output_type": "execute_result",
          "data": {
            "text/plain": [
              "0          575000.0\n",
              "1        15250000.0\n",
              "2       228478585.0\n",
              "3         2000000.0\n",
              "4        36900000.0\n",
              "           ...     \n",
              "8443      9000000.0\n",
              "8444            0.0\n",
              "8445     30000000.0\n",
              "8446            0.0\n",
              "8447            0.0\n",
              "Name: TotalFundingAmountCurrency(inUSD), Length: 8448, dtype: float64"
            ]
          },
          "metadata": {
            "tags": []
          },
          "execution_count": 12
        }
      ]
    },
    {
      "cell_type": "code",
      "metadata": {
        "id": "xjuw3M9w98CI",
        "colab_type": "code",
        "outputId": "06fc5e8f-4c96-4add-887c-8ca448e1056b",
        "colab": {
          "base_uri": "https://localhost:8080/",
          "height": 297
        }
      },
      "source": [
        "sns.boxplot(x=\"TotalFundingAmountCurrency(inUSD)\", data=df)"
      ],
      "execution_count": 0,
      "outputs": [
        {
          "output_type": "execute_result",
          "data": {
            "text/plain": [
              "<matplotlib.axes._subplots.AxesSubplot at 0x7f0f9ffa47b8>"
            ]
          },
          "metadata": {
            "tags": []
          },
          "execution_count": 13
        },
        {
          "output_type": "display_data",
          "data": {
            "image/png": "[encoded data removed]",
            "text/plain": [
              "<Figure size 432x288 with 1 Axes>"
            ]
          },
          "metadata": {
            "tags": []
          }
        }
      ]
    },
    {
      "cell_type": "code",
      "metadata": {
        "id": "gbH_FqAwAlue",
        "colab_type": "code",
        "outputId": "8779264e-8e55-40b9-e56f-a9eec76f1dde",
        "colab": {
          "base_uri": "https://localhost:8080/",
          "height": 297
        }
      },
      "source": [
        "sns.boxplot(x=\"TotalEquityFundingAmountCurrency(inUSD)\", data=df)"
      ],
      "execution_count": 0,
      "outputs": [
        {
          "output_type": "execute_result",
          "data": {
            "text/plain": [
              "<matplotlib.axes._subplots.AxesSubplot at 0x7f0f9ff2c748>"
            ]
          },
          "metadata": {
            "tags": []
          },
          "execution_count": 14
        },
        {
          "output_type": "display_data",
          "data": {
            "image/png": "[encoded data removed]",
            "text/plain": [
              "<Figure size 432x288 with 1 Axes>"
            ]
          },
          "metadata": {
            "tags": []
          }
        }
      ]
    },
    {
      "cell_type": "code",
      "metadata": {
        "id": "SM8dtAJ-G7TU",
        "colab_type": "code",
        "outputId": "98669278-5377-4d6b-f2bd-faf04e124a27",
        "colab": {
          "base_uri": "https://localhost:8080/",
          "height": 287
        }
      },
      "source": [
        "for i in range(len(df['TotalFundingAmountCurrency(inUSD)'])):\n",
        "  if df['TotalFundingAmountCurrency(inUSD)'][i] == df['LastFundingAmountCurrency(inUSD)'][i] and df['Status_new'][i] != 1:\n",
        "    df['Status_new'][i] = 0\n",
        "  elif df['TotalFundingAmountCurrency(inUSD)'][i] <= 15000000.0 and df['Status_new'][i] != 1:\n",
        "    df['Status_new'][i] = 0\n",
        "  else:\n",
        "    df['Status_new'][i] = 1"
      ],
      "execution_count": 0,
      "outputs": [
        {
          "output_type": "stream",
          "text": [
            "/usr/local/lib/python3.6/dist-packages/ipykernel_launcher.py:3: SettingWithCopyWarning: \n",
            "A value is trying to be set on a copy of a slice from a DataFrame\n",
            "\n",
            "See the caveats in the documentation: https://pandas.pydata.org/pandas-docs/stable/user_guide/indexing.html#returning-a-view-versus-a-copy\n",
            "  This is separate from the ipykernel package so we can avoid doing imports until\n",
            "/usr/local/lib/python3.6/dist-packages/ipykernel_launcher.py:7: SettingWithCopyWarning: \n",
            "A value is trying to be set on a copy of a slice from a DataFrame\n",
            "\n",
            "See the caveats in the documentation: https://pandas.pydata.org/pandas-docs/stable/user_guide/indexing.html#returning-a-view-versus-a-copy\n",
            "  import sys\n",
            "/usr/local/lib/python3.6/dist-packages/ipykernel_launcher.py:5: SettingWithCopyWarning: \n",
            "A value is trying to be set on a copy of a slice from a DataFrame\n",
            "\n",
            "See the caveats in the documentation: https://pandas.pydata.org/pandas-docs/stable/user_guide/indexing.html#returning-a-view-versus-a-copy\n",
            "  \"\"\"\n"
          ],
          "name": "stderr"
        }
      ]
    },
    {
      "cell_type": "code",
      "metadata": {
        "id": "tDO_3Fa6G_hU",
        "colab_type": "code",
        "colab": {}
      },
      "source": [
        ""
      ],
      "execution_count": 0,
      "outputs": []
    },
    {
      "cell_type": "markdown",
      "metadata": {
        "id": "ZjZJLwxWQM1Q",
        "colab_type": "text"
      },
      "source": [
        "#To do2: data cleaning and preprocessing"
      ]
    },
    {
      "cell_type": "markdown",
      "metadata": {
        "id": "kTzA8P560VgN",
        "colab_type": "text"
      },
      "source": [
        "## **Data narrative**"
      ]
    },
    {
      "cell_type": "code",
      "metadata": {
        "id": "7TfdEoGX6DqS",
        "colab_type": "code",
        "outputId": "dbeafc22-335e-43b8-86ba-a499a865fa11",
        "colab": {
          "base_uri": "https://localhost:8080/",
          "height": 1000
        }
      },
      "source": [
        "df.info()"
      ],
      "execution_count": 0,
      "outputs": [
        {
          "output_type": "stream",
          "text": [
            "<class 'pandas.core.frame.DataFrame'>\n",
            "RangeIndex: 8448 entries, 0 to 8447\n",
            "Data columns (total 50 columns):\n",
            " #   Column                                   Non-Null Count  Dtype  \n",
            "---  ------                                   --------------  -----  \n",
            " 0   OrganizationName                         8448 non-null   object \n",
            " 1   AcquisitionStatus                        418 non-null    object \n",
            " 2   BuiltWith-ActiveTechCount                7892 non-null   float64\n",
            " 3   CBRank(Organization)                     8448 non-null   object \n",
            " 4   ClosedDate                               518 non-null    object \n",
            " 5   CompanyType                              6403 non-null   object \n",
            " 6   Description                              8448 non-null   object \n",
            " 7   EstimatedRevenueRange                    4383 non-null   object \n",
            " 8   FoundedDate                              8212 non-null   object \n",
            " 9   FoundedDatePrecision                     8212 non-null   object \n",
            " 10  FullDescription                          7852 non-null   object \n",
            " 11  FundingStatus                            8448 non-null   object \n",
            " 12  HeadquartersLocation                     8448 non-null   object \n",
            " 13  IPOStatus                                8448 non-null   object \n",
            " 14  IPqwery-PatentsGranted                   3123 non-null   float64\n",
            " 15  Industries                               8366 non-null   object \n",
            " 16  IndustryGroups                           8346 non-null   object \n",
            " 17  LastEquityFundingAmount                  6167 non-null   float64\n",
            " 18  LastEquityFundingAmountCurrency          6167 non-null   object \n",
            " 19  LastEquityFundingAmountCurrency(inUSD)   6167 non-null   float64\n",
            " 20  LastEquityFundingType                    8448 non-null   object \n",
            " 21  LastFundingAmount                        6130 non-null   float64\n",
            " 22  LastFundingAmountCurrency                6130 non-null   object \n",
            " 23  LastFundingAmountCurrency(inUSD)         6130 non-null   float64\n",
            " 24  LastFundingDate                          8448 non-null   object \n",
            " 25  NumberofAcquisitions                     418 non-null    float64\n",
            " 26  NumberofArticles                         4987 non-null   object \n",
            " 27  NumberofEmployees                        7274 non-null   object \n",
            " 28  NumberofFounders                         7146 non-null   float64\n",
            " 29  NumberofFundingRounds                    8448 non-null   int64  \n",
            " 30  NumberofInvestors                        6959 non-null   float64\n",
            " 31  NumberofLeadInvestors                    3997 non-null   float64\n",
            " 32  OperatingStatus                          8448 non-null   object \n",
            " 33  Unnamed: 33                              0 non-null      float64\n",
            " 34  OrganizationNameURL                      8448 non-null   object \n",
            " 35  SimilarWeb-AverageVisits(6months)        6464 non-null   object \n",
            " 36  SimilarWeb-MonthlyRankChange(#)          4931 non-null   object \n",
            " 37  SimilarWeb-MonthlyRankGrowth             4931 non-null   object \n",
            " 38  SimilarWeb-MonthlyVisits                 5350 non-null   object \n",
            " 39  Status_new                               8448 non-null   int64  \n",
            " 40  Top5Investors                            6959 non-null   object \n",
            " 41  TotalEquityFundingAmount                 6614 non-null   float64\n",
            " 42  TotalEquityFundingAmountCurrency         6614 non-null   object \n",
            " 43  TotalEquityFundingAmountCurrency(inUSD)  6614 non-null   float64\n",
            " 44  TotalFundingAmount                       6677 non-null   float64\n",
            " 45  TotalFundingAmountCurrency               6677 non-null   object \n",
            " 46  TotalFundingAmountCurrency(inUSD)        6677 non-null   float64\n",
            " 47  TrendScore(30Days)                       8448 non-null   float64\n",
            " 48  TrendScore(7Days)                        8448 non-null   float64\n",
            " 49  TrendScore(90Days)                       8448 non-null   float64\n",
            "dtypes: float64(18), int64(2), object(30)\n",
            "memory usage: 3.2+ MB\n"
          ],
          "name": "stdout"
        }
      ]
    },
    {
      "cell_type": "markdown",
      "metadata": {
        "id": "6E16_cKB5LGJ",
        "colab_type": "text"
      },
      "source": [
        "numbers:"
      ]
    },
    {
      "cell_type": "code",
      "metadata": {
        "id": "QS_GrKjQz6xb",
        "colab_type": "code",
        "outputId": "fb3cda96-dd9d-41f2-a0dd-b6b75ba86a5f",
        "colab": {
          "base_uri": "https://localhost:8080/",
          "height": 334
        }
      },
      "source": [
        "df.describe()"
      ],
      "execution_count": 0,
      "outputs": [
        {
          "output_type": "execute_result",
          "data": {
            "text/html": [
              "<div>\n",
              "<style scoped>\n",
              "    .dataframe tbody tr th:only-of-type {\n",
              "        vertical-align: middle;\n",
              "    }\n",
              "\n",
              "    .dataframe tbody tr th {\n",
              "        vertical-align: top;\n",
              "    }\n",
              "\n",
              "    .dataframe thead th {\n",
              "        text-align: right;\n",
              "    }\n",
              "</style>\n",
              "<table border=\"1\" class=\"dataframe\">\n",
              "  <thead>\n",
              "    <tr style=\"text-align: right;\">\n",
              "      <th></th>\n",
              "      <th>BuiltWith-ActiveTechCount</th>\n",
              "      <th>IPqwery-PatentsGranted</th>\n",
              "      <th>LastEquityFundingAmount</th>\n",
              "      <th>LastEquityFundingAmountCurrency(inUSD)</th>\n",
              "      <th>LastFundingAmount</th>\n",
              "      <th>LastFundingAmountCurrency(inUSD)</th>\n",
              "      <th>NumberofAcquisitions</th>\n",
              "      <th>NumberofFounders</th>\n",
              "      <th>NumberofFundingRounds</th>\n",
              "      <th>NumberofInvestors</th>\n",
              "      <th>NumberofLeadInvestors</th>\n",
              "      <th>Unnamed: 33</th>\n",
              "      <th>Status_new</th>\n",
              "      <th>TotalEquityFundingAmount</th>\n",
              "      <th>TotalEquityFundingAmountCurrency(inUSD)</th>\n",
              "      <th>TotalFundingAmount</th>\n",
              "      <th>TotalFundingAmountCurrency(inUSD)</th>\n",
              "      <th>TrendScore(30Days)</th>\n",
              "      <th>TrendScore(7Days)</th>\n",
              "      <th>TrendScore(90Days)</th>\n",
              "    </tr>\n",
              "  </thead>\n",
              "  <tbody>\n",
              "    <tr>\n",
              "      <th>count</th>\n",
              "      <td>7892.000000</td>\n",
              "      <td>3123.000000</td>\n",
              "      <td>6.167000e+03</td>\n",
              "      <td>6.167000e+03</td>\n",
              "      <td>6.130000e+03</td>\n",
              "      <td>6.130000e+03</td>\n",
              "      <td>418.000000</td>\n",
              "      <td>7146.000000</td>\n",
              "      <td>8448.000000</td>\n",
              "      <td>6959.000000</td>\n",
              "      <td>3997.000000</td>\n",
              "      <td>0.0</td>\n",
              "      <td>8448.000000</td>\n",
              "      <td>6.614000e+03</td>\n",
              "      <td>6.614000e+03</td>\n",
              "      <td>6.677000e+03</td>\n",
              "      <td>6.677000e+03</td>\n",
              "      <td>8448.000000</td>\n",
              "      <td>8448.000000</td>\n",
              "      <td>8448.000000</td>\n",
              "    </tr>\n",
              "    <tr>\n",
              "      <th>mean</th>\n",
              "      <td>22.376964</td>\n",
              "      <td>3.045789</td>\n",
              "      <td>1.326951e+07</td>\n",
              "      <td>1.290183e+07</td>\n",
              "      <td>1.328849e+07</td>\n",
              "      <td>1.290943e+07</td>\n",
              "      <td>1.555024</td>\n",
              "      <td>2.031486</td>\n",
              "      <td>2.206795</td>\n",
              "      <td>5.098290</td>\n",
              "      <td>1.905179</td>\n",
              "      <td>NaN</td>\n",
              "      <td>0.389560</td>\n",
              "      <td>2.356841e+07</td>\n",
              "      <td>2.337424e+07</td>\n",
              "      <td>2.471917e+07</td>\n",
              "      <td>2.451944e+07</td>\n",
              "      <td>0.544022</td>\n",
              "      <td>0.130196</td>\n",
              "      <td>0.804226</td>\n",
              "    </tr>\n",
              "    <tr>\n",
              "      <th>std</th>\n",
              "      <td>18.653907</td>\n",
              "      <td>13.315643</td>\n",
              "      <td>4.275189e+07</td>\n",
              "      <td>4.151520e+07</td>\n",
              "      <td>4.372436e+07</td>\n",
              "      <td>4.247941e+07</td>\n",
              "      <td>1.335042</td>\n",
              "      <td>0.995576</td>\n",
              "      <td>1.708541</td>\n",
              "      <td>5.779168</td>\n",
              "      <td>1.333433</td>\n",
              "      <td>NaN</td>\n",
              "      <td>0.487679</td>\n",
              "      <td>8.711167e+07</td>\n",
              "      <td>8.676618e+07</td>\n",
              "      <td>9.246583e+07</td>\n",
              "      <td>9.212093e+07</td>\n",
              "      <td>1.676787</td>\n",
              "      <td>0.929359</td>\n",
              "      <td>2.328609</td>\n",
              "    </tr>\n",
              "    <tr>\n",
              "      <th>min</th>\n",
              "      <td>1.000000</td>\n",
              "      <td>0.000000</td>\n",
              "      <td>1.000000e+03</td>\n",
              "      <td>1.000000e+03</td>\n",
              "      <td>1.000000e+03</td>\n",
              "      <td>1.000000e+03</td>\n",
              "      <td>1.000000</td>\n",
              "      <td>1.000000</td>\n",
              "      <td>1.000000</td>\n",
              "      <td>1.000000</td>\n",
              "      <td>1.000000</td>\n",
              "      <td>NaN</td>\n",
              "      <td>0.000000</td>\n",
              "      <td>1.000000e+03</td>\n",
              "      <td>1.000000e+03</td>\n",
              "      <td>1.000000e+03</td>\n",
              "      <td>1.000000e+03</td>\n",
              "      <td>-5.300000</td>\n",
              "      <td>-4.100000</td>\n",
              "      <td>-6.800000</td>\n",
              "    </tr>\n",
              "    <tr>\n",
              "      <th>25%</th>\n",
              "      <td>8.000000</td>\n",
              "      <td>0.000000</td>\n",
              "      <td>3.427315e+05</td>\n",
              "      <td>3.300000e+05</td>\n",
              "      <td>3.000000e+05</td>\n",
              "      <td>3.000000e+05</td>\n",
              "      <td>1.000000</td>\n",
              "      <td>1.000000</td>\n",
              "      <td>1.000000</td>\n",
              "      <td>1.000000</td>\n",
              "      <td>1.000000</td>\n",
              "      <td>NaN</td>\n",
              "      <td>0.000000</td>\n",
              "      <td>4.999962e+05</td>\n",
              "      <td>4.850000e+05</td>\n",
              "      <td>5.000000e+05</td>\n",
              "      <td>5.000000e+05</td>\n",
              "      <td>-0.200000</td>\n",
              "      <td>-0.300000</td>\n",
              "      <td>-0.400000</td>\n",
              "    </tr>\n",
              "    <tr>\n",
              "      <th>50%</th>\n",
              "      <td>18.000000</td>\n",
              "      <td>0.000000</td>\n",
              "      <td>2.500000e+06</td>\n",
              "      <td>2.500000e+06</td>\n",
              "      <td>2.416000e+06</td>\n",
              "      <td>2.400000e+06</td>\n",
              "      <td>1.000000</td>\n",
              "      <td>2.000000</td>\n",
              "      <td>2.000000</td>\n",
              "      <td>3.000000</td>\n",
              "      <td>1.000000</td>\n",
              "      <td>NaN</td>\n",
              "      <td>0.000000</td>\n",
              "      <td>3.000000e+06</td>\n",
              "      <td>3.000000e+06</td>\n",
              "      <td>3.000000e+06</td>\n",
              "      <td>3.000000e+06</td>\n",
              "      <td>-0.100000</td>\n",
              "      <td>-0.100000</td>\n",
              "      <td>-0.100000</td>\n",
              "    </tr>\n",
              "    <tr>\n",
              "      <th>75%</th>\n",
              "      <td>32.000000</td>\n",
              "      <td>1.000000</td>\n",
              "      <td>1.038000e+07</td>\n",
              "      <td>1.010000e+07</td>\n",
              "      <td>1.000000e+07</td>\n",
              "      <td>1.000000e+07</td>\n",
              "      <td>2.000000</td>\n",
              "      <td>3.000000</td>\n",
              "      <td>3.000000</td>\n",
              "      <td>7.000000</td>\n",
              "      <td>2.000000</td>\n",
              "      <td>NaN</td>\n",
              "      <td>1.000000</td>\n",
              "      <td>1.500000e+07</td>\n",
              "      <td>1.500000e+07</td>\n",
              "      <td>1.500000e+07</td>\n",
              "      <td>1.500000e+07</td>\n",
              "      <td>0.800000</td>\n",
              "      <td>0.300000</td>\n",
              "      <td>1.200000</td>\n",
              "    </tr>\n",
              "    <tr>\n",
              "      <th>max</th>\n",
              "      <td>195.000000</td>\n",
              "      <td>287.000000</td>\n",
              "      <td>1.100000e+09</td>\n",
              "      <td>1.100000e+09</td>\n",
              "      <td>1.100000e+09</td>\n",
              "      <td>1.100000e+09</td>\n",
              "      <td>14.000000</td>\n",
              "      <td>11.000000</td>\n",
              "      <td>20.000000</td>\n",
              "      <td>104.000000</td>\n",
              "      <td>12.000000</td>\n",
              "      <td>NaN</td>\n",
              "      <td>1.000000</td>\n",
              "      <td>2.071820e+09</td>\n",
              "      <td>2.071820e+09</td>\n",
              "      <td>2.071820e+09</td>\n",
              "      <td>2.071820e+09</td>\n",
              "      <td>10.000000</td>\n",
              "      <td>9.700000</td>\n",
              "      <td>10.000000</td>\n",
              "    </tr>\n",
              "  </tbody>\n",
              "</table>\n",
              "</div>"
            ],
            "text/plain": [
              "       BuiltWith-ActiveTechCount  ...  TrendScore(90Days)\n",
              "count                7892.000000  ...         8448.000000\n",
              "mean                   22.376964  ...            0.804226\n",
              "std                    18.653907  ...            2.328609\n",
              "min                     1.000000  ...           -6.800000\n",
              "25%                     8.000000  ...           -0.400000\n",
              "50%                    18.000000  ...           -0.100000\n",
              "75%                    32.000000  ...            1.200000\n",
              "max                   195.000000  ...           10.000000\n",
              "\n",
              "[8 rows x 20 columns]"
            ]
          },
          "metadata": {
            "tags": []
          },
          "execution_count": 17
        }
      ]
    },
    {
      "cell_type": "markdown",
      "metadata": {
        "id": "uLIbSaXt5Psh",
        "colab_type": "text"
      },
      "source": [
        "categorical columns:"
      ]
    },
    {
      "cell_type": "code",
      "metadata": {
        "id": "deiehlx56Wh_",
        "colab_type": "code",
        "colab": {}
      },
      "source": [
        "def get_cat_columns(data):\n",
        "  cat_columns_map={}\n",
        "  cat_columns=[]\n",
        "  for column in data.select_dtypes(include=[object]):\n",
        "    cat_columns.append(column)\n",
        "  for name in   cat_columns:\n",
        "    cat_columns_map[name]=data[name].unique().tolist()\n",
        "  return cat_columns_map"
      ],
      "execution_count": 0,
      "outputs": []
    },
    {
      "cell_type": "code",
      "metadata": {
        "id": "q1MMk_BeHDyK",
        "colab_type": "code",
        "colab": {}
      },
      "source": [
        "cat_columns_map0=get_cat_columns(df)"
      ],
      "execution_count": 0,
      "outputs": []
    },
    {
      "cell_type": "code",
      "metadata": {
        "id": "Yjhd_8kpI6H1",
        "colab_type": "code",
        "colab": {}
      },
      "source": [
        "def get_report_cluster(cat_columns_map,data):\n",
        "  cat_columns_catNumber={}\n",
        "  for name in cat_columns_map:\n",
        "     cat_columns_catNumber[name]=len(data[name].unique().tolist())\n",
        "  cat_columns_catNumber\n",
        "  report_cluster={}\n",
        "  for i in range(0,np.asarray(list(cat_columns_catNumber.values())).max()+1):\n",
        "      if [j for j,k in cat_columns_catNumber.items() if k == i]:\n",
        "        report_cluster[i]=[l for l,m in cat_columns_catNumber.items() if m == i]\n",
        "  return report_cluster"
      ],
      "execution_count": 0,
      "outputs": []
    },
    {
      "cell_type": "code",
      "metadata": {
        "id": "lwC2ZQpNY1zk",
        "colab_type": "code",
        "outputId": "a2962a72-a959-46b1-a7f7-6f04f6fa5336",
        "colab": {
          "base_uri": "https://localhost:8080/",
          "height": 503
        }
      },
      "source": [
        "report_cluster0=get_report_cluster(cat_columns_map0,df)\n",
        "report_cluster0"
      ],
      "execution_count": 0,
      "outputs": [
        {
          "output_type": "execute_result",
          "data": {
            "text/plain": [
              "{1: ['IPOStatus'],\n",
              " 2: ['AcquisitionStatus', 'OperatingStatus'],\n",
              " 3: ['CompanyType', 'FundingStatus'],\n",
              " 4: ['FoundedDatePrecision'],\n",
              " 9: ['EstimatedRevenueRange'],\n",
              " 10: ['NumberofEmployees'],\n",
              " 12: ['LastEquityFundingType'],\n",
              " 17: ['TotalFundingAmountCurrency'],\n",
              " 18: ['TotalEquityFundingAmountCurrency'],\n",
              " 19: ['LastFundingAmountCurrency'],\n",
              " 20: ['LastEquityFundingAmountCurrency'],\n",
              " 98: ['HeadquartersLocation'],\n",
              " 285: ['NumberofArticles'],\n",
              " 300: ['ClosedDate'],\n",
              " 1429: ['FoundedDate'],\n",
              " 2851: ['LastFundingDate'],\n",
              " 3182: ['IndustryGroups'],\n",
              " 3931: ['SimilarWeb-MonthlyVisits'],\n",
              " 4055: ['SimilarWeb-MonthlyRankGrowth'],\n",
              " 4875: ['SimilarWeb-MonthlyRankChange(#)'],\n",
              " 5756: ['Top5Investors'],\n",
              " 6288: ['SimilarWeb-AverageVisits(6months)'],\n",
              " 7070: ['Industries'],\n",
              " 7763: ['FullDescription'],\n",
              " 8312: ['OrganizationName'],\n",
              " 8349: ['Description'],\n",
              " 8355: ['CBRank(Organization)', 'OrganizationNameURL']}"
            ]
          },
          "metadata": {
            "tags": []
          },
          "execution_count": 21
        }
      ]
    },
    {
      "cell_type": "markdown",
      "metadata": {
        "id": "4hLaCkWCJlB1",
        "colab_type": "text"
      },
      "source": [
        "We can see that some of the features have too many categories here.And many of them not make sense.We will deal with them with features engneering in data preprocessing."
      ]
    },
    {
      "cell_type": "code",
      "metadata": {
        "id": "LpUcybJP5NIN",
        "colab_type": "code",
        "colab": {}
      },
      "source": [
        "#print(\"Unique values in each categorical column:\")\n",
        "#cat_columns_map"
      ],
      "execution_count": 0,
      "outputs": []
    },
    {
      "cell_type": "code",
      "metadata": {
        "id": "ENViWYAR6lv1",
        "colab_type": "code",
        "outputId": "7cb512f1-84b8-45e6-d342-3056d4a50aec",
        "colab": {
          "base_uri": "https://localhost:8080/",
          "height": 35
        }
      },
      "source": [
        "cat_columns0=cat_columns_map0.keys()\n",
        "len(cat_columns0)"
      ],
      "execution_count": 0,
      "outputs": [
        {
          "output_type": "execute_result",
          "data": {
            "text/plain": [
              "30"
            ]
          },
          "metadata": {
            "tags": []
          },
          "execution_count": 23
        }
      ]
    },
    {
      "cell_type": "markdown",
      "metadata": {
        "id": "7QQl-EMyP6K4",
        "colab_type": "text"
      },
      "source": [
        "##Data preprocessing"
      ]
    },
    {
      "cell_type": "markdown",
      "metadata": {
        "id": "NY1WT4kcRn1l",
        "colab_type": "text"
      },
      "source": [
        "###Data cleaning"
      ]
    },
    {
      "cell_type": "code",
      "metadata": {
        "id": "F2FA6u17RZkt",
        "colab_type": "code",
        "outputId": "422d8dc7-efaf-401c-c37a-af060c441477",
        "colab": {
          "base_uri": "https://localhost:8080/",
          "height": 35
        }
      },
      "source": [
        "df.shape"
      ],
      "execution_count": 0,
      "outputs": [
        {
          "output_type": "execute_result",
          "data": {
            "text/plain": [
              "(8448, 50)"
            ]
          },
          "metadata": {
            "tags": []
          },
          "execution_count": 24
        }
      ]
    },
    {
      "cell_type": "markdown",
      "metadata": {
        "id": "-ifH2flORdgh",
        "colab_type": "text"
      },
      "source": [
        "There are 51 features here,it is too many to apply any ML algorithm and input X for predict.So we must reduce dimension here."
      ]
    },
    {
      "cell_type": "markdown",
      "metadata": {
        "id": "faZjUHUURxKF",
        "colab_type": "text"
      },
      "source": [
        "Removing the unimportant features will help with memory, computational cost and the accuracy of our model.Also, it will help to avoid the overfitting. Sometimes, a feature that makes business sense, but it doesn’t mean that this feature will help us with our prediction."
      ]
    },
    {
      "cell_type": "code",
      "metadata": {
        "id": "1LxR_tfISgkb",
        "colab_type": "code",
        "outputId": "6915249a-f704-4948-fea7-657069aaa221",
        "colab": {
          "base_uri": "https://localhost:8080/",
          "height": 377
        }
      },
      "source": [
        "df.columns"
      ],
      "execution_count": 0,
      "outputs": [
        {
          "output_type": "execute_result",
          "data": {
            "text/plain": [
              "Index(['OrganizationName', 'AcquisitionStatus', 'BuiltWith-ActiveTechCount',\n",
              "       'CBRank(Organization)', 'ClosedDate', 'CompanyType', 'Description',\n",
              "       'EstimatedRevenueRange', 'FoundedDate', 'FoundedDatePrecision',\n",
              "       'FullDescription', 'FundingStatus', 'HeadquartersLocation', 'IPOStatus',\n",
              "       'IPqwery-PatentsGranted', 'Industries', 'IndustryGroups',\n",
              "       'LastEquityFundingAmount', 'LastEquityFundingAmountCurrency',\n",
              "       'LastEquityFundingAmountCurrency(inUSD)', 'LastEquityFundingType',\n",
              "       'LastFundingAmount', 'LastFundingAmountCurrency',\n",
              "       'LastFundingAmountCurrency(inUSD)', 'LastFundingDate',\n",
              "       'NumberofAcquisitions', 'NumberofArticles', 'NumberofEmployees',\n",
              "       'NumberofFounders', 'NumberofFundingRounds', 'NumberofInvestors',\n",
              "       'NumberofLeadInvestors', 'OperatingStatus', 'Unnamed: 33',\n",
              "       'OrganizationNameURL', 'SimilarWeb-AverageVisits(6months)',\n",
              "       'SimilarWeb-MonthlyRankChange(#)', 'SimilarWeb-MonthlyRankGrowth',\n",
              "       'SimilarWeb-MonthlyVisits', 'Status_new', 'Top5Investors',\n",
              "       'TotalEquityFundingAmount', 'TotalEquityFundingAmountCurrency',\n",
              "       'TotalEquityFundingAmountCurrency(inUSD)', 'TotalFundingAmount',\n",
              "       'TotalFundingAmountCurrency', 'TotalFundingAmountCurrency(inUSD)',\n",
              "       'TrendScore(30Days)', 'TrendScore(7Days)', 'TrendScore(90Days)'],\n",
              "      dtype='object')"
            ]
          },
          "metadata": {
            "tags": []
          },
          "execution_count": 25
        }
      ]
    },
    {
      "cell_type": "markdown",
      "metadata": {
        "id": "nyPn0NQATF80",
        "colab_type": "text"
      },
      "source": [
        "Some features (such as 'CBRank(Organization)','Description','FullDescription','OrganizationNameURL','SimilarWeb-AverageVisits(6months)','SimilarWeb-MonthlyRankChange(#)', 'SimilarWeb-MonthlyRankGrowth',\n",
        "       'SimilarWeb-MonthlyVisits', 'TrendScore(30Days)', 'TrendScore(7Days)', 'TrendScore(90Days)') are duplicate and some of them (such as permalink,company_name) will not help us with our prediction.We drop them first."
      ]
    },
    {
      "cell_type": "code",
      "metadata": {
        "id": "-1XwaqhwS8Jv",
        "colab_type": "code",
        "colab": {}
      },
      "source": [
        "useless_cols=['CBRank(Organization)','Description','FullDescription','OrganizationNameURL','SimilarWeb-AverageVisits(6months)','SimilarWeb-MonthlyRankChange(#)',\n",
        "             'SimilarWeb-MonthlyRankGrowth', 'SimilarWeb-MonthlyVisits', 'TrendScore(30Days)', 'TrendScore(7Days)', 'TrendScore(90Days)']"
      ],
      "execution_count": 0,
      "outputs": []
    },
    {
      "cell_type": "code",
      "metadata": {
        "id": "AtlvHxOwU_gn",
        "colab_type": "code",
        "colab": {}
      },
      "source": [
        "df_clean=df.copy()"
      ],
      "execution_count": 0,
      "outputs": []
    },
    {
      "cell_type": "code",
      "metadata": {
        "id": "_3NG8RmII24N",
        "colab_type": "code",
        "colab": {}
      },
      "source": [
        "df_clean['target'] = df['Status_new']"
      ],
      "execution_count": 0,
      "outputs": []
    },
    {
      "cell_type": "code",
      "metadata": {
        "id": "0tFhj59iaSrk",
        "colab_type": "code",
        "colab": {}
      },
      "source": [
        "for col in useless_cols:\n",
        "   df_clean.drop([col],axis=1,inplace=True)"
      ],
      "execution_count": 0,
      "outputs": []
    },
    {
      "cell_type": "code",
      "metadata": {
        "id": "viYWTcJuVWPU",
        "colab_type": "code",
        "outputId": "901c822f-8ab1-42dc-de65-07e799faf548",
        "colab": {
          "base_uri": "https://localhost:8080/",
          "height": 35
        }
      },
      "source": [
        "df_clean.shape"
      ],
      "execution_count": 0,
      "outputs": [
        {
          "output_type": "execute_result",
          "data": {
            "text/plain": [
              "(8448, 40)"
            ]
          },
          "metadata": {
            "tags": []
          },
          "execution_count": 30
        }
      ]
    },
    {
      "cell_type": "markdown",
      "metadata": {
        "id": "gquHSeSpTQqw",
        "colab_type": "text"
      },
      "source": [
        "Some of other features(such as  'AcquisitionStatus', 'ClosedDate', 'IPOStatus','LastEquityFundingAmount', 'LastEquityFundingAmountCurrency', 'LastEquityFundingAmountCurrency(inUSD)', 'LastFundingAmount', LastFundingAmountCurrency','LastFundingAmountCurrency(inUSD)', 'OperatingStatus', 'Status_new', 'TotalEquityFundingAmount', 'TotalEquityFundingAmountCurrency','TotalEquityFundingAmountCurrency(inUSD)', 'TotalFundingAmount', 'TotalFundingAmountCurrency', 'TotalFundingAmountCurrency(inUSD)'）.All of them related to the features 'status'and 'TotalFundingAmountCurrency(inUSD)'  ,which have been used by us to define the so-called success, if you keep them, it is equivalent to a repetition.So we drop them."
      ]
    },
    {
      "cell_type": "code",
      "metadata": {
        "id": "MwC-7ZmnXIyA",
        "colab_type": "code",
        "colab": {}
      },
      "source": [
        "status_relate_cols=['AcquisitionStatus', 'ClosedDate', 'IPOStatus','LastEquityFundingAmount', 'LastEquityFundingAmountCurrency', 'LastEquityFundingAmountCurrency(inUSD)', \n",
        " 'LastFundingAmount', 'LastFundingAmountCurrency','LastFundingAmountCurrency(inUSD)', 'OperatingStatus', 'Status_new', 'TotalEquityFundingAmount', \n",
        "'TotalEquityFundingAmountCurrency','TotalEquityFundingAmountCurrency(inUSD)', 'TotalFundingAmount', 'TotalFundingAmountCurrency', 'TotalFundingAmountCurrency(inUSD)']"
      ],
      "execution_count": 0,
      "outputs": []
    },
    {
      "cell_type": "code",
      "metadata": {
        "id": "Z5H4DpgDXcse",
        "colab_type": "code",
        "colab": {}
      },
      "source": [
        "for col in status_relate_cols:\n",
        "    df_clean.drop([col],axis=1,inplace=True)"
      ],
      "execution_count": 0,
      "outputs": []
    },
    {
      "cell_type": "code",
      "metadata": {
        "id": "wvZC1xWDXoQq",
        "colab_type": "code",
        "outputId": "6de0cbc3-b277-47e3-be5c-95c1654bc6a7",
        "colab": {
          "base_uri": "https://localhost:8080/",
          "height": 35
        }
      },
      "source": [
        "df_clean.shape"
      ],
      "execution_count": 0,
      "outputs": [
        {
          "output_type": "execute_result",
          "data": {
            "text/plain": [
              "(8448, 23)"
            ]
          },
          "metadata": {
            "tags": []
          },
          "execution_count": 33
        }
      ]
    },
    {
      "cell_type": "code",
      "metadata": {
        "id": "UtY8UQPUYELr",
        "colab_type": "code",
        "outputId": "95941dc6-c9f8-4946-8170-38e31ca83ea6",
        "colab": {
          "base_uri": "https://localhost:8080/",
          "height": 267
        }
      },
      "source": [
        "df_clean.head(2)"
      ],
      "execution_count": 0,
      "outputs": [
        {
          "output_type": "execute_result",
          "data": {
            "text/html": [
              "<div>\n",
              "<style scoped>\n",
              "    .dataframe tbody tr th:only-of-type {\n",
              "        vertical-align: middle;\n",
              "    }\n",
              "\n",
              "    .dataframe tbody tr th {\n",
              "        vertical-align: top;\n",
              "    }\n",
              "\n",
              "    .dataframe thead th {\n",
              "        text-align: right;\n",
              "    }\n",
              "</style>\n",
              "<table border=\"1\" class=\"dataframe\">\n",
              "  <thead>\n",
              "    <tr style=\"text-align: right;\">\n",
              "      <th></th>\n",
              "      <th>OrganizationName</th>\n",
              "      <th>BuiltWith-ActiveTechCount</th>\n",
              "      <th>CompanyType</th>\n",
              "      <th>EstimatedRevenueRange</th>\n",
              "      <th>FoundedDate</th>\n",
              "      <th>FoundedDatePrecision</th>\n",
              "      <th>FundingStatus</th>\n",
              "      <th>HeadquartersLocation</th>\n",
              "      <th>IPqwery-PatentsGranted</th>\n",
              "      <th>Industries</th>\n",
              "      <th>IndustryGroups</th>\n",
              "      <th>LastEquityFundingType</th>\n",
              "      <th>LastFundingDate</th>\n",
              "      <th>NumberofAcquisitions</th>\n",
              "      <th>NumberofArticles</th>\n",
              "      <th>NumberofEmployees</th>\n",
              "      <th>NumberofFounders</th>\n",
              "      <th>NumberofFundingRounds</th>\n",
              "      <th>NumberofInvestors</th>\n",
              "      <th>NumberofLeadInvestors</th>\n",
              "      <th>Unnamed: 33</th>\n",
              "      <th>Top5Investors</th>\n",
              "      <th>target</th>\n",
              "    </tr>\n",
              "  </thead>\n",
              "  <tbody>\n",
              "    <tr>\n",
              "      <th>0</th>\n",
              "      <td>C. Light Technologies</td>\n",
              "      <td>11.0</td>\n",
              "      <td>For Profit</td>\n",
              "      <td>NaN</td>\n",
              "      <td>9/1/14</td>\n",
              "      <td>month</td>\n",
              "      <td>Seed</td>\n",
              "      <td>Berkeley, California, United States</td>\n",
              "      <td>NaN</td>\n",
              "      <td>Health Care, Software</td>\n",
              "      <td>Health Care, Software</td>\n",
              "      <td>Pre-Seed</td>\n",
              "      <td>1/1/17</td>\n",
              "      <td>NaN</td>\n",
              "      <td>2</td>\n",
              "      <td>10-Jan</td>\n",
              "      <td>2.0</td>\n",
              "      <td>1</td>\n",
              "      <td>2.0</td>\n",
              "      <td>NaN</td>\n",
              "      <td>NaN</td>\n",
              "      <td>National Institutes of Health, C. Light Ventures</td>\n",
              "      <td>0</td>\n",
              "    </tr>\n",
              "    <tr>\n",
              "      <th>1</th>\n",
              "      <td>C1X</td>\n",
              "      <td>23.0</td>\n",
              "      <td>For Profit</td>\n",
              "      <td>Less than $1M</td>\n",
              "      <td>1/1/14</td>\n",
              "      <td>year</td>\n",
              "      <td>Early Stage Venture</td>\n",
              "      <td>San Jose, California, United States</td>\n",
              "      <td>NaN</td>\n",
              "      <td>Advertising, E-Commerce, Internet</td>\n",
              "      <td>Advertising, Commerce and Shopping, Internet S...</td>\n",
              "      <td>Series B</td>\n",
              "      <td>10/12/16</td>\n",
              "      <td>NaN</td>\n",
              "      <td>12</td>\n",
              "      <td>51-100</td>\n",
              "      <td>2.0</td>\n",
              "      <td>2</td>\n",
              "      <td>5.0</td>\n",
              "      <td>2.0</td>\n",
              "      <td>NaN</td>\n",
              "      <td>UTEC- University of Tokyo Edge Capital, Mynavi...</td>\n",
              "      <td>1</td>\n",
              "    </tr>\n",
              "  </tbody>\n",
              "</table>\n",
              "</div>"
            ],
            "text/plain": [
              "        OrganizationName  ...  target\n",
              "0  C. Light Technologies  ...       0\n",
              "1                    C1X  ...       1\n",
              "\n",
              "[2 rows x 23 columns]"
            ]
          },
          "metadata": {
            "tags": []
          },
          "execution_count": 34
        }
      ]
    },
    {
      "cell_type": "code",
      "metadata": {
        "id": "L9DcXMQdYP6X",
        "colab_type": "code",
        "outputId": "69698fda-9e65-4031-a388-7c1785eaaff7",
        "colab": {
          "base_uri": "https://localhost:8080/",
          "height": 557
        }
      },
      "source": [
        "df_clean.info()"
      ],
      "execution_count": 0,
      "outputs": [
        {
          "output_type": "stream",
          "text": [
            "<class 'pandas.core.frame.DataFrame'>\n",
            "RangeIndex: 8448 entries, 0 to 8447\n",
            "Data columns (total 23 columns):\n",
            " #   Column                     Non-Null Count  Dtype  \n",
            "---  ------                     --------------  -----  \n",
            " 0   OrganizationName           8448 non-null   object \n",
            " 1   BuiltWith-ActiveTechCount  7892 non-null   float64\n",
            " 2   CompanyType                6403 non-null   object \n",
            " 3   EstimatedRevenueRange      4383 non-null   object \n",
            " 4   FoundedDate                8212 non-null   object \n",
            " 5   FoundedDatePrecision       8212 non-null   object \n",
            " 6   FundingStatus              8448 non-null   object \n",
            " 7   HeadquartersLocation       8448 non-null   object \n",
            " 8   IPqwery-PatentsGranted     3123 non-null   float64\n",
            " 9   Industries                 8366 non-null   object \n",
            " 10  IndustryGroups             8346 non-null   object \n",
            " 11  LastEquityFundingType      8448 non-null   object \n",
            " 12  LastFundingDate            8448 non-null   object \n",
            " 13  NumberofAcquisitions       418 non-null    float64\n",
            " 14  NumberofArticles           4987 non-null   object \n",
            " 15  NumberofEmployees          7274 non-null   object \n",
            " 16  NumberofFounders           7146 non-null   float64\n",
            " 17  NumberofFundingRounds      8448 non-null   int64  \n",
            " 18  NumberofInvestors          6959 non-null   float64\n",
            " 19  NumberofLeadInvestors      3997 non-null   float64\n",
            " 20  Unnamed: 33                0 non-null      float64\n",
            " 21  Top5Investors              6959 non-null   object \n",
            " 22  target                     8448 non-null   int64  \n",
            "dtypes: float64(7), int64(2), object(14)\n",
            "memory usage: 1.5+ MB\n"
          ],
          "name": "stdout"
        }
      ]
    },
    {
      "cell_type": "markdown",
      "metadata": {
        "id": "pHJT8VPqbu11",
        "colab_type": "text"
      },
      "source": [
        "Let's find the data of the features which are null？"
      ]
    },
    {
      "cell_type": "code",
      "metadata": {
        "id": "DBV7WvbdbuLG",
        "colab_type": "code",
        "colab": {}
      },
      "source": [
        "def cal_missing_data(data):\n",
        "  missing_data = data.isnull().sum().sort_values(ascending = False)\n",
        "  missing_data_rate = (data.isnull().sum()/data.isnull().count()).sort_values(ascending = False)\n",
        "  print(missing_data_rate)"
      ],
      "execution_count": 0,
      "outputs": []
    },
    {
      "cell_type": "code",
      "metadata": {
        "id": "gZbIvHWKfISK",
        "colab_type": "code",
        "outputId": "48e2e582-bd60-49ab-f90e-84019a1b49e4",
        "colab": {
          "base_uri": "https://localhost:8080/",
          "height": 449
        }
      },
      "source": [
        "cal_missing_data(df_clean)"
      ],
      "execution_count": 0,
      "outputs": [
        {
          "output_type": "stream",
          "text": [
            "Unnamed: 33                  1.000000\n",
            "NumberofAcquisitions         0.950521\n",
            "IPqwery-PatentsGranted       0.630327\n",
            "NumberofLeadInvestors        0.526870\n",
            "EstimatedRevenueRange        0.481179\n",
            "NumberofArticles             0.409683\n",
            "CompanyType                  0.242069\n",
            "NumberofInvestors            0.176255\n",
            "Top5Investors                0.176255\n",
            "NumberofFounders             0.154119\n",
            "NumberofEmployees            0.138968\n",
            "BuiltWith-ActiveTechCount    0.065814\n",
            "FoundedDate                  0.027936\n",
            "FoundedDatePrecision         0.027936\n",
            "IndustryGroups               0.012074\n",
            "Industries                   0.009706\n",
            "target                       0.000000\n",
            "LastEquityFundingType        0.000000\n",
            "FundingStatus                0.000000\n",
            "HeadquartersLocation         0.000000\n",
            "LastFundingDate              0.000000\n",
            "NumberofFundingRounds        0.000000\n",
            "OrganizationName             0.000000\n",
            "dtype: float64\n"
          ],
          "name": "stdout"
        }
      ]
    },
    {
      "cell_type": "markdown",
      "metadata": {
        "id": "YOLuPFyXeX3A",
        "colab_type": "text"
      },
      "source": [
        "Some features are too many missing data(such as \"avg_time_bw_rounds\"), it does n’t make much sense to keep or fill, so they also should be deleted."
      ]
    },
    {
      "cell_type": "code",
      "metadata": {
        "id": "TxZ22-4bep31",
        "colab_type": "code",
        "colab": {}
      },
      "source": [
        "df_clean.drop(['Unnamed: 33'],axis=1,inplace=True)\n",
        "df_clean.drop(['NumberofAcquisitions'],axis=1,inplace=True)"
      ],
      "execution_count": 0,
      "outputs": []
    },
    {
      "cell_type": "markdown",
      "metadata": {
        "id": "KHPhuSzbgLNC",
        "colab_type": "text"
      },
      "source": [
        "Some features are not too many missing(such as \"FoundedDatePrecision\",\"FoundedDate\"),we can just remove the missing data.And we will deal with the two columns to become one later."
      ]
    },
    {
      "cell_type": "code",
      "metadata": {
        "id": "aBaLy0WAhHTl",
        "colab_type": "code",
        "colab": {}
      },
      "source": [
        "df_clean.dropna(subset=['FoundedDatePrecision'],axis=0, inplace = True)\n",
        "df_clean.dropna(subset=['FoundedDate'],axis=0,inplace=True)"
      ],
      "execution_count": 0,
      "outputs": []
    },
    {
      "cell_type": "code",
      "metadata": {
        "id": "yfZQXSF0hlfq",
        "colab_type": "code",
        "outputId": "e455f346-9638-4a77-91a5-10b2cebbd5bc",
        "colab": {
          "base_uri": "https://localhost:8080/",
          "height": 413
        }
      },
      "source": [
        "df_clean.isnull().sum().sort_values(ascending = False)"
      ],
      "execution_count": 0,
      "outputs": [
        {
          "output_type": "execute_result",
          "data": {
            "text/plain": [
              "IPqwery-PatentsGranted       5125\n",
              "NumberofLeadInvestors        4268\n",
              "EstimatedRevenueRange        3882\n",
              "NumberofArticles             3248\n",
              "CompanyType                  1946\n",
              "NumberofInvestors            1453\n",
              "Top5Investors                1453\n",
              "NumberofFounders             1169\n",
              "NumberofEmployees            1028\n",
              "BuiltWith-ActiveTechCount     474\n",
              "IndustryGroups                 90\n",
              "Industries                     71\n",
              "FoundedDatePrecision            0\n",
              "FoundedDate                     0\n",
              "target                          0\n",
              "FundingStatus                   0\n",
              "HeadquartersLocation            0\n",
              "LastEquityFundingType           0\n",
              "LastFundingDate                 0\n",
              "NumberofFundingRounds           0\n",
              "OrganizationName                0\n",
              "dtype: int64"
            ]
          },
          "metadata": {
            "tags": []
          },
          "execution_count": 40
        }
      ]
    },
    {
      "cell_type": "markdown",
      "metadata": {
        "id": "l5pLb6Afh04s",
        "colab_type": "text"
      },
      "source": [
        "We should fill them.Let's analysis them."
      ]
    },
    {
      "cell_type": "code",
      "metadata": {
        "id": "IOkKz8AqiJ-X",
        "colab_type": "code",
        "outputId": "f21dd10a-6232-48e4-a5a4-419f25f82124",
        "colab": {
          "base_uri": "https://localhost:8080/",
          "height": 521
        }
      },
      "source": [
        "df_clean.info()"
      ],
      "execution_count": 0,
      "outputs": [
        {
          "output_type": "stream",
          "text": [
            "<class 'pandas.core.frame.DataFrame'>\n",
            "Int64Index: 8212 entries, 0 to 8447\n",
            "Data columns (total 21 columns):\n",
            " #   Column                     Non-Null Count  Dtype  \n",
            "---  ------                     --------------  -----  \n",
            " 0   OrganizationName           8212 non-null   object \n",
            " 1   BuiltWith-ActiveTechCount  7738 non-null   float64\n",
            " 2   CompanyType                6266 non-null   object \n",
            " 3   EstimatedRevenueRange      4330 non-null   object \n",
            " 4   FoundedDate                8212 non-null   object \n",
            " 5   FoundedDatePrecision       8212 non-null   object \n",
            " 6   FundingStatus              8212 non-null   object \n",
            " 7   HeadquartersLocation       8212 non-null   object \n",
            " 8   IPqwery-PatentsGranted     3087 non-null   float64\n",
            " 9   Industries                 8141 non-null   object \n",
            " 10  IndustryGroups             8122 non-null   object \n",
            " 11  LastEquityFundingType      8212 non-null   object \n",
            " 12  LastFundingDate            8212 non-null   object \n",
            " 13  NumberofArticles           4964 non-null   object \n",
            " 14  NumberofEmployees          7184 non-null   object \n",
            " 15  NumberofFounders           7043 non-null   float64\n",
            " 16  NumberofFundingRounds      8212 non-null   int64  \n",
            " 17  NumberofInvestors          6759 non-null   float64\n",
            " 18  NumberofLeadInvestors      3944 non-null   float64\n",
            " 19  Top5Investors              6759 non-null   object \n",
            " 20  target                     8212 non-null   int64  \n",
            "dtypes: float64(5), int64(2), object(14)\n",
            "memory usage: 1.4+ MB\n"
          ],
          "name": "stdout"
        }
      ]
    },
    {
      "cell_type": "markdown",
      "metadata": {
        "id": "Hukv-bFBiqQq",
        "colab_type": "text"
      },
      "source": [
        "Fill some of them with 0(IPqwery-PatentsGranted and BuiltWith-ActiveTechCount,which only some companies have these)"
      ]
    },
    {
      "cell_type": "code",
      "metadata": {
        "id": "CHpEEM0pithM",
        "colab_type": "code",
        "colab": {}
      },
      "source": [
        "df_clean['BuiltWith-ActiveTechCount']=df_clean['BuiltWith-ActiveTechCount'].fillna(0)\n",
        "df_clean['IPqwery-PatentsGranted']=df_clean['IPqwery-PatentsGranted'].fillna(0)\n",
        "df_clean['NumberofInvestors']=df_clean['NumberofInvestors'].fillna(0)    \n",
        "df_clean['NumberofLeadInvestors']=df_clean['NumberofLeadInvestors'].fillna(0)   "
      ],
      "execution_count": 0,
      "outputs": []
    },
    {
      "cell_type": "markdown",
      "metadata": {
        "id": "A54pI2pajhcU",
        "colab_type": "text"
      },
      "source": [
        "Fill some of them with mean."
      ]
    },
    {
      "cell_type": "code",
      "metadata": {
        "id": "ENUKaJjkkmvJ",
        "colab_type": "code",
        "colab": {}
      },
      "source": [
        "df_clean['NumberofFounders']=df_clean['NumberofFounders'].fillna(df_clean['NumberofFounders'].mean())"
      ],
      "execution_count": 0,
      "outputs": []
    },
    {
      "cell_type": "code",
      "metadata": {
        "id": "xPEvunVEipic",
        "colab_type": "code",
        "outputId": "28ad348c-30df-41da-a81f-1c4d916f3906",
        "colab": {
          "base_uri": "https://localhost:8080/",
          "height": 413
        }
      },
      "source": [
        "df_clean.isnull().sum().sort_values(ascending = False)"
      ],
      "execution_count": 0,
      "outputs": [
        {
          "output_type": "execute_result",
          "data": {
            "text/plain": [
              "EstimatedRevenueRange        3882\n",
              "NumberofArticles             3248\n",
              "CompanyType                  1946\n",
              "Top5Investors                1453\n",
              "NumberofEmployees            1028\n",
              "IndustryGroups                 90\n",
              "Industries                     71\n",
              "HeadquartersLocation            0\n",
              "BuiltWith-ActiveTechCount       0\n",
              "FoundedDate                     0\n",
              "FoundedDatePrecision            0\n",
              "FundingStatus                   0\n",
              "target                          0\n",
              "IPqwery-PatentsGranted          0\n",
              "LastEquityFundingType           0\n",
              "LastFundingDate                 0\n",
              "NumberofFounders                0\n",
              "NumberofFundingRounds           0\n",
              "NumberofInvestors               0\n",
              "NumberofLeadInvestors           0\n",
              "OrganizationName                0\n",
              "dtype: int64"
            ]
          },
          "metadata": {
            "tags": []
          },
          "execution_count": 44
        }
      ]
    },
    {
      "cell_type": "code",
      "metadata": {
        "id": "4xO78zxalwPs",
        "colab_type": "code",
        "outputId": "10c3df8e-2221-4dc1-9420-635a8e9976a1",
        "colab": {
          "base_uri": "https://localhost:8080/",
          "height": 233
        }
      },
      "source": [
        "cat_columns_map1=get_cat_columns(df_clean)\n",
        "report_cluster1=get_report_cluster(cat_columns_map1,df_clean)\n",
        "report_cluster1"
      ],
      "execution_count": 0,
      "outputs": [
        {
          "output_type": "execute_result",
          "data": {
            "text/plain": [
              "{3: ['CompanyType', 'FoundedDatePrecision', 'FundingStatus'],\n",
              " 9: ['EstimatedRevenueRange'],\n",
              " 10: ['NumberofEmployees'],\n",
              " 12: ['LastEquityFundingType'],\n",
              " 97: ['HeadquartersLocation'],\n",
              " 285: ['NumberofArticles'],\n",
              " 1428: ['FoundedDate'],\n",
              " 2804: ['LastFundingDate'],\n",
              " 3146: ['IndustryGroups'],\n",
              " 5676: ['Top5Investors'],\n",
              " 6916: ['Industries'],\n",
              " 8081: ['OrganizationName']}"
            ]
          },
          "metadata": {
            "tags": []
          },
          "execution_count": 45
        }
      ]
    },
    {
      "cell_type": "code",
      "metadata": {
        "id": "TXBczy_RSHpG",
        "colab_type": "code",
        "colab": {}
      },
      "source": [
        "pd.set_option('display.max_columns', None)\n",
        "def style_specific_cell(x):\n",
        "    color_thresh = 'background-color: lightgreen'   \n",
        "    df_color = pd.DataFrame('', index=x.index, columns=x.columns)\n",
        "    rows_number=len(x.index)\n",
        "    column_number=len(x.columns)\n",
        "    for r in range(0,rows_number): \n",
        "        for c in range(0,column_number):\n",
        "            try:\n",
        "                val=float(x.iloc[r, c])\n",
        "                if x.iloc[r, 0]==\"%\":\n",
        "                    if val<10:\n",
        "                        df_color.iloc[r, c]=color_thresh\n",
        "            except:\n",
        "                pass            \n",
        "    return df_color"
      ],
      "execution_count": 0,
      "outputs": []
    },
    {
      "cell_type": "code",
      "metadata": {
        "id": "SUdPwLVDSUkL",
        "colab_type": "code",
        "colab": {}
      },
      "source": [
        "def make_percent_report(report_cluster,key,df):\n",
        "    percentage_report=[]\n",
        "    for name in sorted(report_cluster[key]):\n",
        "        data=pd.crosstab(df[name],columns=[\"%\"]).apply(lambda r: (round((r/r.sum())*100,2)), axis=0).reset_index()\n",
        "        data.columns=[name,\"%\"]\n",
        "        data=data.transpose().reset_index()\n",
        "        [percentage_report.append(x) for x in data.values.tolist()]\n",
        "        options=[]\n",
        "    percentage_report=pd.DataFrame(percentage_report)\n",
        "    [options.append(\"Category\"+str(itr)) for itr in range(1,len(percentage_report.columns))]\n",
        "    percentage_report.columns=[\"Features\"]+options\n",
        "    display(percentage_report.style.apply(style_specific_cell, axis=None))"
      ],
      "execution_count": 0,
      "outputs": []
    },
    {
      "cell_type": "code",
      "metadata": {
        "id": "7TwzqVvNSYUx",
        "colab_type": "code",
        "outputId": "5a868edf-552b-43e5-d1db-f46f327b8c4d",
        "colab": {
          "base_uri": "https://localhost:8080/",
          "height": 296
        }
      },
      "source": [
        "for key in report_cluster1.keys():\n",
        "  if key<12:\n",
        "    make_percent_report(report_cluster1,key,df)"
      ],
      "execution_count": 0,
      "outputs": [
        {
          "output_type": "display_data",
          "data": {
            "text/html": [
              "<style  type=\"text/css\" >\n",
              "    #T_fe742c9a_7b09_11ea_b618_0242ac1c0002row1_col2 {\n",
              "            background-color:  lightgreen;\n",
              "        }    #T_fe742c9a_7b09_11ea_b618_0242ac1c0002row3_col2 {\n",
              "            background-color:  lightgreen;\n",
              "        }    #T_fe742c9a_7b09_11ea_b618_0242ac1c0002row5_col2 {\n",
              "            background-color:  lightgreen;\n",
              "        }</style><table id=\"T_fe742c9a_7b09_11ea_b618_0242ac1c0002\" ><thead>    <tr>        <th class=\"blank level0\" ></th>        <th class=\"col_heading level0 col0\" >Features</th>        <th class=\"col_heading level0 col1\" >Category1</th>        <th class=\"col_heading level0 col2\" >Category2</th>        <th class=\"col_heading level0 col3\" >Category3</th>    </tr></thead><tbody>\n",
              "                <tr>\n",
              "                        <th id=\"T_fe742c9a_7b09_11ea_b618_0242ac1c0002level0_row0\" class=\"row_heading level0 row0\" >0</th>\n",
              "                        <td id=\"T_fe742c9a_7b09_11ea_b618_0242ac1c0002row0_col0\" class=\"data row0 col0\" >CompanyType</td>\n",
              "                        <td id=\"T_fe742c9a_7b09_11ea_b618_0242ac1c0002row0_col1\" class=\"data row0 col1\" >For Profit</td>\n",
              "                        <td id=\"T_fe742c9a_7b09_11ea_b618_0242ac1c0002row0_col2\" class=\"data row0 col2\" >Non-profit</td>\n",
              "                        <td id=\"T_fe742c9a_7b09_11ea_b618_0242ac1c0002row0_col3\" class=\"data row0 col3\" >None</td>\n",
              "            </tr>\n",
              "            <tr>\n",
              "                        <th id=\"T_fe742c9a_7b09_11ea_b618_0242ac1c0002level0_row1\" class=\"row_heading level0 row1\" >1</th>\n",
              "                        <td id=\"T_fe742c9a_7b09_11ea_b618_0242ac1c0002row1_col0\" class=\"data row1 col0\" >%</td>\n",
              "                        <td id=\"T_fe742c9a_7b09_11ea_b618_0242ac1c0002row1_col1\" class=\"data row1 col1\" >99.610000</td>\n",
              "                        <td id=\"T_fe742c9a_7b09_11ea_b618_0242ac1c0002row1_col2\" class=\"data row1 col2\" >0.390000</td>\n",
              "                        <td id=\"T_fe742c9a_7b09_11ea_b618_0242ac1c0002row1_col3\" class=\"data row1 col3\" >None</td>\n",
              "            </tr>\n",
              "            <tr>\n",
              "                        <th id=\"T_fe742c9a_7b09_11ea_b618_0242ac1c0002level0_row2\" class=\"row_heading level0 row2\" >2</th>\n",
              "                        <td id=\"T_fe742c9a_7b09_11ea_b618_0242ac1c0002row2_col0\" class=\"data row2 col0\" >FoundedDatePrecision</td>\n",
              "                        <td id=\"T_fe742c9a_7b09_11ea_b618_0242ac1c0002row2_col1\" class=\"data row2 col1\" >day</td>\n",
              "                        <td id=\"T_fe742c9a_7b09_11ea_b618_0242ac1c0002row2_col2\" class=\"data row2 col2\" >month</td>\n",
              "                        <td id=\"T_fe742c9a_7b09_11ea_b618_0242ac1c0002row2_col3\" class=\"data row2 col3\" >year</td>\n",
              "            </tr>\n",
              "            <tr>\n",
              "                        <th id=\"T_fe742c9a_7b09_11ea_b618_0242ac1c0002level0_row3\" class=\"row_heading level0 row3\" >3</th>\n",
              "                        <td id=\"T_fe742c9a_7b09_11ea_b618_0242ac1c0002row3_col0\" class=\"data row3 col0\" >%</td>\n",
              "                        <td id=\"T_fe742c9a_7b09_11ea_b618_0242ac1c0002row3_col1\" class=\"data row3 col1\" >33.580000</td>\n",
              "                        <td id=\"T_fe742c9a_7b09_11ea_b618_0242ac1c0002row3_col2\" class=\"data row3 col2\" >9.270000</td>\n",
              "                        <td id=\"T_fe742c9a_7b09_11ea_b618_0242ac1c0002row3_col3\" class=\"data row3 col3\" >57.150000</td>\n",
              "            </tr>\n",
              "            <tr>\n",
              "                        <th id=\"T_fe742c9a_7b09_11ea_b618_0242ac1c0002level0_row4\" class=\"row_heading level0 row4\" >4</th>\n",
              "                        <td id=\"T_fe742c9a_7b09_11ea_b618_0242ac1c0002row4_col0\" class=\"data row4 col0\" >FundingStatus</td>\n",
              "                        <td id=\"T_fe742c9a_7b09_11ea_b618_0242ac1c0002row4_col1\" class=\"data row4 col1\" >Early Stage Venture</td>\n",
              "                        <td id=\"T_fe742c9a_7b09_11ea_b618_0242ac1c0002row4_col2\" class=\"data row4 col2\" >Late Stage Venture</td>\n",
              "                        <td id=\"T_fe742c9a_7b09_11ea_b618_0242ac1c0002row4_col3\" class=\"data row4 col3\" >Seed</td>\n",
              "            </tr>\n",
              "            <tr>\n",
              "                        <th id=\"T_fe742c9a_7b09_11ea_b618_0242ac1c0002level0_row5\" class=\"row_heading level0 row5\" >5</th>\n",
              "                        <td id=\"T_fe742c9a_7b09_11ea_b618_0242ac1c0002row5_col0\" class=\"data row5 col0\" >%</td>\n",
              "                        <td id=\"T_fe742c9a_7b09_11ea_b618_0242ac1c0002row5_col1\" class=\"data row5 col1\" >27.890000</td>\n",
              "                        <td id=\"T_fe742c9a_7b09_11ea_b618_0242ac1c0002row5_col2\" class=\"data row5 col2\" >9.690000</td>\n",
              "                        <td id=\"T_fe742c9a_7b09_11ea_b618_0242ac1c0002row5_col3\" class=\"data row5 col3\" >62.420000</td>\n",
              "            </tr>\n",
              "    </tbody></table>"
            ],
            "text/plain": [
              "<pandas.io.formats.style.Styler at 0x7f0f9e7055f8>"
            ]
          },
          "metadata": {
            "tags": []
          }
        },
        {
          "output_type": "display_data",
          "data": {
            "text/html": [
              "<style  type=\"text/css\" >\n",
              "    #T_fe78d9ca_7b09_11ea_b618_0242ac1c0002row1_col1 {\n",
              "            background-color:  lightgreen;\n",
              "        }    #T_fe78d9ca_7b09_11ea_b618_0242ac1c0002row1_col2 {\n",
              "            background-color:  lightgreen;\n",
              "        }    #T_fe78d9ca_7b09_11ea_b618_0242ac1c0002row1_col3 {\n",
              "            background-color:  lightgreen;\n",
              "        }    #T_fe78d9ca_7b09_11ea_b618_0242ac1c0002row1_col4 {\n",
              "            background-color:  lightgreen;\n",
              "        }    #T_fe78d9ca_7b09_11ea_b618_0242ac1c0002row1_col6 {\n",
              "            background-color:  lightgreen;\n",
              "        }    #T_fe78d9ca_7b09_11ea_b618_0242ac1c0002row1_col7 {\n",
              "            background-color:  lightgreen;\n",
              "        }</style><table id=\"T_fe78d9ca_7b09_11ea_b618_0242ac1c0002\" ><thead>    <tr>        <th class=\"blank level0\" ></th>        <th class=\"col_heading level0 col0\" >Features</th>        <th class=\"col_heading level0 col1\" >Category1</th>        <th class=\"col_heading level0 col2\" >Category2</th>        <th class=\"col_heading level0 col3\" >Category3</th>        <th class=\"col_heading level0 col4\" >Category4</th>        <th class=\"col_heading level0 col5\" >Category5</th>        <th class=\"col_heading level0 col6\" >Category6</th>        <th class=\"col_heading level0 col7\" >Category7</th>        <th class=\"col_heading level0 col8\" >Category8</th>    </tr></thead><tbody>\n",
              "                <tr>\n",
              "                        <th id=\"T_fe78d9ca_7b09_11ea_b618_0242ac1c0002level0_row0\" class=\"row_heading level0 row0\" >0</th>\n",
              "                        <td id=\"T_fe78d9ca_7b09_11ea_b618_0242ac1c0002row0_col0\" class=\"data row0 col0\" >EstimatedRevenueRange</td>\n",
              "                        <td id=\"T_fe78d9ca_7b09_11ea_b618_0242ac1c0002row0_col1\" class=\"data row0 col1\" >$100M to $500M</td>\n",
              "                        <td id=\"T_fe78d9ca_7b09_11ea_b618_0242ac1c0002row0_col2\" class=\"data row0 col2\" >$10B+</td>\n",
              "                        <td id=\"T_fe78d9ca_7b09_11ea_b618_0242ac1c0002row0_col3\" class=\"data row0 col3\" >$10M to $50M</td>\n",
              "                        <td id=\"T_fe78d9ca_7b09_11ea_b618_0242ac1c0002row0_col4\" class=\"data row0 col4\" >$1B to $10B</td>\n",
              "                        <td id=\"T_fe78d9ca_7b09_11ea_b618_0242ac1c0002row0_col5\" class=\"data row0 col5\" >$1M to $10M</td>\n",
              "                        <td id=\"T_fe78d9ca_7b09_11ea_b618_0242ac1c0002row0_col6\" class=\"data row0 col6\" >$500M to $1B</td>\n",
              "                        <td id=\"T_fe78d9ca_7b09_11ea_b618_0242ac1c0002row0_col7\" class=\"data row0 col7\" >$50M to $100M</td>\n",
              "                        <td id=\"T_fe78d9ca_7b09_11ea_b618_0242ac1c0002row0_col8\" class=\"data row0 col8\" >Less than $1M</td>\n",
              "            </tr>\n",
              "            <tr>\n",
              "                        <th id=\"T_fe78d9ca_7b09_11ea_b618_0242ac1c0002level0_row1\" class=\"row_heading level0 row1\" >1</th>\n",
              "                        <td id=\"T_fe78d9ca_7b09_11ea_b618_0242ac1c0002row1_col0\" class=\"data row1 col0\" >%</td>\n",
              "                        <td id=\"T_fe78d9ca_7b09_11ea_b618_0242ac1c0002row1_col1\" class=\"data row1 col1\" >1.230000</td>\n",
              "                        <td id=\"T_fe78d9ca_7b09_11ea_b618_0242ac1c0002row1_col2\" class=\"data row1 col2\" >0.050000</td>\n",
              "                        <td id=\"T_fe78d9ca_7b09_11ea_b618_0242ac1c0002row1_col3\" class=\"data row1 col3\" >9.030000</td>\n",
              "                        <td id=\"T_fe78d9ca_7b09_11ea_b618_0242ac1c0002row1_col4\" class=\"data row1 col4\" >0.160000</td>\n",
              "                        <td id=\"T_fe78d9ca_7b09_11ea_b618_0242ac1c0002row1_col5\" class=\"data row1 col5\" >56.130000</td>\n",
              "                        <td id=\"T_fe78d9ca_7b09_11ea_b618_0242ac1c0002row1_col6\" class=\"data row1 col6\" >0.090000</td>\n",
              "                        <td id=\"T_fe78d9ca_7b09_11ea_b618_0242ac1c0002row1_col7\" class=\"data row1 col7\" >1.160000</td>\n",
              "                        <td id=\"T_fe78d9ca_7b09_11ea_b618_0242ac1c0002row1_col8\" class=\"data row1 col8\" >32.150000</td>\n",
              "            </tr>\n",
              "    </tbody></table>"
            ],
            "text/plain": [
              "<pandas.io.formats.style.Styler at 0x7f0fc2e0a240>"
            ]
          },
          "metadata": {
            "tags": []
          }
        },
        {
          "output_type": "display_data",
          "data": {
            "text/html": [
              "<style  type=\"text/css\" >\n",
              "    #T_fe7d6c56_7b09_11ea_b618_0242ac1c0002row1_col2 {\n",
              "            background-color:  lightgreen;\n",
              "        }    #T_fe7d6c56_7b09_11ea_b618_0242ac1c0002row1_col3 {\n",
              "            background-color:  lightgreen;\n",
              "        }    #T_fe7d6c56_7b09_11ea_b618_0242ac1c0002row1_col4 {\n",
              "            background-color:  lightgreen;\n",
              "        }    #T_fe7d6c56_7b09_11ea_b618_0242ac1c0002row1_col5 {\n",
              "            background-color:  lightgreen;\n",
              "        }    #T_fe7d6c56_7b09_11ea_b618_0242ac1c0002row1_col6 {\n",
              "            background-color:  lightgreen;\n",
              "        }    #T_fe7d6c56_7b09_11ea_b618_0242ac1c0002row1_col7 {\n",
              "            background-color:  lightgreen;\n",
              "        }    #T_fe7d6c56_7b09_11ea_b618_0242ac1c0002row1_col8 {\n",
              "            background-color:  lightgreen;\n",
              "        }</style><table id=\"T_fe7d6c56_7b09_11ea_b618_0242ac1c0002\" ><thead>    <tr>        <th class=\"blank level0\" ></th>        <th class=\"col_heading level0 col0\" >Features</th>        <th class=\"col_heading level0 col1\" >Category1</th>        <th class=\"col_heading level0 col2\" >Category2</th>        <th class=\"col_heading level0 col3\" >Category3</th>        <th class=\"col_heading level0 col4\" >Category4</th>        <th class=\"col_heading level0 col5\" >Category5</th>        <th class=\"col_heading level0 col6\" >Category6</th>        <th class=\"col_heading level0 col7\" >Category7</th>        <th class=\"col_heading level0 col8\" >Category8</th>        <th class=\"col_heading level0 col9\" >Category9</th>    </tr></thead><tbody>\n",
              "                <tr>\n",
              "                        <th id=\"T_fe7d6c56_7b09_11ea_b618_0242ac1c0002level0_row0\" class=\"row_heading level0 row0\" >0</th>\n",
              "                        <td id=\"T_fe7d6c56_7b09_11ea_b618_0242ac1c0002row0_col0\" class=\"data row0 col0\" >NumberofEmployees</td>\n",
              "                        <td id=\"T_fe7d6c56_7b09_11ea_b618_0242ac1c0002row0_col1\" class=\"data row0 col1\" >10-Jan</td>\n",
              "                        <td id=\"T_fe7d6c56_7b09_11ea_b618_0242ac1c0002row0_col2\" class=\"data row0 col2\" >10001+</td>\n",
              "                        <td id=\"T_fe7d6c56_7b09_11ea_b618_0242ac1c0002row0_col3\" class=\"data row0 col3\" >1001-5000</td>\n",
              "                        <td id=\"T_fe7d6c56_7b09_11ea_b618_0242ac1c0002row0_col4\" class=\"data row0 col4\" >101-250</td>\n",
              "                        <td id=\"T_fe7d6c56_7b09_11ea_b618_0242ac1c0002row0_col5\" class=\"data row0 col5\" >251-500</td>\n",
              "                        <td id=\"T_fe7d6c56_7b09_11ea_b618_0242ac1c0002row0_col6\" class=\"data row0 col6\" >5001-10000</td>\n",
              "                        <td id=\"T_fe7d6c56_7b09_11ea_b618_0242ac1c0002row0_col7\" class=\"data row0 col7\" >501-1000</td>\n",
              "                        <td id=\"T_fe7d6c56_7b09_11ea_b618_0242ac1c0002row0_col8\" class=\"data row0 col8\" >51-100</td>\n",
              "                        <td id=\"T_fe7d6c56_7b09_11ea_b618_0242ac1c0002row0_col9\" class=\"data row0 col9\" >Nov-50</td>\n",
              "            </tr>\n",
              "            <tr>\n",
              "                        <th id=\"T_fe7d6c56_7b09_11ea_b618_0242ac1c0002level0_row1\" class=\"row_heading level0 row1\" >1</th>\n",
              "                        <td id=\"T_fe7d6c56_7b09_11ea_b618_0242ac1c0002row1_col0\" class=\"data row1 col0\" >%</td>\n",
              "                        <td id=\"T_fe7d6c56_7b09_11ea_b618_0242ac1c0002row1_col1\" class=\"data row1 col1\" >45.770000</td>\n",
              "                        <td id=\"T_fe7d6c56_7b09_11ea_b618_0242ac1c0002row1_col2\" class=\"data row1 col2\" >0.080000</td>\n",
              "                        <td id=\"T_fe7d6c56_7b09_11ea_b618_0242ac1c0002row1_col3\" class=\"data row1 col3\" >0.380000</td>\n",
              "                        <td id=\"T_fe7d6c56_7b09_11ea_b618_0242ac1c0002row1_col4\" class=\"data row1 col4\" >5.440000</td>\n",
              "                        <td id=\"T_fe7d6c56_7b09_11ea_b618_0242ac1c0002row1_col5\" class=\"data row1 col5\" >1.510000</td>\n",
              "                        <td id=\"T_fe7d6c56_7b09_11ea_b618_0242ac1c0002row1_col6\" class=\"data row1 col6\" >0.050000</td>\n",
              "                        <td id=\"T_fe7d6c56_7b09_11ea_b618_0242ac1c0002row1_col7\" class=\"data row1 col7\" >0.870000</td>\n",
              "                        <td id=\"T_fe7d6c56_7b09_11ea_b618_0242ac1c0002row1_col8\" class=\"data row1 col8\" >7.050000</td>\n",
              "                        <td id=\"T_fe7d6c56_7b09_11ea_b618_0242ac1c0002row1_col9\" class=\"data row1 col9\" >38.840000</td>\n",
              "            </tr>\n",
              "    </tbody></table>"
            ],
            "text/plain": [
              "<pandas.io.formats.style.Styler at 0x7f0fdf99e240>"
            ]
          },
          "metadata": {
            "tags": []
          }
        }
      ]
    },
    {
      "cell_type": "markdown",
      "metadata": {
        "id": "cfCkxrAgTbsx",
        "colab_type": "text"
      },
      "source": [
        "Some of other features don't seem to be the things that explicitly impacts success,we drop them."
      ]
    },
    {
      "cell_type": "code",
      "metadata": {
        "id": "Ax7E06Ij5HWo",
        "colab_type": "code",
        "colab": {}
      },
      "source": [
        "df_clean.drop(['NumberofArticles'],axis=1,inplace=True)"
      ],
      "execution_count": 0,
      "outputs": []
    },
    {
      "cell_type": "markdown",
      "metadata": {
        "id": "o8UgVB8N5LBF",
        "colab_type": "text"
      },
      "source": [
        ""
      ]
    },
    {
      "cell_type": "markdown",
      "metadata": {
        "id": "GR4zE2xHtFf4",
        "colab_type": "text"
      },
      "source": [
        "There is only 0.39% of \"Non-profit\" in \"CompanyType\" feature here. The ratio is so low, this feature will become outliers which will affect our algorithm implementation, and it don't make sense , we can remove this feature first."
      ]
    },
    {
      "cell_type": "code",
      "metadata": {
        "id": "0hbxmaLYtE1j",
        "colab_type": "code",
        "colab": {}
      },
      "source": [
        "df_clean.drop(['CompanyType'],axis=1,inplace=True)"
      ],
      "execution_count": 0,
      "outputs": []
    },
    {
      "cell_type": "markdown",
      "metadata": {
        "id": "3i_TweswuzHs",
        "colab_type": "text"
      },
      "source": [
        "###Merge the categarical features"
      ]
    },
    {
      "cell_type": "markdown",
      "metadata": {
        "id": "BKKi2yrMvni1",
        "colab_type": "text"
      },
      "source": [
        "####NumberofEmployees"
      ]
    },
    {
      "cell_type": "code",
      "metadata": {
        "id": "12PsBiYSwe75",
        "colab_type": "code",
        "outputId": "7f56b529-608b-4065-9821-b633fd13322f",
        "colab": {
          "base_uri": "https://localhost:8080/",
          "height": 197
        }
      },
      "source": [
        "df_clean['NumberofEmployees'].value_counts()"
      ],
      "execution_count": 0,
      "outputs": [
        {
          "output_type": "execute_result",
          "data": {
            "text/plain": [
              "10-Jan        3258\n",
              "Nov-50        2810\n",
              "51-100         513\n",
              "101-250        394\n",
              "251-500        110\n",
              "501-1000        62\n",
              "1001-5000       28\n",
              "10001+           5\n",
              "5001-10000       4\n",
              "Name: NumberofEmployees, dtype: int64"
            ]
          },
          "metadata": {
            "tags": []
          },
          "execution_count": 51
        }
      ]
    },
    {
      "cell_type": "markdown",
      "metadata": {
        "id": "JlpvO51cw8Jy",
        "colab_type": "text"
      },
      "source": [
        "We can merge the >100 categaries."
      ]
    },
    {
      "cell_type": "code",
      "metadata": {
        "id": "v3yX_n_iv456",
        "colab_type": "code",
        "colab": {}
      },
      "source": [
        "df_clean['NumberofEmployees'].fillna('unknown')\n",
        "NumberofEmployees={'10-Jan':\"less than 10\", 'Nov-50':\"11~50\", '51-100':\"51~100\",\n",
        "                   '101-250':\"more than 100\",'251-500':\"more than 100\",'501-1000':\"more than 100\",\n",
        "                   '1001-5000':\"more than 100\",'10001+':\"more than 100\",'5001-10000':\"more than 100\",'unknown':'unknown'}\n",
        "df_clean['NumberofEmployees']=df_clean['NumberofEmployees'].map(NumberofEmployees)"
      ],
      "execution_count": 0,
      "outputs": []
    },
    {
      "cell_type": "code",
      "metadata": {
        "id": "rj6hpD7ryBEw",
        "colab_type": "code",
        "outputId": "6e501fc4-b4fc-424f-db24-742f05e72e57",
        "colab": {
          "base_uri": "https://localhost:8080/",
          "height": 107
        }
      },
      "source": [
        "df_clean['NumberofEmployees'].value_counts()"
      ],
      "execution_count": 0,
      "outputs": [
        {
          "output_type": "execute_result",
          "data": {
            "text/plain": [
              "less than 10     3258\n",
              "11~50            2810\n",
              "more than 100     603\n",
              "51~100            513\n",
              "Name: NumberofEmployees, dtype: int64"
            ]
          },
          "metadata": {
            "tags": []
          },
          "execution_count": 53
        }
      ]
    },
    {
      "cell_type": "code",
      "metadata": {
        "id": "g6yhBncCKse5",
        "colab_type": "code",
        "outputId": "21a48fd2-3997-4ab3-fb6d-5bcdc5ed0125",
        "colab": {
          "base_uri": "https://localhost:8080/",
          "height": 233
        }
      },
      "source": [
        "df_clean['NumberofEmployees'].fillna('unkonwn')"
      ],
      "execution_count": 0,
      "outputs": [
        {
          "output_type": "execute_result",
          "data": {
            "text/plain": [
              "0        less than 10\n",
              "1              51~100\n",
              "2       more than 100\n",
              "3               11~50\n",
              "4               11~50\n",
              "            ...      \n",
              "8443          unkonwn\n",
              "8444     less than 10\n",
              "8445          unkonwn\n",
              "8446     less than 10\n",
              "8447     less than 10\n",
              "Name: NumberofEmployees, Length: 8212, dtype: object"
            ]
          },
          "metadata": {
            "tags": []
          },
          "execution_count": 54
        }
      ]
    },
    {
      "cell_type": "markdown",
      "metadata": {
        "id": "T4EMqmuozGHE",
        "colab_type": "text"
      },
      "source": [
        "####EstimatedRevenueRange\n"
      ]
    },
    {
      "cell_type": "code",
      "metadata": {
        "id": "pUKuHQUzy6q1",
        "colab_type": "code",
        "outputId": "29b4e924-824d-4379-d276-ebf9b98c07e7",
        "colab": {
          "base_uri": "https://localhost:8080/",
          "height": 179
        }
      },
      "source": [
        "df_clean['EstimatedRevenueRange'].value_counts()"
      ],
      "execution_count": 0,
      "outputs": [
        {
          "output_type": "execute_result",
          "data": {
            "text/plain": [
              "$1M to $10M       2432\n",
              "Less than $1M     1385\n",
              "$10M to $50M       395\n",
              "$100M to $500M      54\n",
              "$50M to $100M       51\n",
              "$1B to $10B          7\n",
              "$500M to $1B         4\n",
              "$10B+                2\n",
              "Name: EstimatedRevenueRange, dtype: int64"
            ]
          },
          "metadata": {
            "tags": []
          },
          "execution_count": 55
        }
      ]
    },
    {
      "cell_type": "markdown",
      "metadata": {
        "id": "xpGIKw_CzzeR",
        "colab_type": "text"
      },
      "source": [
        "You know, if the company EstimatedRevenueRange is more than 10M usd,I think it is not a start-up now.So 10M+ usd should be a type here."
      ]
    },
    {
      "cell_type": "code",
      "metadata": {
        "id": "DH1foMKWzbQT",
        "colab_type": "code",
        "colab": {}
      },
      "source": [
        "EstimatedRevenueRange={'$1M to $10M':\"$1M to $10M\",'Less than $1M':\"Less than $1M\",\n",
        "                       '$10M to $50M':\"$10M+\", '$100M to $500M':\"$10M+\",'$50M to $100M':\"$10M+\",\n",
        "                       '$1B to $10B':\"$10M+\",'$500M to $1B':\"$10M+\",'$10B+':\"$10M+\"}\n",
        "df_clean['EstimatedRevenueRange']=df_clean['EstimatedRevenueRange'].map(EstimatedRevenueRange)"
      ],
      "execution_count": 0,
      "outputs": []
    },
    {
      "cell_type": "code",
      "metadata": {
        "id": "i1I6WbRw1e8-",
        "colab_type": "code",
        "outputId": "228c9444-42df-4a5f-e60f-f1cf2c1be21b",
        "colab": {
          "base_uri": "https://localhost:8080/",
          "height": 89
        }
      },
      "source": [
        "df_clean['EstimatedRevenueRange'].value_counts()"
      ],
      "execution_count": 0,
      "outputs": [
        {
          "output_type": "execute_result",
          "data": {
            "text/plain": [
              "$1M to $10M      2432\n",
              "Less than $1M    1385\n",
              "$10M+             513\n",
              "Name: EstimatedRevenueRange, dtype: int64"
            ]
          },
          "metadata": {
            "tags": []
          },
          "execution_count": 57
        }
      ]
    },
    {
      "cell_type": "code",
      "metadata": {
        "id": "78AzlOH2m0kq",
        "colab_type": "code",
        "colab": {}
      },
      "source": [
        "df_clean['EstimatedRevenueRange']=df_clean['EstimatedRevenueRange'].fillna('unknown')"
      ],
      "execution_count": 0,
      "outputs": []
    },
    {
      "cell_type": "code",
      "metadata": {
        "id": "YXMK3aWMnAlB",
        "colab_type": "code",
        "outputId": "64e2dea1-546c-4038-fce3-0dcc794071ee",
        "colab": {
          "base_uri": "https://localhost:8080/",
          "height": 107
        }
      },
      "source": [
        "df_clean['EstimatedRevenueRange'].value_counts()"
      ],
      "execution_count": 0,
      "outputs": [
        {
          "output_type": "execute_result",
          "data": {
            "text/plain": [
              "unknown          3882\n",
              "$1M to $10M      2432\n",
              "Less than $1M    1385\n",
              "$10M+             513\n",
              "Name: EstimatedRevenueRange, dtype: int64"
            ]
          },
          "metadata": {
            "tags": []
          },
          "execution_count": 59
        }
      ]
    },
    {
      "cell_type": "markdown",
      "metadata": {
        "id": "GP4YmYq55lhu",
        "colab_type": "text"
      },
      "source": [
        "####Top5Investors (1453 missing)"
      ]
    },
    {
      "cell_type": "code",
      "metadata": {
        "id": "4NBoLbyW5tlU",
        "colab_type": "code",
        "outputId": "e1294513-77e9-4485-aec6-c2228747718b",
        "colab": {
          "base_uri": "https://localhost:8080/",
          "height": 233
        }
      },
      "source": [
        "df_clean['Top5Investors'].value_counts()"
      ],
      "execution_count": 0,
      "outputs": [
        {
          "output_type": "execute_result",
          "data": {
            "text/plain": [
              "Y Combinator                                                                                            295\n",
              "500 Startups                                                                                            107\n",
              "Plug and Play                                                                                            63\n",
              "Start-Up Chile                                                                                           30\n",
              "Alchemist Accelerator                                                                                    25\n",
              "                                                                                                       ... \n",
              "Y Combinator, General Catalyst, Soma Capital, Liquid 2 Ventures, Paul Buchheit                            1\n",
              "Alexis Ohanian, Quest Venture Partners                                                                    1\n",
              "Canaan Partners, Salesforce Ventures, Vertex Ventures, Scale Venture Partners, Adams Street Partners      1\n",
              "Goldman Sachs, Morgan Stanley, Andreessen Horowitz, T. Rowe Price, Khosla Ventures                        1\n",
              "Idowu Akinleye                                                                                            1\n",
              "Name: Top5Investors, Length: 5675, dtype: int64"
            ]
          },
          "metadata": {
            "tags": []
          },
          "execution_count": 60
        }
      ]
    },
    {
      "cell_type": "markdown",
      "metadata": {
        "id": "raI2TnsR52Xg",
        "colab_type": "text"
      },
      "source": [
        "['Y Combinator',                       'Startups',\n",
        "'Plug and Play',\n",
        "'Start-Up Chile','Alchemist Accelerator']are the most famous Investor, but some of others are not.We can make a list of famous investors."
      ]
    },
    {
      "cell_type": "code",
      "metadata": {
        "id": "bHCWOQo79uuY",
        "colab_type": "code",
        "colab": {}
      },
      "source": [
        "famous_investor=['Y Combinator',  '500 Startups', 'Plug and Play',\n",
        "                 'Start-Up Chile','Alchemist Accelerator']"
      ],
      "execution_count": 0,
      "outputs": []
    },
    {
      "cell_type": "markdown",
      "metadata": {
        "id": "0voJ5-Za8Id_",
        "colab_type": "text"
      },
      "source": [
        "##Latent Manifold"
      ]
    },
    {
      "cell_type": "markdown",
      "metadata": {
        "id": "e85-jj8V7xtE",
        "colab_type": "text"
      },
      "source": [
        "###Now,we can get the Latent Manifold here, if the company was invested by famous investors.It seems that companies invested by well-known investment institutions may be more likely to succeed because they have an invisible endorsement"
      ]
    },
    {
      "cell_type": "markdown",
      "metadata": {
        "id": "XD2e3X7dqGGr",
        "colab_type": "text"
      },
      "source": [
        "###Get the inv_by_famous_investor by the Top5Investors."
      ]
    },
    {
      "cell_type": "code",
      "metadata": {
        "id": "DZSdXABO_3gZ",
        "colab_type": "code",
        "colab": {}
      },
      "source": [
        "df_clean['Top5Investors']=df_clean['Top5Investors'].fillna('none')"
      ],
      "execution_count": 0,
      "outputs": []
    },
    {
      "cell_type": "code",
      "metadata": {
        "id": "2mtk33PB_jDu",
        "colab_type": "code",
        "colab": {}
      },
      "source": [
        "list_inv=df_clean['Top5Investors'].values.tolist()"
      ],
      "execution_count": 0,
      "outputs": []
    },
    {
      "cell_type": "code",
      "metadata": {
        "id": "j8-rdOnSAIi6",
        "colab_type": "code",
        "outputId": "58c7bb68-ec9b-455d-e4f1-0573d9009644",
        "colab": {
          "base_uri": "https://localhost:8080/",
          "height": 35
        }
      },
      "source": [
        "len(list_inv)"
      ],
      "execution_count": 0,
      "outputs": [
        {
          "output_type": "execute_result",
          "data": {
            "text/plain": [
              "8212"
            ]
          },
          "metadata": {
            "tags": []
          },
          "execution_count": 64
        }
      ]
    },
    {
      "cell_type": "code",
      "metadata": {
        "id": "aP15lgB5AMSf",
        "colab_type": "code",
        "outputId": "a74f5efa-40ca-44cc-db21-7c61896b44a7",
        "colab": {
          "base_uri": "https://localhost:8080/",
          "height": 35
        }
      },
      "source": [
        "df_clean.shape"
      ],
      "execution_count": 0,
      "outputs": [
        {
          "output_type": "execute_result",
          "data": {
            "text/plain": [
              "(8212, 19)"
            ]
          },
          "metadata": {
            "tags": []
          },
          "execution_count": 65
        }
      ]
    },
    {
      "cell_type": "code",
      "metadata": {
        "id": "iwwXav4J61Hf",
        "colab_type": "code",
        "colab": {}
      },
      "source": [
        "df_clean['inv_by_famous_investor']=None"
      ],
      "execution_count": 0,
      "outputs": []
    },
    {
      "cell_type": "code",
      "metadata": {
        "id": "0JTzsNykDKVm",
        "colab_type": "code",
        "colab": {}
      },
      "source": [
        "df_clean['inv_by_famous_investor']=df_clean['inv_by_famous_investor'].fillna(0)"
      ],
      "execution_count": 0,
      "outputs": []
    },
    {
      "cell_type": "code",
      "metadata": {
        "id": "skx4fMBHCYqr",
        "colab_type": "code",
        "outputId": "6395e3ca-6663-4bd8-cf31-85551122aeab",
        "colab": {
          "base_uri": "https://localhost:8080/",
          "height": 107
        }
      },
      "source": [
        "famous_investor"
      ],
      "execution_count": 0,
      "outputs": [
        {
          "output_type": "execute_result",
          "data": {
            "text/plain": [
              "['Y Combinator',\n",
              " '500 Startups',\n",
              " 'Plug and Play',\n",
              " 'Start-Up Chile',\n",
              " 'Alchemist Accelerator']"
            ]
          },
          "metadata": {
            "tags": []
          },
          "execution_count": 68
        }
      ]
    },
    {
      "cell_type": "code",
      "metadata": {
        "id": "0Xmg_Wev6ltb",
        "colab_type": "code",
        "outputId": "d47898e8-484a-449d-9fbf-b73318286fc8",
        "colab": {
          "base_uri": "https://localhost:8080/",
          "height": 287
        }
      },
      "source": [
        "for inv_name in famous_investor:\n",
        "  print(inv_name)\n",
        "  for i in range(df_clean.shape[0]):     \n",
        "    if df_clean['Top5Investors'].values[i]==inv_name:\n",
        "      df_clean['inv_by_famous_investor'][i]=1\n",
        "    if  inv_name in df_clean['Top5Investors'].values[i]:\n",
        "      df_clean['inv_by_famous_investor'][i]=1"
      ],
      "execution_count": 0,
      "outputs": [
        {
          "output_type": "stream",
          "text": [
            "Y Combinator\n",
            "500 Startups\n",
            "Plug and Play\n"
          ],
          "name": "stdout"
        },
        {
          "output_type": "stream",
          "text": [
            "/usr/local/lib/python3.6/dist-packages/ipykernel_launcher.py:7: SettingWithCopyWarning: \n",
            "A value is trying to be set on a copy of a slice from a DataFrame\n",
            "\n",
            "See the caveats in the documentation: https://pandas.pydata.org/pandas-docs/stable/user_guide/indexing.html#returning-a-view-versus-a-copy\n",
            "  import sys\n",
            "/usr/local/lib/python3.6/dist-packages/ipykernel_launcher.py:5: SettingWithCopyWarning: \n",
            "A value is trying to be set on a copy of a slice from a DataFrame\n",
            "\n",
            "See the caveats in the documentation: https://pandas.pydata.org/pandas-docs/stable/user_guide/indexing.html#returning-a-view-versus-a-copy\n",
            "  \"\"\"\n"
          ],
          "name": "stderr"
        },
        {
          "output_type": "stream",
          "text": [
            "Start-Up Chile\n",
            "Alchemist Accelerator\n"
          ],
          "name": "stdout"
        }
      ]
    },
    {
      "cell_type": "code",
      "metadata": {
        "id": "eLpZaDiKBU8B",
        "colab_type": "code",
        "colab": {}
      },
      "source": [
        "df_clean['inv_by_famous_investor']=df_clean['inv_by_famous_investor'].fillna(0)"
      ],
      "execution_count": 0,
      "outputs": []
    },
    {
      "cell_type": "code",
      "metadata": {
        "id": "lYOEPTF2A3kJ",
        "colab_type": "code",
        "outputId": "fdc9fcdc-014d-461d-eb2e-0b5f695f396d",
        "colab": {
          "base_uri": "https://localhost:8080/",
          "height": 71
        }
      },
      "source": [
        "df_clean['inv_by_famous_investor'].value_counts()"
      ],
      "execution_count": 0,
      "outputs": [
        {
          "output_type": "execute_result",
          "data": {
            "text/plain": [
              "0    6678\n",
              "1    1534\n",
              "Name: inv_by_famous_investor, dtype: int64"
            ]
          },
          "metadata": {
            "tags": []
          },
          "execution_count": 71
        }
      ]
    },
    {
      "cell_type": "code",
      "metadata": {
        "id": "pGKcl0aGhFyF",
        "colab_type": "code",
        "colab": {}
      },
      "source": [
        "df_clean.drop(['Top5Investors'],axis=1,inplace=True)"
      ],
      "execution_count": 0,
      "outputs": []
    },
    {
      "cell_type": "code",
      "metadata": {
        "id": "8Nm1ZqIs4J_I",
        "colab_type": "code",
        "outputId": "da5fedb1-af54-4110-b507-6e41059030c3",
        "colab": {
          "base_uri": "https://localhost:8080/",
          "height": 485
        }
      },
      "source": [
        "df_clean.info()"
      ],
      "execution_count": 0,
      "outputs": [
        {
          "output_type": "stream",
          "text": [
            "<class 'pandas.core.frame.DataFrame'>\n",
            "Int64Index: 8212 entries, 0 to 8447\n",
            "Data columns (total 19 columns):\n",
            " #   Column                     Non-Null Count  Dtype  \n",
            "---  ------                     --------------  -----  \n",
            " 0   OrganizationName           8212 non-null   object \n",
            " 1   BuiltWith-ActiveTechCount  8212 non-null   float64\n",
            " 2   EstimatedRevenueRange      8212 non-null   object \n",
            " 3   FoundedDate                8212 non-null   object \n",
            " 4   FoundedDatePrecision       8212 non-null   object \n",
            " 5   FundingStatus              8212 non-null   object \n",
            " 6   HeadquartersLocation       8212 non-null   object \n",
            " 7   IPqwery-PatentsGranted     8212 non-null   float64\n",
            " 8   Industries                 8141 non-null   object \n",
            " 9   IndustryGroups             8122 non-null   object \n",
            " 10  LastEquityFundingType      8212 non-null   object \n",
            " 11  LastFundingDate            8212 non-null   object \n",
            " 12  NumberofEmployees          7184 non-null   object \n",
            " 13  NumberofFounders           8212 non-null   float64\n",
            " 14  NumberofFundingRounds      8212 non-null   int64  \n",
            " 15  NumberofInvestors          8212 non-null   float64\n",
            " 16  NumberofLeadInvestors      8212 non-null   float64\n",
            " 17  target                     8212 non-null   int64  \n",
            " 18  inv_by_famous_investor     8212 non-null   int64  \n",
            "dtypes: float64(5), int64(3), object(11)\n",
            "memory usage: 1.6+ MB\n"
          ],
          "name": "stdout"
        }
      ]
    },
    {
      "cell_type": "code",
      "metadata": {
        "id": "ZFno10Pwu67y",
        "colab_type": "code",
        "outputId": "824cc28f-8be6-4f4e-c0f3-95e18c4e8a7b",
        "colab": {
          "base_uri": "https://localhost:8080/",
          "height": 197
        }
      },
      "source": [
        "cat_columns_map2=get_cat_columns(df_clean)\n",
        "report_cluster2=get_report_cluster(cat_columns_map2,df_clean)\n",
        "report_cluster2"
      ],
      "execution_count": 0,
      "outputs": [
        {
          "output_type": "execute_result",
          "data": {
            "text/plain": [
              "{3: ['FoundedDatePrecision', 'FundingStatus'],\n",
              " 4: ['EstimatedRevenueRange'],\n",
              " 5: ['NumberofEmployees'],\n",
              " 12: ['LastEquityFundingType'],\n",
              " 97: ['HeadquartersLocation'],\n",
              " 1428: ['FoundedDate'],\n",
              " 2804: ['LastFundingDate'],\n",
              " 3146: ['IndustryGroups'],\n",
              " 6916: ['Industries'],\n",
              " 8081: ['OrganizationName']}"
            ]
          },
          "metadata": {
            "tags": []
          },
          "execution_count": 74
        }
      ]
    },
    {
      "cell_type": "markdown",
      "metadata": {
        "id": "5Un2OFHpp2ZM",
        "colab_type": "text"
      },
      "source": [
        ""
      ]
    },
    {
      "cell_type": "markdown",
      "metadata": {
        "id": "12yrC9s7-Vz7",
        "colab_type": "text"
      },
      "source": [
        "###Get the Business type of companies by the Industries"
      ]
    },
    {
      "cell_type": "markdown",
      "metadata": {
        "id": "RTYQ0nvE1FEu",
        "colab_type": "text"
      },
      "source": [
        "> The time it takes for a startup to exit depends on the industry.\n",
        "\n"
      ]
    },
    {
      "cell_type": "code",
      "metadata": {
        "id": "_Quasd57-V0B",
        "colab_type": "code",
        "colab": {}
      },
      "source": [
        "df_new = df_clean[['Industries']]"
      ],
      "execution_count": 0,
      "outputs": []
    },
    {
      "cell_type": "code",
      "metadata": {
        "id": "ZO_2bZ4X-V0D",
        "colab_type": "code",
        "outputId": "3486fa60-3d3c-4e9e-d993-e65385c02101",
        "colab": {
          "base_uri": "https://localhost:8080/",
          "height": 125
        }
      },
      "source": [
        "df_new['Industries'] = df_new['Industries'].astype(str)"
      ],
      "execution_count": 0,
      "outputs": [
        {
          "output_type": "stream",
          "text": [
            "/usr/local/lib/python3.6/dist-packages/ipykernel_launcher.py:1: SettingWithCopyWarning: \n",
            "A value is trying to be set on a copy of a slice from a DataFrame.\n",
            "Try using .loc[row_indexer,col_indexer] = value instead\n",
            "\n",
            "See the caveats in the documentation: https://pandas.pydata.org/pandas-docs/stable/user_guide/indexing.html#returning-a-view-versus-a-copy\n",
            "  \"\"\"Entry point for launching an IPython kernel.\n"
          ],
          "name": "stderr"
        }
      ]
    },
    {
      "cell_type": "code",
      "metadata": {
        "id": "GQxyKjyfpENw",
        "colab_type": "code",
        "outputId": "b3824c9d-4b1a-4120-a693-252254189bbd",
        "colab": {
          "base_uri": "https://localhost:8080/",
          "height": 419
        }
      },
      "source": [
        "df_new"
      ],
      "execution_count": 0,
      "outputs": [
        {
          "output_type": "execute_result",
          "data": {
            "text/html": [
              "<div>\n",
              "<style scoped>\n",
              "    .dataframe tbody tr th:only-of-type {\n",
              "        vertical-align: middle;\n",
              "    }\n",
              "\n",
              "    .dataframe tbody tr th {\n",
              "        vertical-align: top;\n",
              "    }\n",
              "\n",
              "    .dataframe thead th {\n",
              "        text-align: right;\n",
              "    }\n",
              "</style>\n",
              "<table border=\"1\" class=\"dataframe\">\n",
              "  <thead>\n",
              "    <tr style=\"text-align: right;\">\n",
              "      <th></th>\n",
              "      <th>Industries</th>\n",
              "    </tr>\n",
              "  </thead>\n",
              "  <tbody>\n",
              "    <tr>\n",
              "      <th>0</th>\n",
              "      <td>Health Care, Software</td>\n",
              "    </tr>\n",
              "    <tr>\n",
              "      <th>1</th>\n",
              "      <td>Advertising, E-Commerce, Internet</td>\n",
              "    </tr>\n",
              "    <tr>\n",
              "      <th>2</th>\n",
              "      <td>Artificial Intelligence, Big Data, Cloud Compu...</td>\n",
              "    </tr>\n",
              "    <tr>\n",
              "      <th>3</th>\n",
              "      <td>Cloud Computing, Software</td>\n",
              "    </tr>\n",
              "    <tr>\n",
              "      <th>4</th>\n",
              "      <td>Clean Energy, Electronics, Manufacturing, Solar</td>\n",
              "    </tr>\n",
              "    <tr>\n",
              "      <th>...</th>\n",
              "      <td>...</td>\n",
              "    </tr>\n",
              "    <tr>\n",
              "      <th>8443</th>\n",
              "      <td>Wireless</td>\n",
              "    </tr>\n",
              "    <tr>\n",
              "      <th>8444</th>\n",
              "      <td>E-Learning, Gaming, Video Games</td>\n",
              "    </tr>\n",
              "    <tr>\n",
              "      <th>8445</th>\n",
              "      <td>Enterprise, Enterprise Software, Network Secur...</td>\n",
              "    </tr>\n",
              "    <tr>\n",
              "      <th>8446</th>\n",
              "      <td>Apps, Career Planning, Employment, Internet, P...</td>\n",
              "    </tr>\n",
              "    <tr>\n",
              "      <th>8447</th>\n",
              "      <td>E-Commerce, Marketplace, Online Portals</td>\n",
              "    </tr>\n",
              "  </tbody>\n",
              "</table>\n",
              "<p>8212 rows × 1 columns</p>\n",
              "</div>"
            ],
            "text/plain": [
              "                                             Industries\n",
              "0                                 Health Care, Software\n",
              "1                     Advertising, E-Commerce, Internet\n",
              "2     Artificial Intelligence, Big Data, Cloud Compu...\n",
              "3                             Cloud Computing, Software\n",
              "4       Clean Energy, Electronics, Manufacturing, Solar\n",
              "...                                                 ...\n",
              "8443                                           Wireless\n",
              "8444                    E-Learning, Gaming, Video Games\n",
              "8445  Enterprise, Enterprise Software, Network Secur...\n",
              "8446  Apps, Career Planning, Employment, Internet, P...\n",
              "8447            E-Commerce, Marketplace, Online Portals\n",
              "\n",
              "[8212 rows x 1 columns]"
            ]
          },
          "metadata": {
            "tags": []
          },
          "execution_count": 77
        }
      ]
    },
    {
      "cell_type": "code",
      "metadata": {
        "id": "2xeBht16-V0G",
        "colab_type": "code",
        "outputId": "40bd980a-3303-4dcd-9516-0cd51eaf662f",
        "colab": {
          "base_uri": "https://localhost:8080/",
          "height": 287
        }
      },
      "source": [
        "for i in range(len(df['Industries'])):\n",
        "    af = df_new['Industries'].values[i]\n",
        "    bf = af.split(',',1)[0]\n",
        "    cf = bf.lower() \n",
        "    df_new['Industries'][i] = cf"
      ],
      "execution_count": 0,
      "outputs": [
        {
          "output_type": "stream",
          "text": [
            "/usr/local/lib/python3.6/dist-packages/IPython/core/interactiveshell.py:2882: SettingWithCopyWarning: \n",
            "A value is trying to be set on a copy of a slice from a DataFrame\n",
            "\n",
            "See the caveats in the documentation: https://pandas.pydata.org/pandas-docs/stable/user_guide/indexing.html#returning-a-view-versus-a-copy\n",
            "  exec(code_obj, self.user_global_ns, self.user_ns)\n",
            "/usr/local/lib/python3.6/dist-packages/pandas/core/indexing.py:671: SettingWithCopyWarning: \n",
            "A value is trying to be set on a copy of a slice from a DataFrame\n",
            "\n",
            "See the caveats in the documentation: https://pandas.pydata.org/pandas-docs/stable/user_guide/indexing.html#returning-a-view-versus-a-copy\n",
            "  self._setitem_with_indexer(indexer, value)\n",
            "/usr/local/lib/python3.6/dist-packages/ipykernel_launcher.py:5: SettingWithCopyWarning: \n",
            "A value is trying to be set on a copy of a slice from a DataFrame\n",
            "\n",
            "See the caveats in the documentation: https://pandas.pydata.org/pandas-docs/stable/user_guide/indexing.html#returning-a-view-versus-a-copy\n",
            "  \"\"\"\n"
          ],
          "name": "stderr"
        }
      ]
    },
    {
      "cell_type": "code",
      "metadata": {
        "id": "QshlqgQd-V0K",
        "colab_type": "code",
        "colab": {}
      },
      "source": [
        "#df_new"
      ],
      "execution_count": 0,
      "outputs": []
    },
    {
      "cell_type": "code",
      "metadata": {
        "id": "vxj21JiY-V0N",
        "colab_type": "code",
        "colab": {}
      },
      "source": [
        "df_clean['Buessiness'] = df_new['Industries']"
      ],
      "execution_count": 0,
      "outputs": []
    },
    {
      "cell_type": "code",
      "metadata": {
        "id": "Q5BwXNnJ-V0P",
        "colab_type": "code",
        "outputId": "2fd8ecfc-e4e1-417c-d3b5-ec02ee409a69",
        "colab": {
          "base_uri": "https://localhost:8080/",
          "height": 233
        }
      },
      "source": [
        "df_clean.Buessiness.value_counts()"
      ],
      "execution_count": 0,
      "outputs": [
        {
          "output_type": "execute_result",
          "data": {
            "text/plain": [
              "artificial intelligence    580\n",
              "apps                       436\n",
              "analytics                  356\n",
              "health care                320\n",
              "e-commerce                 307\n",
              "                          ... \n",
              "personalization              1\n",
              "local business               1\n",
              "fleet management             1\n",
              "ride sharing                 1\n",
              "cosmetics                    1\n",
              "Name: Buessiness, Length: 436, dtype: int64"
            ]
          },
          "metadata": {
            "tags": []
          },
          "execution_count": 81
        }
      ]
    },
    {
      "cell_type": "code",
      "metadata": {
        "id": "UKFbpWnsrfoa",
        "colab_type": "code",
        "colab": {}
      },
      "source": [
        "df_clean.drop(['IndustryGroups'],axis=1,inplace=True)"
      ],
      "execution_count": 0,
      "outputs": []
    },
    {
      "cell_type": "code",
      "metadata": {
        "id": "Vjy9akOwr5cj",
        "colab_type": "code",
        "colab": {}
      },
      "source": [
        "df_clean.drop(['Industries'],axis=1,inplace=True)"
      ],
      "execution_count": 0,
      "outputs": []
    },
    {
      "cell_type": "code",
      "metadata": {
        "id": "HbMWQwUG-V0R",
        "colab_type": "code",
        "outputId": "2f336178-f361-411c-8d78-d64e097b785e",
        "colab": {
          "base_uri": "https://localhost:8080/",
          "height": 161
        }
      },
      "source": [
        "df_clean.columns"
      ],
      "execution_count": 0,
      "outputs": [
        {
          "output_type": "execute_result",
          "data": {
            "text/plain": [
              "Index(['OrganizationName', 'BuiltWith-ActiveTechCount',\n",
              "       'EstimatedRevenueRange', 'FoundedDate', 'FoundedDatePrecision',\n",
              "       'FundingStatus', 'HeadquartersLocation', 'IPqwery-PatentsGranted',\n",
              "       'LastEquityFundingType', 'LastFundingDate', 'NumberofEmployees',\n",
              "       'NumberofFounders', 'NumberofFundingRounds', 'NumberofInvestors',\n",
              "       'NumberofLeadInvestors', 'target', 'inv_by_famous_investor',\n",
              "       'Buessiness'],\n",
              "      dtype='object')"
            ]
          },
          "metadata": {
            "tags": []
          },
          "execution_count": 84
        }
      ]
    },
    {
      "cell_type": "code",
      "metadata": {
        "id": "f0l8uvLsrXmo",
        "colab_type": "code",
        "outputId": "b13d5378-36c4-4add-da54-d0dc5001b244",
        "colab": {
          "base_uri": "https://localhost:8080/",
          "height": 179
        }
      },
      "source": [
        "cat_columns_map3=get_cat_columns(df_clean)\n",
        "report_cluster3=get_report_cluster(cat_columns_map3,df_clean)\n",
        "report_cluster3"
      ],
      "execution_count": 0,
      "outputs": [
        {
          "output_type": "execute_result",
          "data": {
            "text/plain": [
              "{3: ['FoundedDatePrecision', 'FundingStatus'],\n",
              " 4: ['EstimatedRevenueRange'],\n",
              " 5: ['NumberofEmployees'],\n",
              " 12: ['LastEquityFundingType'],\n",
              " 97: ['HeadquartersLocation'],\n",
              " 436: ['Buessiness'],\n",
              " 1428: ['FoundedDate'],\n",
              " 2804: ['LastFundingDate'],\n",
              " 8081: ['OrganizationName']}"
            ]
          },
          "metadata": {
            "tags": []
          },
          "execution_count": 85
        }
      ]
    },
    {
      "cell_type": "markdown",
      "metadata": {
        "id": "VBTzFfqYxRXs",
        "colab_type": "text"
      },
      "source": [
        "Here,OrganizationName just for index."
      ]
    },
    {
      "cell_type": "markdown",
      "metadata": {
        "id": "plJ6RWfTsNZU",
        "colab_type": "text"
      },
      "source": [
        "####HeadquartersLocation"
      ]
    },
    {
      "cell_type": "code",
      "metadata": {
        "id": "mdFhICV_sUYc",
        "colab_type": "code",
        "outputId": "3fbf8be6-50e2-4290-a56b-5531e8951ebe",
        "colab": {
          "base_uri": "https://localhost:8080/",
          "height": 233
        }
      },
      "source": [
        "df_clean['HeadquartersLocation'].value_counts()"
      ],
      "execution_count": 0,
      "outputs": [
        {
          "output_type": "execute_result",
          "data": {
            "text/plain": [
              "San Francisco, California, United States        4023\n",
              "Palo Alto, California, United States             641\n",
              "San Jose, California, United States              445\n",
              "Mountain View, California, United States         410\n",
              "Sunnyvale, California, United States             290\n",
              "                                                ... \n",
              "Castro Valley, California, United States           1\n",
              "San Juan Bautista, California, United States       1\n",
              "San Martin, California, United States              1\n",
              "Hercules, California, United States                1\n",
              "Windsor, California, United States                 1\n",
              "Name: HeadquartersLocation, Length: 97, dtype: int64"
            ]
          },
          "metadata": {
            "tags": []
          },
          "execution_count": 86
        }
      ]
    },
    {
      "cell_type": "markdown",
      "metadata": {
        "id": "HmdLXP5DspPu",
        "colab_type": "text"
      },
      "source": [
        "All of them base at Bay Area, maybe we can location them to some fewer locations."
      ]
    },
    {
      "cell_type": "code",
      "metadata": {
        "id": "BbY4tz4wtFpj",
        "colab_type": "code",
        "outputId": "0d8d4a87-0e19-43d4-c0c0-55cfc6824564",
        "colab": {
          "base_uri": "https://localhost:8080/",
          "height": 170
        }
      },
      "source": [
        "make_percent_report(report_cluster3,97,df_clean)"
      ],
      "execution_count": 0,
      "outputs": [
        {
          "output_type": "display_data",
          "data": {
            "text/html": [
              "<style  type=\"text/css\" >\n",
              "    #T_ff54b0da_7b09_11ea_b618_0242ac1c0002row1_col1 {\n",
              "            background-color:  lightgreen;\n",
              "        }    #T_ff54b0da_7b09_11ea_b618_0242ac1c0002row1_col2 {\n",
              "            background-color:  lightgreen;\n",
              "        }    #T_ff54b0da_7b09_11ea_b618_0242ac1c0002row1_col3 {\n",
              "            background-color:  lightgreen;\n",
              "        }    #T_ff54b0da_7b09_11ea_b618_0242ac1c0002row1_col4 {\n",
              "            background-color:  lightgreen;\n",
              "        }    #T_ff54b0da_7b09_11ea_b618_0242ac1c0002row1_col5 {\n",
              "            background-color:  lightgreen;\n",
              "        }    #T_ff54b0da_7b09_11ea_b618_0242ac1c0002row1_col6 {\n",
              "            background-color:  lightgreen;\n",
              "        }    #T_ff54b0da_7b09_11ea_b618_0242ac1c0002row1_col7 {\n",
              "            background-color:  lightgreen;\n",
              "        }    #T_ff54b0da_7b09_11ea_b618_0242ac1c0002row1_col8 {\n",
              "            background-color:  lightgreen;\n",
              "        }    #T_ff54b0da_7b09_11ea_b618_0242ac1c0002row1_col9 {\n",
              "            background-color:  lightgreen;\n",
              "        }    #T_ff54b0da_7b09_11ea_b618_0242ac1c0002row1_col10 {\n",
              "            background-color:  lightgreen;\n",
              "        }    #T_ff54b0da_7b09_11ea_b618_0242ac1c0002row1_col11 {\n",
              "            background-color:  lightgreen;\n",
              "        }    #T_ff54b0da_7b09_11ea_b618_0242ac1c0002row1_col12 {\n",
              "            background-color:  lightgreen;\n",
              "        }    #T_ff54b0da_7b09_11ea_b618_0242ac1c0002row1_col13 {\n",
              "            background-color:  lightgreen;\n",
              "        }    #T_ff54b0da_7b09_11ea_b618_0242ac1c0002row1_col14 {\n",
              "            background-color:  lightgreen;\n",
              "        }    #T_ff54b0da_7b09_11ea_b618_0242ac1c0002row1_col15 {\n",
              "            background-color:  lightgreen;\n",
              "        }    #T_ff54b0da_7b09_11ea_b618_0242ac1c0002row1_col16 {\n",
              "            background-color:  lightgreen;\n",
              "        }    #T_ff54b0da_7b09_11ea_b618_0242ac1c0002row1_col17 {\n",
              "            background-color:  lightgreen;\n",
              "        }    #T_ff54b0da_7b09_11ea_b618_0242ac1c0002row1_col18 {\n",
              "            background-color:  lightgreen;\n",
              "        }    #T_ff54b0da_7b09_11ea_b618_0242ac1c0002row1_col19 {\n",
              "            background-color:  lightgreen;\n",
              "        }    #T_ff54b0da_7b09_11ea_b618_0242ac1c0002row1_col20 {\n",
              "            background-color:  lightgreen;\n",
              "        }    #T_ff54b0da_7b09_11ea_b618_0242ac1c0002row1_col21 {\n",
              "            background-color:  lightgreen;\n",
              "        }    #T_ff54b0da_7b09_11ea_b618_0242ac1c0002row1_col22 {\n",
              "            background-color:  lightgreen;\n",
              "        }    #T_ff54b0da_7b09_11ea_b618_0242ac1c0002row1_col23 {\n",
              "            background-color:  lightgreen;\n",
              "        }    #T_ff54b0da_7b09_11ea_b618_0242ac1c0002row1_col24 {\n",
              "            background-color:  lightgreen;\n",
              "        }    #T_ff54b0da_7b09_11ea_b618_0242ac1c0002row1_col25 {\n",
              "            background-color:  lightgreen;\n",
              "        }    #T_ff54b0da_7b09_11ea_b618_0242ac1c0002row1_col26 {\n",
              "            background-color:  lightgreen;\n",
              "        }    #T_ff54b0da_7b09_11ea_b618_0242ac1c0002row1_col27 {\n",
              "            background-color:  lightgreen;\n",
              "        }    #T_ff54b0da_7b09_11ea_b618_0242ac1c0002row1_col28 {\n",
              "            background-color:  lightgreen;\n",
              "        }    #T_ff54b0da_7b09_11ea_b618_0242ac1c0002row1_col29 {\n",
              "            background-color:  lightgreen;\n",
              "        }    #T_ff54b0da_7b09_11ea_b618_0242ac1c0002row1_col30 {\n",
              "            background-color:  lightgreen;\n",
              "        }    #T_ff54b0da_7b09_11ea_b618_0242ac1c0002row1_col31 {\n",
              "            background-color:  lightgreen;\n",
              "        }    #T_ff54b0da_7b09_11ea_b618_0242ac1c0002row1_col32 {\n",
              "            background-color:  lightgreen;\n",
              "        }    #T_ff54b0da_7b09_11ea_b618_0242ac1c0002row1_col33 {\n",
              "            background-color:  lightgreen;\n",
              "        }    #T_ff54b0da_7b09_11ea_b618_0242ac1c0002row1_col34 {\n",
              "            background-color:  lightgreen;\n",
              "        }    #T_ff54b0da_7b09_11ea_b618_0242ac1c0002row1_col35 {\n",
              "            background-color:  lightgreen;\n",
              "        }    #T_ff54b0da_7b09_11ea_b618_0242ac1c0002row1_col36 {\n",
              "            background-color:  lightgreen;\n",
              "        }    #T_ff54b0da_7b09_11ea_b618_0242ac1c0002row1_col37 {\n",
              "            background-color:  lightgreen;\n",
              "        }    #T_ff54b0da_7b09_11ea_b618_0242ac1c0002row1_col38 {\n",
              "            background-color:  lightgreen;\n",
              "        }    #T_ff54b0da_7b09_11ea_b618_0242ac1c0002row1_col39 {\n",
              "            background-color:  lightgreen;\n",
              "        }    #T_ff54b0da_7b09_11ea_b618_0242ac1c0002row1_col40 {\n",
              "            background-color:  lightgreen;\n",
              "        }    #T_ff54b0da_7b09_11ea_b618_0242ac1c0002row1_col41 {\n",
              "            background-color:  lightgreen;\n",
              "        }    #T_ff54b0da_7b09_11ea_b618_0242ac1c0002row1_col42 {\n",
              "            background-color:  lightgreen;\n",
              "        }    #T_ff54b0da_7b09_11ea_b618_0242ac1c0002row1_col43 {\n",
              "            background-color:  lightgreen;\n",
              "        }    #T_ff54b0da_7b09_11ea_b618_0242ac1c0002row1_col44 {\n",
              "            background-color:  lightgreen;\n",
              "        }    #T_ff54b0da_7b09_11ea_b618_0242ac1c0002row1_col45 {\n",
              "            background-color:  lightgreen;\n",
              "        }    #T_ff54b0da_7b09_11ea_b618_0242ac1c0002row1_col46 {\n",
              "            background-color:  lightgreen;\n",
              "        }    #T_ff54b0da_7b09_11ea_b618_0242ac1c0002row1_col47 {\n",
              "            background-color:  lightgreen;\n",
              "        }    #T_ff54b0da_7b09_11ea_b618_0242ac1c0002row1_col48 {\n",
              "            background-color:  lightgreen;\n",
              "        }    #T_ff54b0da_7b09_11ea_b618_0242ac1c0002row1_col49 {\n",
              "            background-color:  lightgreen;\n",
              "        }    #T_ff54b0da_7b09_11ea_b618_0242ac1c0002row1_col50 {\n",
              "            background-color:  lightgreen;\n",
              "        }    #T_ff54b0da_7b09_11ea_b618_0242ac1c0002row1_col51 {\n",
              "            background-color:  lightgreen;\n",
              "        }    #T_ff54b0da_7b09_11ea_b618_0242ac1c0002row1_col52 {\n",
              "            background-color:  lightgreen;\n",
              "        }    #T_ff54b0da_7b09_11ea_b618_0242ac1c0002row1_col53 {\n",
              "            background-color:  lightgreen;\n",
              "        }    #T_ff54b0da_7b09_11ea_b618_0242ac1c0002row1_col54 {\n",
              "            background-color:  lightgreen;\n",
              "        }    #T_ff54b0da_7b09_11ea_b618_0242ac1c0002row1_col55 {\n",
              "            background-color:  lightgreen;\n",
              "        }    #T_ff54b0da_7b09_11ea_b618_0242ac1c0002row1_col56 {\n",
              "            background-color:  lightgreen;\n",
              "        }    #T_ff54b0da_7b09_11ea_b618_0242ac1c0002row1_col57 {\n",
              "            background-color:  lightgreen;\n",
              "        }    #T_ff54b0da_7b09_11ea_b618_0242ac1c0002row1_col58 {\n",
              "            background-color:  lightgreen;\n",
              "        }    #T_ff54b0da_7b09_11ea_b618_0242ac1c0002row1_col59 {\n",
              "            background-color:  lightgreen;\n",
              "        }    #T_ff54b0da_7b09_11ea_b618_0242ac1c0002row1_col60 {\n",
              "            background-color:  lightgreen;\n",
              "        }    #T_ff54b0da_7b09_11ea_b618_0242ac1c0002row1_col61 {\n",
              "            background-color:  lightgreen;\n",
              "        }    #T_ff54b0da_7b09_11ea_b618_0242ac1c0002row1_col62 {\n",
              "            background-color:  lightgreen;\n",
              "        }    #T_ff54b0da_7b09_11ea_b618_0242ac1c0002row1_col63 {\n",
              "            background-color:  lightgreen;\n",
              "        }    #T_ff54b0da_7b09_11ea_b618_0242ac1c0002row1_col64 {\n",
              "            background-color:  lightgreen;\n",
              "        }    #T_ff54b0da_7b09_11ea_b618_0242ac1c0002row1_col65 {\n",
              "            background-color:  lightgreen;\n",
              "        }    #T_ff54b0da_7b09_11ea_b618_0242ac1c0002row1_col66 {\n",
              "            background-color:  lightgreen;\n",
              "        }    #T_ff54b0da_7b09_11ea_b618_0242ac1c0002row1_col67 {\n",
              "            background-color:  lightgreen;\n",
              "        }    #T_ff54b0da_7b09_11ea_b618_0242ac1c0002row1_col68 {\n",
              "            background-color:  lightgreen;\n",
              "        }    #T_ff54b0da_7b09_11ea_b618_0242ac1c0002row1_col69 {\n",
              "            background-color:  lightgreen;\n",
              "        }    #T_ff54b0da_7b09_11ea_b618_0242ac1c0002row1_col70 {\n",
              "            background-color:  lightgreen;\n",
              "        }    #T_ff54b0da_7b09_11ea_b618_0242ac1c0002row1_col71 {\n",
              "            background-color:  lightgreen;\n",
              "        }    #T_ff54b0da_7b09_11ea_b618_0242ac1c0002row1_col73 {\n",
              "            background-color:  lightgreen;\n",
              "        }    #T_ff54b0da_7b09_11ea_b618_0242ac1c0002row1_col74 {\n",
              "            background-color:  lightgreen;\n",
              "        }    #T_ff54b0da_7b09_11ea_b618_0242ac1c0002row1_col75 {\n",
              "            background-color:  lightgreen;\n",
              "        }    #T_ff54b0da_7b09_11ea_b618_0242ac1c0002row1_col76 {\n",
              "            background-color:  lightgreen;\n",
              "        }    #T_ff54b0da_7b09_11ea_b618_0242ac1c0002row1_col77 {\n",
              "            background-color:  lightgreen;\n",
              "        }    #T_ff54b0da_7b09_11ea_b618_0242ac1c0002row1_col78 {\n",
              "            background-color:  lightgreen;\n",
              "        }    #T_ff54b0da_7b09_11ea_b618_0242ac1c0002row1_col79 {\n",
              "            background-color:  lightgreen;\n",
              "        }    #T_ff54b0da_7b09_11ea_b618_0242ac1c0002row1_col80 {\n",
              "            background-color:  lightgreen;\n",
              "        }    #T_ff54b0da_7b09_11ea_b618_0242ac1c0002row1_col81 {\n",
              "            background-color:  lightgreen;\n",
              "        }    #T_ff54b0da_7b09_11ea_b618_0242ac1c0002row1_col82 {\n",
              "            background-color:  lightgreen;\n",
              "        }    #T_ff54b0da_7b09_11ea_b618_0242ac1c0002row1_col83 {\n",
              "            background-color:  lightgreen;\n",
              "        }    #T_ff54b0da_7b09_11ea_b618_0242ac1c0002row1_col84 {\n",
              "            background-color:  lightgreen;\n",
              "        }    #T_ff54b0da_7b09_11ea_b618_0242ac1c0002row1_col85 {\n",
              "            background-color:  lightgreen;\n",
              "        }    #T_ff54b0da_7b09_11ea_b618_0242ac1c0002row1_col86 {\n",
              "            background-color:  lightgreen;\n",
              "        }    #T_ff54b0da_7b09_11ea_b618_0242ac1c0002row1_col87 {\n",
              "            background-color:  lightgreen;\n",
              "        }    #T_ff54b0da_7b09_11ea_b618_0242ac1c0002row1_col88 {\n",
              "            background-color:  lightgreen;\n",
              "        }    #T_ff54b0da_7b09_11ea_b618_0242ac1c0002row1_col89 {\n",
              "            background-color:  lightgreen;\n",
              "        }    #T_ff54b0da_7b09_11ea_b618_0242ac1c0002row1_col90 {\n",
              "            background-color:  lightgreen;\n",
              "        }    #T_ff54b0da_7b09_11ea_b618_0242ac1c0002row1_col91 {\n",
              "            background-color:  lightgreen;\n",
              "        }    #T_ff54b0da_7b09_11ea_b618_0242ac1c0002row1_col92 {\n",
              "            background-color:  lightgreen;\n",
              "        }    #T_ff54b0da_7b09_11ea_b618_0242ac1c0002row1_col93 {\n",
              "            background-color:  lightgreen;\n",
              "        }    #T_ff54b0da_7b09_11ea_b618_0242ac1c0002row1_col94 {\n",
              "            background-color:  lightgreen;\n",
              "        }    #T_ff54b0da_7b09_11ea_b618_0242ac1c0002row1_col95 {\n",
              "            background-color:  lightgreen;\n",
              "        }    #T_ff54b0da_7b09_11ea_b618_0242ac1c0002row1_col96 {\n",
              "            background-color:  lightgreen;\n",
              "        }    #T_ff54b0da_7b09_11ea_b618_0242ac1c0002row1_col97 {\n",
              "            background-color:  lightgreen;\n",
              "        }</style><table id=\"T_ff54b0da_7b09_11ea_b618_0242ac1c0002\" ><thead>    <tr>        <th class=\"blank level0\" ></th>        <th class=\"col_heading level0 col0\" >Features</th>        <th class=\"col_heading level0 col1\" >Category1</th>        <th class=\"col_heading level0 col2\" >Category2</th>        <th class=\"col_heading level0 col3\" >Category3</th>        <th class=\"col_heading level0 col4\" >Category4</th>        <th class=\"col_heading level0 col5\" >Category5</th>        <th class=\"col_heading level0 col6\" >Category6</th>        <th class=\"col_heading level0 col7\" >Category7</th>        <th class=\"col_heading level0 col8\" >Category8</th>        <th class=\"col_heading level0 col9\" >Category9</th>        <th class=\"col_heading level0 col10\" >Category10</th>        <th class=\"col_heading level0 col11\" >Category11</th>        <th class=\"col_heading level0 col12\" >Category12</th>        <th class=\"col_heading level0 col13\" >Category13</th>        <th class=\"col_heading level0 col14\" >Category14</th>        <th class=\"col_heading level0 col15\" >Category15</th>        <th class=\"col_heading level0 col16\" >Category16</th>        <th class=\"col_heading level0 col17\" >Category17</th>        <th class=\"col_heading level0 col18\" >Category18</th>        <th class=\"col_heading level0 col19\" >Category19</th>        <th class=\"col_heading level0 col20\" >Category20</th>        <th class=\"col_heading level0 col21\" >Category21</th>        <th class=\"col_heading level0 col22\" >Category22</th>        <th class=\"col_heading level0 col23\" >Category23</th>        <th class=\"col_heading level0 col24\" >Category24</th>        <th class=\"col_heading level0 col25\" >Category25</th>        <th class=\"col_heading level0 col26\" >Category26</th>        <th class=\"col_heading level0 col27\" >Category27</th>        <th class=\"col_heading level0 col28\" >Category28</th>        <th class=\"col_heading level0 col29\" >Category29</th>        <th class=\"col_heading level0 col30\" >Category30</th>        <th class=\"col_heading level0 col31\" >Category31</th>        <th class=\"col_heading level0 col32\" >Category32</th>        <th class=\"col_heading level0 col33\" >Category33</th>        <th class=\"col_heading level0 col34\" >Category34</th>        <th class=\"col_heading level0 col35\" >Category35</th>        <th class=\"col_heading level0 col36\" >Category36</th>        <th class=\"col_heading level0 col37\" >Category37</th>        <th class=\"col_heading level0 col38\" >Category38</th>        <th class=\"col_heading level0 col39\" >Category39</th>        <th class=\"col_heading level0 col40\" >Category40</th>        <th class=\"col_heading level0 col41\" >Category41</th>        <th class=\"col_heading level0 col42\" >Category42</th>        <th class=\"col_heading level0 col43\" >Category43</th>        <th class=\"col_heading level0 col44\" >Category44</th>        <th class=\"col_heading level0 col45\" >Category45</th>        <th class=\"col_heading level0 col46\" >Category46</th>        <th class=\"col_heading level0 col47\" >Category47</th>        <th class=\"col_heading level0 col48\" >Category48</th>        <th class=\"col_heading level0 col49\" >Category49</th>        <th class=\"col_heading level0 col50\" >Category50</th>        <th class=\"col_heading level0 col51\" >Category51</th>        <th class=\"col_heading level0 col52\" >Category52</th>        <th class=\"col_heading level0 col53\" >Category53</th>        <th class=\"col_heading level0 col54\" >Category54</th>        <th class=\"col_heading level0 col55\" >Category55</th>        <th class=\"col_heading level0 col56\" >Category56</th>        <th class=\"col_heading level0 col57\" >Category57</th>        <th class=\"col_heading level0 col58\" >Category58</th>        <th class=\"col_heading level0 col59\" >Category59</th>        <th class=\"col_heading level0 col60\" >Category60</th>        <th class=\"col_heading level0 col61\" >Category61</th>        <th class=\"col_heading level0 col62\" >Category62</th>        <th class=\"col_heading level0 col63\" >Category63</th>        <th class=\"col_heading level0 col64\" >Category64</th>        <th class=\"col_heading level0 col65\" >Category65</th>        <th class=\"col_heading level0 col66\" >Category66</th>        <th class=\"col_heading level0 col67\" >Category67</th>        <th class=\"col_heading level0 col68\" >Category68</th>        <th class=\"col_heading level0 col69\" >Category69</th>        <th class=\"col_heading level0 col70\" >Category70</th>        <th class=\"col_heading level0 col71\" >Category71</th>        <th class=\"col_heading level0 col72\" >Category72</th>        <th class=\"col_heading level0 col73\" >Category73</th>        <th class=\"col_heading level0 col74\" >Category74</th>        <th class=\"col_heading level0 col75\" >Category75</th>        <th class=\"col_heading level0 col76\" >Category76</th>        <th class=\"col_heading level0 col77\" >Category77</th>        <th class=\"col_heading level0 col78\" >Category78</th>        <th class=\"col_heading level0 col79\" >Category79</th>        <th class=\"col_heading level0 col80\" >Category80</th>        <th class=\"col_heading level0 col81\" >Category81</th>        <th class=\"col_heading level0 col82\" >Category82</th>        <th class=\"col_heading level0 col83\" >Category83</th>        <th class=\"col_heading level0 col84\" >Category84</th>        <th class=\"col_heading level0 col85\" >Category85</th>        <th class=\"col_heading level0 col86\" >Category86</th>        <th class=\"col_heading level0 col87\" >Category87</th>        <th class=\"col_heading level0 col88\" >Category88</th>        <th class=\"col_heading level0 col89\" >Category89</th>        <th class=\"col_heading level0 col90\" >Category90</th>        <th class=\"col_heading level0 col91\" >Category91</th>        <th class=\"col_heading level0 col92\" >Category92</th>        <th class=\"col_heading level0 col93\" >Category93</th>        <th class=\"col_heading level0 col94\" >Category94</th>        <th class=\"col_heading level0 col95\" >Category95</th>        <th class=\"col_heading level0 col96\" >Category96</th>        <th class=\"col_heading level0 col97\" >Category97</th>    </tr></thead><tbody>\n",
              "                <tr>\n",
              "                        <th id=\"T_ff54b0da_7b09_11ea_b618_0242ac1c0002level0_row0\" class=\"row_heading level0 row0\" >0</th>\n",
              "                        <td id=\"T_ff54b0da_7b09_11ea_b618_0242ac1c0002row0_col0\" class=\"data row0 col0\" >HeadquartersLocation</td>\n",
              "                        <td id=\"T_ff54b0da_7b09_11ea_b618_0242ac1c0002row0_col1\" class=\"data row0 col1\" >Alameda, California, United States</td>\n",
              "                        <td id=\"T_ff54b0da_7b09_11ea_b618_0242ac1c0002row0_col2\" class=\"data row0 col2\" >Albany, California, United States</td>\n",
              "                        <td id=\"T_ff54b0da_7b09_11ea_b618_0242ac1c0002row0_col3\" class=\"data row0 col3\" >American Canyon, California, United States</td>\n",
              "                        <td id=\"T_ff54b0da_7b09_11ea_b618_0242ac1c0002row0_col4\" class=\"data row0 col4\" >Antioch, California, United States</td>\n",
              "                        <td id=\"T_ff54b0da_7b09_11ea_b618_0242ac1c0002row0_col5\" class=\"data row0 col5\" >Aptos, California, United States</td>\n",
              "                        <td id=\"T_ff54b0da_7b09_11ea_b618_0242ac1c0002row0_col6\" class=\"data row0 col6\" >Atherton, California, United States</td>\n",
              "                        <td id=\"T_ff54b0da_7b09_11ea_b618_0242ac1c0002row0_col7\" class=\"data row0 col7\" >Belmont, California, United States</td>\n",
              "                        <td id=\"T_ff54b0da_7b09_11ea_b618_0242ac1c0002row0_col8\" class=\"data row0 col8\" >Belvedere Tiburon, California, United States</td>\n",
              "                        <td id=\"T_ff54b0da_7b09_11ea_b618_0242ac1c0002row0_col9\" class=\"data row0 col9\" >Berkeley, California, United States</td>\n",
              "                        <td id=\"T_ff54b0da_7b09_11ea_b618_0242ac1c0002row0_col10\" class=\"data row0 col10\" >Boyes Hot Springs, California, United States</td>\n",
              "                        <td id=\"T_ff54b0da_7b09_11ea_b618_0242ac1c0002row0_col11\" class=\"data row0 col11\" >Brisbane, California, United States</td>\n",
              "                        <td id=\"T_ff54b0da_7b09_11ea_b618_0242ac1c0002row0_col12\" class=\"data row0 col12\" >Burlingame, California, United States</td>\n",
              "                        <td id=\"T_ff54b0da_7b09_11ea_b618_0242ac1c0002row0_col13\" class=\"data row0 col13\" >Byron, California, United States</td>\n",
              "                        <td id=\"T_ff54b0da_7b09_11ea_b618_0242ac1c0002row0_col14\" class=\"data row0 col14\" >Campbell, California, United States</td>\n",
              "                        <td id=\"T_ff54b0da_7b09_11ea_b618_0242ac1c0002row0_col15\" class=\"data row0 col15\" >Castro Valley, California, United States</td>\n",
              "                        <td id=\"T_ff54b0da_7b09_11ea_b618_0242ac1c0002row0_col16\" class=\"data row0 col16\" >Concord, California, United States</td>\n",
              "                        <td id=\"T_ff54b0da_7b09_11ea_b618_0242ac1c0002row0_col17\" class=\"data row0 col17\" >Corte Madera, California, United States</td>\n",
              "                        <td id=\"T_ff54b0da_7b09_11ea_b618_0242ac1c0002row0_col18\" class=\"data row0 col18\" >Cotati, California, United States</td>\n",
              "                        <td id=\"T_ff54b0da_7b09_11ea_b618_0242ac1c0002row0_col19\" class=\"data row0 col19\" >Cupertino, California, United States</td>\n",
              "                        <td id=\"T_ff54b0da_7b09_11ea_b618_0242ac1c0002row0_col20\" class=\"data row0 col20\" >Daly City, California, United States</td>\n",
              "                        <td id=\"T_ff54b0da_7b09_11ea_b618_0242ac1c0002row0_col21\" class=\"data row0 col21\" >Danville, California, United States</td>\n",
              "                        <td id=\"T_ff54b0da_7b09_11ea_b618_0242ac1c0002row0_col22\" class=\"data row0 col22\" >Dublin, California, United States</td>\n",
              "                        <td id=\"T_ff54b0da_7b09_11ea_b618_0242ac1c0002row0_col23\" class=\"data row0 col23\" >East Palo Alto, California, United States</td>\n",
              "                        <td id=\"T_ff54b0da_7b09_11ea_b618_0242ac1c0002row0_col24\" class=\"data row0 col24\" >El Cerrito, California, United States</td>\n",
              "                        <td id=\"T_ff54b0da_7b09_11ea_b618_0242ac1c0002row0_col25\" class=\"data row0 col25\" >Emeryville, California, United States</td>\n",
              "                        <td id=\"T_ff54b0da_7b09_11ea_b618_0242ac1c0002row0_col26\" class=\"data row0 col26\" >Fairfax, California, United States</td>\n",
              "                        <td id=\"T_ff54b0da_7b09_11ea_b618_0242ac1c0002row0_col27\" class=\"data row0 col27\" >Fairfield, California, United States</td>\n",
              "                        <td id=\"T_ff54b0da_7b09_11ea_b618_0242ac1c0002row0_col28\" class=\"data row0 col28\" >Foster City, California, United States</td>\n",
              "                        <td id=\"T_ff54b0da_7b09_11ea_b618_0242ac1c0002row0_col29\" class=\"data row0 col29\" >Fremont, California, United States</td>\n",
              "                        <td id=\"T_ff54b0da_7b09_11ea_b618_0242ac1c0002row0_col30\" class=\"data row0 col30\" >Gilroy, California, United States</td>\n",
              "                        <td id=\"T_ff54b0da_7b09_11ea_b618_0242ac1c0002row0_col31\" class=\"data row0 col31\" >Graton, California, United States</td>\n",
              "                        <td id=\"T_ff54b0da_7b09_11ea_b618_0242ac1c0002row0_col32\" class=\"data row0 col32\" >Half Moon Bay, California, United States</td>\n",
              "                        <td id=\"T_ff54b0da_7b09_11ea_b618_0242ac1c0002row0_col33\" class=\"data row0 col33\" >Hayward, California, United States</td>\n",
              "                        <td id=\"T_ff54b0da_7b09_11ea_b618_0242ac1c0002row0_col34\" class=\"data row0 col34\" >Healdsburg, California, United States</td>\n",
              "                        <td id=\"T_ff54b0da_7b09_11ea_b618_0242ac1c0002row0_col35\" class=\"data row0 col35\" >Hercules, California, United States</td>\n",
              "                        <td id=\"T_ff54b0da_7b09_11ea_b618_0242ac1c0002row0_col36\" class=\"data row0 col36\" >Kentfield, California, United States</td>\n",
              "                        <td id=\"T_ff54b0da_7b09_11ea_b618_0242ac1c0002row0_col37\" class=\"data row0 col37\" >La Honda, California, United States</td>\n",
              "                        <td id=\"T_ff54b0da_7b09_11ea_b618_0242ac1c0002row0_col38\" class=\"data row0 col38\" >Lafayette, California, United States</td>\n",
              "                        <td id=\"T_ff54b0da_7b09_11ea_b618_0242ac1c0002row0_col39\" class=\"data row0 col39\" >Larkspur, California, United States</td>\n",
              "                        <td id=\"T_ff54b0da_7b09_11ea_b618_0242ac1c0002row0_col40\" class=\"data row0 col40\" >Livermore, California, United States</td>\n",
              "                        <td id=\"T_ff54b0da_7b09_11ea_b618_0242ac1c0002row0_col41\" class=\"data row0 col41\" >Los Altos Hills, California, United States</td>\n",
              "                        <td id=\"T_ff54b0da_7b09_11ea_b618_0242ac1c0002row0_col42\" class=\"data row0 col42\" >Los Altos, California, United States</td>\n",
              "                        <td id=\"T_ff54b0da_7b09_11ea_b618_0242ac1c0002row0_col43\" class=\"data row0 col43\" >Los Gatos, California, United States</td>\n",
              "                        <td id=\"T_ff54b0da_7b09_11ea_b618_0242ac1c0002row0_col44\" class=\"data row0 col44\" >Martinez, California, United States</td>\n",
              "                        <td id=\"T_ff54b0da_7b09_11ea_b618_0242ac1c0002row0_col45\" class=\"data row0 col45\" >Menlo Park, California, United States</td>\n",
              "                        <td id=\"T_ff54b0da_7b09_11ea_b618_0242ac1c0002row0_col46\" class=\"data row0 col46\" >Mill Valley, California, United States</td>\n",
              "                        <td id=\"T_ff54b0da_7b09_11ea_b618_0242ac1c0002row0_col47\" class=\"data row0 col47\" >Millbrae, California, United States</td>\n",
              "                        <td id=\"T_ff54b0da_7b09_11ea_b618_0242ac1c0002row0_col48\" class=\"data row0 col48\" >Milpitas, California, United States</td>\n",
              "                        <td id=\"T_ff54b0da_7b09_11ea_b618_0242ac1c0002row0_col49\" class=\"data row0 col49\" >Moraga, California, United States</td>\n",
              "                        <td id=\"T_ff54b0da_7b09_11ea_b618_0242ac1c0002row0_col50\" class=\"data row0 col50\" >Morgan Hill, California, United States</td>\n",
              "                        <td id=\"T_ff54b0da_7b09_11ea_b618_0242ac1c0002row0_col51\" class=\"data row0 col51\" >Moss Beach, California, United States</td>\n",
              "                        <td id=\"T_ff54b0da_7b09_11ea_b618_0242ac1c0002row0_col52\" class=\"data row0 col52\" >Mountain View, California, United States</td>\n",
              "                        <td id=\"T_ff54b0da_7b09_11ea_b618_0242ac1c0002row0_col53\" class=\"data row0 col53\" >Napa, California, United States</td>\n",
              "                        <td id=\"T_ff54b0da_7b09_11ea_b618_0242ac1c0002row0_col54\" class=\"data row0 col54\" >Newark, California, United States</td>\n",
              "                        <td id=\"T_ff54b0da_7b09_11ea_b618_0242ac1c0002row0_col55\" class=\"data row0 col55\" >Novato, California, United States</td>\n",
              "                        <td id=\"T_ff54b0da_7b09_11ea_b618_0242ac1c0002row0_col56\" class=\"data row0 col56\" >Oakland, California, United States</td>\n",
              "                        <td id=\"T_ff54b0da_7b09_11ea_b618_0242ac1c0002row0_col57\" class=\"data row0 col57\" >Orinda, California, United States</td>\n",
              "                        <td id=\"T_ff54b0da_7b09_11ea_b618_0242ac1c0002row0_col58\" class=\"data row0 col58\" >Pacifica, California, United States</td>\n",
              "                        <td id=\"T_ff54b0da_7b09_11ea_b618_0242ac1c0002row0_col59\" class=\"data row0 col59\" >Palo Alto, California, United States</td>\n",
              "                        <td id=\"T_ff54b0da_7b09_11ea_b618_0242ac1c0002row0_col60\" class=\"data row0 col60\" >Petaluma, California, United States</td>\n",
              "                        <td id=\"T_ff54b0da_7b09_11ea_b618_0242ac1c0002row0_col61\" class=\"data row0 col61\" >Pleasant Hill, California, United States</td>\n",
              "                        <td id=\"T_ff54b0da_7b09_11ea_b618_0242ac1c0002row0_col62\" class=\"data row0 col62\" >Pleasanton, California, United States</td>\n",
              "                        <td id=\"T_ff54b0da_7b09_11ea_b618_0242ac1c0002row0_col63\" class=\"data row0 col63\" >Portola Valley, California, United States</td>\n",
              "                        <td id=\"T_ff54b0da_7b09_11ea_b618_0242ac1c0002row0_col64\" class=\"data row0 col64\" >Redwood City, California, United States</td>\n",
              "                        <td id=\"T_ff54b0da_7b09_11ea_b618_0242ac1c0002row0_col65\" class=\"data row0 col65\" >Redwood Shores, California, United States</td>\n",
              "                        <td id=\"T_ff54b0da_7b09_11ea_b618_0242ac1c0002row0_col66\" class=\"data row0 col66\" >Richmond, California, United States</td>\n",
              "                        <td id=\"T_ff54b0da_7b09_11ea_b618_0242ac1c0002row0_col67\" class=\"data row0 col67\" >Rohnert Park, California, United States</td>\n",
              "                        <td id=\"T_ff54b0da_7b09_11ea_b618_0242ac1c0002row0_col68\" class=\"data row0 col68\" >Saint Helena, California, United States</td>\n",
              "                        <td id=\"T_ff54b0da_7b09_11ea_b618_0242ac1c0002row0_col69\" class=\"data row0 col69\" >San Anselmo, California, United States</td>\n",
              "                        <td id=\"T_ff54b0da_7b09_11ea_b618_0242ac1c0002row0_col70\" class=\"data row0 col70\" >San Bruno, California, United States</td>\n",
              "                        <td id=\"T_ff54b0da_7b09_11ea_b618_0242ac1c0002row0_col71\" class=\"data row0 col71\" >San Carlos, California, United States</td>\n",
              "                        <td id=\"T_ff54b0da_7b09_11ea_b618_0242ac1c0002row0_col72\" class=\"data row0 col72\" >San Francisco, California, United States</td>\n",
              "                        <td id=\"T_ff54b0da_7b09_11ea_b618_0242ac1c0002row0_col73\" class=\"data row0 col73\" >San Jose, California, United States</td>\n",
              "                        <td id=\"T_ff54b0da_7b09_11ea_b618_0242ac1c0002row0_col74\" class=\"data row0 col74\" >San Juan Bautista, California, United States</td>\n",
              "                        <td id=\"T_ff54b0da_7b09_11ea_b618_0242ac1c0002row0_col75\" class=\"data row0 col75\" >San Leandro, California, United States</td>\n",
              "                        <td id=\"T_ff54b0da_7b09_11ea_b618_0242ac1c0002row0_col76\" class=\"data row0 col76\" >San Martin, California, United States</td>\n",
              "                        <td id=\"T_ff54b0da_7b09_11ea_b618_0242ac1c0002row0_col77\" class=\"data row0 col77\" >San Mateo, California, United States</td>\n",
              "                        <td id=\"T_ff54b0da_7b09_11ea_b618_0242ac1c0002row0_col78\" class=\"data row0 col78\" >San Pablo, California, United States</td>\n",
              "                        <td id=\"T_ff54b0da_7b09_11ea_b618_0242ac1c0002row0_col79\" class=\"data row0 col79\" >San Rafael, California, United States</td>\n",
              "                        <td id=\"T_ff54b0da_7b09_11ea_b618_0242ac1c0002row0_col80\" class=\"data row0 col80\" >San Ramon, California, United States</td>\n",
              "                        <td id=\"T_ff54b0da_7b09_11ea_b618_0242ac1c0002row0_col81\" class=\"data row0 col81\" >Santa Clara, California, United States</td>\n",
              "                        <td id=\"T_ff54b0da_7b09_11ea_b618_0242ac1c0002row0_col82\" class=\"data row0 col82\" >Santa Cruz, California, United States</td>\n",
              "                        <td id=\"T_ff54b0da_7b09_11ea_b618_0242ac1c0002row0_col83\" class=\"data row0 col83\" >Santa Rosa, California, United States</td>\n",
              "                        <td id=\"T_ff54b0da_7b09_11ea_b618_0242ac1c0002row0_col84\" class=\"data row0 col84\" >Saratoga, California, United States</td>\n",
              "                        <td id=\"T_ff54b0da_7b09_11ea_b618_0242ac1c0002row0_col85\" class=\"data row0 col85\" >Sausalito, California, United States</td>\n",
              "                        <td id=\"T_ff54b0da_7b09_11ea_b618_0242ac1c0002row0_col86\" class=\"data row0 col86\" >Scotts Valley, California, United States</td>\n",
              "                        <td id=\"T_ff54b0da_7b09_11ea_b618_0242ac1c0002row0_col87\" class=\"data row0 col87\" >Sebastopol, California, United States</td>\n",
              "                        <td id=\"T_ff54b0da_7b09_11ea_b618_0242ac1c0002row0_col88\" class=\"data row0 col88\" >Sonoma, California, United States</td>\n",
              "                        <td id=\"T_ff54b0da_7b09_11ea_b618_0242ac1c0002row0_col89\" class=\"data row0 col89\" >Soquel, California, United States</td>\n",
              "                        <td id=\"T_ff54b0da_7b09_11ea_b618_0242ac1c0002row0_col90\" class=\"data row0 col90\" >South San Francisco, California, United States</td>\n",
              "                        <td id=\"T_ff54b0da_7b09_11ea_b618_0242ac1c0002row0_col91\" class=\"data row0 col91\" >Stanford, California, United States</td>\n",
              "                        <td id=\"T_ff54b0da_7b09_11ea_b618_0242ac1c0002row0_col92\" class=\"data row0 col92\" >Sunnyvale, California, United States</td>\n",
              "                        <td id=\"T_ff54b0da_7b09_11ea_b618_0242ac1c0002row0_col93\" class=\"data row0 col93\" >Union City, California, United States</td>\n",
              "                        <td id=\"T_ff54b0da_7b09_11ea_b618_0242ac1c0002row0_col94\" class=\"data row0 col94\" >Vallejo, California, United States</td>\n",
              "                        <td id=\"T_ff54b0da_7b09_11ea_b618_0242ac1c0002row0_col95\" class=\"data row0 col95\" >Walnut Creek, California, United States</td>\n",
              "                        <td id=\"T_ff54b0da_7b09_11ea_b618_0242ac1c0002row0_col96\" class=\"data row0 col96\" >Watsonville, California, United States</td>\n",
              "                        <td id=\"T_ff54b0da_7b09_11ea_b618_0242ac1c0002row0_col97\" class=\"data row0 col97\" >Windsor, California, United States</td>\n",
              "            </tr>\n",
              "            <tr>\n",
              "                        <th id=\"T_ff54b0da_7b09_11ea_b618_0242ac1c0002level0_row1\" class=\"row_heading level0 row1\" >1</th>\n",
              "                        <td id=\"T_ff54b0da_7b09_11ea_b618_0242ac1c0002row1_col0\" class=\"data row1 col0\" >%</td>\n",
              "                        <td id=\"T_ff54b0da_7b09_11ea_b618_0242ac1c0002row1_col1\" class=\"data row1 col1\" >0.170000</td>\n",
              "                        <td id=\"T_ff54b0da_7b09_11ea_b618_0242ac1c0002row1_col2\" class=\"data row1 col2\" >0.010000</td>\n",
              "                        <td id=\"T_ff54b0da_7b09_11ea_b618_0242ac1c0002row1_col3\" class=\"data row1 col3\" >0.010000</td>\n",
              "                        <td id=\"T_ff54b0da_7b09_11ea_b618_0242ac1c0002row1_col4\" class=\"data row1 col4\" >0.010000</td>\n",
              "                        <td id=\"T_ff54b0da_7b09_11ea_b618_0242ac1c0002row1_col5\" class=\"data row1 col5\" >0.010000</td>\n",
              "                        <td id=\"T_ff54b0da_7b09_11ea_b618_0242ac1c0002row1_col6\" class=\"data row1 col6\" >0.020000</td>\n",
              "                        <td id=\"T_ff54b0da_7b09_11ea_b618_0242ac1c0002row1_col7\" class=\"data row1 col7\" >0.130000</td>\n",
              "                        <td id=\"T_ff54b0da_7b09_11ea_b618_0242ac1c0002row1_col8\" class=\"data row1 col8\" >0.020000</td>\n",
              "                        <td id=\"T_ff54b0da_7b09_11ea_b618_0242ac1c0002row1_col9\" class=\"data row1 col9\" >2.450000</td>\n",
              "                        <td id=\"T_ff54b0da_7b09_11ea_b618_0242ac1c0002row1_col10\" class=\"data row1 col10\" >0.010000</td>\n",
              "                        <td id=\"T_ff54b0da_7b09_11ea_b618_0242ac1c0002row1_col11\" class=\"data row1 col11\" >0.060000</td>\n",
              "                        <td id=\"T_ff54b0da_7b09_11ea_b618_0242ac1c0002row1_col12\" class=\"data row1 col12\" >0.780000</td>\n",
              "                        <td id=\"T_ff54b0da_7b09_11ea_b618_0242ac1c0002row1_col13\" class=\"data row1 col13\" >0.010000</td>\n",
              "                        <td id=\"T_ff54b0da_7b09_11ea_b618_0242ac1c0002row1_col14\" class=\"data row1 col14\" >0.500000</td>\n",
              "                        <td id=\"T_ff54b0da_7b09_11ea_b618_0242ac1c0002row1_col15\" class=\"data row1 col15\" >0.010000</td>\n",
              "                        <td id=\"T_ff54b0da_7b09_11ea_b618_0242ac1c0002row1_col16\" class=\"data row1 col16\" >0.020000</td>\n",
              "                        <td id=\"T_ff54b0da_7b09_11ea_b618_0242ac1c0002row1_col17\" class=\"data row1 col17\" >0.070000</td>\n",
              "                        <td id=\"T_ff54b0da_7b09_11ea_b618_0242ac1c0002row1_col18\" class=\"data row1 col18\" >0.010000</td>\n",
              "                        <td id=\"T_ff54b0da_7b09_11ea_b618_0242ac1c0002row1_col19\" class=\"data row1 col19\" >0.820000</td>\n",
              "                        <td id=\"T_ff54b0da_7b09_11ea_b618_0242ac1c0002row1_col20\" class=\"data row1 col20\" >0.040000</td>\n",
              "                        <td id=\"T_ff54b0da_7b09_11ea_b618_0242ac1c0002row1_col21\" class=\"data row1 col21\" >0.110000</td>\n",
              "                        <td id=\"T_ff54b0da_7b09_11ea_b618_0242ac1c0002row1_col22\" class=\"data row1 col22\" >0.150000</td>\n",
              "                        <td id=\"T_ff54b0da_7b09_11ea_b618_0242ac1c0002row1_col23\" class=\"data row1 col23\" >0.070000</td>\n",
              "                        <td id=\"T_ff54b0da_7b09_11ea_b618_0242ac1c0002row1_col24\" class=\"data row1 col24\" >0.020000</td>\n",
              "                        <td id=\"T_ff54b0da_7b09_11ea_b618_0242ac1c0002row1_col25\" class=\"data row1 col25\" >0.500000</td>\n",
              "                        <td id=\"T_ff54b0da_7b09_11ea_b618_0242ac1c0002row1_col26\" class=\"data row1 col26\" >0.020000</td>\n",
              "                        <td id=\"T_ff54b0da_7b09_11ea_b618_0242ac1c0002row1_col27\" class=\"data row1 col27\" >0.010000</td>\n",
              "                        <td id=\"T_ff54b0da_7b09_11ea_b618_0242ac1c0002row1_col28\" class=\"data row1 col28\" >0.290000</td>\n",
              "                        <td id=\"T_ff54b0da_7b09_11ea_b618_0242ac1c0002row1_col29\" class=\"data row1 col29\" >1.190000</td>\n",
              "                        <td id=\"T_ff54b0da_7b09_11ea_b618_0242ac1c0002row1_col30\" class=\"data row1 col30\" >0.010000</td>\n",
              "                        <td id=\"T_ff54b0da_7b09_11ea_b618_0242ac1c0002row1_col31\" class=\"data row1 col31\" >0.010000</td>\n",
              "                        <td id=\"T_ff54b0da_7b09_11ea_b618_0242ac1c0002row1_col32\" class=\"data row1 col32\" >0.040000</td>\n",
              "                        <td id=\"T_ff54b0da_7b09_11ea_b618_0242ac1c0002row1_col33\" class=\"data row1 col33\" >0.330000</td>\n",
              "                        <td id=\"T_ff54b0da_7b09_11ea_b618_0242ac1c0002row1_col34\" class=\"data row1 col34\" >0.040000</td>\n",
              "                        <td id=\"T_ff54b0da_7b09_11ea_b618_0242ac1c0002row1_col35\" class=\"data row1 col35\" >0.010000</td>\n",
              "                        <td id=\"T_ff54b0da_7b09_11ea_b618_0242ac1c0002row1_col36\" class=\"data row1 col36\" >0.010000</td>\n",
              "                        <td id=\"T_ff54b0da_7b09_11ea_b618_0242ac1c0002row1_col37\" class=\"data row1 col37\" >0.010000</td>\n",
              "                        <td id=\"T_ff54b0da_7b09_11ea_b618_0242ac1c0002row1_col38\" class=\"data row1 col38\" >0.020000</td>\n",
              "                        <td id=\"T_ff54b0da_7b09_11ea_b618_0242ac1c0002row1_col39\" class=\"data row1 col39\" >0.020000</td>\n",
              "                        <td id=\"T_ff54b0da_7b09_11ea_b618_0242ac1c0002row1_col40\" class=\"data row1 col40\" >0.160000</td>\n",
              "                        <td id=\"T_ff54b0da_7b09_11ea_b618_0242ac1c0002row1_col41\" class=\"data row1 col41\" >0.090000</td>\n",
              "                        <td id=\"T_ff54b0da_7b09_11ea_b618_0242ac1c0002row1_col42\" class=\"data row1 col42\" >0.880000</td>\n",
              "                        <td id=\"T_ff54b0da_7b09_11ea_b618_0242ac1c0002row1_col43\" class=\"data row1 col43\" >0.510000</td>\n",
              "                        <td id=\"T_ff54b0da_7b09_11ea_b618_0242ac1c0002row1_col44\" class=\"data row1 col44\" >0.020000</td>\n",
              "                        <td id=\"T_ff54b0da_7b09_11ea_b618_0242ac1c0002row1_col45\" class=\"data row1 col45\" >2.260000</td>\n",
              "                        <td id=\"T_ff54b0da_7b09_11ea_b618_0242ac1c0002row1_col46\" class=\"data row1 col46\" >0.220000</td>\n",
              "                        <td id=\"T_ff54b0da_7b09_11ea_b618_0242ac1c0002row1_col47\" class=\"data row1 col47\" >0.100000</td>\n",
              "                        <td id=\"T_ff54b0da_7b09_11ea_b618_0242ac1c0002row1_col48\" class=\"data row1 col48\" >0.410000</td>\n",
              "                        <td id=\"T_ff54b0da_7b09_11ea_b618_0242ac1c0002row1_col49\" class=\"data row1 col49\" >0.050000</td>\n",
              "                        <td id=\"T_ff54b0da_7b09_11ea_b618_0242ac1c0002row1_col50\" class=\"data row1 col50\" >0.070000</td>\n",
              "                        <td id=\"T_ff54b0da_7b09_11ea_b618_0242ac1c0002row1_col51\" class=\"data row1 col51\" >0.010000</td>\n",
              "                        <td id=\"T_ff54b0da_7b09_11ea_b618_0242ac1c0002row1_col52\" class=\"data row1 col52\" >4.990000</td>\n",
              "                        <td id=\"T_ff54b0da_7b09_11ea_b618_0242ac1c0002row1_col53\" class=\"data row1 col53\" >0.090000</td>\n",
              "                        <td id=\"T_ff54b0da_7b09_11ea_b618_0242ac1c0002row1_col54\" class=\"data row1 col54\" >0.130000</td>\n",
              "                        <td id=\"T_ff54b0da_7b09_11ea_b618_0242ac1c0002row1_col55\" class=\"data row1 col55\" >0.100000</td>\n",
              "                        <td id=\"T_ff54b0da_7b09_11ea_b618_0242ac1c0002row1_col56\" class=\"data row1 col56\" >2.370000</td>\n",
              "                        <td id=\"T_ff54b0da_7b09_11ea_b618_0242ac1c0002row1_col57\" class=\"data row1 col57\" >0.010000</td>\n",
              "                        <td id=\"T_ff54b0da_7b09_11ea_b618_0242ac1c0002row1_col58\" class=\"data row1 col58\" >0.040000</td>\n",
              "                        <td id=\"T_ff54b0da_7b09_11ea_b618_0242ac1c0002row1_col59\" class=\"data row1 col59\" >7.810000</td>\n",
              "                        <td id=\"T_ff54b0da_7b09_11ea_b618_0242ac1c0002row1_col60\" class=\"data row1 col60\" >0.050000</td>\n",
              "                        <td id=\"T_ff54b0da_7b09_11ea_b618_0242ac1c0002row1_col61\" class=\"data row1 col61\" >0.010000</td>\n",
              "                        <td id=\"T_ff54b0da_7b09_11ea_b618_0242ac1c0002row1_col62\" class=\"data row1 col62\" >0.650000</td>\n",
              "                        <td id=\"T_ff54b0da_7b09_11ea_b618_0242ac1c0002row1_col63\" class=\"data row1 col63\" >0.070000</td>\n",
              "                        <td id=\"T_ff54b0da_7b09_11ea_b618_0242ac1c0002row1_col64\" class=\"data row1 col64\" >2.290000</td>\n",
              "                        <td id=\"T_ff54b0da_7b09_11ea_b618_0242ac1c0002row1_col65\" class=\"data row1 col65\" >0.050000</td>\n",
              "                        <td id=\"T_ff54b0da_7b09_11ea_b618_0242ac1c0002row1_col66\" class=\"data row1 col66\" >0.150000</td>\n",
              "                        <td id=\"T_ff54b0da_7b09_11ea_b618_0242ac1c0002row1_col67\" class=\"data row1 col67\" >0.040000</td>\n",
              "                        <td id=\"T_ff54b0da_7b09_11ea_b618_0242ac1c0002row1_col68\" class=\"data row1 col68\" >0.010000</td>\n",
              "                        <td id=\"T_ff54b0da_7b09_11ea_b618_0242ac1c0002row1_col69\" class=\"data row1 col69\" >0.020000</td>\n",
              "                        <td id=\"T_ff54b0da_7b09_11ea_b618_0242ac1c0002row1_col70\" class=\"data row1 col70\" >0.210000</td>\n",
              "                        <td id=\"T_ff54b0da_7b09_11ea_b618_0242ac1c0002row1_col71\" class=\"data row1 col71\" >0.400000</td>\n",
              "                        <td id=\"T_ff54b0da_7b09_11ea_b618_0242ac1c0002row1_col72\" class=\"data row1 col72\" >48.990000</td>\n",
              "                        <td id=\"T_ff54b0da_7b09_11ea_b618_0242ac1c0002row1_col73\" class=\"data row1 col73\" >5.420000</td>\n",
              "                        <td id=\"T_ff54b0da_7b09_11ea_b618_0242ac1c0002row1_col74\" class=\"data row1 col74\" >0.010000</td>\n",
              "                        <td id=\"T_ff54b0da_7b09_11ea_b618_0242ac1c0002row1_col75\" class=\"data row1 col75\" >0.180000</td>\n",
              "                        <td id=\"T_ff54b0da_7b09_11ea_b618_0242ac1c0002row1_col76\" class=\"data row1 col76\" >0.010000</td>\n",
              "                        <td id=\"T_ff54b0da_7b09_11ea_b618_0242ac1c0002row1_col77\" class=\"data row1 col77\" >3.260000</td>\n",
              "                        <td id=\"T_ff54b0da_7b09_11ea_b618_0242ac1c0002row1_col78\" class=\"data row1 col78\" >0.010000</td>\n",
              "                        <td id=\"T_ff54b0da_7b09_11ea_b618_0242ac1c0002row1_col79\" class=\"data row1 col79\" >0.180000</td>\n",
              "                        <td id=\"T_ff54b0da_7b09_11ea_b618_0242ac1c0002row1_col80\" class=\"data row1 col80\" >0.300000</td>\n",
              "                        <td id=\"T_ff54b0da_7b09_11ea_b618_0242ac1c0002row1_col81\" class=\"data row1 col81\" >3.340000</td>\n",
              "                        <td id=\"T_ff54b0da_7b09_11ea_b618_0242ac1c0002row1_col82\" class=\"data row1 col82\" >0.380000</td>\n",
              "                        <td id=\"T_ff54b0da_7b09_11ea_b618_0242ac1c0002row1_col83\" class=\"data row1 col83\" >0.170000</td>\n",
              "                        <td id=\"T_ff54b0da_7b09_11ea_b618_0242ac1c0002row1_col84\" class=\"data row1 col84\" >0.260000</td>\n",
              "                        <td id=\"T_ff54b0da_7b09_11ea_b618_0242ac1c0002row1_col85\" class=\"data row1 col85\" >0.270000</td>\n",
              "                        <td id=\"T_ff54b0da_7b09_11ea_b618_0242ac1c0002row1_col86\" class=\"data row1 col86\" >0.100000</td>\n",
              "                        <td id=\"T_ff54b0da_7b09_11ea_b618_0242ac1c0002row1_col87\" class=\"data row1 col87\" >0.090000</td>\n",
              "                        <td id=\"T_ff54b0da_7b09_11ea_b618_0242ac1c0002row1_col88\" class=\"data row1 col88\" >0.060000</td>\n",
              "                        <td id=\"T_ff54b0da_7b09_11ea_b618_0242ac1c0002row1_col89\" class=\"data row1 col89\" >0.010000</td>\n",
              "                        <td id=\"T_ff54b0da_7b09_11ea_b618_0242ac1c0002row1_col90\" class=\"data row1 col90\" >0.520000</td>\n",
              "                        <td id=\"T_ff54b0da_7b09_11ea_b618_0242ac1c0002row1_col91\" class=\"data row1 col91\" >0.160000</td>\n",
              "                        <td id=\"T_ff54b0da_7b09_11ea_b618_0242ac1c0002row1_col92\" class=\"data row1 col92\" >3.530000</td>\n",
              "                        <td id=\"T_ff54b0da_7b09_11ea_b618_0242ac1c0002row1_col93\" class=\"data row1 col93\" >0.010000</td>\n",
              "                        <td id=\"T_ff54b0da_7b09_11ea_b618_0242ac1c0002row1_col94\" class=\"data row1 col94\" >0.040000</td>\n",
              "                        <td id=\"T_ff54b0da_7b09_11ea_b618_0242ac1c0002row1_col95\" class=\"data row1 col95\" >0.330000</td>\n",
              "                        <td id=\"T_ff54b0da_7b09_11ea_b618_0242ac1c0002row1_col96\" class=\"data row1 col96\" >0.010000</td>\n",
              "                        <td id=\"T_ff54b0da_7b09_11ea_b618_0242ac1c0002row1_col97\" class=\"data row1 col97\" >0.010000</td>\n",
              "            </tr>\n",
              "    </tbody></table>"
            ],
            "text/plain": [
              "<pandas.io.formats.style.Styler at 0x7f0f9fa09400>"
            ]
          },
          "metadata": {
            "tags": []
          }
        }
      ]
    },
    {
      "cell_type": "markdown",
      "metadata": {
        "id": "-cdK-WVlutJw",
        "colab_type": "text"
      },
      "source": [
        "Most of them base on SF(4023,48.99%) and around SF(South San Francisco,Menlo Park,Millbrae,Redwood City,San Carlos,San Bruno),some of them base on south bay(Palo Alto,San Jose,Stanford,Mountain Vie,Sunnyvale,Santa Clara,Saratoga,Milpitas,Los Altos,Los Gatos),few of them base on north and east bay(around Berkeley,Oakland,Fremont,Newark),and other cities."
      ]
    },
    {
      "cell_type": "markdown",
      "metadata": {
        "id": "tui_3NF5xLUr",
        "colab_type": "text"
      },
      "source": [
        "So merge them here."
      ]
    },
    {
      "cell_type": "markdown",
      "metadata": {
        "id": "A1nyHWJDsFym",
        "colab_type": "text"
      },
      "source": [
        "To 4 kinds: SF/Around_SF,South_Bay,North_East_Bay,Others"
      ]
    },
    {
      "cell_type": "code",
      "metadata": {
        "id": "fgmzgBZFxTfd",
        "colab_type": "code",
        "colab": {}
      },
      "source": [
        "Sf_around=['San Francisco','South San Francisco','Menlo Park','Millbrae','Redwood City','San Carlos']\n",
        "South_Bay=['Palo Alto','San Jose','Stanford','Mountain View','Sunnyvale','Santa Clara','Saratoga','Milpitas','Los Altos','Los Gatos']\n",
        "North_East_Bay=['Berkeley','Oakland','Fremont','Newark']"
      ],
      "execution_count": 0,
      "outputs": []
    },
    {
      "cell_type": "code",
      "metadata": {
        "id": "ubLqR_DOB4sB",
        "colab_type": "code",
        "colab": {}
      },
      "source": [
        "df_new2 = df_clean[['HeadquartersLocation']]"
      ],
      "execution_count": 0,
      "outputs": []
    },
    {
      "cell_type": "code",
      "metadata": {
        "id": "kEBVOGLHFkNS",
        "colab_type": "code",
        "outputId": "58ac0b04-8d26-46ef-ef39-13ed73302161",
        "colab": {
          "base_uri": "https://localhost:8080/",
          "height": 125
        }
      },
      "source": [
        "df_new2['HeadquartersLocation']=df_new2['HeadquartersLocation'].astype(str)"
      ],
      "execution_count": 0,
      "outputs": [
        {
          "output_type": "stream",
          "text": [
            "/usr/local/lib/python3.6/dist-packages/ipykernel_launcher.py:1: SettingWithCopyWarning: \n",
            "A value is trying to be set on a copy of a slice from a DataFrame.\n",
            "Try using .loc[row_indexer,col_indexer] = value instead\n",
            "\n",
            "See the caveats in the documentation: https://pandas.pydata.org/pandas-docs/stable/user_guide/indexing.html#returning-a-view-versus-a-copy\n",
            "  \"\"\"Entry point for launching an IPython kernel.\n"
          ],
          "name": "stderr"
        }
      ]
    },
    {
      "cell_type": "code",
      "metadata": {
        "id": "f2nNMQqh_EZl",
        "colab_type": "code",
        "outputId": "5cc52da2-8655-4450-d4bb-0c4b896c0b39",
        "colab": {
          "base_uri": "https://localhost:8080/",
          "height": 233
        }
      },
      "source": [
        "df_new2['HeadquartersLocation'].fillna('others')"
      ],
      "execution_count": 0,
      "outputs": [
        {
          "output_type": "execute_result",
          "data": {
            "text/plain": [
              "0            Berkeley, California, United States\n",
              "1            San Jose, California, United States\n",
              "2        Redwood City, California, United States\n",
              "3           Cupertino, California, United States\n",
              "4             Hayward, California, United States\n",
              "                          ...                   \n",
              "8443          Belmont, California, United States\n",
              "8444    Mountain View, California, United States\n",
              "8445         San Jose, California, United States\n",
              "8446        Palo Alto, California, United States\n",
              "8447         San Jose, California, United States\n",
              "Name: HeadquartersLocation, Length: 8212, dtype: object"
            ]
          },
          "metadata": {
            "tags": []
          },
          "execution_count": 91
        }
      ]
    },
    {
      "cell_type": "code",
      "metadata": {
        "id": "09Ll7blhy44V",
        "colab_type": "code",
        "outputId": "c0c2a3b1-c34a-4374-d2f7-37cbf3f7a844",
        "colab": {
          "base_uri": "https://localhost:8080/",
          "height": 395
        }
      },
      "source": [
        "for city_name in Sf_around:\n",
        "  print(city_name)\n",
        "  for i in range(df_clean.shape[0]):\n",
        "    af = df_clean['HeadquartersLocation'].values[i]\n",
        "    bf = af.split(',',1)[0]     \n",
        "    if  city_name in bf:\n",
        "      df_new2['HeadquartersLocation'][i]='Sf_around'"
      ],
      "execution_count": 0,
      "outputs": [
        {
          "output_type": "stream",
          "text": [
            "/usr/local/lib/python3.6/dist-packages/IPython/core/interactiveshell.py:2882: SettingWithCopyWarning: \n",
            "A value is trying to be set on a copy of a slice from a DataFrame\n",
            "\n",
            "See the caveats in the documentation: https://pandas.pydata.org/pandas-docs/stable/user_guide/indexing.html#returning-a-view-versus-a-copy\n",
            "  exec(code_obj, self.user_global_ns, self.user_ns)\n",
            "/usr/local/lib/python3.6/dist-packages/pandas/core/indexing.py:671: SettingWithCopyWarning: \n",
            "A value is trying to be set on a copy of a slice from a DataFrame\n",
            "\n",
            "See the caveats in the documentation: https://pandas.pydata.org/pandas-docs/stable/user_guide/indexing.html#returning-a-view-versus-a-copy\n",
            "  self._setitem_with_indexer(indexer, value)\n",
            "/usr/local/lib/python3.6/dist-packages/ipykernel_launcher.py:7: SettingWithCopyWarning: \n",
            "A value is trying to be set on a copy of a slice from a DataFrame\n",
            "\n",
            "See the caveats in the documentation: https://pandas.pydata.org/pandas-docs/stable/user_guide/indexing.html#returning-a-view-versus-a-copy\n",
            "  import sys\n"
          ],
          "name": "stderr"
        },
        {
          "output_type": "stream",
          "text": [
            "San Francisco\n",
            "South San Francisco\n",
            "Menlo Park\n",
            "Millbrae\n",
            "Redwood City\n",
            "San Carlos\n"
          ],
          "name": "stdout"
        }
      ]
    },
    {
      "cell_type": "code",
      "metadata": {
        "id": "fXKVDEgFz4aU",
        "colab_type": "code",
        "outputId": "04903ed2-9406-4bf1-e791-f22f10f9f967",
        "colab": {
          "base_uri": "https://localhost:8080/",
          "height": 377
        }
      },
      "source": [
        "for city_name in South_Bay:\n",
        "  print(city_name)\n",
        "  for i in range(df_clean.shape[0]):\n",
        "    af = df_clean['HeadquartersLocation'].values[i]\n",
        "    bf = af.split(',',1)[0]     \n",
        "    if  city_name in bf:      \n",
        "      df_new2['HeadquartersLocation'][i]='South_Bay'"
      ],
      "execution_count": 0,
      "outputs": [
        {
          "output_type": "stream",
          "text": [
            "Palo Alto\n",
            "San Jose\n",
            "Stanford\n",
            "Mountain View\n"
          ],
          "name": "stdout"
        },
        {
          "output_type": "stream",
          "text": [
            "/usr/local/lib/python3.6/dist-packages/ipykernel_launcher.py:7: SettingWithCopyWarning: \n",
            "A value is trying to be set on a copy of a slice from a DataFrame\n",
            "\n",
            "See the caveats in the documentation: https://pandas.pydata.org/pandas-docs/stable/user_guide/indexing.html#returning-a-view-versus-a-copy\n",
            "  import sys\n",
            "/usr/local/lib/python3.6/dist-packages/pandas/core/indexing.py:671: SettingWithCopyWarning: \n",
            "A value is trying to be set on a copy of a slice from a DataFrame\n",
            "\n",
            "See the caveats in the documentation: https://pandas.pydata.org/pandas-docs/stable/user_guide/indexing.html#returning-a-view-versus-a-copy\n",
            "  self._setitem_with_indexer(indexer, value)\n"
          ],
          "name": "stderr"
        },
        {
          "output_type": "stream",
          "text": [
            "Sunnyvale\n",
            "Santa Clara\n",
            "Saratoga\n",
            "Milpitas\n",
            "Los Altos\n",
            "Los Gatos\n"
          ],
          "name": "stdout"
        }
      ]
    },
    {
      "cell_type": "code",
      "metadata": {
        "id": "u00N707r0IL_",
        "colab_type": "code",
        "outputId": "5c838059-0505-43bc-d4f8-ba37652d95ed",
        "colab": {
          "base_uri": "https://localhost:8080/",
          "height": 269
        }
      },
      "source": [
        "for city_name in North_East_Bay:\n",
        "  print(city_name)\n",
        "  for i in range(df_clean.shape[0]):     \n",
        "    af = df_clean['HeadquartersLocation'].values[i]\n",
        "    bf = af.split(',',1)[0]     \n",
        "    if  city_name in bf:\n",
        "      df_new2['HeadquartersLocation'][i]='North_East_Bay'"
      ],
      "execution_count": 0,
      "outputs": [
        {
          "output_type": "stream",
          "text": [
            "Berkeley\n",
            "Oakland\n",
            "Fremont\n",
            "Newark\n"
          ],
          "name": "stdout"
        },
        {
          "output_type": "stream",
          "text": [
            "/usr/local/lib/python3.6/dist-packages/ipykernel_launcher.py:7: SettingWithCopyWarning: \n",
            "A value is trying to be set on a copy of a slice from a DataFrame\n",
            "\n",
            "See the caveats in the documentation: https://pandas.pydata.org/pandas-docs/stable/user_guide/indexing.html#returning-a-view-versus-a-copy\n",
            "  import sys\n",
            "/usr/local/lib/python3.6/dist-packages/pandas/core/indexing.py:671: SettingWithCopyWarning: \n",
            "A value is trying to be set on a copy of a slice from a DataFrame\n",
            "\n",
            "See the caveats in the documentation: https://pandas.pydata.org/pandas-docs/stable/user_guide/indexing.html#returning-a-view-versus-a-copy\n",
            "  self._setitem_with_indexer(indexer, value)\n"
          ],
          "name": "stderr"
        }
      ]
    },
    {
      "cell_type": "code",
      "metadata": {
        "id": "oIj1DG-Y_zvF",
        "colab_type": "code",
        "outputId": "00f45196-81b9-4a12-d622-0dfcbff320b4",
        "colab": {
          "base_uri": "https://localhost:8080/",
          "height": 233
        }
      },
      "source": [
        "df_new2['HeadquartersLocation'].fillna('others')"
      ],
      "execution_count": 0,
      "outputs": [
        {
          "output_type": "execute_result",
          "data": {
            "text/plain": [
              "0                             North_East_Bay\n",
              "1                                  South_Bay\n",
              "2                                  Sf_around\n",
              "3       Cupertino, California, United States\n",
              "4         Hayward, California, United States\n",
              "                        ...                 \n",
              "948                           North_East_Bay\n",
              "3033                          North_East_Bay\n",
              "4397                          North_East_Bay\n",
              "6922                          North_East_Bay\n",
              "2583                          North_East_Bay\n",
              "Name: HeadquartersLocation, Length: 8408, dtype: object"
            ]
          },
          "metadata": {
            "tags": []
          },
          "execution_count": 95
        }
      ]
    },
    {
      "cell_type": "code",
      "metadata": {
        "id": "Dd2-7bXg0gaZ",
        "colab_type": "code",
        "colab": {}
      },
      "source": [
        "df_clean['HeadquartersLocation_2']=df_new2['HeadquartersLocation']"
      ],
      "execution_count": 0,
      "outputs": []
    },
    {
      "cell_type": "code",
      "metadata": {
        "id": "QG0lytmUBZ_S",
        "colab_type": "code",
        "outputId": "959dc485-45b2-4d26-a26b-64378082aa1a",
        "colab": {
          "base_uri": "https://localhost:8080/",
          "height": 1000
        }
      },
      "source": [
        "df_clean['HeadquartersLocation_2'].value_counts()"
      ],
      "execution_count": 0,
      "outputs": [
        {
          "output_type": "execute_result",
          "data": {
            "text/plain": [
              "Sf_around                                         4370\n",
              "South_Bay                                         2193\n",
              "San Francisco, California, United States           562\n",
              "North_East_Bay                                     482\n",
              "Palo Alto, California, United States               101\n",
              "San Jose, California, United States                 70\n",
              "Mountain View, California, United States            61\n",
              "San Mateo, California, United States                43\n",
              "Sunnyvale, California, United States                43\n",
              "Santa Clara, California, United States              36\n",
              "Oakland, California, United States                  29\n",
              "Berkeley, California, United States                 23\n",
              "Menlo Park, California, United States               21\n",
              "Redwood City, California, United States             17\n",
              "Burlingame, California, United States               12\n",
              "Los Altos, California, United States                11\n",
              "Fremont, California, United States                  11\n",
              "Pleasanton, California, United States               10\n",
              "Cupertino, California, United States                10\n",
              "Milpitas, California, United States                  8\n",
              "South San Francisco, California, United States       7\n",
              "San Carlos, California, United States                5\n",
              "Stanford, California, United States                  5\n",
              "Santa Cruz, California, United States                5\n",
              "Saratoga, California, United States                  5\n",
              "Emeryville, California, United States                5\n",
              "San Ramon, California, United States                 5\n",
              "Foster City, California, United States               4\n",
              "Hayward, California, United States                   3\n",
              "Livermore, California, United States                 3\n",
              "Napa, California, United States                      3\n",
              "Campbell, California, United States                  3\n",
              "Dublin, California, United States                    3\n",
              "Newark, California, United States                    3\n",
              "San Rafael, California, United States                3\n",
              "Alameda, California, United States                   3\n",
              "Los Gatos, California, United States                 3\n",
              "Mill Valley, California, United States               3\n",
              "San Bruno, California, United States                 3\n",
              "Morgan Hill, California, United States               2\n",
              "Sausalito, California, United States                 2\n",
              "Danville, California, United States                  2\n",
              "Petaluma, California, United States                  2\n",
              "Moraga, California, United States                    2\n",
              "Belmont, California, United States                   2\n",
              "Walnut Creek, California, United States              2\n",
              "San Leandro, California, United States               1\n",
              "Pacifica, California, United States                  1\n",
              "Corte Madera, California, United States              1\n",
              "Santa Rosa, California, United States                1\n",
              "Scotts Valley, California, United States             1\n",
              "Cotati, California, United States                    1\n",
              "East Palo Alto, California, United States            1\n",
              "Boyes Hot Springs, California, United States         1\n",
              "Novato, California, United States                    1\n",
              "Half Moon Bay, California, United States             1\n",
              "Los Altos Hills, California, United States           1\n",
              "Name: HeadquartersLocation_2, dtype: int64"
            ]
          },
          "metadata": {
            "tags": []
          },
          "execution_count": 97
        }
      ]
    },
    {
      "cell_type": "code",
      "metadata": {
        "id": "Di9aIzcrEha0",
        "colab_type": "code",
        "outputId": "85f82c2d-7436-4087-82bc-cac69b33fb6f",
        "colab": {
          "base_uri": "https://localhost:8080/",
          "height": 326
        }
      },
      "source": [
        "df_clean.head()"
      ],
      "execution_count": 0,
      "outputs": [
        {
          "output_type": "execute_result",
          "data": {
            "text/html": [
              "<div>\n",
              "<style scoped>\n",
              "    .dataframe tbody tr th:only-of-type {\n",
              "        vertical-align: middle;\n",
              "    }\n",
              "\n",
              "    .dataframe tbody tr th {\n",
              "        vertical-align: top;\n",
              "    }\n",
              "\n",
              "    .dataframe thead th {\n",
              "        text-align: right;\n",
              "    }\n",
              "</style>\n",
              "<table border=\"1\" class=\"dataframe\">\n",
              "  <thead>\n",
              "    <tr style=\"text-align: right;\">\n",
              "      <th></th>\n",
              "      <th>OrganizationName</th>\n",
              "      <th>BuiltWith-ActiveTechCount</th>\n",
              "      <th>EstimatedRevenueRange</th>\n",
              "      <th>FoundedDate</th>\n",
              "      <th>FoundedDatePrecision</th>\n",
              "      <th>FundingStatus</th>\n",
              "      <th>HeadquartersLocation</th>\n",
              "      <th>IPqwery-PatentsGranted</th>\n",
              "      <th>LastEquityFundingType</th>\n",
              "      <th>LastFundingDate</th>\n",
              "      <th>NumberofEmployees</th>\n",
              "      <th>NumberofFounders</th>\n",
              "      <th>NumberofFundingRounds</th>\n",
              "      <th>NumberofInvestors</th>\n",
              "      <th>NumberofLeadInvestors</th>\n",
              "      <th>target</th>\n",
              "      <th>inv_by_famous_investor</th>\n",
              "      <th>Buessiness</th>\n",
              "      <th>HeadquartersLocation_2</th>\n",
              "    </tr>\n",
              "  </thead>\n",
              "  <tbody>\n",
              "    <tr>\n",
              "      <th>0</th>\n",
              "      <td>C. Light Technologies</td>\n",
              "      <td>11.0</td>\n",
              "      <td>unknown</td>\n",
              "      <td>9/1/14</td>\n",
              "      <td>month</td>\n",
              "      <td>Seed</td>\n",
              "      <td>Berkeley, California, United States</td>\n",
              "      <td>0.0</td>\n",
              "      <td>Pre-Seed</td>\n",
              "      <td>1/1/17</td>\n",
              "      <td>less than 10</td>\n",
              "      <td>2.0</td>\n",
              "      <td>1</td>\n",
              "      <td>2.0</td>\n",
              "      <td>0.0</td>\n",
              "      <td>0</td>\n",
              "      <td>0</td>\n",
              "      <td>health care</td>\n",
              "      <td>North_East_Bay</td>\n",
              "    </tr>\n",
              "    <tr>\n",
              "      <th>1</th>\n",
              "      <td>C1X</td>\n",
              "      <td>23.0</td>\n",
              "      <td>Less than $1M</td>\n",
              "      <td>1/1/14</td>\n",
              "      <td>year</td>\n",
              "      <td>Early Stage Venture</td>\n",
              "      <td>San Jose, California, United States</td>\n",
              "      <td>0.0</td>\n",
              "      <td>Series B</td>\n",
              "      <td>10/12/16</td>\n",
              "      <td>51~100</td>\n",
              "      <td>2.0</td>\n",
              "      <td>2</td>\n",
              "      <td>5.0</td>\n",
              "      <td>2.0</td>\n",
              "      <td>1</td>\n",
              "      <td>0</td>\n",
              "      <td>advertising</td>\n",
              "      <td>South_Bay</td>\n",
              "    </tr>\n",
              "    <tr>\n",
              "      <th>2</th>\n",
              "      <td>C3</td>\n",
              "      <td>13.0</td>\n",
              "      <td>$10M+</td>\n",
              "      <td>1/1/09</td>\n",
              "      <td>year</td>\n",
              "      <td>Late Stage Venture</td>\n",
              "      <td>Redwood City, California, United States</td>\n",
              "      <td>0.0</td>\n",
              "      <td>Series F</td>\n",
              "      <td>3/28/18</td>\n",
              "      <td>more than 100</td>\n",
              "      <td>2.0</td>\n",
              "      <td>6</td>\n",
              "      <td>8.0</td>\n",
              "      <td>2.0</td>\n",
              "      <td>1</td>\n",
              "      <td>0</td>\n",
              "      <td>artificial intelligence</td>\n",
              "      <td>Sf_around</td>\n",
              "    </tr>\n",
              "    <tr>\n",
              "      <th>3</th>\n",
              "      <td>C3DNA</td>\n",
              "      <td>14.0</td>\n",
              "      <td>unknown</td>\n",
              "      <td>4/17/13</td>\n",
              "      <td>day</td>\n",
              "      <td>Seed</td>\n",
              "      <td>Cupertino, California, United States</td>\n",
              "      <td>5.0</td>\n",
              "      <td>Seed</td>\n",
              "      <td>10/1/14</td>\n",
              "      <td>11~50</td>\n",
              "      <td>2.0</td>\n",
              "      <td>1</td>\n",
              "      <td>0.0</td>\n",
              "      <td>0.0</td>\n",
              "      <td>0</td>\n",
              "      <td>0</td>\n",
              "      <td>cloud computing</td>\n",
              "      <td>Cupertino, California, United States</td>\n",
              "    </tr>\n",
              "    <tr>\n",
              "      <th>4</th>\n",
              "      <td>C3Nano</td>\n",
              "      <td>31.0</td>\n",
              "      <td>$1M to $10M</td>\n",
              "      <td>1/1/10</td>\n",
              "      <td>year</td>\n",
              "      <td>Late Stage Venture</td>\n",
              "      <td>Hayward, California, United States</td>\n",
              "      <td>0.0</td>\n",
              "      <td>Series D</td>\n",
              "      <td>2/22/17</td>\n",
              "      <td>11~50</td>\n",
              "      <td>1.0</td>\n",
              "      <td>4</td>\n",
              "      <td>6.0</td>\n",
              "      <td>3.0</td>\n",
              "      <td>1</td>\n",
              "      <td>0</td>\n",
              "      <td>clean energy</td>\n",
              "      <td>Hayward, California, United States</td>\n",
              "    </tr>\n",
              "  </tbody>\n",
              "</table>\n",
              "</div>"
            ],
            "text/plain": [
              "        OrganizationName  BuiltWith-ActiveTechCount EstimatedRevenueRange  \\\n",
              "0  C. Light Technologies                       11.0               unknown   \n",
              "1                    C1X                       23.0         Less than $1M   \n",
              "2                     C3                       13.0                 $10M+   \n",
              "3                  C3DNA                       14.0               unknown   \n",
              "4                 C3Nano                       31.0           $1M to $10M   \n",
              "\n",
              "  FoundedDate FoundedDatePrecision        FundingStatus  \\\n",
              "0      9/1/14                month                 Seed   \n",
              "1      1/1/14                 year  Early Stage Venture   \n",
              "2      1/1/09                 year   Late Stage Venture   \n",
              "3     4/17/13                  day                 Seed   \n",
              "4      1/1/10                 year   Late Stage Venture   \n",
              "\n",
              "                      HeadquartersLocation  IPqwery-PatentsGranted  \\\n",
              "0      Berkeley, California, United States                     0.0   \n",
              "1      San Jose, California, United States                     0.0   \n",
              "2  Redwood City, California, United States                     0.0   \n",
              "3     Cupertino, California, United States                     5.0   \n",
              "4       Hayward, California, United States                     0.0   \n",
              "\n",
              "  LastEquityFundingType LastFundingDate NumberofEmployees  NumberofFounders  \\\n",
              "0              Pre-Seed          1/1/17      less than 10               2.0   \n",
              "1              Series B        10/12/16            51~100               2.0   \n",
              "2              Series F         3/28/18     more than 100               2.0   \n",
              "3                  Seed         10/1/14             11~50               2.0   \n",
              "4              Series D         2/22/17             11~50               1.0   \n",
              "\n",
              "   NumberofFundingRounds  NumberofInvestors  NumberofLeadInvestors  target  \\\n",
              "0                      1                2.0                    0.0       0   \n",
              "1                      2                5.0                    2.0       1   \n",
              "2                      6                8.0                    2.0       1   \n",
              "3                      1                0.0                    0.0       0   \n",
              "4                      4                6.0                    3.0       1   \n",
              "\n",
              "   inv_by_famous_investor               Buessiness  \\\n",
              "0                       0              health care   \n",
              "1                       0              advertising   \n",
              "2                       0  artificial intelligence   \n",
              "3                       0          cloud computing   \n",
              "4                       0             clean energy   \n",
              "\n",
              "                 HeadquartersLocation_2  \n",
              "0                        North_East_Bay  \n",
              "1                             South_Bay  \n",
              "2                             Sf_around  \n",
              "3  Cupertino, California, United States  \n",
              "4    Hayward, California, United States  "
            ]
          },
          "metadata": {
            "tags": []
          },
          "execution_count": 98
        }
      ]
    },
    {
      "cell_type": "code",
      "metadata": {
        "id": "tWxzUH8mIhYF",
        "colab_type": "code",
        "outputId": "1245e20e-1743-4e8b-fe8b-2a4944a44123",
        "colab": {
          "base_uri": "https://localhost:8080/",
          "height": 485
        }
      },
      "source": [
        "df_clean.info()"
      ],
      "execution_count": 0,
      "outputs": [
        {
          "output_type": "stream",
          "text": [
            "<class 'pandas.core.frame.DataFrame'>\n",
            "Int64Index: 8212 entries, 0 to 8447\n",
            "Data columns (total 19 columns):\n",
            " #   Column                     Non-Null Count  Dtype  \n",
            "---  ------                     --------------  -----  \n",
            " 0   OrganizationName           8212 non-null   object \n",
            " 1   BuiltWith-ActiveTechCount  8212 non-null   float64\n",
            " 2   EstimatedRevenueRange      8212 non-null   object \n",
            " 3   FoundedDate                8212 non-null   object \n",
            " 4   FoundedDatePrecision       8212 non-null   object \n",
            " 5   FundingStatus              8212 non-null   object \n",
            " 6   HeadquartersLocation       8212 non-null   object \n",
            " 7   IPqwery-PatentsGranted     8212 non-null   float64\n",
            " 8   LastEquityFundingType      8212 non-null   object \n",
            " 9   LastFundingDate            8212 non-null   object \n",
            " 10  NumberofEmployees          7184 non-null   object \n",
            " 11  NumberofFounders           8212 non-null   float64\n",
            " 12  NumberofFundingRounds      8212 non-null   int64  \n",
            " 13  NumberofInvestors          8212 non-null   float64\n",
            " 14  NumberofLeadInvestors      8212 non-null   float64\n",
            " 15  target                     8212 non-null   int64  \n",
            " 16  inv_by_famous_investor     8212 non-null   int64  \n",
            " 17  Buessiness                 8212 non-null   object \n",
            " 18  HeadquartersLocation_2     8212 non-null   object \n",
            "dtypes: float64(5), int64(3), object(11)\n",
            "memory usage: 1.6+ MB\n"
          ],
          "name": "stdout"
        }
      ]
    },
    {
      "cell_type": "code",
      "metadata": {
        "id": "xoH25CcBPpUZ",
        "colab_type": "code",
        "colab": {}
      },
      "source": [
        "numvars = ['target','IPqwery-PatentsGranted', 'BuiltWith-ActiveTechCount', 'NumberofFounders', 'NumberofFundingRounds', 'NumberofInvestors', \n",
        "           'NumberofLeadInvestors', 'inv_by_famous_investor']"
      ],
      "execution_count": 0,
      "outputs": []
    },
    {
      "cell_type": "code",
      "metadata": {
        "id": "dVAOF1WxQNpr",
        "colab_type": "code",
        "colab": {}
      },
      "source": [
        "numdata_std = pd.DataFrame(StandardScaler().fit_transform(df_clean[numvars].drop(['target'], axis=1)))"
      ],
      "execution_count": 0,
      "outputs": []
    },
    {
      "cell_type": "code",
      "metadata": {
        "id": "nfrooRz7IhdH",
        "colab_type": "code",
        "outputId": "bb673200-4079-49ba-e8c7-50e44aa1679e",
        "colab": {
          "base_uri": "https://localhost:8080/",
          "height": 89
        }
      },
      "source": [
        "#categorical variables labels\n",
        "catvars = ['EstimatedRevenueRange', 'FundingStatus'] #'NumberofEmployees']\n",
        "\n",
        "d = defaultdict(LabelEncoder)\n",
        "\n",
        "# Encoding the variable\n",
        "lecatdata = df_clean[catvars].apply(lambda x: d[x.name].fit_transform(x))\n",
        "\n",
        "# print transformations\n",
        "for x in range(len(catvars)):\n",
        "    print(catvars[x],\": \", df_clean[catvars[x]].unique())\n",
        "    print(catvars[x],\": \", lecatdata[catvars[x]].unique())\n",
        "\n",
        "#One hot encoding, create dummy variables for every category of every categorical variable\n",
        "dummyvars = pd.get_dummies(df_clean[catvars])"
      ],
      "execution_count": 0,
      "outputs": [
        {
          "output_type": "stream",
          "text": [
            "EstimatedRevenueRange :  ['unknown' 'Less than $1M' '$10M+' '$1M to $10M']\n",
            "EstimatedRevenueRange :  [3 2 0 1]\n",
            "FundingStatus :  ['Seed' 'Early Stage Venture' 'Late Stage Venture']\n",
            "FundingStatus :  [2 0 1]\n"
          ],
          "name": "stdout"
        }
      ]
    },
    {
      "cell_type": "code",
      "metadata": {
        "id": "9aPqHxPeQbg-",
        "colab_type": "code",
        "outputId": "d2543f62-d3ed-4e4a-cca4-8d359fa1c6ac",
        "colab": {
          "base_uri": "https://localhost:8080/",
          "height": 35
        }
      },
      "source": [
        "data_clean = pd.concat([df_clean[numvars], dummyvars], axis = 1)\n",
        "print(data_clean.shape)"
      ],
      "execution_count": 0,
      "outputs": [
        {
          "output_type": "stream",
          "text": [
            "(8212, 15)\n"
          ],
          "name": "stdout"
        }
      ]
    },
    {
      "cell_type": "code",
      "metadata": {
        "id": "2qgOI59vIhii",
        "colab_type": "code",
        "outputId": "c8afb5e6-cc70-4775-a1bd-a04e0d3a3d3d",
        "colab": {
          "base_uri": "https://localhost:8080/",
          "height": 413
        }
      },
      "source": [
        "data_clean.info()"
      ],
      "execution_count": 0,
      "outputs": [
        {
          "output_type": "stream",
          "text": [
            "<class 'pandas.core.frame.DataFrame'>\n",
            "Int64Index: 8212 entries, 0 to 8447\n",
            "Data columns (total 15 columns):\n",
            " #   Column                               Non-Null Count  Dtype  \n",
            "---  ------                               --------------  -----  \n",
            " 0   target                               8212 non-null   int64  \n",
            " 1   IPqwery-PatentsGranted               8212 non-null   float64\n",
            " 2   BuiltWith-ActiveTechCount            8212 non-null   float64\n",
            " 3   NumberofFounders                     8212 non-null   float64\n",
            " 4   NumberofFundingRounds                8212 non-null   int64  \n",
            " 5   NumberofInvestors                    8212 non-null   float64\n",
            " 6   NumberofLeadInvestors                8212 non-null   float64\n",
            " 7   inv_by_famous_investor               8212 non-null   int64  \n",
            " 8   EstimatedRevenueRange_$10M+          8212 non-null   uint8  \n",
            " 9   EstimatedRevenueRange_$1M to $10M    8212 non-null   uint8  \n",
            " 10  EstimatedRevenueRange_Less than $1M  8212 non-null   uint8  \n",
            " 11  EstimatedRevenueRange_unknown        8212 non-null   uint8  \n",
            " 12  FundingStatus_Early Stage Venture    8212 non-null   uint8  \n",
            " 13  FundingStatus_Late Stage Venture     8212 non-null   uint8  \n",
            " 14  FundingStatus_Seed                   8212 non-null   uint8  \n",
            "dtypes: float64(5), int64(3), uint8(7)\n",
            "memory usage: 953.5 KB\n"
          ],
          "name": "stdout"
        }
      ]
    },
    {
      "cell_type": "code",
      "metadata": {
        "id": "U7_ZjWpRIhgm",
        "colab_type": "code",
        "colab": {}
      },
      "source": [
        ""
      ],
      "execution_count": 0,
      "outputs": []
    },
    {
      "cell_type": "code",
      "metadata": {
        "id": "QEsszOWtIhbb",
        "colab_type": "code",
        "colab": {}
      },
      "source": [
        ""
      ],
      "execution_count": 0,
      "outputs": []
    },
    {
      "cell_type": "code",
      "metadata": {
        "id": "Wy0voC3PIhVy",
        "colab_type": "code",
        "colab": {}
      },
      "source": [
        ""
      ],
      "execution_count": 0,
      "outputs": []
    },
    {
      "cell_type": "markdown",
      "metadata": {
        "id": "phpVSzz2ylDA",
        "colab_type": "text"
      },
      "source": [
        "Location is important for start-up, bay area more funding here."
      ]
    },
    {
      "cell_type": "markdown",
      "metadata": {
        "id": "X6Phx37R5-I5",
        "colab_type": "text"
      },
      "source": [
        "####LastFundingType"
      ]
    },
    {
      "cell_type": "markdown",
      "metadata": {
        "id": "RbrcXSD4opux",
        "colab_type": "text"
      },
      "source": [
        "####FoundedDate"
      ]
    },
    {
      "cell_type": "code",
      "metadata": {
        "id": "d4N3JI9K-V0T",
        "colab_type": "code",
        "colab": {}
      },
      "source": [
        "#df.FoundedDate = pd.to_datetime(df.loc[:, 'FoundedDate'])"
      ],
      "execution_count": 0,
      "outputs": []
    },
    {
      "cell_type": "code",
      "metadata": {
        "id": "syp_HVn8-V0X",
        "colab_type": "code",
        "colab": {}
      },
      "source": [
        "#df.info()"
      ],
      "execution_count": 0,
      "outputs": []
    },
    {
      "cell_type": "code",
      "metadata": {
        "id": "F__Eob3W-V0a",
        "colab_type": "code",
        "colab": {}
      },
      "source": [
        "#df.sort_values(by=['OrganizationName', 'FoundedDate'],\n",
        " #                           ascending=True,\n",
        "  #                          inplace=True)"
      ],
      "execution_count": 0,
      "outputs": []
    },
    {
      "cell_type": "code",
      "metadata": {
        "id": "Q42MrSfs-V0d",
        "colab_type": "code",
        "colab": {}
      },
      "source": [
        "#df['time_between_next_round'] = df.groupby('OrganizationName').FoundedDate.diff()"
      ],
      "execution_count": 0,
      "outputs": []
    },
    {
      "cell_type": "code",
      "metadata": {
        "id": "Q8oviT_V-V0f",
        "colab_type": "code",
        "colab": {}
      },
      "source": [
        "#df['time_between_next_round']"
      ],
      "execution_count": 0,
      "outputs": []
    },
    {
      "cell_type": "markdown",
      "metadata": {
        "id": "TRzD9XIE-V0T",
        "colab_type": "text"
      },
      "source": [
        "# Todo3: get the features X of the model"
      ]
    },
    {
      "cell_type": "markdown",
      "metadata": {
        "id": "XdEgKDXg-V0h",
        "colab_type": "text"
      },
      "source": [
        "Choose the X columns as the features"
      ]
    },
    {
      "cell_type": "code",
      "metadata": {
        "id": "Mq112UdR-V0h",
        "colab_type": "code",
        "colab": {}
      },
      "source": [
        "X_col_nodummies = [\n",
        "    'BuiltWith-ActiveTechCount', 'IPqwery-PatentsGranted', 'NumberofInvestors','NumberofFounders',\n",
        "    'NumberofFundingRounds','EstimatedRevenueRange_$10M+','EstimatedRevenueRange_$1M to $10M','EstimatedRevenueRange_unknown', \n",
        "     'NumberofLeadInvestors','FundingStatus_Early Stage Venture','FundingStatus_Late Stage Venture',\n",
        "     'FundingStatus_Seed'#,'TotalFundingAmountCurrency'\n",
        "]\n",
        "#cannot import LastEquityFundingAmountCurrency(inUSD), features with (inUSD)\n",
        "X_nodummies = data_clean[X_col_nodummies]"
      ],
      "execution_count": 0,
      "outputs": []
    },
    {
      "cell_type": "code",
      "metadata": {
        "id": "RhXwDU7DTQ1q",
        "colab_type": "code",
        "colab": {}
      },
      "source": [
        "#X = X_nodummies.merge(bus_dummies, left_index=True, right_index=True)"
      ],
      "execution_count": 0,
      "outputs": []
    },
    {
      "cell_type": "code",
      "metadata": {
        "id": "ZNrMptYTTQ43",
        "colab_type": "code",
        "colab": {}
      },
      "source": [
        ""
      ],
      "execution_count": 0,
      "outputs": []
    },
    {
      "cell_type": "markdown",
      "metadata": {
        "id": "iWlrKRYJ-V0j",
        "colab_type": "text"
      },
      "source": [
        "And clean the columns change all NAN to 0"
      ]
    },
    {
      "cell_type": "code",
      "metadata": {
        "id": "j1-EQ7vA-V0j",
        "colab_type": "code",
        "colab": {}
      },
      "source": [
        "#df['NumberofInvestors'] = df['NumberofInvestors'].replace(np.nan, 0)\n",
        "#df['BuiltWith-ActiveTechCount'] = df['BuiltWith-ActiveTechCount'].replace(np.nan, 0)\n",
        "#df['IPqwery-PatentsGranted'] = df['IPqwery-PatentsGranted'].replace(np.nan, 0)\n",
        "#df['NumberofFundingRounds'] = df['NumberofFundingRounds'].replace(np.nan, 0)"
      ],
      "execution_count": 0,
      "outputs": []
    },
    {
      "cell_type": "code",
      "metadata": {
        "id": "HMXC1gZF-V0l",
        "colab_type": "code",
        "colab": {}
      },
      "source": [
        "#df.info()"
      ],
      "execution_count": 0,
      "outputs": []
    },
    {
      "cell_type": "markdown",
      "metadata": {
        "id": "lr5TSnDeGCUd",
        "colab_type": "text"
      },
      "source": [
        "# **X and Y values**"
      ]
    },
    {
      "cell_type": "code",
      "metadata": {
        "id": "coUQNEma-V0n",
        "colab_type": "code",
        "outputId": "f1ccf5a2-6ed2-40b5-9d12-3a7e3a3a582a",
        "colab": {
          "base_uri": "https://localhost:8080/",
          "height": 125
        }
      },
      "source": [
        "X_nodummies = data_clean[X_col_nodummies]\n",
        "X = X_nodummies\n",
        "X['intercept'] = 1"
      ],
      "execution_count": 0,
      "outputs": [
        {
          "output_type": "stream",
          "text": [
            "/usr/local/lib/python3.6/dist-packages/ipykernel_launcher.py:3: SettingWithCopyWarning: \n",
            "A value is trying to be set on a copy of a slice from a DataFrame.\n",
            "Try using .loc[row_indexer,col_indexer] = value instead\n",
            "\n",
            "See the caveats in the documentation: https://pandas.pydata.org/pandas-docs/stable/user_guide/indexing.html#returning-a-view-versus-a-copy\n",
            "  This is separate from the ipykernel package so we can avoid doing imports until\n"
          ],
          "name": "stderr"
        }
      ]
    },
    {
      "cell_type": "code",
      "metadata": {
        "id": "QA2skuiXTkjl",
        "colab_type": "code",
        "colab": {}
      },
      "source": [
        "#X['intercept']"
      ],
      "execution_count": 0,
      "outputs": []
    },
    {
      "cell_type": "code",
      "metadata": {
        "id": "3vzwSS4F-V0r",
        "colab_type": "code",
        "colab": {}
      },
      "source": [
        "y = data_clean.target"
      ],
      "execution_count": 0,
      "outputs": []
    },
    {
      "cell_type": "markdown",
      "metadata": {
        "id": "uhwBGLWW-V0u",
        "colab_type": "text"
      },
      "source": [
        "Target values "
      ]
    },
    {
      "cell_type": "code",
      "metadata": {
        "id": "Wro4PzpL-V0v",
        "colab_type": "code",
        "outputId": "913c5b82-31d5-481d-86fe-b8012ede4b22",
        "colab": {
          "base_uri": "https://localhost:8080/",
          "height": 89
        }
      },
      "source": [
        "\n",
        "# Count target values\n",
        "target_count = y.value_counts()\n",
        "\n",
        "# # print class balance\n",
        "print(f'Class 0: {target_count[0]}')\n",
        "print(f'Class 1: {target_count[1]}')\n",
        "print(f'Proportion: {round(target_count[0] / target_count[1], 2)} : 1')\n",
        "print('Percentage of Majority Class: {:f}'.format(\n",
        "    round(target_count[0] / sum(target_count), 4) * 100))"
      ],
      "execution_count": 0,
      "outputs": [
        {
          "output_type": "stream",
          "text": [
            "Class 0: 5079\n",
            "Class 1: 3133\n",
            "Proportion: 1.62 : 1\n",
            "Percentage of Majority Class: 61.850000\n"
          ],
          "name": "stdout"
        }
      ]
    },
    {
      "cell_type": "code",
      "metadata": {
        "id": "gmDz7V5y-V0x",
        "colab_type": "code",
        "outputId": "77cad128-e216-4991-e66d-2477ec388571",
        "colab": {
          "base_uri": "https://localhost:8080/",
          "height": 71
        }
      },
      "source": [
        "target_count"
      ],
      "execution_count": 0,
      "outputs": [
        {
          "output_type": "execute_result",
          "data": {
            "text/plain": [
              "0    5079\n",
              "1    3133\n",
              "Name: target, dtype: int64"
            ]
          },
          "metadata": {
            "tags": []
          },
          "execution_count": 118
        }
      ]
    },
    {
      "cell_type": "markdown",
      "metadata": {
        "id": "1gTHZosO-V0z",
        "colab_type": "text"
      },
      "source": [
        "# **TODO3: Modeling Part**\n",
        "\n"
      ]
    },
    {
      "cell_type": "code",
      "metadata": {
        "id": "uS1AACAHfac-",
        "colab_type": "code",
        "colab": {}
      },
      "source": [
        "class app_ml:\n",
        "  from sklearn.mixture import GaussianMixture\n",
        "  from sklearn.ensemble import RandomForestClassifier\n",
        "  from sklearn.linear_model import LogisticRegression\n",
        "  from sklearn.tree import DecisionTreeClassifier\n",
        "  from sklearn.neighbors import KNeighborsClassifier\n",
        "  from sklearn.ensemble import RandomForestClassifier\n",
        "  from sklearn.discriminant_analysis import LinearDiscriminantAnalysis\n",
        "  from sklearn.naive_bayes import GaussianNB\n",
        "  from sklearn.svm import SVC\n",
        "  from xgboost import XGBClassifier\n",
        "  from sklearn.model_selection import cross_validate\n",
        "  from sklearn.metrics import make_scorer\n",
        "  from sklearn.metrics import confusion_matrix\n",
        "  from sklearn.model_selection import  KFold, cross_val_score\n",
        "  "
      ],
      "execution_count": 0,
      "outputs": []
    },
    {
      "cell_type": "markdown",
      "metadata": {
        "id": "439Fx4ANF3oy",
        "colab_type": "text"
      },
      "source": [
        "# **GMM**"
      ]
    },
    {
      "cell_type": "code",
      "metadata": {
        "id": "6wQ3d_ViF4pr",
        "colab_type": "code",
        "colab": {}
      },
      "source": [
        ""
      ],
      "execution_count": 0,
      "outputs": []
    },
    {
      "cell_type": "markdown",
      "metadata": {
        "id": "DD1h33cOF4Fp",
        "colab_type": "text"
      },
      "source": [
        "# **Data Split**"
      ]
    },
    {
      "cell_type": "code",
      "metadata": {
        "id": "PKXgyJAN-V0z",
        "colab_type": "code",
        "colab": {}
      },
      "source": [
        "# Split the data with 80% to train and 20% to test\n",
        "# Stratify to ensure train and test sets have \n",
        "# similar proportions of either target class\n",
        "X_train, X_test, y_train, y_test = train_test_split(X,\n",
        "                                                    y,\n",
        "                                                    test_size=0.2,\n",
        "                                                    random_state=40,\n",
        "                                                    stratify=y)"
      ],
      "execution_count": 0,
      "outputs": []
    },
    {
      "cell_type": "code",
      "metadata": {
        "id": "UDpFPz2X-V02",
        "colab_type": "code",
        "colab": {}
      },
      "source": [
        "# Standardize the data\n",
        "\n",
        "scaler = StandardScaler()\n",
        "\n",
        "# Fit the scaler using the training data and scale it\n",
        "X_train_scaled = pd.DataFrame(scaler.fit_transform(X_train.values),\n",
        "                              columns=X.columns)\n",
        "\n",
        "# Scale the test data\n",
        "X_test_scaled = pd.DataFrame(scaler.transform(X_test.values),\n",
        "                             columns=X.columns)"
      ],
      "execution_count": 0,
      "outputs": []
    },
    {
      "cell_type": "code",
      "metadata": {
        "id": "s0DL5XSoYC14",
        "colab_type": "code",
        "outputId": "82055394-f6c0-40e0-86a0-4c360b44fea2",
        "colab": {
          "base_uri": "https://localhost:8080/",
          "height": 35
        }
      },
      "source": [
        "X_test_scaled.shape"
      ],
      "execution_count": 0,
      "outputs": [
        {
          "output_type": "execute_result",
          "data": {
            "text/plain": [
              "(1643, 13)"
            ]
          },
          "metadata": {
            "tags": []
          },
          "execution_count": 161
        }
      ]
    },
    {
      "cell_type": "code",
      "metadata": {
        "id": "hAYCTL-TYHOW",
        "colab_type": "code",
        "outputId": "ea38ec5a-1baa-4efa-d9fa-430815d281cf",
        "colab": {
          "base_uri": "https://localhost:8080/",
          "height": 35
        }
      },
      "source": [
        "y_test.shape"
      ],
      "execution_count": 0,
      "outputs": [
        {
          "output_type": "execute_result",
          "data": {
            "text/plain": [
              "(1643,)"
            ]
          },
          "metadata": {
            "tags": []
          },
          "execution_count": 163
        }
      ]
    },
    {
      "cell_type": "code",
      "metadata": {
        "id": "HejvhPZ0UOAK",
        "colab_type": "code",
        "colab": {}
      },
      "source": [
        "from sklearn.mixture import GaussianMixture\n",
        "from sklearn.ensemble import RandomForestClassifier\n",
        "from sklearn.linear_model import LogisticRegression\n",
        "from sklearn.tree import DecisionTreeClassifier\n",
        "from sklearn.neighbors import KNeighborsClassifier\n",
        "from sklearn.ensemble import RandomForestClassifier\n",
        "from sklearn.discriminant_analysis import LinearDiscriminantAnalysis\n",
        "from sklearn.naive_bayes import GaussianNB\n",
        "from sklearn.svm import SVC\n",
        "from xgboost import XGBClassifier\n",
        "from sklearn.model_selection import cross_validate\n",
        "from sklearn.metrics import make_scorer\n",
        "from sklearn.metrics import confusion_matrix\n",
        "\n",
        "from sklearn.model_selection import  KFold, cross_val_score"
      ],
      "execution_count": 0,
      "outputs": []
    },
    {
      "cell_type": "code",
      "metadata": {
        "id": "rIjcS_ptUWag",
        "colab_type": "code",
        "colab": {}
      },
      "source": [
        "def apply_mls_plot(scores_final,models_final):\n",
        "  names.clear()\n",
        "  for sco_str in scores_final:\n",
        "    print('---Training:'+sco_str)\n",
        "    results_x_train = []\n",
        "    apply_ml(models_final,results_x_train,sco_str,X_train_scaled,y_train)\n",
        "    print('---testing:'+sco_str)\n",
        "    results_x_test = []\n",
        "    apply_ml(models_final,results_x_test,sco_str,X_test_scaled,y_test)\n",
        "    plt.figure()\n",
        "    models=models_final\n",
        "    plot_results(results_x_train,'training('+sco_str+')')\n",
        "    plot_results(results_x_test,'testing('+sco_str+')')\n",
        "    plt.show()\n",
        "    results_x_train.clear()\n",
        "    results_x_test.clear()\n",
        "    names.clear()"
      ],
      "execution_count": 0,
      "outputs": []
    },
    {
      "cell_type": "code",
      "metadata": {
        "id": "ny8Jh2-bTljA",
        "colab_type": "code",
        "colab": {}
      },
      "source": [
        "def apply_ml(models_x,results,score,X, y):  \n",
        "  for name_str, model in models_x:\n",
        "    kfold = KFold(n_splits=10, random_state=seed)\n",
        "    cv_results = cross_val_score(model, X, y, cv=kfold, scoring=score)\n",
        "    results.append(cv_results)\n",
        "    names.append(name_str)\n",
        "    print(\"%s: %f (%f)\" % (name_str, cv_results.mean(), cv_results.var()))"
      ],
      "execution_count": 0,
      "outputs": []
    },
    {
      "cell_type": "code",
      "metadata": {
        "id": "a8U944UWUc6l",
        "colab_type": "code",
        "colab": {}
      },
      "source": [
        "def plot_results(results,str_type):\n",
        "  fig = plt.figure(figsize=(11,6))\n",
        "  fig.suptitle('Algorithm Comparison:'+str_type)\n",
        "  ax = fig.add_subplot(111)\n",
        "  plt.boxplot(results)\n",
        "  ax.set_xticklabels(names)\n",
        "  plt.show()"
      ],
      "execution_count": 0,
      "outputs": []
    },
    {
      "cell_type": "code",
      "metadata": {
        "id": "yZ8jyuunT2WJ",
        "colab_type": "code",
        "colab": {}
      },
      "source": [
        "names=[]\n",
        "seed=7"
      ],
      "execution_count": 0,
      "outputs": []
    },
    {
      "cell_type": "code",
      "metadata": {
        "id": "f8_TdC8PUgun",
        "colab_type": "code",
        "colab": {}
      },
      "source": [
        "models_final = []\n",
        "models_final.append(('LogReg', LogisticRegression(C=10, solver='lbfgs')))\n",
        "models_final.append(('XGBoost', XGBClassifier()))\n",
        "models_final.append(('Ran Forest', RandomForestClassifier()))\n",
        "models_final.append(('SVM', SVC(gamma='auto')))\n",
        "models_final.append(('KNN', KNeighborsClassifier(n_neighbors=5)))\n",
        "models_final.append(('NaiveBayes', GaussianNB()))"
      ],
      "execution_count": 0,
      "outputs": []
    },
    {
      "cell_type": "code",
      "metadata": {
        "id": "p-aucMpjXqkq",
        "colab_type": "code",
        "outputId": "6c766a9a-ef77-489f-a358-f82e18e6df33",
        "colab": {
          "base_uri": "https://localhost:8080/",
          "height": 611
        }
      },
      "source": [
        "models_final"
      ],
      "execution_count": 0,
      "outputs": [
        {
          "output_type": "execute_result",
          "data": {
            "text/plain": [
              "[('LogReg',\n",
              "  LogisticRegression(C=10, class_weight=None, dual=False, fit_intercept=True,\n",
              "                     intercept_scaling=1, l1_ratio=None, max_iter=100,\n",
              "                     multi_class='auto', n_jobs=None, penalty='l2',\n",
              "                     random_state=None, solver='lbfgs', tol=0.0001, verbose=0,\n",
              "                     warm_start=False)),\n",
              " ('XGBoost',\n",
              "  XGBClassifier(base_score=0.5, booster='gbtree', colsample_bylevel=1,\n",
              "                colsample_bynode=1, colsample_bytree=1, gamma=0,\n",
              "                learning_rate=0.1, max_delta_step=0, max_depth=3,\n",
              "                min_child_weight=1, missing=None, n_estimators=100, n_jobs=1,\n",
              "                nthread=None, objective='binary:logistic', random_state=0,\n",
              "                reg_alpha=0, reg_lambda=1, scale_pos_weight=1, seed=None,\n",
              "                silent=None, subsample=1, verbosity=1)),\n",
              " ('Ran Forest',\n",
              "  RandomForestClassifier(bootstrap=True, ccp_alpha=0.0, class_weight=None,\n",
              "                         criterion='gini', max_depth=None, max_features='auto',\n",
              "                         max_leaf_nodes=None, max_samples=None,\n",
              "                         min_impurity_decrease=0.0, min_impurity_split=None,\n",
              "                         min_samples_leaf=1, min_samples_split=2,\n",
              "                         min_weight_fraction_leaf=0.0, n_estimators=100,\n",
              "                         n_jobs=None, oob_score=False, random_state=None,\n",
              "                         verbose=0, warm_start=False)),\n",
              " ('SVM',\n",
              "  SVC(C=1.0, break_ties=False, cache_size=200, class_weight=None, coef0=0.0,\n",
              "      decision_function_shape='ovr', degree=3, gamma='auto', kernel='rbf',\n",
              "      max_iter=-1, probability=False, random_state=None, shrinking=True,\n",
              "      tol=0.001, verbose=False)),\n",
              " ('KNN',\n",
              "  KNeighborsClassifier(algorithm='auto', leaf_size=30, metric='minkowski',\n",
              "                       metric_params=None, n_jobs=None, n_neighbors=5, p=2,\n",
              "                       weights='uniform')),\n",
              " ('NaiveBayes', GaussianNB(priors=None, var_smoothing=1e-09))]"
            ]
          },
          "metadata": {
            "tags": []
          },
          "execution_count": 171
        }
      ]
    },
    {
      "cell_type": "code",
      "metadata": {
        "id": "zl52ICVNUlLl",
        "colab_type": "code",
        "colab": {}
      },
      "source": [
        "scores_final=['accuracy','precision','recall','roc_auc','f1']"
      ],
      "execution_count": 0,
      "outputs": []
    },
    {
      "cell_type": "code",
      "metadata": {
        "id": "K4vJg8AVUoLT",
        "colab_type": "code",
        "outputId": "f418e215-861c-4822-e157-f4baab84a408",
        "colab": {
          "base_uri": "https://localhost:8080/",
          "height": 1000
        }
      },
      "source": [
        "apply_mls_plot(scores_final,models_final)"
      ],
      "execution_count": 0,
      "outputs": [
        {
          "output_type": "stream",
          "text": [
            "---Training:accuracy\n"
          ],
          "name": "stdout"
        },
        {
          "output_type": "stream",
          "text": [
            "/usr/local/lib/python3.6/dist-packages/sklearn/model_selection/_split.py:296: FutureWarning: Setting a random_state has no effect since shuffle is False. This will raise an error in 0.24. You should leave random_state to its default (None), or set shuffle=True.\n",
            "  FutureWarning\n"
          ],
          "name": "stderr"
        },
        {
          "output_type": "stream",
          "text": [
            "LogReg: 0.710153 (0.000405)\n"
          ],
          "name": "stdout"
        },
        {
          "output_type": "stream",
          "text": [
            "/usr/local/lib/python3.6/dist-packages/sklearn/model_selection/_split.py:296: FutureWarning: Setting a random_state has no effect since shuffle is False. This will raise an error in 0.24. You should leave random_state to its default (None), or set shuffle=True.\n",
            "  FutureWarning\n"
          ],
          "name": "stderr"
        },
        {
          "output_type": "stream",
          "text": [
            "XGBoost: 0.727660 (0.000398)\n",
            "Ran Forest: 0.700258 (0.000250)\n"
          ],
          "name": "stdout"
        },
        {
          "output_type": "stream",
          "text": [
            "/usr/local/lib/python3.6/dist-packages/sklearn/model_selection/_split.py:296: FutureWarning: Setting a random_state has no effect since shuffle is False. This will raise an error in 0.24. You should leave random_state to its default (None), or set shuffle=True.\n",
            "  FutureWarning\n"
          ],
          "name": "stderr"
        },
        {
          "output_type": "stream",
          "text": [
            "SVM: 0.725071 (0.000219)\n"
          ],
          "name": "stdout"
        },
        {
          "output_type": "stream",
          "text": [
            "/usr/local/lib/python3.6/dist-packages/sklearn/model_selection/_split.py:296: FutureWarning: Setting a random_state has no effect since shuffle is False. This will raise an error in 0.24. You should leave random_state to its default (None), or set shuffle=True.\n",
            "  FutureWarning\n"
          ],
          "name": "stderr"
        },
        {
          "output_type": "stream",
          "text": [
            "KNN: 0.690061 (0.000284)\n",
            "NaiveBayes: 0.698128 (0.000286)\n",
            "---testing:accuracy\n",
            "LogReg: 0.724848 (0.001491)\n"
          ],
          "name": "stdout"
        },
        {
          "output_type": "stream",
          "text": [
            "/usr/local/lib/python3.6/dist-packages/sklearn/model_selection/_split.py:296: FutureWarning: Setting a random_state has no effect since shuffle is False. This will raise an error in 0.24. You should leave random_state to its default (None), or set shuffle=True.\n",
            "  FutureWarning\n",
            "/usr/local/lib/python3.6/dist-packages/sklearn/model_selection/_split.py:296: FutureWarning: Setting a random_state has no effect since shuffle is False. This will raise an error in 0.24. You should leave random_state to its default (None), or set shuffle=True.\n",
            "  FutureWarning\n",
            "/usr/local/lib/python3.6/dist-packages/sklearn/model_selection/_split.py:296: FutureWarning: Setting a random_state has no effect since shuffle is False. This will raise an error in 0.24. You should leave random_state to its default (None), or set shuffle=True.\n",
            "  FutureWarning\n"
          ],
          "name": "stderr"
        },
        {
          "output_type": "stream",
          "text": [
            "XGBoost: 0.739442 (0.001848)\n",
            "Ran Forest: 0.733392 (0.000707)\n"
          ],
          "name": "stdout"
        },
        {
          "output_type": "stream",
          "text": [
            "/usr/local/lib/python3.6/dist-packages/sklearn/model_selection/_split.py:296: FutureWarning: Setting a random_state has no effect since shuffle is False. This will raise an error in 0.24. You should leave random_state to its default (None), or set shuffle=True.\n",
            "  FutureWarning\n"
          ],
          "name": "stderr"
        },
        {
          "output_type": "stream",
          "text": [
            "SVM: 0.741899 (0.001220)\n",
            "KNN: 0.720030 (0.001159)\n",
            "NaiveBayes: 0.713895 (0.001103)\n"
          ],
          "name": "stdout"
        },
        {
          "output_type": "stream",
          "text": [
            "/usr/local/lib/python3.6/dist-packages/sklearn/model_selection/_split.py:296: FutureWarning: Setting a random_state has no effect since shuffle is False. This will raise an error in 0.24. You should leave random_state to its default (None), or set shuffle=True.\n",
            "  FutureWarning\n",
            "/usr/local/lib/python3.6/dist-packages/sklearn/model_selection/_split.py:296: FutureWarning: Setting a random_state has no effect since shuffle is False. This will raise an error in 0.24. You should leave random_state to its default (None), or set shuffle=True.\n",
            "  FutureWarning\n"
          ],
          "name": "stderr"
        },
        {
          "output_type": "display_data",
          "data": {
            "text/plain": [
              "<Figure size 432x288 with 0 Axes>"
            ]
          },
          "metadata": {
            "tags": []
          }
        },
        {
          "output_type": "display_data",
          "data": {
            "image/png": "[encoded data removed]",
            "text/plain": [
              "<Figure size 792x432 with 1 Axes>"
            ]
          },
          "metadata": {
            "tags": []
          }
        },
        {
          "output_type": "display_data",
          "data": {
            "image/png": "[encoded data removed]",
            "text/plain": [
              "<Figure size 792x432 with 1 Axes>"
            ]
          },
          "metadata": {
            "tags": []
          }
        },
        {
          "output_type": "stream",
          "text": [
            "---Training:precision\n"
          ],
          "name": "stdout"
        },
        {
          "output_type": "stream",
          "text": [
            "/usr/local/lib/python3.6/dist-packages/sklearn/model_selection/_split.py:296: FutureWarning: Setting a random_state has no effect since shuffle is False. This will raise an error in 0.24. You should leave random_state to its default (None), or set shuffle=True.\n",
            "  FutureWarning\n"
          ],
          "name": "stderr"
        },
        {
          "output_type": "stream",
          "text": [
            "LogReg: 0.836169 (0.001874)\n"
          ],
          "name": "stdout"
        },
        {
          "output_type": "stream",
          "text": [
            "/usr/local/lib/python3.6/dist-packages/sklearn/model_selection/_split.py:296: FutureWarning: Setting a random_state has no effect since shuffle is False. This will raise an error in 0.24. You should leave random_state to its default (None), or set shuffle=True.\n",
            "  FutureWarning\n"
          ],
          "name": "stderr"
        },
        {
          "output_type": "stream",
          "text": [
            "XGBoost: 0.817247 (0.001040)\n",
            "Ran Forest: 0.621474 (0.000174)\n"
          ],
          "name": "stdout"
        },
        {
          "output_type": "stream",
          "text": [
            "/usr/local/lib/python3.6/dist-packages/sklearn/model_selection/_split.py:296: FutureWarning: Setting a random_state has no effect since shuffle is False. This will raise an error in 0.24. You should leave random_state to its default (None), or set shuffle=True.\n",
            "  FutureWarning\n"
          ],
          "name": "stderr"
        },
        {
          "output_type": "stream",
          "text": [
            "SVM: 0.850441 (0.000451)\n"
          ],
          "name": "stdout"
        },
        {
          "output_type": "stream",
          "text": [
            "/usr/local/lib/python3.6/dist-packages/sklearn/model_selection/_split.py:296: FutureWarning: Setting a random_state has no effect since shuffle is False. This will raise an error in 0.24. You should leave random_state to its default (None), or set shuffle=True.\n",
            "  FutureWarning\n"
          ],
          "name": "stderr"
        },
        {
          "output_type": "stream",
          "text": [
            "KNN: 0.613133 (0.000795)\n",
            "NaiveBayes: 0.701223 (0.000388)\n",
            "---testing:precision\n",
            "LogReg: 0.834109 (0.005317)\n"
          ],
          "name": "stdout"
        },
        {
          "output_type": "stream",
          "text": [
            "/usr/local/lib/python3.6/dist-packages/sklearn/model_selection/_split.py:296: FutureWarning: Setting a random_state has no effect since shuffle is False. This will raise an error in 0.24. You should leave random_state to its default (None), or set shuffle=True.\n",
            "  FutureWarning\n",
            "/usr/local/lib/python3.6/dist-packages/sklearn/model_selection/_split.py:296: FutureWarning: Setting a random_state has no effect since shuffle is False. This will raise an error in 0.24. You should leave random_state to its default (None), or set shuffle=True.\n",
            "  FutureWarning\n",
            "/usr/local/lib/python3.6/dist-packages/sklearn/model_selection/_split.py:296: FutureWarning: Setting a random_state has no effect since shuffle is False. This will raise an error in 0.24. You should leave random_state to its default (None), or set shuffle=True.\n",
            "  FutureWarning\n"
          ],
          "name": "stderr"
        },
        {
          "output_type": "stream",
          "text": [
            "XGBoost: 0.776714 (0.007587)\n",
            "Ran Forest: 0.687492 (0.005499)\n"
          ],
          "name": "stdout"
        },
        {
          "output_type": "stream",
          "text": [
            "/usr/local/lib/python3.6/dist-packages/sklearn/model_selection/_split.py:296: FutureWarning: Setting a random_state has no effect since shuffle is False. This will raise an error in 0.24. You should leave random_state to its default (None), or set shuffle=True.\n",
            "  FutureWarning\n"
          ],
          "name": "stderr"
        },
        {
          "output_type": "stream",
          "text": [
            "SVM: 0.855971 (0.005434)\n",
            "KNN: 0.656072 (0.007090)\n",
            "NaiveBayes: 0.729787 (0.005089)\n"
          ],
          "name": "stdout"
        },
        {
          "output_type": "stream",
          "text": [
            "/usr/local/lib/python3.6/dist-packages/sklearn/model_selection/_split.py:296: FutureWarning: Setting a random_state has no effect since shuffle is False. This will raise an error in 0.24. You should leave random_state to its default (None), or set shuffle=True.\n",
            "  FutureWarning\n",
            "/usr/local/lib/python3.6/dist-packages/sklearn/model_selection/_split.py:296: FutureWarning: Setting a random_state has no effect since shuffle is False. This will raise an error in 0.24. You should leave random_state to its default (None), or set shuffle=True.\n",
            "  FutureWarning\n"
          ],
          "name": "stderr"
        },
        {
          "output_type": "display_data",
          "data": {
            "text/plain": [
              "<Figure size 432x288 with 0 Axes>"
            ]
          },
          "metadata": {
            "tags": []
          }
        },
        {
          "output_type": "display_data",
          "data": {
            "image/png": "[encoded data removed]",
            "text/plain": [
              "<Figure size 792x432 with 1 Axes>"
            ]
          },
          "metadata": {
            "tags": []
          }
        },
        {
          "output_type": "display_data",
          "data": {
            "image/png": "[encoded data removed]",
            "text/plain": [
              "<Figure size 792x432 with 1 Axes>"
            ]
          },
          "metadata": {
            "tags": []
          }
        },
        {
          "output_type": "stream",
          "text": [
            "---Training:recall\n"
          ],
          "name": "stdout"
        },
        {
          "output_type": "stream",
          "text": [
            "/usr/local/lib/python3.6/dist-packages/sklearn/model_selection/_split.py:296: FutureWarning: Setting a random_state has no effect since shuffle is False. This will raise an error in 0.24. You should leave random_state to its default (None), or set shuffle=True.\n",
            "  FutureWarning\n"
          ],
          "name": "stderr"
        },
        {
          "output_type": "stream",
          "text": [
            "LogReg: 0.299326 (0.000990)\n"
          ],
          "name": "stdout"
        },
        {
          "output_type": "stream",
          "text": [
            "/usr/local/lib/python3.6/dist-packages/sklearn/model_selection/_split.py:296: FutureWarning: Setting a random_state has no effect since shuffle is False. This will raise an error in 0.24. You should leave random_state to its default (None), or set shuffle=True.\n",
            "  FutureWarning\n"
          ],
          "name": "stderr"
        },
        {
          "output_type": "stream",
          "text": [
            "XGBoost: 0.368076 (0.001638)\n"
          ],
          "name": "stdout"
        }
      ]
    },
    {
      "cell_type": "markdown",
      "metadata": {
        "id": "hD0f25Nm-V04",
        "colab_type": "text"
      },
      "source": [
        "## **Logistic Regression**"
      ]
    },
    {
      "cell_type": "code",
      "metadata": {
        "id": "VZu71ytY-V04",
        "colab_type": "code",
        "colab": {}
      },
      "source": [
        "\n",
        "# Instantiate model\n",
        "logreg = LogisticRegression(C=10, solver='lbfgs')\n",
        "\n",
        "# Fit model to the training data\n",
        "logreg.fit(X_train_scaled, y_train)\n",
        "\n",
        "# Pickle this for later\n",
        "joblib.dump(logreg, 'logreg.pkl')"
      ],
      "execution_count": 0,
      "outputs": []
    },
    {
      "cell_type": "code",
      "metadata": {
        "id": "i0qyzs1n-V06",
        "colab_type": "code",
        "colab": {}
      },
      "source": [
        "\n",
        "# Calculate ROC curve for logistic regression\n",
        "#fpr_lr, tpr_lr, thresholds_lr = roc_curve(y_test,logreg.predict_proba(X_test_scaled)[:, 1])\n",
        "# Calculate area under the curve (AUC) for ROC\n",
        "#auc_lr = roc_auc_score(y_test, logreg.predict_proba(X_test_scaled)[:, 1])"
      ],
      "execution_count": 0,
      "outputs": []
    },
    {
      "cell_type": "code",
      "metadata": {
        "id": "485Xy_xp-V09",
        "colab_type": "code",
        "colab": {}
      },
      "source": [
        "\n",
        "def fbeta(model, y_test=y_test, X_test=X_test_scaled):\n",
        "    \"\"\"\n",
        "    Calculate the probability threshold that yields the highest f_beta value\n",
        "    input: fitted model, y_test, X_test\n",
        "    \"\"\"\n",
        "    prob_thresholds = np.arange(0, 1, 0.005)\n",
        "    fbeta = []\n",
        "    for prob in prob_thresholds:\n",
        "        fbeta.append(\n",
        "            fbeta_score(y_test,\n",
        "                        model.predict_proba(X_test)[:, 1] > prob, 3))\n",
        "    all_fbeta = list(zip(prob_thresholds, fbeta))\n",
        "    best_fbeta = max(list(zip(prob_thresholds, fbeta)), key=lambda x: x[1])\n",
        "    print(\n",
        "        'Probability that yields the best fbeta score is {} with fbeta={:5f}'.\n",
        "        format(best_fbeta[0], best_fbeta[1]))\n",
        "    return all_fbeta, best_fbeta"
      ],
      "execution_count": 0,
      "outputs": []
    },
    {
      "cell_type": "code",
      "metadata": {
        "id": "SecedPoY-V1A",
        "colab_type": "code",
        "colab": {}
      },
      "source": [
        "# Calculate fbeta for logistic regression\n",
        "all_fbeta_lr, best_fbeta_lr = fbeta(logreg, X_test=X_test_scaled)\n",
        "p_thresh = best_fbeta_lr[0]"
      ],
      "execution_count": 0,
      "outputs": []
    },
    {
      "cell_type": "markdown",
      "metadata": {
        "id": "81TYzTiEEt9P",
        "colab_type": "text"
      },
      "source": [
        "## **KNN**"
      ]
    },
    {
      "cell_type": "code",
      "metadata": {
        "id": "y3lLaDwl-V1E",
        "colab_type": "code",
        "colab": {}
      },
      "source": [
        "\n",
        "# Instantiate Model\n",
        "knn = KNeighborsClassifier(n_neighbors=5)\n",
        "\n",
        "# Fit Model\n",
        "knn.fit(X_train_scaled, y_train)"
      ],
      "execution_count": 0,
      "outputs": []
    },
    {
      "cell_type": "code",
      "metadata": {
        "id": "oVi7j4zI-V1G",
        "colab_type": "code",
        "colab": {}
      },
      "source": [
        "# Calculate fbeta for KNN\n",
        "#all_fbeta_knn, best_fbeta_knn = fbeta(knn,\n",
        "#                                      X_test=X_test_scaled)  # scaled for knn\n",
        "\n",
        "# Calculate ROC Score and AUC for knn\n",
        "#fpr_knn, tpr_knn, thresholds_knn = roc_curve(\n",
        "#    y_test,\n",
        "#    knn.predict_proba(X_test_scaled)[:, 1])  # scaled for knn\n",
        "#auc_knn = roc_auc_score(\n",
        "#    y_test,\n",
        "#    knn.predict_proba(X_test_scaled)[:, 1])  # scaled for knn"
      ],
      "execution_count": 0,
      "outputs": []
    },
    {
      "cell_type": "code",
      "metadata": {
        "id": "R94U4Fe8-V1I",
        "colab_type": "code",
        "colab": {}
      },
      "source": [
        ""
      ],
      "execution_count": 0,
      "outputs": []
    },
    {
      "cell_type": "markdown",
      "metadata": {
        "id": "tQ69vTaZE3Yo",
        "colab_type": "text"
      },
      "source": [
        "## **Naives Bayes**"
      ]
    },
    {
      "cell_type": "code",
      "metadata": {
        "id": "9fWwoQG_FP4X",
        "colab_type": "code",
        "colab": {}
      },
      "source": [
        "nbb = BernoulliNB()\n",
        "nbb.fit(X_train_scaled, y_train)"
      ],
      "execution_count": 0,
      "outputs": []
    },
    {
      "cell_type": "markdown",
      "metadata": {
        "id": "Uw93EQlPE3fP",
        "colab_type": "text"
      },
      "source": [
        "# **SVM**"
      ]
    },
    {
      "cell_type": "code",
      "metadata": {
        "id": "EY2ufeziFQYz",
        "colab_type": "code",
        "colab": {}
      },
      "source": [
        "svm_model = svm.SVC(kernel=\"linear\", probability=True)\n",
        "svm_model.fit(X_train_scaled, y_train)"
      ],
      "execution_count": 0,
      "outputs": []
    },
    {
      "cell_type": "markdown",
      "metadata": {
        "id": "J0unpxXPE3lE",
        "colab_type": "text"
      },
      "source": [
        "# **XGB**"
      ]
    },
    {
      "cell_type": "code",
      "metadata": {
        "id": "_n-c__tX-V1K",
        "colab_type": "code",
        "colab": {}
      },
      "source": [
        "xgb = XGBClassifier()\n",
        "xgb.fit(X_train, y_train)"
      ],
      "execution_count": 0,
      "outputs": []
    },
    {
      "cell_type": "markdown",
      "metadata": {
        "id": "jwk9la4NFRHl",
        "colab_type": "text"
      },
      "source": [
        "# **Random Forest**"
      ]
    },
    {
      "cell_type": "code",
      "metadata": {
        "id": "Obi_whkzFVjY",
        "colab_type": "code",
        "colab": {}
      },
      "source": [
        "# Instantiate Model\n",
        "rf = RandomForestClassifier(n_estimators=500,\n",
        "                            bootstrap=True,\n",
        "                            oob_score=True,\n",
        "                            random_state=1234,\n",
        "                            n_jobs=-1)\n",
        "\n",
        "# fit\n",
        "rf.fit(X_train, y_train)"
      ],
      "execution_count": 0,
      "outputs": []
    },
    {
      "cell_type": "markdown",
      "metadata": {
        "id": "iYnAz_L9Ff0R",
        "colab_type": "text"
      },
      "source": [
        "# **Decision Tree**\n",
        "\n",
        "use the column['Business'] ['target'] ['    '] to see if business type is important or not"
      ]
    },
    {
      "cell_type": "code",
      "metadata": {
        "id": "Xt6F04beFjAu",
        "colab_type": "code",
        "colab": {}
      },
      "source": [
        "#regr = tree.DecisionTreeRegressor(max_depth=2)\n",
        "#regr.fit(boston.data, boston.target)\n",
        "\n",
        "#viz = dtreeviz(regr,\n",
        "#               boston.data,\n",
        "#               boston.target,\n",
        "#               target_name='price',\n",
        "#               feature_names=boston.feature_names)\n",
        "              \n",
        "#viz.view()   "
      ],
      "execution_count": 0,
      "outputs": []
    },
    {
      "cell_type": "markdown",
      "metadata": {
        "id": "WJbMJopAFqJn",
        "colab_type": "text"
      },
      "source": [
        "## **KMeans**"
      ]
    },
    {
      "cell_type": "code",
      "metadata": {
        "id": "JSt_JhZHFsh1",
        "colab_type": "code",
        "colab": {}
      },
      "source": [
        ""
      ],
      "execution_count": 0,
      "outputs": []
    },
    {
      "cell_type": "markdown",
      "metadata": {
        "id": "sDVHTvPbHlbF",
        "colab_type": "text"
      },
      "source": [
        "# **Model Comparison & Conclusion**"
      ]
    },
    {
      "cell_type": "code",
      "metadata": {
        "id": "7S5driSZHqk3",
        "colab_type": "code",
        "colab": {}
      },
      "source": [
        ""
      ],
      "execution_count": 0,
      "outputs": []
    }
  ]
}