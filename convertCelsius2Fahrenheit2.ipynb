{
 "cells": [
  {
   "cell_type": "code",
   "execution_count": 1,
   "metadata": {},
   "outputs": [],
   "source": [
    "import numpy as np"
   ]
  },
  {
   "cell_type": "code",
   "execution_count": 2,
   "metadata": {},
   "outputs": [
    {
     "name": "stdout",
     "output_type": "stream",
     "text": [
      "-40.0 Celsius = -40.0 Fahrenheit\n",
      "-10.0 Celsius = 14.0 Fahrenheit\n",
      "0.0 Celsius = 32.0 Fahrenheit\n",
      "8.0 Celsius = 46.0 Fahrenheit\n",
      "15.0 Celsius = 59.0 Fahrenheit\n",
      "22.0 Celsius = 72.0 Fahrenheit\n",
      "38.0 Celsius = 100.0 Fahrenheit\n"
     ]
    }
   ],
   "source": [
    "celsius  = np.array([-40, -10,  0,  8, 15, 22,  38],  dtype=float)\n",
    "fahrenheit  = np.array([-40,  14, 32, 46, 59, 72, 100],  dtype=float)\n",
    "\n",
    "for i,c in enumerate(celsius):\n",
    "  print(\"{} Celsius = {} Fahrenheit\".format(c, fahrenheit[i]))"
   ]
  }
 ],
 "metadata": {
  "kernelspec": {
   "display_name": "Python 3",
   "language": "python",
   "name": "python3"
  },
  "language_info": {
   "codemirror_mode": {
    "name": "ipython",
    "version": 3
   },
   "file_extension": ".py",
   "mimetype": "text/x-python",
   "name": "python",
   "nbconvert_exporter": "python",
   "pygments_lexer": "ipython3",
   "version": "3.7.4"
  }
 },
 "nbformat": 4,
 "nbformat_minor": 2
}
