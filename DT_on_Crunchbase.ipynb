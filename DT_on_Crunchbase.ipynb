{
  "nbformat": 4,
  "nbformat_minor": 0,
  "metadata": {
    "kernelspec": {
      "name": "python3",
      "display_name": "Python 3"
    },
    "language_info": {
      "codemirror_mode": {
        "name": "ipython",
        "version": 3
      },
      "file_extension": ".py",
      "mimetype": "text/x-python",
      "name": "python",
      "nbconvert_exporter": "python",
      "pygments_lexer": "ipython3",
      "version": "3.7.4"
    },
    "colab": {
      "name": "DT on Crunchbase.ipynb",
      "provenance": [],
      "collapsed_sections": [],
      "include_colab_link": true
    },
    "accelerator": "GPU"
  },
  "cells": [
    {
      "cell_type": "markdown",
      "metadata": {
        "id": "view-in-github",
        "colab_type": "text"
      },
      "source": [
        "<a href=\"https://colab.research.google.com/github/zjzsu2000/257ML/blob/master/DT_on_Crunchbase.ipynb\" target=\"_parent\"><img src=\"https://colab.research.google.com/assets/colab-badge.svg\" alt=\"Open In Colab\"/></a>"
      ]
    },
    {
      "cell_type": "code",
      "metadata": {
        "id": "jCFMa3I6mUg9",
        "colab_type": "code",
        "colab": {}
      },
      "source": [
        "import numpy as np\n",
        "import pandas as pd\n",
        "import warnings\n",
        "warnings.filterwarnings('ignore')"
      ],
      "execution_count": 0,
      "outputs": []
    },
    {
      "cell_type": "markdown",
      "metadata": {
        "id": "vtLF6j8fmYq2",
        "colab_type": "text"
      },
      "source": [
        "\n",
        "\n",
        "```\n",
        "# This is formatted as code\n",
        "```\n",
        "\n"
      ]
    },
    {
      "cell_type": "code",
      "metadata": {
        "id": "WV7hb_HXLp_T",
        "colab_type": "code",
        "outputId": "29e48374-a6d0-4af9-fc06-512e9d160088",
        "colab": {
          "base_uri": "https://localhost:8080/",
          "height": 127
        }
      },
      "source": [
        "from google.colab import drive\n",
        "drive.mount('/content/drive')"
      ],
      "execution_count": 7,
      "outputs": [
        {
          "output_type": "stream",
          "text": [
            "Go to this URL in a browser: https://accounts.google.com/o/oauth2/auth?client_id=947318989803-6bn6qk8qdgf4n4g3pfee6491hc0brc4i.apps.googleusercontent.com&redirect_uri=urn%3aietf%3awg%3aoauth%3a2.0%3aoob&response_type=code&scope=email%20https%3a%2f%2fwww.googleapis.com%2fauth%2fdocs.test%20https%3a%2f%2fwww.googleapis.com%2fauth%2fdrive%20https%3a%2f%2fwww.googleapis.com%2fauth%2fdrive.photos.readonly%20https%3a%2f%2fwww.googleapis.com%2fauth%2fpeopleapi.readonly\n",
            "\n",
            "Enter your authorization code:\n",
            "··········\n",
            "Mounted at /content/drive\n"
          ],
          "name": "stdout"
        }
      ]
    },
    {
      "cell_type": "markdown",
      "metadata": {
        "id": "rMZIQISZmXxb",
        "colab_type": "text"
      },
      "source": [
        "#Using Decision Trees Classifier and Random Forests to Find the Important Features of our Dataset（Feature Selection）"
      ]
    },
    {
      "cell_type": "code",
      "metadata": {
        "id": "-oqJsmRBm1m9",
        "colab_type": "code",
        "colab": {}
      },
      "source": [
        "data = pd.read_csv(\"/content/drive/My Drive/MLSpring2020/AIInsight_CrunchbasePrediction/assignment/assignment_4_decisiontree/Crunchdataframe.csv\",encoding= 'unicode_escape')"
      ],
      "execution_count": 0,
      "outputs": []
    },
    {
      "cell_type": "code",
      "metadata": {
        "id": "sH0pnycumUhD",
        "colab_type": "code",
        "outputId": "b919a912-eafd-4c79-8305-84fa439fef0f",
        "colab": {
          "base_uri": "https://localhost:8080/",
          "height": 549
        }
      },
      "source": [
        "data.head(10)"
      ],
      "execution_count": 10,
      "outputs": [
        {
          "output_type": "execute_result",
          "data": {
            "text/html": [
              "<div>\n",
              "<style scoped>\n",
              "    .dataframe tbody tr th:only-of-type {\n",
              "        vertical-align: middle;\n",
              "    }\n",
              "\n",
              "    .dataframe tbody tr th {\n",
              "        vertical-align: top;\n",
              "    }\n",
              "\n",
              "    .dataframe thead th {\n",
              "        text-align: right;\n",
              "    }\n",
              "</style>\n",
              "<table border=\"1\" class=\"dataframe\">\n",
              "  <thead>\n",
              "    <tr style=\"text-align: right;\">\n",
              "      <th></th>\n",
              "      <th>permalink</th>\n",
              "      <th>name</th>\n",
              "      <th>category_code</th>\n",
              "      <th>funding_total_usd</th>\n",
              "      <th>status</th>\n",
              "      <th>country_code</th>\n",
              "      <th>state_code</th>\n",
              "      <th>region</th>\n",
              "      <th>city</th>\n",
              "      <th>funding_rounds</th>\n",
              "      <th>founded_at</th>\n",
              "      <th>founded_month</th>\n",
              "      <th>founded_quarter</th>\n",
              "      <th>founded_year</th>\n",
              "      <th>first_funding_at</th>\n",
              "      <th>last_funding_at</th>\n",
              "      <th>last_milestone_at</th>\n",
              "      <th>Target</th>\n",
              "      <th>company_name</th>\n",
              "      <th>avg_time_bw_rounds</th>\n",
              "      <th>avg_raise_usd</th>\n",
              "      <th>time_bw_first_rounds</th>\n",
              "      <th>cat_list</th>\n",
              "      <th>country</th>\n",
              "      <th>state</th>\n",
              "      <th>float_avg_time_bw_rounds</th>\n",
              "      <th>float_time_bw_first_rounds</th>\n",
              "    </tr>\n",
              "  </thead>\n",
              "  <tbody>\n",
              "    <tr>\n",
              "      <th>0</th>\n",
              "      <td>/company/1-800-dentist</td>\n",
              "      <td>1-800-DENTIST</td>\n",
              "      <td>health</td>\n",
              "      <td>NaN</td>\n",
              "      <td>operating</td>\n",
              "      <td>USA</td>\n",
              "      <td>CA</td>\n",
              "      <td>Los Angeles</td>\n",
              "      <td>Los Angeles</td>\n",
              "      <td>1</td>\n",
              "      <td>1986-01-01</td>\n",
              "      <td>1986-01</td>\n",
              "      <td>1986-Q1</td>\n",
              "      <td>1986.0</td>\n",
              "      <td>2010-08-19</td>\n",
              "      <td>2010-08-19</td>\n",
              "      <td>2010-08-19</td>\n",
              "      <td>0.0</td>\n",
              "      <td>1-800-DENTIST</td>\n",
              "      <td>NaN</td>\n",
              "      <td>NaN</td>\n",
              "      <td>0 days 00:00:00.000000000</td>\n",
              "      <td>health</td>\n",
              "      <td>USA</td>\n",
              "      <td>CA</td>\n",
              "      <td>NaN</td>\n",
              "      <td>0</td>\n",
              "    </tr>\n",
              "    <tr>\n",
              "      <th>1</th>\n",
              "      <td>/company/1000memories</td>\n",
              "      <td>1000memories</td>\n",
              "      <td>web</td>\n",
              "      <td>2535000</td>\n",
              "      <td>acquired</td>\n",
              "      <td>USA</td>\n",
              "      <td>CA</td>\n",
              "      <td>SF Bay</td>\n",
              "      <td>San Francisco</td>\n",
              "      <td>2</td>\n",
              "      <td>2010-07-01</td>\n",
              "      <td>2010-07</td>\n",
              "      <td>2010-Q3</td>\n",
              "      <td>2010.0</td>\n",
              "      <td>2010-01-01</td>\n",
              "      <td>2011-02-16</td>\n",
              "      <td>2013-07-04</td>\n",
              "      <td>1.0</td>\n",
              "      <td>1000memories</td>\n",
              "      <td>411 days 00:00:00.000000000</td>\n",
              "      <td>1.267500e+06</td>\n",
              "      <td>411 days 00:00:00.000000000</td>\n",
              "      <td>web</td>\n",
              "      <td>USA</td>\n",
              "      <td>CA</td>\n",
              "      <td>411.0</td>\n",
              "      <td>411</td>\n",
              "    </tr>\n",
              "    <tr>\n",
              "      <th>2</th>\n",
              "      <td>/company/100plus</td>\n",
              "      <td>100Plus</td>\n",
              "      <td>analytics</td>\n",
              "      <td>1250000</td>\n",
              "      <td>acquired</td>\n",
              "      <td>USA</td>\n",
              "      <td>CA</td>\n",
              "      <td>SF Bay</td>\n",
              "      <td>San Francisco</td>\n",
              "      <td>2</td>\n",
              "      <td>2011-09-16</td>\n",
              "      <td>2011-09</td>\n",
              "      <td>2011-Q3</td>\n",
              "      <td>2011.0</td>\n",
              "      <td>2011-11-02</td>\n",
              "      <td>2011-11-30</td>\n",
              "      <td>2013-02-27</td>\n",
              "      <td>1.0</td>\n",
              "      <td>100Plus</td>\n",
              "      <td>28 days 00:00:00.000000000</td>\n",
              "      <td>6.250000e+05</td>\n",
              "      <td>28 days 00:00:00.000000000</td>\n",
              "      <td>analytics</td>\n",
              "      <td>USA</td>\n",
              "      <td>CA</td>\n",
              "      <td>28.0</td>\n",
              "      <td>28</td>\n",
              "    </tr>\n",
              "    <tr>\n",
              "      <th>3</th>\n",
              "      <td>/company/1010data</td>\n",
              "      <td>1010data</td>\n",
              "      <td>software</td>\n",
              "      <td>35000000</td>\n",
              "      <td>operating</td>\n",
              "      <td>USA</td>\n",
              "      <td>NY</td>\n",
              "      <td>New York</td>\n",
              "      <td>New York</td>\n",
              "      <td>1</td>\n",
              "      <td>2000-01-01</td>\n",
              "      <td>2000-01</td>\n",
              "      <td>2000-Q1</td>\n",
              "      <td>2000.0</td>\n",
              "      <td>2010-03-08</td>\n",
              "      <td>2010-03-08</td>\n",
              "      <td>2012-01-01</td>\n",
              "      <td>0.0</td>\n",
              "      <td>1010data</td>\n",
              "      <td>NaN</td>\n",
              "      <td>3.500000e+07</td>\n",
              "      <td>0 days 00:00:00.000000000</td>\n",
              "      <td>software</td>\n",
              "      <td>USA</td>\n",
              "      <td>NY</td>\n",
              "      <td>NaN</td>\n",
              "      <td>0</td>\n",
              "    </tr>\n",
              "    <tr>\n",
              "      <th>4</th>\n",
              "      <td>/company/10bestthings</td>\n",
              "      <td>10BestThings</td>\n",
              "      <td>web</td>\n",
              "      <td>50000</td>\n",
              "      <td>operating</td>\n",
              "      <td>USA</td>\n",
              "      <td>OH</td>\n",
              "      <td>Cleveland</td>\n",
              "      <td>Cleveland</td>\n",
              "      <td>1</td>\n",
              "      <td>2009-04-01</td>\n",
              "      <td>2009-04</td>\n",
              "      <td>2009-Q2</td>\n",
              "      <td>2009.0</td>\n",
              "      <td>2009-04-01</td>\n",
              "      <td>2009-04-01</td>\n",
              "      <td>NaN</td>\n",
              "      <td>0.0</td>\n",
              "      <td>10BestThings</td>\n",
              "      <td>NaN</td>\n",
              "      <td>5.000000e+04</td>\n",
              "      <td>0 days 00:00:00.000000000</td>\n",
              "      <td>web</td>\n",
              "      <td>USA</td>\n",
              "      <td>0_other_state</td>\n",
              "      <td>NaN</td>\n",
              "      <td>0</td>\n",
              "    </tr>\n",
              "    <tr>\n",
              "      <th>5</th>\n",
              "      <td>/company/11i-solutions</td>\n",
              "      <td>11i Solutions</td>\n",
              "      <td>enterprise</td>\n",
              "      <td>1800000</td>\n",
              "      <td>closed</td>\n",
              "      <td>USA</td>\n",
              "      <td>AL</td>\n",
              "      <td>Huntsville</td>\n",
              "      <td>Huntsville</td>\n",
              "      <td>1</td>\n",
              "      <td>NaN</td>\n",
              "      <td>NaN</td>\n",
              "      <td>NaN</td>\n",
              "      <td>NaN</td>\n",
              "      <td>2011-03-22</td>\n",
              "      <td>2011-03-22</td>\n",
              "      <td>NaN</td>\n",
              "      <td>0.0</td>\n",
              "      <td>11i Solutions</td>\n",
              "      <td>NaN</td>\n",
              "      <td>1.800000e+06</td>\n",
              "      <td>0 days 00:00:00.000000000</td>\n",
              "      <td>enterprise</td>\n",
              "      <td>USA</td>\n",
              "      <td>0_other_state</td>\n",
              "      <td>NaN</td>\n",
              "      <td>0</td>\n",
              "    </tr>\n",
              "    <tr>\n",
              "      <th>6</th>\n",
              "      <td>/company/12society</td>\n",
              "      <td>12Society</td>\n",
              "      <td>ecommerce</td>\n",
              "      <td>NaN</td>\n",
              "      <td>acquired</td>\n",
              "      <td>USA</td>\n",
              "      <td>CA</td>\n",
              "      <td>Los Angeles</td>\n",
              "      <td>West Hollywood</td>\n",
              "      <td>1</td>\n",
              "      <td>2012-01-01</td>\n",
              "      <td>2012-01</td>\n",
              "      <td>2012-Q1</td>\n",
              "      <td>2012.0</td>\n",
              "      <td>2012-04-05</td>\n",
              "      <td>2012-04-05</td>\n",
              "      <td>2013-07-03</td>\n",
              "      <td>1.0</td>\n",
              "      <td>12Society</td>\n",
              "      <td>NaN</td>\n",
              "      <td>NaN</td>\n",
              "      <td>0 days 00:00:00.000000000</td>\n",
              "      <td>ecommerce</td>\n",
              "      <td>USA</td>\n",
              "      <td>CA</td>\n",
              "      <td>NaN</td>\n",
              "      <td>0</td>\n",
              "    </tr>\n",
              "    <tr>\n",
              "      <th>7</th>\n",
              "      <td>/company/1366-technologies</td>\n",
              "      <td>1366 Technologies</td>\n",
              "      <td>manufacturing</td>\n",
              "      <td>48950000</td>\n",
              "      <td>operating</td>\n",
              "      <td>USA</td>\n",
              "      <td>MA</td>\n",
              "      <td>Boston</td>\n",
              "      <td>Lexington</td>\n",
              "      <td>6</td>\n",
              "      <td>2007-01-01</td>\n",
              "      <td>2007-01</td>\n",
              "      <td>2007-Q1</td>\n",
              "      <td>2007.0</td>\n",
              "      <td>2008-03-27</td>\n",
              "      <td>2011-02-07</td>\n",
              "      <td>2011-06-17</td>\n",
              "      <td>0.0</td>\n",
              "      <td>1366 Technologies</td>\n",
              "      <td>209 days 09:36:00.000000000</td>\n",
              "      <td>8.158333e+06</td>\n",
              "      <td>678 days 00:00:00.000000000</td>\n",
              "      <td>manufacturing</td>\n",
              "      <td>USA</td>\n",
              "      <td>MA</td>\n",
              "      <td>209.0</td>\n",
              "      <td>678</td>\n",
              "    </tr>\n",
              "    <tr>\n",
              "      <th>8</th>\n",
              "      <td>/company/140fire</td>\n",
              "      <td>140Fire</td>\n",
              "      <td>advertising</td>\n",
              "      <td>500000</td>\n",
              "      <td>operating</td>\n",
              "      <td>USA</td>\n",
              "      <td>CA</td>\n",
              "      <td>Los Angeles</td>\n",
              "      <td>Santa Monica</td>\n",
              "      <td>1</td>\n",
              "      <td>2010-01-01</td>\n",
              "      <td>2010-01</td>\n",
              "      <td>2010-Q1</td>\n",
              "      <td>2010.0</td>\n",
              "      <td>2010-05-05</td>\n",
              "      <td>2010-05-05</td>\n",
              "      <td>2011-02-24</td>\n",
              "      <td>0.0</td>\n",
              "      <td>140Fire</td>\n",
              "      <td>NaN</td>\n",
              "      <td>5.000000e+05</td>\n",
              "      <td>0 days 00:00:00.000000000</td>\n",
              "      <td>advertising</td>\n",
              "      <td>USA</td>\n",
              "      <td>CA</td>\n",
              "      <td>NaN</td>\n",
              "      <td>0</td>\n",
              "    </tr>\n",
              "    <tr>\n",
              "      <th>9</th>\n",
              "      <td>/company/169-st</td>\n",
              "      <td>169 ST.</td>\n",
              "      <td>games_video</td>\n",
              "      <td>50000</td>\n",
              "      <td>operating</td>\n",
              "      <td>USA</td>\n",
              "      <td>FL</td>\n",
              "      <td>Orlando</td>\n",
              "      <td>Lake Mary</td>\n",
              "      <td>1</td>\n",
              "      <td>2009-05-15</td>\n",
              "      <td>2009-05</td>\n",
              "      <td>2009-Q2</td>\n",
              "      <td>2009.0</td>\n",
              "      <td>2009-06-01</td>\n",
              "      <td>2009-06-01</td>\n",
              "      <td>2009-05-01</td>\n",
              "      <td>0.0</td>\n",
              "      <td>169 ST.</td>\n",
              "      <td>NaN</td>\n",
              "      <td>5.000000e+04</td>\n",
              "      <td>0 days 00:00:00.000000000</td>\n",
              "      <td>games_video</td>\n",
              "      <td>USA</td>\n",
              "      <td>0_other_state</td>\n",
              "      <td>NaN</td>\n",
              "      <td>0</td>\n",
              "    </tr>\n",
              "  </tbody>\n",
              "</table>\n",
              "</div>"
            ],
            "text/plain": [
              "                    permalink  ... float_time_bw_first_rounds\n",
              "0      /company/1-800-dentist  ...                          0\n",
              "1       /company/1000memories  ...                        411\n",
              "2            /company/100plus  ...                         28\n",
              "3           /company/1010data  ...                          0\n",
              "4       /company/10bestthings  ...                          0\n",
              "5      /company/11i-solutions  ...                          0\n",
              "6          /company/12society  ...                          0\n",
              "7  /company/1366-technologies  ...                        678\n",
              "8            /company/140fire  ...                          0\n",
              "9             /company/169-st  ...                          0\n",
              "\n",
              "[10 rows x 27 columns]"
            ]
          },
          "metadata": {
            "tags": []
          },
          "execution_count": 10
        }
      ]
    },
    {
      "cell_type": "code",
      "metadata": {
        "id": "086ByuWsvttH",
        "colab_type": "code",
        "outputId": "ab373b1b-0713-4b1e-e410-5a5f788d0dac",
        "colab": {
          "base_uri": "https://localhost:8080/",
          "height": 549
        }
      },
      "source": [
        "data.tail(10)"
      ],
      "execution_count": 11,
      "outputs": [
        {
          "output_type": "execute_result",
          "data": {
            "text/html": [
              "<div>\n",
              "<style scoped>\n",
              "    .dataframe tbody tr th:only-of-type {\n",
              "        vertical-align: middle;\n",
              "    }\n",
              "\n",
              "    .dataframe tbody tr th {\n",
              "        vertical-align: top;\n",
              "    }\n",
              "\n",
              "    .dataframe thead th {\n",
              "        text-align: right;\n",
              "    }\n",
              "</style>\n",
              "<table border=\"1\" class=\"dataframe\">\n",
              "  <thead>\n",
              "    <tr style=\"text-align: right;\">\n",
              "      <th></th>\n",
              "      <th>permalink</th>\n",
              "      <th>name</th>\n",
              "      <th>category_code</th>\n",
              "      <th>funding_total_usd</th>\n",
              "      <th>status</th>\n",
              "      <th>country_code</th>\n",
              "      <th>state_code</th>\n",
              "      <th>region</th>\n",
              "      <th>city</th>\n",
              "      <th>funding_rounds</th>\n",
              "      <th>founded_at</th>\n",
              "      <th>founded_month</th>\n",
              "      <th>founded_quarter</th>\n",
              "      <th>founded_year</th>\n",
              "      <th>first_funding_at</th>\n",
              "      <th>last_funding_at</th>\n",
              "      <th>last_milestone_at</th>\n",
              "      <th>Target</th>\n",
              "      <th>company_name</th>\n",
              "      <th>avg_time_bw_rounds</th>\n",
              "      <th>avg_raise_usd</th>\n",
              "      <th>time_bw_first_rounds</th>\n",
              "      <th>cat_list</th>\n",
              "      <th>country</th>\n",
              "      <th>state</th>\n",
              "      <th>float_avg_time_bw_rounds</th>\n",
              "      <th>float_time_bw_first_rounds</th>\n",
              "    </tr>\n",
              "  </thead>\n",
              "  <tbody>\n",
              "    <tr>\n",
              "      <th>7111</th>\n",
              "      <td>/company/zumeo-com</td>\n",
              "      <td>Zumeo.com</td>\n",
              "      <td>web</td>\n",
              "      <td>100000</td>\n",
              "      <td>operating</td>\n",
              "      <td>USA</td>\n",
              "      <td>OR</td>\n",
              "      <td>Medford</td>\n",
              "      <td>Medford</td>\n",
              "      <td>1</td>\n",
              "      <td>2007-05-01</td>\n",
              "      <td>2007-05</td>\n",
              "      <td>2007-Q2</td>\n",
              "      <td>2007.0</td>\n",
              "      <td>2009-01-29</td>\n",
              "      <td>2009-01-29</td>\n",
              "      <td>2009-02-06</td>\n",
              "      <td>0.0</td>\n",
              "      <td>Zumeo.com</td>\n",
              "      <td>NaN</td>\n",
              "      <td>1.000000e+05</td>\n",
              "      <td>0 days 00:00:00.000000000</td>\n",
              "      <td>web</td>\n",
              "      <td>USA</td>\n",
              "      <td>0_other_state</td>\n",
              "      <td>NaN</td>\n",
              "      <td>0</td>\n",
              "    </tr>\n",
              "    <tr>\n",
              "      <th>7112</th>\n",
              "      <td>/company/zumobi</td>\n",
              "      <td>Zumobi</td>\n",
              "      <td>mobile</td>\n",
              "      <td>12000000</td>\n",
              "      <td>operating</td>\n",
              "      <td>USA</td>\n",
              "      <td>WA</td>\n",
              "      <td>Seattle</td>\n",
              "      <td>Seattle</td>\n",
              "      <td>1</td>\n",
              "      <td>2007-03-01</td>\n",
              "      <td>2007-03</td>\n",
              "      <td>2007-Q1</td>\n",
              "      <td>2007.0</td>\n",
              "      <td>2007-05-07</td>\n",
              "      <td>2007-05-07</td>\n",
              "      <td>2011-12-17</td>\n",
              "      <td>0.0</td>\n",
              "      <td>Zumobi</td>\n",
              "      <td>NaN</td>\n",
              "      <td>1.200000e+07</td>\n",
              "      <td>0 days 00:00:00.000000000</td>\n",
              "      <td>mobile</td>\n",
              "      <td>USA</td>\n",
              "      <td>0_other_state</td>\n",
              "      <td>NaN</td>\n",
              "      <td>0</td>\n",
              "    </tr>\n",
              "    <tr>\n",
              "      <th>7113</th>\n",
              "      <td>/company/zuujit</td>\n",
              "      <td>Zuujit</td>\n",
              "      <td>ecommerce</td>\n",
              "      <td>2700000</td>\n",
              "      <td>operating</td>\n",
              "      <td>USA</td>\n",
              "      <td>CA</td>\n",
              "      <td>Santa Barbara</td>\n",
              "      <td>Santa Barbara</td>\n",
              "      <td>1</td>\n",
              "      <td>2010-01-01</td>\n",
              "      <td>2010-01</td>\n",
              "      <td>2010-Q1</td>\n",
              "      <td>2010.0</td>\n",
              "      <td>2010-04-30</td>\n",
              "      <td>2010-04-30</td>\n",
              "      <td>NaN</td>\n",
              "      <td>0.0</td>\n",
              "      <td>Zuujit</td>\n",
              "      <td>NaN</td>\n",
              "      <td>2.700000e+06</td>\n",
              "      <td>0 days 00:00:00.000000000</td>\n",
              "      <td>ecommerce</td>\n",
              "      <td>USA</td>\n",
              "      <td>CA</td>\n",
              "      <td>NaN</td>\n",
              "      <td>0</td>\n",
              "    </tr>\n",
              "    <tr>\n",
              "      <th>7114</th>\n",
              "      <td>/company/zvents</td>\n",
              "      <td>Zvents</td>\n",
              "      <td>web</td>\n",
              "      <td>31200000</td>\n",
              "      <td>acquired</td>\n",
              "      <td>USA</td>\n",
              "      <td>CA</td>\n",
              "      <td>SF Bay</td>\n",
              "      <td>San Mateo</td>\n",
              "      <td>3</td>\n",
              "      <td>2005-03-01</td>\n",
              "      <td>2005-03</td>\n",
              "      <td>2005-Q1</td>\n",
              "      <td>2005.0</td>\n",
              "      <td>2005-10-05</td>\n",
              "      <td>2008-09-30</td>\n",
              "      <td>2012-09-11</td>\n",
              "      <td>1.0</td>\n",
              "      <td>Zvents</td>\n",
              "      <td>545 days 12:00:00.000000000</td>\n",
              "      <td>1.040000e+07</td>\n",
              "      <td>398 days 00:00:00.000000000</td>\n",
              "      <td>web</td>\n",
              "      <td>USA</td>\n",
              "      <td>CA</td>\n",
              "      <td>545.0</td>\n",
              "      <td>398</td>\n",
              "    </tr>\n",
              "    <tr>\n",
              "      <th>7115</th>\n",
              "      <td>/company/zweemie</td>\n",
              "      <td>Zweemie</td>\n",
              "      <td>messaging</td>\n",
              "      <td>250000</td>\n",
              "      <td>operating</td>\n",
              "      <td>USA</td>\n",
              "      <td>MI</td>\n",
              "      <td>Grand Blanc</td>\n",
              "      <td>Grand Blanc</td>\n",
              "      <td>1</td>\n",
              "      <td>2009-01-01</td>\n",
              "      <td>2009-01</td>\n",
              "      <td>2009-Q1</td>\n",
              "      <td>2009.0</td>\n",
              "      <td>2010-06-03</td>\n",
              "      <td>2010-06-03</td>\n",
              "      <td>NaN</td>\n",
              "      <td>0.0</td>\n",
              "      <td>Zweemie</td>\n",
              "      <td>NaN</td>\n",
              "      <td>2.500000e+05</td>\n",
              "      <td>0 days 00:00:00.000000000</td>\n",
              "      <td>messaging</td>\n",
              "      <td>USA</td>\n",
              "      <td>0_other_state</td>\n",
              "      <td>NaN</td>\n",
              "      <td>0</td>\n",
              "    </tr>\n",
              "    <tr>\n",
              "      <th>7116</th>\n",
              "      <td>/company/zygo-corporation</td>\n",
              "      <td>Zygo Corporation</td>\n",
              "      <td>manufacturing</td>\n",
              "      <td>9000000</td>\n",
              "      <td>ipo</td>\n",
              "      <td>USA</td>\n",
              "      <td>CT</td>\n",
              "      <td>Middlefield</td>\n",
              "      <td>Middlefield</td>\n",
              "      <td>1</td>\n",
              "      <td>NaN</td>\n",
              "      <td>NaN</td>\n",
              "      <td>NaN</td>\n",
              "      <td>NaN</td>\n",
              "      <td>2011-10-24</td>\n",
              "      <td>2011-10-24</td>\n",
              "      <td>2011-07-01</td>\n",
              "      <td>1.0</td>\n",
              "      <td>Zygo Corporation</td>\n",
              "      <td>NaN</td>\n",
              "      <td>9.000000e+06</td>\n",
              "      <td>0 days 00:00:00.000000000</td>\n",
              "      <td>manufacturing</td>\n",
              "      <td>USA</td>\n",
              "      <td>0_other_state</td>\n",
              "      <td>NaN</td>\n",
              "      <td>0</td>\n",
              "    </tr>\n",
              "    <tr>\n",
              "      <th>7117</th>\n",
              "      <td>/company/zykis</td>\n",
              "      <td>Zykis</td>\n",
              "      <td>public_relations</td>\n",
              "      <td>800000</td>\n",
              "      <td>operating</td>\n",
              "      <td>USA</td>\n",
              "      <td>CA</td>\n",
              "      <td>Los Angeles</td>\n",
              "      <td>Irvine</td>\n",
              "      <td>1</td>\n",
              "      <td>2006-10-27</td>\n",
              "      <td>2006-10</td>\n",
              "      <td>2006-Q4</td>\n",
              "      <td>2006.0</td>\n",
              "      <td>2006-10-27</td>\n",
              "      <td>2006-10-27</td>\n",
              "      <td>NaN</td>\n",
              "      <td>0.0</td>\n",
              "      <td>Zykis</td>\n",
              "      <td>NaN</td>\n",
              "      <td>8.000000e+05</td>\n",
              "      <td>0 days 00:00:00.000000000</td>\n",
              "      <td>public_relations</td>\n",
              "      <td>USA</td>\n",
              "      <td>CA</td>\n",
              "      <td>NaN</td>\n",
              "      <td>0</td>\n",
              "    </tr>\n",
              "    <tr>\n",
              "      <th>7118</th>\n",
              "      <td>/company/zymetis</td>\n",
              "      <td>Zymetis</td>\n",
              "      <td>biotech</td>\n",
              "      <td>2257464</td>\n",
              "      <td>operating</td>\n",
              "      <td>USA</td>\n",
              "      <td>MD</td>\n",
              "      <td>Washington DC</td>\n",
              "      <td>College Park</td>\n",
              "      <td>2</td>\n",
              "      <td>2006-01-01</td>\n",
              "      <td>2006-01</td>\n",
              "      <td>2006-Q1</td>\n",
              "      <td>2006.0</td>\n",
              "      <td>2010-01-11</td>\n",
              "      <td>2010-01-31</td>\n",
              "      <td>NaN</td>\n",
              "      <td>0.0</td>\n",
              "      <td>Zymetis</td>\n",
              "      <td>20 days 00:00:00.000000000</td>\n",
              "      <td>1.128732e+06</td>\n",
              "      <td>20 days 00:00:00.000000000</td>\n",
              "      <td>biotech</td>\n",
              "      <td>USA</td>\n",
              "      <td>0_other_state</td>\n",
              "      <td>20.0</td>\n",
              "      <td>20</td>\n",
              "    </tr>\n",
              "    <tr>\n",
              "      <th>7119</th>\n",
              "      <td>/company/zynga</td>\n",
              "      <td>Zynga</td>\n",
              "      <td>games_video</td>\n",
              "      <td>860213000</td>\n",
              "      <td>ipo</td>\n",
              "      <td>USA</td>\n",
              "      <td>CA</td>\n",
              "      <td>SF Bay</td>\n",
              "      <td>San Francisco</td>\n",
              "      <td>8</td>\n",
              "      <td>2007-07-01</td>\n",
              "      <td>2007-07</td>\n",
              "      <td>2007-Q3</td>\n",
              "      <td>2007.0</td>\n",
              "      <td>2007-01-01</td>\n",
              "      <td>2011-02-18</td>\n",
              "      <td>2013-09-30</td>\n",
              "      <td>1.0</td>\n",
              "      <td>Zynga</td>\n",
              "      <td>215 days 13:42:51.428571428</td>\n",
              "      <td>1.228876e+08</td>\n",
              "      <td>365 days 00:00:00.000000000</td>\n",
              "      <td>games_video</td>\n",
              "      <td>USA</td>\n",
              "      <td>CA</td>\n",
              "      <td>215.0</td>\n",
              "      <td>365</td>\n",
              "    </tr>\n",
              "    <tr>\n",
              "      <th>7120</th>\n",
              "      <td>/company/zyngenia</td>\n",
              "      <td>Zyngenia</td>\n",
              "      <td>biotech</td>\n",
              "      <td>25000000</td>\n",
              "      <td>operating</td>\n",
              "      <td>USA</td>\n",
              "      <td>MD</td>\n",
              "      <td>Washington DC</td>\n",
              "      <td>Gaithersburg</td>\n",
              "      <td>1</td>\n",
              "      <td>2008-01-01</td>\n",
              "      <td>2008-01</td>\n",
              "      <td>2008-Q1</td>\n",
              "      <td>2008.0</td>\n",
              "      <td>2010-09-09</td>\n",
              "      <td>2010-09-09</td>\n",
              "      <td>NaN</td>\n",
              "      <td>0.0</td>\n",
              "      <td>Zyngenia</td>\n",
              "      <td>NaN</td>\n",
              "      <td>2.500000e+07</td>\n",
              "      <td>0 days 00:00:00.000000000</td>\n",
              "      <td>biotech</td>\n",
              "      <td>USA</td>\n",
              "      <td>0_other_state</td>\n",
              "      <td>NaN</td>\n",
              "      <td>0</td>\n",
              "    </tr>\n",
              "  </tbody>\n",
              "</table>\n",
              "</div>"
            ],
            "text/plain": [
              "                      permalink  ... float_time_bw_first_rounds\n",
              "7111         /company/zumeo-com  ...                          0\n",
              "7112            /company/zumobi  ...                          0\n",
              "7113            /company/zuujit  ...                          0\n",
              "7114            /company/zvents  ...                        398\n",
              "7115           /company/zweemie  ...                          0\n",
              "7116  /company/zygo-corporation  ...                          0\n",
              "7117             /company/zykis  ...                          0\n",
              "7118           /company/zymetis  ...                         20\n",
              "7119             /company/zynga  ...                        365\n",
              "7120          /company/zyngenia  ...                          0\n",
              "\n",
              "[10 rows x 27 columns]"
            ]
          },
          "metadata": {
            "tags": []
          },
          "execution_count": 11
        }
      ]
    },
    {
      "cell_type": "code",
      "metadata": {
        "id": "lTYh4wnhmUj-",
        "colab_type": "code",
        "outputId": "1a9ded1e-ef6d-40aa-8f61-d68c44b7a937",
        "colab": {
          "base_uri": "https://localhost:8080/",
          "height": 521
        }
      },
      "source": [
        "data.dtypes"
      ],
      "execution_count": 12,
      "outputs": [
        {
          "output_type": "execute_result",
          "data": {
            "text/plain": [
              "permalink                      object\n",
              "name                           object\n",
              "category_code                  object\n",
              "funding_total_usd              object\n",
              "status                         object\n",
              "country_code                   object\n",
              "state_code                     object\n",
              "region                         object\n",
              "city                           object\n",
              "funding_rounds                  int64\n",
              "founded_at                     object\n",
              "founded_month                  object\n",
              "founded_quarter                object\n",
              "founded_year                  float64\n",
              "first_funding_at               object\n",
              "last_funding_at                object\n",
              "last_milestone_at              object\n",
              "Target                        float64\n",
              "company_name                   object\n",
              "avg_time_bw_rounds             object\n",
              "avg_raise_usd                 float64\n",
              "time_bw_first_rounds           object\n",
              "cat_list                       object\n",
              "country                        object\n",
              "state                          object\n",
              "float_avg_time_bw_rounds      float64\n",
              "float_time_bw_first_rounds      int64\n",
              "dtype: object"
            ]
          },
          "metadata": {
            "tags": []
          },
          "execution_count": 12
        }
      ]
    },
    {
      "cell_type": "code",
      "metadata": {
        "id": "N7SifSgXmyNX",
        "colab_type": "code",
        "outputId": "0302f140-cabb-4250-a9fd-431258484baa",
        "colab": {
          "base_uri": "https://localhost:8080/",
          "height": 35
        }
      },
      "source": [
        "data.shape"
      ],
      "execution_count": 13,
      "outputs": [
        {
          "output_type": "execute_result",
          "data": {
            "text/plain": [
              "(7121, 27)"
            ]
          },
          "metadata": {
            "tags": []
          },
          "execution_count": 13
        }
      ]
    },
    {
      "cell_type": "markdown",
      "metadata": {
        "id": "I3Q9ffqHm2FH",
        "colab_type": "text"
      },
      "source": [
        "There are 27 features here,it is too many to apply any ML algorithm.So we must reduce dimension here."
      ]
    },
    {
      "cell_type": "markdown",
      "metadata": {
        "id": "EnG4TAEQ5BIo",
        "colab_type": "text"
      },
      "source": [
        "Removing the unimportant features will help with memory, computational cost and the accuracy of our model.Also, it will help to avoid the overfitting. "
      ]
    },
    {
      "cell_type": "markdown",
      "metadata": {
        "id": "qp64uBR05m3g",
        "colab_type": "text"
      },
      "source": [
        "Sometimes, a feature that makes business sense, but it doesn’t mean that this feature will help us with our prediction."
      ]
    },
    {
      "cell_type": "markdown",
      "metadata": {
        "id": "3DYhyLsHs2bP",
        "colab_type": "text"
      },
      "source": [
        "But Which features are more important？ \n"
      ]
    },
    {
      "cell_type": "markdown",
      "metadata": {
        "id": "BL9m02OgtIVP",
        "colab_type": "text"
      },
      "source": [
        "#How to find the important features is really a important question.\n",
        "Here, we will  use Desision Tree  algorithm to find them."
      ]
    },
    {
      "cell_type": "markdown",
      "metadata": {
        "id": "3ZX8CuDtvKTY",
        "colab_type": "text"
      },
      "source": [
        "Some features (such as state,country) are duplicate and some of them (such as permalink,company_name) will not help us with our prediction.We drop them first."
      ]
    },
    {
      "cell_type": "code",
      "metadata": {
        "id": "a4dzuden7IQK",
        "colab_type": "code",
        "colab": {}
      },
      "source": [
        "data.drop(['permalink'], axis=1, inplace = True)"
      ],
      "execution_count": 0,
      "outputs": []
    },
    {
      "cell_type": "code",
      "metadata": {
        "id": "IJUds9ZN7Ibc",
        "colab_type": "code",
        "colab": {}
      },
      "source": [
        "data.drop(['company_name'], axis=1, inplace = True)"
      ],
      "execution_count": 0,
      "outputs": []
    },
    {
      "cell_type": "code",
      "metadata": {
        "id": "Bn7ed-lmXKr2",
        "colab_type": "code",
        "colab": {}
      },
      "source": [
        "data.drop(['founded_at'], axis=1, inplace = True)"
      ],
      "execution_count": 0,
      "outputs": []
    },
    {
      "cell_type": "markdown",
      "metadata": {
        "id": "p8NxvPpc8jaz",
        "colab_type": "text"
      },
      "source": [
        "We keep the \"name\"  here,but just for ID, not using it as the features."
      ]
    },
    {
      "cell_type": "code",
      "metadata": {
        "id": "bUBHVMWf-Arg",
        "colab_type": "code",
        "colab": {}
      },
      "source": [
        "data.drop(['country'], axis=1, inplace = True)"
      ],
      "execution_count": 0,
      "outputs": []
    },
    {
      "cell_type": "code",
      "metadata": {
        "id": "OkHi5sdv-QlA",
        "colab_type": "code",
        "colab": {}
      },
      "source": [
        "data.drop(['state'], axis=1, inplace = True)"
      ],
      "execution_count": 0,
      "outputs": []
    },
    {
      "cell_type": "markdown",
      "metadata": {
        "id": "wHSRegjYvW6S",
        "colab_type": "text"
      },
      "source": [
        "Some of other features don't seem to be the things that explicitly impacts success, but they impact investment funding as well as price of the company."
      ]
    },
    {
      "cell_type": "code",
      "metadata": {
        "id": "dXYJFaQC_VIW",
        "colab_type": "code",
        "outputId": "abcb5d59-716f-4ffa-c7a6-4258e946543f",
        "colab": {
          "base_uri": "https://localhost:8080/",
          "height": 35
        }
      },
      "source": [
        "data.shape"
      ],
      "execution_count": 19,
      "outputs": [
        {
          "output_type": "execute_result",
          "data": {
            "text/plain": [
              "(7121, 22)"
            ]
          },
          "metadata": {
            "tags": []
          },
          "execution_count": 19
        }
      ]
    },
    {
      "cell_type": "markdown",
      "metadata": {
        "id": "9NcbpgVx_DQe",
        "colab_type": "text"
      },
      "source": [
        "So let's apply DT to find the important ones."
      ]
    },
    {
      "cell_type": "markdown",
      "metadata": {
        "id": "ogmXzlnZ6j2l",
        "colab_type": "text"
      },
      "source": [
        "Let's find the data of the features which are null？ DT should be applied with no null data."
      ]
    },
    {
      "cell_type": "code",
      "metadata": {
        "id": "Vljwq0PSmUkS",
        "colab_type": "code",
        "outputId": "bc8c9f52-b083-4b59-cc72-8552517e9c41",
        "colab": {
          "base_uri": "https://localhost:8080/",
          "height": 431
        }
      },
      "source": [
        "missing_data = data.isnull().sum().sort_values(ascending = False)\n",
        "missing_data_rate = (data.isnull().sum()/data.isnull().count()).sort_values(ascending = False)\n",
        "print(missing_data_rate)"
      ],
      "execution_count": 20,
      "outputs": [
        {
          "output_type": "stream",
          "text": [
            "avg_time_bw_rounds            0.652577\n",
            "float_avg_time_bw_rounds      0.652577\n",
            "last_milestone_at             0.376913\n",
            "founded_quarter               0.214577\n",
            "founded_year                  0.214577\n",
            "founded_month                 0.214577\n",
            "avg_raise_usd                 0.101531\n",
            "funding_total_usd             0.101390\n",
            "city                          0.019379\n",
            "category_code                 0.000000\n",
            "status                        0.000000\n",
            "country_code                  0.000000\n",
            "state_code                    0.000000\n",
            "region                        0.000000\n",
            "float_time_bw_first_rounds    0.000000\n",
            "funding_rounds                0.000000\n",
            "first_funding_at              0.000000\n",
            "last_funding_at               0.000000\n",
            "Target                        0.000000\n",
            "time_bw_first_rounds          0.000000\n",
            "cat_list                      0.000000\n",
            "name                          0.000000\n",
            "dtype: float64\n"
          ],
          "name": "stdout"
        }
      ]
    },
    {
      "cell_type": "markdown",
      "metadata": {
        "id": "G5bexXXq6Iwv",
        "colab_type": "text"
      },
      "source": [
        "There are 7121 data here."
      ]
    },
    {
      "cell_type": "markdown",
      "metadata": {
        "id": "1rq-eYmS6gtI",
        "colab_type": "text"
      },
      "source": [
        "Some features are too many missing data(such as \"avg_time_bw_rounds\"), it does n’t make much sense to keep or fill, so they also should be deleted."
      ]
    },
    {
      "cell_type": "code",
      "metadata": {
        "id": "ezNj5jaJAQFg",
        "colab_type": "code",
        "colab": {}
      },
      "source": [
        "data.drop(['avg_time_bw_rounds'], axis=1, inplace = True)"
      ],
      "execution_count": 0,
      "outputs": []
    },
    {
      "cell_type": "code",
      "metadata": {
        "id": "DKPoEP05AZvL",
        "colab_type": "code",
        "colab": {}
      },
      "source": [
        "data.drop(['float_avg_time_bw_rounds'],axis=1,inplace=True)"
      ],
      "execution_count": 0,
      "outputs": []
    },
    {
      "cell_type": "markdown",
      "metadata": {
        "id": "zZ2eT6ePBKqZ",
        "colab_type": "text"
      },
      "source": [
        "Some features are not too many missing(such as \"city\"),we can just remove the missing data."
      ]
    },
    {
      "cell_type": "code",
      "metadata": {
        "id": "SaFsPKTHEJ8G",
        "colab_type": "code",
        "colab": {}
      },
      "source": [
        "data.dropna(subset=['city'],axis=0, inplace = True)"
      ],
      "execution_count": 0,
      "outputs": []
    },
    {
      "cell_type": "code",
      "metadata": {
        "id": "gifnSWx8E_Uj",
        "colab_type": "code",
        "outputId": "c422e557-b779-45ca-b149-49973a637156",
        "colab": {
          "base_uri": "https://localhost:8080/",
          "height": 395
        }
      },
      "source": [
        "data.isnull().sum().sort_values(ascending = False)"
      ],
      "execution_count": 24,
      "outputs": [
        {
          "output_type": "execute_result",
          "data": {
            "text/plain": [
              "last_milestone_at             2629\n",
              "founded_month                 1484\n",
              "founded_year                  1484\n",
              "founded_quarter               1484\n",
              "avg_raise_usd                  693\n",
              "funding_total_usd              692\n",
              "city                             0\n",
              "category_code                    0\n",
              "status                           0\n",
              "country_code                     0\n",
              "state_code                       0\n",
              "region                           0\n",
              "float_time_bw_first_rounds       0\n",
              "funding_rounds                   0\n",
              "cat_list                         0\n",
              "first_funding_at                 0\n",
              "last_funding_at                  0\n",
              "Target                           0\n",
              "time_bw_first_rounds             0\n",
              "name                             0\n",
              "dtype: int64"
            ]
          },
          "metadata": {
            "tags": []
          },
          "execution_count": 24
        }
      ]
    },
    {
      "cell_type": "markdown",
      "metadata": {
        "id": "mw2Eu4w_FoBi",
        "colab_type": "text"
      },
      "source": [
        "Filling others with mean"
      ]
    },
    {
      "cell_type": "code",
      "metadata": {
        "id": "dBEbciCMmUkU",
        "colab_type": "code",
        "colab": {}
      },
      "source": [
        "noempty= data.fillna(data.mean())"
      ],
      "execution_count": 0,
      "outputs": []
    },
    {
      "cell_type": "code",
      "metadata": {
        "id": "ZLQugckbmUkY",
        "colab_type": "code",
        "colab": {}
      },
      "source": [
        "final = noempty.fillna(0)"
      ],
      "execution_count": 0,
      "outputs": []
    },
    {
      "cell_type": "code",
      "metadata": {
        "id": "p4TmW1hLmUkc",
        "colab_type": "code",
        "outputId": "16e90979-4c49-409b-9084-4289f7ec7d66",
        "colab": {
          "base_uri": "https://localhost:8080/",
          "height": 395
        }
      },
      "source": [
        "final.isna().sum()"
      ],
      "execution_count": 27,
      "outputs": [
        {
          "output_type": "execute_result",
          "data": {
            "text/plain": [
              "name                          0\n",
              "category_code                 0\n",
              "funding_total_usd             0\n",
              "status                        0\n",
              "country_code                  0\n",
              "state_code                    0\n",
              "region                        0\n",
              "city                          0\n",
              "funding_rounds                0\n",
              "founded_month                 0\n",
              "founded_quarter               0\n",
              "founded_year                  0\n",
              "first_funding_at              0\n",
              "last_funding_at               0\n",
              "last_milestone_at             0\n",
              "Target                        0\n",
              "avg_raise_usd                 0\n",
              "time_bw_first_rounds          0\n",
              "cat_list                      0\n",
              "float_time_bw_first_rounds    0\n",
              "dtype: int64"
            ]
          },
          "metadata": {
            "tags": []
          },
          "execution_count": 27
        }
      ]
    },
    {
      "cell_type": "code",
      "metadata": {
        "id": "Khrtd2B1mUkf",
        "colab_type": "code",
        "colab": {}
      },
      "source": [
        "pd.set_option('display.max_columns', None)"
      ],
      "execution_count": 0,
      "outputs": []
    },
    {
      "cell_type": "code",
      "metadata": {
        "id": "ZquURYszFzZ6",
        "colab_type": "code",
        "outputId": "f388e106-74ee-4c9f-bb5f-d9863f4f10dd",
        "colab": {
          "base_uri": "https://localhost:8080/",
          "height": 35
        }
      },
      "source": [
        "final.shape"
      ],
      "execution_count": 29,
      "outputs": [
        {
          "output_type": "execute_result",
          "data": {
            "text/plain": [
              "(6983, 20)"
            ]
          },
          "metadata": {
            "tags": []
          },
          "execution_count": 29
        }
      ]
    },
    {
      "cell_type": "code",
      "metadata": {
        "id": "1iPCB7R4mUkk",
        "colab_type": "code",
        "outputId": "7b704b98-1639-424e-8b27-426349b2af83",
        "colab": {
          "base_uri": "https://localhost:8080/",
          "height": 395
        }
      },
      "source": [
        "final.dtypes"
      ],
      "execution_count": 30,
      "outputs": [
        {
          "output_type": "execute_result",
          "data": {
            "text/plain": [
              "name                           object\n",
              "category_code                  object\n",
              "funding_total_usd              object\n",
              "status                         object\n",
              "country_code                   object\n",
              "state_code                     object\n",
              "region                         object\n",
              "city                           object\n",
              "funding_rounds                  int64\n",
              "founded_month                  object\n",
              "founded_quarter                object\n",
              "founded_year                  float64\n",
              "first_funding_at               object\n",
              "last_funding_at                object\n",
              "last_milestone_at              object\n",
              "Target                        float64\n",
              "avg_raise_usd                 float64\n",
              "time_bw_first_rounds           object\n",
              "cat_list                       object\n",
              "float_time_bw_first_rounds      int64\n",
              "dtype: object"
            ]
          },
          "metadata": {
            "tags": []
          },
          "execution_count": 30
        }
      ]
    },
    {
      "cell_type": "code",
      "metadata": {
        "id": "pSYkCVvamUkp",
        "colab_type": "code",
        "outputId": "7d3fce75-e5dd-4f7d-ca9c-8a68b32e078e",
        "colab": {
          "base_uri": "https://localhost:8080/",
          "height": 549
        }
      },
      "source": [
        "final.head(10)"
      ],
      "execution_count": 31,
      "outputs": [
        {
          "output_type": "execute_result",
          "data": {
            "text/html": [
              "<div>\n",
              "<style scoped>\n",
              "    .dataframe tbody tr th:only-of-type {\n",
              "        vertical-align: middle;\n",
              "    }\n",
              "\n",
              "    .dataframe tbody tr th {\n",
              "        vertical-align: top;\n",
              "    }\n",
              "\n",
              "    .dataframe thead th {\n",
              "        text-align: right;\n",
              "    }\n",
              "</style>\n",
              "<table border=\"1\" class=\"dataframe\">\n",
              "  <thead>\n",
              "    <tr style=\"text-align: right;\">\n",
              "      <th></th>\n",
              "      <th>name</th>\n",
              "      <th>category_code</th>\n",
              "      <th>funding_total_usd</th>\n",
              "      <th>status</th>\n",
              "      <th>country_code</th>\n",
              "      <th>state_code</th>\n",
              "      <th>region</th>\n",
              "      <th>city</th>\n",
              "      <th>funding_rounds</th>\n",
              "      <th>founded_month</th>\n",
              "      <th>founded_quarter</th>\n",
              "      <th>founded_year</th>\n",
              "      <th>first_funding_at</th>\n",
              "      <th>last_funding_at</th>\n",
              "      <th>last_milestone_at</th>\n",
              "      <th>Target</th>\n",
              "      <th>avg_raise_usd</th>\n",
              "      <th>time_bw_first_rounds</th>\n",
              "      <th>cat_list</th>\n",
              "      <th>float_time_bw_first_rounds</th>\n",
              "    </tr>\n",
              "  </thead>\n",
              "  <tbody>\n",
              "    <tr>\n",
              "      <th>0</th>\n",
              "      <td>1-800-DENTIST</td>\n",
              "      <td>health</td>\n",
              "      <td>0</td>\n",
              "      <td>operating</td>\n",
              "      <td>USA</td>\n",
              "      <td>CA</td>\n",
              "      <td>Los Angeles</td>\n",
              "      <td>Los Angeles</td>\n",
              "      <td>1</td>\n",
              "      <td>1986-01</td>\n",
              "      <td>1986-Q1</td>\n",
              "      <td>1986.000000</td>\n",
              "      <td>2010-08-19</td>\n",
              "      <td>2010-08-19</td>\n",
              "      <td>2010-08-19</td>\n",
              "      <td>0.0</td>\n",
              "      <td>1.085854e+07</td>\n",
              "      <td>0 days 00:00:00.000000000</td>\n",
              "      <td>health</td>\n",
              "      <td>0</td>\n",
              "    </tr>\n",
              "    <tr>\n",
              "      <th>1</th>\n",
              "      <td>1000memories</td>\n",
              "      <td>web</td>\n",
              "      <td>2535000</td>\n",
              "      <td>acquired</td>\n",
              "      <td>USA</td>\n",
              "      <td>CA</td>\n",
              "      <td>SF Bay</td>\n",
              "      <td>San Francisco</td>\n",
              "      <td>2</td>\n",
              "      <td>2010-07</td>\n",
              "      <td>2010-Q3</td>\n",
              "      <td>2010.000000</td>\n",
              "      <td>2010-01-01</td>\n",
              "      <td>2011-02-16</td>\n",
              "      <td>2013-07-04</td>\n",
              "      <td>1.0</td>\n",
              "      <td>1.267500e+06</td>\n",
              "      <td>411 days 00:00:00.000000000</td>\n",
              "      <td>web</td>\n",
              "      <td>411</td>\n",
              "    </tr>\n",
              "    <tr>\n",
              "      <th>2</th>\n",
              "      <td>100Plus</td>\n",
              "      <td>analytics</td>\n",
              "      <td>1250000</td>\n",
              "      <td>acquired</td>\n",
              "      <td>USA</td>\n",
              "      <td>CA</td>\n",
              "      <td>SF Bay</td>\n",
              "      <td>San Francisco</td>\n",
              "      <td>2</td>\n",
              "      <td>2011-09</td>\n",
              "      <td>2011-Q3</td>\n",
              "      <td>2011.000000</td>\n",
              "      <td>2011-11-02</td>\n",
              "      <td>2011-11-30</td>\n",
              "      <td>2013-02-27</td>\n",
              "      <td>1.0</td>\n",
              "      <td>6.250000e+05</td>\n",
              "      <td>28 days 00:00:00.000000000</td>\n",
              "      <td>analytics</td>\n",
              "      <td>28</td>\n",
              "    </tr>\n",
              "    <tr>\n",
              "      <th>3</th>\n",
              "      <td>1010data</td>\n",
              "      <td>software</td>\n",
              "      <td>35000000</td>\n",
              "      <td>operating</td>\n",
              "      <td>USA</td>\n",
              "      <td>NY</td>\n",
              "      <td>New York</td>\n",
              "      <td>New York</td>\n",
              "      <td>1</td>\n",
              "      <td>2000-01</td>\n",
              "      <td>2000-Q1</td>\n",
              "      <td>2000.000000</td>\n",
              "      <td>2010-03-08</td>\n",
              "      <td>2010-03-08</td>\n",
              "      <td>2012-01-01</td>\n",
              "      <td>0.0</td>\n",
              "      <td>3.500000e+07</td>\n",
              "      <td>0 days 00:00:00.000000000</td>\n",
              "      <td>software</td>\n",
              "      <td>0</td>\n",
              "    </tr>\n",
              "    <tr>\n",
              "      <th>4</th>\n",
              "      <td>10BestThings</td>\n",
              "      <td>web</td>\n",
              "      <td>50000</td>\n",
              "      <td>operating</td>\n",
              "      <td>USA</td>\n",
              "      <td>OH</td>\n",
              "      <td>Cleveland</td>\n",
              "      <td>Cleveland</td>\n",
              "      <td>1</td>\n",
              "      <td>2009-04</td>\n",
              "      <td>2009-Q2</td>\n",
              "      <td>2009.000000</td>\n",
              "      <td>2009-04-01</td>\n",
              "      <td>2009-04-01</td>\n",
              "      <td>0</td>\n",
              "      <td>0.0</td>\n",
              "      <td>5.000000e+04</td>\n",
              "      <td>0 days 00:00:00.000000000</td>\n",
              "      <td>web</td>\n",
              "      <td>0</td>\n",
              "    </tr>\n",
              "    <tr>\n",
              "      <th>5</th>\n",
              "      <td>11i Solutions</td>\n",
              "      <td>enterprise</td>\n",
              "      <td>1800000</td>\n",
              "      <td>closed</td>\n",
              "      <td>USA</td>\n",
              "      <td>AL</td>\n",
              "      <td>Huntsville</td>\n",
              "      <td>Huntsville</td>\n",
              "      <td>1</td>\n",
              "      <td>0</td>\n",
              "      <td>0</td>\n",
              "      <td>2004.064739</td>\n",
              "      <td>2011-03-22</td>\n",
              "      <td>2011-03-22</td>\n",
              "      <td>0</td>\n",
              "      <td>0.0</td>\n",
              "      <td>1.800000e+06</td>\n",
              "      <td>0 days 00:00:00.000000000</td>\n",
              "      <td>enterprise</td>\n",
              "      <td>0</td>\n",
              "    </tr>\n",
              "    <tr>\n",
              "      <th>6</th>\n",
              "      <td>12Society</td>\n",
              "      <td>ecommerce</td>\n",
              "      <td>0</td>\n",
              "      <td>acquired</td>\n",
              "      <td>USA</td>\n",
              "      <td>CA</td>\n",
              "      <td>Los Angeles</td>\n",
              "      <td>West Hollywood</td>\n",
              "      <td>1</td>\n",
              "      <td>2012-01</td>\n",
              "      <td>2012-Q1</td>\n",
              "      <td>2012.000000</td>\n",
              "      <td>2012-04-05</td>\n",
              "      <td>2012-04-05</td>\n",
              "      <td>2013-07-03</td>\n",
              "      <td>1.0</td>\n",
              "      <td>1.085854e+07</td>\n",
              "      <td>0 days 00:00:00.000000000</td>\n",
              "      <td>ecommerce</td>\n",
              "      <td>0</td>\n",
              "    </tr>\n",
              "    <tr>\n",
              "      <th>7</th>\n",
              "      <td>1366 Technologies</td>\n",
              "      <td>manufacturing</td>\n",
              "      <td>48950000</td>\n",
              "      <td>operating</td>\n",
              "      <td>USA</td>\n",
              "      <td>MA</td>\n",
              "      <td>Boston</td>\n",
              "      <td>Lexington</td>\n",
              "      <td>6</td>\n",
              "      <td>2007-01</td>\n",
              "      <td>2007-Q1</td>\n",
              "      <td>2007.000000</td>\n",
              "      <td>2008-03-27</td>\n",
              "      <td>2011-02-07</td>\n",
              "      <td>2011-06-17</td>\n",
              "      <td>0.0</td>\n",
              "      <td>8.158333e+06</td>\n",
              "      <td>678 days 00:00:00.000000000</td>\n",
              "      <td>manufacturing</td>\n",
              "      <td>678</td>\n",
              "    </tr>\n",
              "    <tr>\n",
              "      <th>8</th>\n",
              "      <td>140Fire</td>\n",
              "      <td>advertising</td>\n",
              "      <td>500000</td>\n",
              "      <td>operating</td>\n",
              "      <td>USA</td>\n",
              "      <td>CA</td>\n",
              "      <td>Los Angeles</td>\n",
              "      <td>Santa Monica</td>\n",
              "      <td>1</td>\n",
              "      <td>2010-01</td>\n",
              "      <td>2010-Q1</td>\n",
              "      <td>2010.000000</td>\n",
              "      <td>2010-05-05</td>\n",
              "      <td>2010-05-05</td>\n",
              "      <td>2011-02-24</td>\n",
              "      <td>0.0</td>\n",
              "      <td>5.000000e+05</td>\n",
              "      <td>0 days 00:00:00.000000000</td>\n",
              "      <td>advertising</td>\n",
              "      <td>0</td>\n",
              "    </tr>\n",
              "    <tr>\n",
              "      <th>9</th>\n",
              "      <td>169 ST.</td>\n",
              "      <td>games_video</td>\n",
              "      <td>50000</td>\n",
              "      <td>operating</td>\n",
              "      <td>USA</td>\n",
              "      <td>FL</td>\n",
              "      <td>Orlando</td>\n",
              "      <td>Lake Mary</td>\n",
              "      <td>1</td>\n",
              "      <td>2009-05</td>\n",
              "      <td>2009-Q2</td>\n",
              "      <td>2009.000000</td>\n",
              "      <td>2009-06-01</td>\n",
              "      <td>2009-06-01</td>\n",
              "      <td>2009-05-01</td>\n",
              "      <td>0.0</td>\n",
              "      <td>5.000000e+04</td>\n",
              "      <td>0 days 00:00:00.000000000</td>\n",
              "      <td>games_video</td>\n",
              "      <td>0</td>\n",
              "    </tr>\n",
              "  </tbody>\n",
              "</table>\n",
              "</div>"
            ],
            "text/plain": [
              "                name  category_code funding_total_usd     status country_code  \\\n",
              "0      1-800-DENTIST         health                 0  operating          USA   \n",
              "1       1000memories            web           2535000   acquired          USA   \n",
              "2            100Plus      analytics           1250000   acquired          USA   \n",
              "3           1010data       software          35000000  operating          USA   \n",
              "4       10BestThings            web             50000  operating          USA   \n",
              "5      11i Solutions     enterprise           1800000     closed          USA   \n",
              "6          12Society      ecommerce                 0   acquired          USA   \n",
              "7  1366 Technologies  manufacturing          48950000  operating          USA   \n",
              "8            140Fire    advertising            500000  operating          USA   \n",
              "9            169 ST.    games_video             50000  operating          USA   \n",
              "\n",
              "  state_code       region            city  funding_rounds founded_month  \\\n",
              "0         CA  Los Angeles     Los Angeles               1       1986-01   \n",
              "1         CA       SF Bay   San Francisco               2       2010-07   \n",
              "2         CA       SF Bay   San Francisco               2       2011-09   \n",
              "3         NY     New York        New York               1       2000-01   \n",
              "4         OH    Cleveland       Cleveland               1       2009-04   \n",
              "5         AL   Huntsville      Huntsville               1             0   \n",
              "6         CA  Los Angeles  West Hollywood               1       2012-01   \n",
              "7         MA       Boston       Lexington               6       2007-01   \n",
              "8         CA  Los Angeles    Santa Monica               1       2010-01   \n",
              "9         FL      Orlando       Lake Mary               1       2009-05   \n",
              "\n",
              "  founded_quarter  founded_year first_funding_at last_funding_at  \\\n",
              "0         1986-Q1   1986.000000       2010-08-19      2010-08-19   \n",
              "1         2010-Q3   2010.000000       2010-01-01      2011-02-16   \n",
              "2         2011-Q3   2011.000000       2011-11-02      2011-11-30   \n",
              "3         2000-Q1   2000.000000       2010-03-08      2010-03-08   \n",
              "4         2009-Q2   2009.000000       2009-04-01      2009-04-01   \n",
              "5               0   2004.064739       2011-03-22      2011-03-22   \n",
              "6         2012-Q1   2012.000000       2012-04-05      2012-04-05   \n",
              "7         2007-Q1   2007.000000       2008-03-27      2011-02-07   \n",
              "8         2010-Q1   2010.000000       2010-05-05      2010-05-05   \n",
              "9         2009-Q2   2009.000000       2009-06-01      2009-06-01   \n",
              "\n",
              "  last_milestone_at  Target  avg_raise_usd         time_bw_first_rounds  \\\n",
              "0        2010-08-19     0.0   1.085854e+07    0 days 00:00:00.000000000   \n",
              "1        2013-07-04     1.0   1.267500e+06  411 days 00:00:00.000000000   \n",
              "2        2013-02-27     1.0   6.250000e+05   28 days 00:00:00.000000000   \n",
              "3        2012-01-01     0.0   3.500000e+07    0 days 00:00:00.000000000   \n",
              "4                 0     0.0   5.000000e+04    0 days 00:00:00.000000000   \n",
              "5                 0     0.0   1.800000e+06    0 days 00:00:00.000000000   \n",
              "6        2013-07-03     1.0   1.085854e+07    0 days 00:00:00.000000000   \n",
              "7        2011-06-17     0.0   8.158333e+06  678 days 00:00:00.000000000   \n",
              "8        2011-02-24     0.0   5.000000e+05    0 days 00:00:00.000000000   \n",
              "9        2009-05-01     0.0   5.000000e+04    0 days 00:00:00.000000000   \n",
              "\n",
              "        cat_list  float_time_bw_first_rounds  \n",
              "0         health                           0  \n",
              "1            web                         411  \n",
              "2      analytics                          28  \n",
              "3       software                           0  \n",
              "4            web                           0  \n",
              "5     enterprise                           0  \n",
              "6      ecommerce                           0  \n",
              "7  manufacturing                         678  \n",
              "8    advertising                           0  \n",
              "9    games_video                           0  "
            ]
          },
          "metadata": {
            "tags": []
          },
          "execution_count": 31
        }
      ]
    },
    {
      "cell_type": "code",
      "metadata": {
        "id": "wFRPLN9KF85P",
        "colab_type": "code",
        "outputId": "004ac4c4-244a-458c-8abe-dff8f5b89796",
        "colab": {
          "base_uri": "https://localhost:8080/",
          "height": 549
        }
      },
      "source": [
        "final.tail(10)"
      ],
      "execution_count": 32,
      "outputs": [
        {
          "output_type": "execute_result",
          "data": {
            "text/html": [
              "<div>\n",
              "<style scoped>\n",
              "    .dataframe tbody tr th:only-of-type {\n",
              "        vertical-align: middle;\n",
              "    }\n",
              "\n",
              "    .dataframe tbody tr th {\n",
              "        vertical-align: top;\n",
              "    }\n",
              "\n",
              "    .dataframe thead th {\n",
              "        text-align: right;\n",
              "    }\n",
              "</style>\n",
              "<table border=\"1\" class=\"dataframe\">\n",
              "  <thead>\n",
              "    <tr style=\"text-align: right;\">\n",
              "      <th></th>\n",
              "      <th>name</th>\n",
              "      <th>category_code</th>\n",
              "      <th>funding_total_usd</th>\n",
              "      <th>status</th>\n",
              "      <th>country_code</th>\n",
              "      <th>state_code</th>\n",
              "      <th>region</th>\n",
              "      <th>city</th>\n",
              "      <th>funding_rounds</th>\n",
              "      <th>founded_month</th>\n",
              "      <th>founded_quarter</th>\n",
              "      <th>founded_year</th>\n",
              "      <th>first_funding_at</th>\n",
              "      <th>last_funding_at</th>\n",
              "      <th>last_milestone_at</th>\n",
              "      <th>Target</th>\n",
              "      <th>avg_raise_usd</th>\n",
              "      <th>time_bw_first_rounds</th>\n",
              "      <th>cat_list</th>\n",
              "      <th>float_time_bw_first_rounds</th>\n",
              "    </tr>\n",
              "  </thead>\n",
              "  <tbody>\n",
              "    <tr>\n",
              "      <th>7111</th>\n",
              "      <td>Zumeo.com</td>\n",
              "      <td>web</td>\n",
              "      <td>100000</td>\n",
              "      <td>operating</td>\n",
              "      <td>USA</td>\n",
              "      <td>OR</td>\n",
              "      <td>Medford</td>\n",
              "      <td>Medford</td>\n",
              "      <td>1</td>\n",
              "      <td>2007-05</td>\n",
              "      <td>2007-Q2</td>\n",
              "      <td>2007.000000</td>\n",
              "      <td>2009-01-29</td>\n",
              "      <td>2009-01-29</td>\n",
              "      <td>2009-02-06</td>\n",
              "      <td>0.0</td>\n",
              "      <td>1.000000e+05</td>\n",
              "      <td>0 days 00:00:00.000000000</td>\n",
              "      <td>web</td>\n",
              "      <td>0</td>\n",
              "    </tr>\n",
              "    <tr>\n",
              "      <th>7112</th>\n",
              "      <td>Zumobi</td>\n",
              "      <td>mobile</td>\n",
              "      <td>12000000</td>\n",
              "      <td>operating</td>\n",
              "      <td>USA</td>\n",
              "      <td>WA</td>\n",
              "      <td>Seattle</td>\n",
              "      <td>Seattle</td>\n",
              "      <td>1</td>\n",
              "      <td>2007-03</td>\n",
              "      <td>2007-Q1</td>\n",
              "      <td>2007.000000</td>\n",
              "      <td>2007-05-07</td>\n",
              "      <td>2007-05-07</td>\n",
              "      <td>2011-12-17</td>\n",
              "      <td>0.0</td>\n",
              "      <td>1.200000e+07</td>\n",
              "      <td>0 days 00:00:00.000000000</td>\n",
              "      <td>mobile</td>\n",
              "      <td>0</td>\n",
              "    </tr>\n",
              "    <tr>\n",
              "      <th>7113</th>\n",
              "      <td>Zuujit</td>\n",
              "      <td>ecommerce</td>\n",
              "      <td>2700000</td>\n",
              "      <td>operating</td>\n",
              "      <td>USA</td>\n",
              "      <td>CA</td>\n",
              "      <td>Santa Barbara</td>\n",
              "      <td>Santa Barbara</td>\n",
              "      <td>1</td>\n",
              "      <td>2010-01</td>\n",
              "      <td>2010-Q1</td>\n",
              "      <td>2010.000000</td>\n",
              "      <td>2010-04-30</td>\n",
              "      <td>2010-04-30</td>\n",
              "      <td>0</td>\n",
              "      <td>0.0</td>\n",
              "      <td>2.700000e+06</td>\n",
              "      <td>0 days 00:00:00.000000000</td>\n",
              "      <td>ecommerce</td>\n",
              "      <td>0</td>\n",
              "    </tr>\n",
              "    <tr>\n",
              "      <th>7114</th>\n",
              "      <td>Zvents</td>\n",
              "      <td>web</td>\n",
              "      <td>31200000</td>\n",
              "      <td>acquired</td>\n",
              "      <td>USA</td>\n",
              "      <td>CA</td>\n",
              "      <td>SF Bay</td>\n",
              "      <td>San Mateo</td>\n",
              "      <td>3</td>\n",
              "      <td>2005-03</td>\n",
              "      <td>2005-Q1</td>\n",
              "      <td>2005.000000</td>\n",
              "      <td>2005-10-05</td>\n",
              "      <td>2008-09-30</td>\n",
              "      <td>2012-09-11</td>\n",
              "      <td>1.0</td>\n",
              "      <td>1.040000e+07</td>\n",
              "      <td>398 days 00:00:00.000000000</td>\n",
              "      <td>web</td>\n",
              "      <td>398</td>\n",
              "    </tr>\n",
              "    <tr>\n",
              "      <th>7115</th>\n",
              "      <td>Zweemie</td>\n",
              "      <td>messaging</td>\n",
              "      <td>250000</td>\n",
              "      <td>operating</td>\n",
              "      <td>USA</td>\n",
              "      <td>MI</td>\n",
              "      <td>Grand Blanc</td>\n",
              "      <td>Grand Blanc</td>\n",
              "      <td>1</td>\n",
              "      <td>2009-01</td>\n",
              "      <td>2009-Q1</td>\n",
              "      <td>2009.000000</td>\n",
              "      <td>2010-06-03</td>\n",
              "      <td>2010-06-03</td>\n",
              "      <td>0</td>\n",
              "      <td>0.0</td>\n",
              "      <td>2.500000e+05</td>\n",
              "      <td>0 days 00:00:00.000000000</td>\n",
              "      <td>messaging</td>\n",
              "      <td>0</td>\n",
              "    </tr>\n",
              "    <tr>\n",
              "      <th>7116</th>\n",
              "      <td>Zygo Corporation</td>\n",
              "      <td>manufacturing</td>\n",
              "      <td>9000000</td>\n",
              "      <td>ipo</td>\n",
              "      <td>USA</td>\n",
              "      <td>CT</td>\n",
              "      <td>Middlefield</td>\n",
              "      <td>Middlefield</td>\n",
              "      <td>1</td>\n",
              "      <td>0</td>\n",
              "      <td>0</td>\n",
              "      <td>2004.064739</td>\n",
              "      <td>2011-10-24</td>\n",
              "      <td>2011-10-24</td>\n",
              "      <td>2011-07-01</td>\n",
              "      <td>1.0</td>\n",
              "      <td>9.000000e+06</td>\n",
              "      <td>0 days 00:00:00.000000000</td>\n",
              "      <td>manufacturing</td>\n",
              "      <td>0</td>\n",
              "    </tr>\n",
              "    <tr>\n",
              "      <th>7117</th>\n",
              "      <td>Zykis</td>\n",
              "      <td>public_relations</td>\n",
              "      <td>800000</td>\n",
              "      <td>operating</td>\n",
              "      <td>USA</td>\n",
              "      <td>CA</td>\n",
              "      <td>Los Angeles</td>\n",
              "      <td>Irvine</td>\n",
              "      <td>1</td>\n",
              "      <td>2006-10</td>\n",
              "      <td>2006-Q4</td>\n",
              "      <td>2006.000000</td>\n",
              "      <td>2006-10-27</td>\n",
              "      <td>2006-10-27</td>\n",
              "      <td>0</td>\n",
              "      <td>0.0</td>\n",
              "      <td>8.000000e+05</td>\n",
              "      <td>0 days 00:00:00.000000000</td>\n",
              "      <td>public_relations</td>\n",
              "      <td>0</td>\n",
              "    </tr>\n",
              "    <tr>\n",
              "      <th>7118</th>\n",
              "      <td>Zymetis</td>\n",
              "      <td>biotech</td>\n",
              "      <td>2257464</td>\n",
              "      <td>operating</td>\n",
              "      <td>USA</td>\n",
              "      <td>MD</td>\n",
              "      <td>Washington DC</td>\n",
              "      <td>College Park</td>\n",
              "      <td>2</td>\n",
              "      <td>2006-01</td>\n",
              "      <td>2006-Q1</td>\n",
              "      <td>2006.000000</td>\n",
              "      <td>2010-01-11</td>\n",
              "      <td>2010-01-31</td>\n",
              "      <td>0</td>\n",
              "      <td>0.0</td>\n",
              "      <td>1.128732e+06</td>\n",
              "      <td>20 days 00:00:00.000000000</td>\n",
              "      <td>biotech</td>\n",
              "      <td>20</td>\n",
              "    </tr>\n",
              "    <tr>\n",
              "      <th>7119</th>\n",
              "      <td>Zynga</td>\n",
              "      <td>games_video</td>\n",
              "      <td>860213000</td>\n",
              "      <td>ipo</td>\n",
              "      <td>USA</td>\n",
              "      <td>CA</td>\n",
              "      <td>SF Bay</td>\n",
              "      <td>San Francisco</td>\n",
              "      <td>8</td>\n",
              "      <td>2007-07</td>\n",
              "      <td>2007-Q3</td>\n",
              "      <td>2007.000000</td>\n",
              "      <td>2007-01-01</td>\n",
              "      <td>2011-02-18</td>\n",
              "      <td>2013-09-30</td>\n",
              "      <td>1.0</td>\n",
              "      <td>1.228876e+08</td>\n",
              "      <td>365 days 00:00:00.000000000</td>\n",
              "      <td>games_video</td>\n",
              "      <td>365</td>\n",
              "    </tr>\n",
              "    <tr>\n",
              "      <th>7120</th>\n",
              "      <td>Zyngenia</td>\n",
              "      <td>biotech</td>\n",
              "      <td>25000000</td>\n",
              "      <td>operating</td>\n",
              "      <td>USA</td>\n",
              "      <td>MD</td>\n",
              "      <td>Washington DC</td>\n",
              "      <td>Gaithersburg</td>\n",
              "      <td>1</td>\n",
              "      <td>2008-01</td>\n",
              "      <td>2008-Q1</td>\n",
              "      <td>2008.000000</td>\n",
              "      <td>2010-09-09</td>\n",
              "      <td>2010-09-09</td>\n",
              "      <td>0</td>\n",
              "      <td>0.0</td>\n",
              "      <td>2.500000e+07</td>\n",
              "      <td>0 days 00:00:00.000000000</td>\n",
              "      <td>biotech</td>\n",
              "      <td>0</td>\n",
              "    </tr>\n",
              "  </tbody>\n",
              "</table>\n",
              "</div>"
            ],
            "text/plain": [
              "                  name     category_code funding_total_usd     status  \\\n",
              "7111         Zumeo.com               web            100000  operating   \n",
              "7112            Zumobi            mobile          12000000  operating   \n",
              "7113            Zuujit         ecommerce           2700000  operating   \n",
              "7114            Zvents               web          31200000   acquired   \n",
              "7115           Zweemie         messaging            250000  operating   \n",
              "7116  Zygo Corporation     manufacturing           9000000        ipo   \n",
              "7117             Zykis  public_relations            800000  operating   \n",
              "7118           Zymetis           biotech           2257464  operating   \n",
              "7119             Zynga       games_video         860213000        ipo   \n",
              "7120          Zyngenia           biotech          25000000  operating   \n",
              "\n",
              "     country_code state_code         region           city  funding_rounds  \\\n",
              "7111          USA         OR        Medford        Medford               1   \n",
              "7112          USA         WA        Seattle        Seattle               1   \n",
              "7113          USA         CA  Santa Barbara  Santa Barbara               1   \n",
              "7114          USA         CA         SF Bay      San Mateo               3   \n",
              "7115          USA         MI    Grand Blanc    Grand Blanc               1   \n",
              "7116          USA         CT    Middlefield    Middlefield               1   \n",
              "7117          USA         CA    Los Angeles         Irvine               1   \n",
              "7118          USA         MD  Washington DC   College Park               2   \n",
              "7119          USA         CA         SF Bay  San Francisco               8   \n",
              "7120          USA         MD  Washington DC   Gaithersburg               1   \n",
              "\n",
              "     founded_month founded_quarter  founded_year first_funding_at  \\\n",
              "7111       2007-05         2007-Q2   2007.000000       2009-01-29   \n",
              "7112       2007-03         2007-Q1   2007.000000       2007-05-07   \n",
              "7113       2010-01         2010-Q1   2010.000000       2010-04-30   \n",
              "7114       2005-03         2005-Q1   2005.000000       2005-10-05   \n",
              "7115       2009-01         2009-Q1   2009.000000       2010-06-03   \n",
              "7116             0               0   2004.064739       2011-10-24   \n",
              "7117       2006-10         2006-Q4   2006.000000       2006-10-27   \n",
              "7118       2006-01         2006-Q1   2006.000000       2010-01-11   \n",
              "7119       2007-07         2007-Q3   2007.000000       2007-01-01   \n",
              "7120       2008-01         2008-Q1   2008.000000       2010-09-09   \n",
              "\n",
              "     last_funding_at last_milestone_at  Target  avg_raise_usd  \\\n",
              "7111      2009-01-29        2009-02-06     0.0   1.000000e+05   \n",
              "7112      2007-05-07        2011-12-17     0.0   1.200000e+07   \n",
              "7113      2010-04-30                 0     0.0   2.700000e+06   \n",
              "7114      2008-09-30        2012-09-11     1.0   1.040000e+07   \n",
              "7115      2010-06-03                 0     0.0   2.500000e+05   \n",
              "7116      2011-10-24        2011-07-01     1.0   9.000000e+06   \n",
              "7117      2006-10-27                 0     0.0   8.000000e+05   \n",
              "7118      2010-01-31                 0     0.0   1.128732e+06   \n",
              "7119      2011-02-18        2013-09-30     1.0   1.228876e+08   \n",
              "7120      2010-09-09                 0     0.0   2.500000e+07   \n",
              "\n",
              "             time_bw_first_rounds          cat_list  \\\n",
              "7111    0 days 00:00:00.000000000               web   \n",
              "7112    0 days 00:00:00.000000000            mobile   \n",
              "7113    0 days 00:00:00.000000000         ecommerce   \n",
              "7114  398 days 00:00:00.000000000               web   \n",
              "7115    0 days 00:00:00.000000000         messaging   \n",
              "7116    0 days 00:00:00.000000000     manufacturing   \n",
              "7117    0 days 00:00:00.000000000  public_relations   \n",
              "7118   20 days 00:00:00.000000000           biotech   \n",
              "7119  365 days 00:00:00.000000000       games_video   \n",
              "7120    0 days 00:00:00.000000000           biotech   \n",
              "\n",
              "      float_time_bw_first_rounds  \n",
              "7111                           0  \n",
              "7112                           0  \n",
              "7113                           0  \n",
              "7114                         398  \n",
              "7115                           0  \n",
              "7116                           0  \n",
              "7117                           0  \n",
              "7118                          20  \n",
              "7119                         365  \n",
              "7120                           0  "
            ]
          },
          "metadata": {
            "tags": []
          },
          "execution_count": 32
        }
      ]
    },
    {
      "cell_type": "markdown",
      "metadata": {
        "id": "afK2FIoVWAIQ",
        "colab_type": "text"
      },
      "source": [
        "Encoder to number"
      ]
    },
    {
      "cell_type": "code",
      "metadata": {
        "id": "Gy6t8GFAmUku",
        "colab_type": "code",
        "colab": {}
      },
      "source": [
        "from sklearn.preprocessing import LabelEncoder"
      ],
      "execution_count": 0,
      "outputs": []
    },
    {
      "cell_type": "code",
      "metadata": {
        "id": "Geb0qvaTmUkv",
        "colab_type": "code",
        "colab": {}
      },
      "source": [
        "number = LabelEncoder()\n"
      ],
      "execution_count": 0,
      "outputs": []
    },
    {
      "cell_type": "code",
      "metadata": {
        "id": "GgpCDuzqM4vg",
        "colab_type": "code",
        "colab": {}
      },
      "source": [
        "final['city'] = number.fit_transform(final['city'].astype(str))"
      ],
      "execution_count": 0,
      "outputs": []
    },
    {
      "cell_type": "code",
      "metadata": {
        "id": "1j8rsrBaWfyo",
        "colab_type": "code",
        "outputId": "171d57eb-c825-4c84-9ac7-e84e59e25cbe",
        "colab": {
          "base_uri": "https://localhost:8080/",
          "height": 791
        }
      },
      "source": [
        "#classify and convert the object into numerical\n",
        "final['category_code'].value_counts()"
      ],
      "execution_count": 36,
      "outputs": [
        {
          "output_type": "execute_result",
          "data": {
            "text/plain": [
              "software            1240\n",
              "web                  938\n",
              "biotech              596\n",
              "mobile               408\n",
              "games_video          376\n",
              "enterprise           373\n",
              "cleantech            311\n",
              "advertising          294\n",
              "hardware             243\n",
              "ecommerce            227\n",
              "unknown              225\n",
              "network_hosting      187\n",
              "public_relations     167\n",
              "semiconductor        165\n",
              "other                137\n",
              "security             117\n",
              "analytics             99\n",
              "medical               96\n",
              "consulting            86\n",
              "search                84\n",
              "finance               75\n",
              "messaging             67\n",
              "health                67\n",
              "social                63\n",
              "education             47\n",
              "news                  41\n",
              "manufacturing         36\n",
              "travel                34\n",
              "music                 30\n",
              "hospitality           24\n",
              "sports                20\n",
              "real_estate           19\n",
              "photo_video           17\n",
              "legal                 15\n",
              "fashion               14\n",
              "automotive            11\n",
              "nonprofit             10\n",
              "transportation        10\n",
              "nanotech               7\n",
              "design                 4\n",
              "government             2\n",
              "local                  1\n",
              "Name: category_code, dtype: int64"
            ]
          },
          "metadata": {
            "tags": []
          },
          "execution_count": 36
        }
      ]
    },
    {
      "cell_type": "code",
      "metadata": {
        "id": "gd4sP7EaWsNM",
        "colab_type": "code",
        "colab": {}
      },
      "source": [
        "final['category_code'] = number.fit_transform(final['category_code'].astype(str))"
      ],
      "execution_count": 0,
      "outputs": []
    },
    {
      "cell_type": "code",
      "metadata": {
        "id": "vDyRkaG-X21v",
        "colab_type": "code",
        "outputId": "fb38a7d3-bef3-4d9d-f8c8-c13e82036ae3",
        "colab": {
          "base_uri": "https://localhost:8080/",
          "height": 791
        }
      },
      "source": [
        "final['category_code'].value_counts()"
      ],
      "execution_count": 38,
      "outputs": [
        {
          "output_type": "execute_result",
          "data": {
            "text/plain": [
              "36    1240\n",
              "41     938\n",
              "3      596\n",
              "22     408\n",
              "12     376\n",
              "9      373\n",
              "4      311\n",
              "0      294\n",
              "14     243\n",
              "7      227\n",
              "40     225\n",
              "25     187\n",
              "30     167\n",
              "34     165\n",
              "28     137\n",
              "33     117\n",
              "1       99\n",
              "20      96\n",
              "5       86\n",
              "32      84\n",
              "11      75\n",
              "15      67\n",
              "21      67\n",
              "35      63\n",
              "8       47\n",
              "26      41\n",
              "19      36\n",
              "39      34\n",
              "23      30\n",
              "16      24\n",
              "37      20\n",
              "31      19\n",
              "29      17\n",
              "17      15\n",
              "10      14\n",
              "2       11\n",
              "38      10\n",
              "27      10\n",
              "24       7\n",
              "6        4\n",
              "13       2\n",
              "18       1\n",
              "Name: category_code, dtype: int64"
            ]
          },
          "metadata": {
            "tags": []
          },
          "execution_count": 38
        }
      ]
    },
    {
      "cell_type": "code",
      "metadata": {
        "id": "scLXgN9VYEba",
        "colab_type": "code",
        "outputId": "25fb3494-ee4c-4fc4-a140-df9542da45a7",
        "colab": {
          "base_uri": "https://localhost:8080/",
          "height": 233
        }
      },
      "source": [
        "final['funding_total_usd'].value_counts()#it is number"
      ],
      "execution_count": 39,
      "outputs": [
        {
          "output_type": "execute_result",
          "data": {
            "text/plain": [
              "0           692\n",
              "1000000     162\n",
              "10000000    158\n",
              "5000000     151\n",
              "500000      135\n",
              "           ... \n",
              "4000          1\n",
              "115000        1\n",
              "74200000      1\n",
              "1464200       1\n",
              "27400000      1\n",
              "Name: funding_total_usd, Length: 1730, dtype: int64"
            ]
          },
          "metadata": {
            "tags": []
          },
          "execution_count": 39
        }
      ]
    },
    {
      "cell_type": "code",
      "metadata": {
        "id": "m1b1VuofmUk0",
        "colab_type": "code",
        "colab": {}
      },
      "source": [
        "final['status'] = number.fit_transform(final['status'].astype(str))"
      ],
      "execution_count": 0,
      "outputs": []
    },
    {
      "cell_type": "code",
      "metadata": {
        "id": "Goql8584Z0_m",
        "colab_type": "code",
        "outputId": "07fdcb59-b4bf-41c6-9012-876ccb7e7bb6",
        "colab": {
          "base_uri": "https://localhost:8080/",
          "height": 395
        }
      },
      "source": [
        "final.dtypes"
      ],
      "execution_count": 41,
      "outputs": [
        {
          "output_type": "execute_result",
          "data": {
            "text/plain": [
              "name                           object\n",
              "category_code                   int64\n",
              "funding_total_usd              object\n",
              "status                          int64\n",
              "country_code                   object\n",
              "state_code                     object\n",
              "region                         object\n",
              "city                            int64\n",
              "funding_rounds                  int64\n",
              "founded_month                  object\n",
              "founded_quarter                object\n",
              "founded_year                  float64\n",
              "first_funding_at               object\n",
              "last_funding_at                object\n",
              "last_milestone_at              object\n",
              "Target                        float64\n",
              "avg_raise_usd                 float64\n",
              "time_bw_first_rounds           object\n",
              "cat_list                       object\n",
              "float_time_bw_first_rounds      int64\n",
              "dtype: object"
            ]
          },
          "metadata": {
            "tags": []
          },
          "execution_count": 41
        }
      ]
    },
    {
      "cell_type": "code",
      "metadata": {
        "id": "behqYTFJZ6On",
        "colab_type": "code",
        "outputId": "cc189ad3-0e53-4a2d-c2d6-3257d92025fe",
        "colab": {
          "base_uri": "https://localhost:8080/",
          "height": 125
        }
      },
      "source": [
        "final.columns.to_list"
      ],
      "execution_count": 42,
      "outputs": [
        {
          "output_type": "execute_result",
          "data": {
            "text/plain": [
              "<bound method IndexOpsMixin.tolist of Index(['name', 'category_code', 'funding_total_usd', 'status', 'country_code',\n",
              "       'state_code', 'region', 'city', 'funding_rounds', 'founded_month',\n",
              "       'founded_quarter', 'founded_year', 'first_funding_at',\n",
              "       'last_funding_at', 'last_milestone_at', 'Target', 'avg_raise_usd',\n",
              "       'time_bw_first_rounds', 'cat_list', 'float_time_bw_first_rounds'],\n",
              "      dtype='object')>"
            ]
          },
          "metadata": {
            "tags": []
          },
          "execution_count": 42
        }
      ]
    },
    {
      "cell_type": "code",
      "metadata": {
        "id": "1GpnlgCvUG_A",
        "colab_type": "code",
        "outputId": "248b3c67-3b92-40f4-a59e-1276630dc69d",
        "colab": {
          "base_uri": "https://localhost:8080/",
          "height": 309
        }
      },
      "source": [
        "final.head()"
      ],
      "execution_count": 43,
      "outputs": [
        {
          "output_type": "execute_result",
          "data": {
            "text/html": [
              "<div>\n",
              "<style scoped>\n",
              "    .dataframe tbody tr th:only-of-type {\n",
              "        vertical-align: middle;\n",
              "    }\n",
              "\n",
              "    .dataframe tbody tr th {\n",
              "        vertical-align: top;\n",
              "    }\n",
              "\n",
              "    .dataframe thead th {\n",
              "        text-align: right;\n",
              "    }\n",
              "</style>\n",
              "<table border=\"1\" class=\"dataframe\">\n",
              "  <thead>\n",
              "    <tr style=\"text-align: right;\">\n",
              "      <th></th>\n",
              "      <th>name</th>\n",
              "      <th>category_code</th>\n",
              "      <th>funding_total_usd</th>\n",
              "      <th>status</th>\n",
              "      <th>country_code</th>\n",
              "      <th>state_code</th>\n",
              "      <th>region</th>\n",
              "      <th>city</th>\n",
              "      <th>funding_rounds</th>\n",
              "      <th>founded_month</th>\n",
              "      <th>founded_quarter</th>\n",
              "      <th>founded_year</th>\n",
              "      <th>first_funding_at</th>\n",
              "      <th>last_funding_at</th>\n",
              "      <th>last_milestone_at</th>\n",
              "      <th>Target</th>\n",
              "      <th>avg_raise_usd</th>\n",
              "      <th>time_bw_first_rounds</th>\n",
              "      <th>cat_list</th>\n",
              "      <th>float_time_bw_first_rounds</th>\n",
              "    </tr>\n",
              "  </thead>\n",
              "  <tbody>\n",
              "    <tr>\n",
              "      <th>0</th>\n",
              "      <td>1-800-DENTIST</td>\n",
              "      <td>15</td>\n",
              "      <td>0</td>\n",
              "      <td>3</td>\n",
              "      <td>USA</td>\n",
              "      <td>CA</td>\n",
              "      <td>Los Angeles</td>\n",
              "      <td>488</td>\n",
              "      <td>1</td>\n",
              "      <td>1986-01</td>\n",
              "      <td>1986-Q1</td>\n",
              "      <td>1986.0</td>\n",
              "      <td>2010-08-19</td>\n",
              "      <td>2010-08-19</td>\n",
              "      <td>2010-08-19</td>\n",
              "      <td>0.0</td>\n",
              "      <td>1.085854e+07</td>\n",
              "      <td>0 days 00:00:00.000000000</td>\n",
              "      <td>health</td>\n",
              "      <td>0</td>\n",
              "    </tr>\n",
              "    <tr>\n",
              "      <th>1</th>\n",
              "      <td>1000memories</td>\n",
              "      <td>41</td>\n",
              "      <td>2535000</td>\n",
              "      <td>0</td>\n",
              "      <td>USA</td>\n",
              "      <td>CA</td>\n",
              "      <td>SF Bay</td>\n",
              "      <td>813</td>\n",
              "      <td>2</td>\n",
              "      <td>2010-07</td>\n",
              "      <td>2010-Q3</td>\n",
              "      <td>2010.0</td>\n",
              "      <td>2010-01-01</td>\n",
              "      <td>2011-02-16</td>\n",
              "      <td>2013-07-04</td>\n",
              "      <td>1.0</td>\n",
              "      <td>1.267500e+06</td>\n",
              "      <td>411 days 00:00:00.000000000</td>\n",
              "      <td>web</td>\n",
              "      <td>411</td>\n",
              "    </tr>\n",
              "    <tr>\n",
              "      <th>2</th>\n",
              "      <td>100Plus</td>\n",
              "      <td>1</td>\n",
              "      <td>1250000</td>\n",
              "      <td>0</td>\n",
              "      <td>USA</td>\n",
              "      <td>CA</td>\n",
              "      <td>SF Bay</td>\n",
              "      <td>813</td>\n",
              "      <td>2</td>\n",
              "      <td>2011-09</td>\n",
              "      <td>2011-Q3</td>\n",
              "      <td>2011.0</td>\n",
              "      <td>2011-11-02</td>\n",
              "      <td>2011-11-30</td>\n",
              "      <td>2013-02-27</td>\n",
              "      <td>1.0</td>\n",
              "      <td>6.250000e+05</td>\n",
              "      <td>28 days 00:00:00.000000000</td>\n",
              "      <td>analytics</td>\n",
              "      <td>28</td>\n",
              "    </tr>\n",
              "    <tr>\n",
              "      <th>3</th>\n",
              "      <td>1010data</td>\n",
              "      <td>36</td>\n",
              "      <td>35000000</td>\n",
              "      <td>3</td>\n",
              "      <td>USA</td>\n",
              "      <td>NY</td>\n",
              "      <td>New York</td>\n",
              "      <td>621</td>\n",
              "      <td>1</td>\n",
              "      <td>2000-01</td>\n",
              "      <td>2000-Q1</td>\n",
              "      <td>2000.0</td>\n",
              "      <td>2010-03-08</td>\n",
              "      <td>2010-03-08</td>\n",
              "      <td>2012-01-01</td>\n",
              "      <td>0.0</td>\n",
              "      <td>3.500000e+07</td>\n",
              "      <td>0 days 00:00:00.000000000</td>\n",
              "      <td>software</td>\n",
              "      <td>0</td>\n",
              "    </tr>\n",
              "    <tr>\n",
              "      <th>4</th>\n",
              "      <td>10BestThings</td>\n",
              "      <td>41</td>\n",
              "      <td>50000</td>\n",
              "      <td>3</td>\n",
              "      <td>USA</td>\n",
              "      <td>OH</td>\n",
              "      <td>Cleveland</td>\n",
              "      <td>185</td>\n",
              "      <td>1</td>\n",
              "      <td>2009-04</td>\n",
              "      <td>2009-Q2</td>\n",
              "      <td>2009.0</td>\n",
              "      <td>2009-04-01</td>\n",
              "      <td>2009-04-01</td>\n",
              "      <td>0</td>\n",
              "      <td>0.0</td>\n",
              "      <td>5.000000e+04</td>\n",
              "      <td>0 days 00:00:00.000000000</td>\n",
              "      <td>web</td>\n",
              "      <td>0</td>\n",
              "    </tr>\n",
              "  </tbody>\n",
              "</table>\n",
              "</div>"
            ],
            "text/plain": [
              "            name  category_code funding_total_usd  status country_code  \\\n",
              "0  1-800-DENTIST             15                 0       3          USA   \n",
              "1   1000memories             41           2535000       0          USA   \n",
              "2        100Plus              1           1250000       0          USA   \n",
              "3       1010data             36          35000000       3          USA   \n",
              "4   10BestThings             41             50000       3          USA   \n",
              "\n",
              "  state_code       region  city  funding_rounds founded_month founded_quarter  \\\n",
              "0         CA  Los Angeles   488               1       1986-01         1986-Q1   \n",
              "1         CA       SF Bay   813               2       2010-07         2010-Q3   \n",
              "2         CA       SF Bay   813               2       2011-09         2011-Q3   \n",
              "3         NY     New York   621               1       2000-01         2000-Q1   \n",
              "4         OH    Cleveland   185               1       2009-04         2009-Q2   \n",
              "\n",
              "   founded_year first_funding_at last_funding_at last_milestone_at  Target  \\\n",
              "0        1986.0       2010-08-19      2010-08-19        2010-08-19     0.0   \n",
              "1        2010.0       2010-01-01      2011-02-16        2013-07-04     1.0   \n",
              "2        2011.0       2011-11-02      2011-11-30        2013-02-27     1.0   \n",
              "3        2000.0       2010-03-08      2010-03-08        2012-01-01     0.0   \n",
              "4        2009.0       2009-04-01      2009-04-01                 0     0.0   \n",
              "\n",
              "   avg_raise_usd         time_bw_first_rounds   cat_list  \\\n",
              "0   1.085854e+07    0 days 00:00:00.000000000     health   \n",
              "1   1.267500e+06  411 days 00:00:00.000000000        web   \n",
              "2   6.250000e+05   28 days 00:00:00.000000000  analytics   \n",
              "3   3.500000e+07    0 days 00:00:00.000000000   software   \n",
              "4   5.000000e+04    0 days 00:00:00.000000000        web   \n",
              "\n",
              "   float_time_bw_first_rounds  \n",
              "0                           0  \n",
              "1                         411  \n",
              "2                          28  \n",
              "3                           0  \n",
              "4                           0  "
            ]
          },
          "metadata": {
            "tags": []
          },
          "execution_count": 43
        }
      ]
    },
    {
      "cell_type": "code",
      "metadata": {
        "id": "N-AsOIG_mUk1",
        "colab_type": "code",
        "colab": {}
      },
      "source": [
        "final['country_code'] = number.fit_transform(final['country_code'].astype(str))"
      ],
      "execution_count": 0,
      "outputs": []
    },
    {
      "cell_type": "code",
      "metadata": {
        "id": "kvKcDiEsmUk2",
        "colab_type": "code",
        "colab": {}
      },
      "source": [
        "final['state_code'] = number.fit_transform(final['state_code'].astype(str))"
      ],
      "execution_count": 0,
      "outputs": []
    },
    {
      "cell_type": "code",
      "metadata": {
        "id": "aeuXUCcHNEl9",
        "colab_type": "code",
        "colab": {}
      },
      "source": [
        "final['region'] = number.fit_transform(final['region'].astype(str))"
      ],
      "execution_count": 0,
      "outputs": []
    },
    {
      "cell_type": "code",
      "metadata": {
        "id": "jMUyuUxjaNF5",
        "colab_type": "code",
        "colab": {}
      },
      "source": [
        "final['city'] = number.fit_transform(final['city'].astype(str)) \n",
        "final['founded_month'] = number.fit_transform(final['founded_month'].astype(str)) \n",
        "final['founded_quarter'] = number.fit_transform(final['founded_quarter'].astype(str)) \n",
        "final['first_funding_at'] = number.fit_transform(final['first_funding_at'].astype(str))\n",
        "final['last_funding_at'] = number.fit_transform(final['last_funding_at'].astype(str))\n",
        "final['last_milestone_at'] = number.fit_transform(final['last_milestone_at'].astype(str))\n",
        "final['cat_list'] = number.fit_transform(final['cat_list'].astype(str))  "
      ],
      "execution_count": 0,
      "outputs": []
    },
    {
      "cell_type": "code",
      "metadata": {
        "id": "1oVQQfjAbgw-",
        "colab_type": "code",
        "colab": {}
      },
      "source": [
        "final.drop(['time_bw_first_rounds'],axis=1,inplace=True) #which is present with \"float_time_bw_first_rounds\""
      ],
      "execution_count": 0,
      "outputs": []
    },
    {
      "cell_type": "code",
      "metadata": {
        "id": "-5HqJJoTdTGR",
        "colab_type": "code",
        "outputId": "bf2b6867-7b5f-4ec1-a1f4-294a58ccbe02",
        "colab": {
          "base_uri": "https://localhost:8080/",
          "height": 377
        }
      },
      "source": [
        "final.dtypes"
      ],
      "execution_count": 49,
      "outputs": [
        {
          "output_type": "execute_result",
          "data": {
            "text/plain": [
              "name                           object\n",
              "category_code                   int64\n",
              "funding_total_usd              object\n",
              "status                          int64\n",
              "country_code                    int64\n",
              "state_code                      int64\n",
              "region                          int64\n",
              "city                            int64\n",
              "funding_rounds                  int64\n",
              "founded_month                   int64\n",
              "founded_quarter                 int64\n",
              "founded_year                  float64\n",
              "first_funding_at                int64\n",
              "last_funding_at                 int64\n",
              "last_milestone_at               int64\n",
              "Target                        float64\n",
              "avg_raise_usd                 float64\n",
              "cat_list                        int64\n",
              "float_time_bw_first_rounds      int64\n",
              "dtype: object"
            ]
          },
          "metadata": {
            "tags": []
          },
          "execution_count": 49
        }
      ]
    },
    {
      "cell_type": "code",
      "metadata": {
        "id": "yNoc5kc6eFi7",
        "colab_type": "code",
        "colab": {}
      },
      "source": [
        "final[\"funding_total_usd\"] = number.fit_transform(final['funding_total_usd'].astype(str))"
      ],
      "execution_count": 0,
      "outputs": []
    },
    {
      "cell_type": "code",
      "metadata": {
        "id": "_dgNRnegeVx9",
        "colab_type": "code",
        "outputId": "d3e0a13d-90a0-43cf-c42b-76b96b88804a",
        "colab": {
          "base_uri": "https://localhost:8080/",
          "height": 233
        }
      },
      "source": [
        "final[\"funding_total_usd\"].value_counts()"
      ],
      "execution_count": 51,
      "outputs": [
        {
          "output_type": "execute_result",
          "data": {
            "text/plain": [
              "1       692\n",
              "7       162\n",
              "8       158\n",
              "1209    151\n",
              "1208    135\n",
              "       ... \n",
              "786       1\n",
              "790       1\n",
              "798       1\n",
              "810       1\n",
              "1725      1\n",
              "Name: funding_total_usd, Length: 1730, dtype: int64"
            ]
          },
          "metadata": {
            "tags": []
          },
          "execution_count": 51
        }
      ]
    },
    {
      "cell_type": "code",
      "metadata": {
        "id": "GiMVkl3tbWLT",
        "colab_type": "code",
        "outputId": "bae612c6-c2ff-4376-b662-9e5488c54ff2",
        "colab": {
          "base_uri": "https://localhost:8080/",
          "height": 241
        }
      },
      "source": [
        "final.head()"
      ],
      "execution_count": 52,
      "outputs": [
        {
          "output_type": "execute_result",
          "data": {
            "text/html": [
              "<div>\n",
              "<style scoped>\n",
              "    .dataframe tbody tr th:only-of-type {\n",
              "        vertical-align: middle;\n",
              "    }\n",
              "\n",
              "    .dataframe tbody tr th {\n",
              "        vertical-align: top;\n",
              "    }\n",
              "\n",
              "    .dataframe thead th {\n",
              "        text-align: right;\n",
              "    }\n",
              "</style>\n",
              "<table border=\"1\" class=\"dataframe\">\n",
              "  <thead>\n",
              "    <tr style=\"text-align: right;\">\n",
              "      <th></th>\n",
              "      <th>name</th>\n",
              "      <th>category_code</th>\n",
              "      <th>funding_total_usd</th>\n",
              "      <th>status</th>\n",
              "      <th>country_code</th>\n",
              "      <th>state_code</th>\n",
              "      <th>region</th>\n",
              "      <th>city</th>\n",
              "      <th>funding_rounds</th>\n",
              "      <th>founded_month</th>\n",
              "      <th>founded_quarter</th>\n",
              "      <th>founded_year</th>\n",
              "      <th>first_funding_at</th>\n",
              "      <th>last_funding_at</th>\n",
              "      <th>last_milestone_at</th>\n",
              "      <th>Target</th>\n",
              "      <th>avg_raise_usd</th>\n",
              "      <th>cat_list</th>\n",
              "      <th>float_time_bw_first_rounds</th>\n",
              "    </tr>\n",
              "  </thead>\n",
              "  <tbody>\n",
              "    <tr>\n",
              "      <th>0</th>\n",
              "      <td>1-800-DENTIST</td>\n",
              "      <td>15</td>\n",
              "      <td>1</td>\n",
              "      <td>3</td>\n",
              "      <td>0</td>\n",
              "      <td>3</td>\n",
              "      <td>215</td>\n",
              "      <td>495</td>\n",
              "      <td>1</td>\n",
              "      <td>37</td>\n",
              "      <td>36</td>\n",
              "      <td>1986.0</td>\n",
              "      <td>1537</td>\n",
              "      <td>1436</td>\n",
              "      <td>534</td>\n",
              "      <td>0.0</td>\n",
              "      <td>1.085854e+07</td>\n",
              "      <td>15</td>\n",
              "      <td>0</td>\n",
              "    </tr>\n",
              "    <tr>\n",
              "      <th>1</th>\n",
              "      <td>1000memories</td>\n",
              "      <td>41</td>\n",
              "      <td>688</td>\n",
              "      <td>0</td>\n",
              "      <td>0</td>\n",
              "      <td>3</td>\n",
              "      <td>359</td>\n",
              "      <td>857</td>\n",
              "      <td>2</td>\n",
              "      <td>218</td>\n",
              "      <td>114</td>\n",
              "      <td>2010.0</td>\n",
              "      <td>1370</td>\n",
              "      <td>1581</td>\n",
              "      <td>1240</td>\n",
              "      <td>1.0</td>\n",
              "      <td>1.267500e+06</td>\n",
              "      <td>41</td>\n",
              "      <td>411</td>\n",
              "    </tr>\n",
              "    <tr>\n",
              "      <th>2</th>\n",
              "      <td>100Plus</td>\n",
              "      <td>1</td>\n",
              "      <td>188</td>\n",
              "      <td>0</td>\n",
              "      <td>0</td>\n",
              "      <td>3</td>\n",
              "      <td>359</td>\n",
              "      <td>857</td>\n",
              "      <td>2</td>\n",
              "      <td>232</td>\n",
              "      <td>118</td>\n",
              "      <td>2011.0</td>\n",
              "      <td>1790</td>\n",
              "      <td>1734</td>\n",
              "      <td>1149</td>\n",
              "      <td>1.0</td>\n",
              "      <td>6.250000e+05</td>\n",
              "      <td>1</td>\n",
              "      <td>28</td>\n",
              "    </tr>\n",
              "    <tr>\n",
              "      <th>3</th>\n",
              "      <td>1010data</td>\n",
              "      <td>36</td>\n",
              "      <td>938</td>\n",
              "      <td>3</td>\n",
              "      <td>0</td>\n",
              "      <td>33</td>\n",
              "      <td>281</td>\n",
              "      <td>644</td>\n",
              "      <td>1</td>\n",
              "      <td>96</td>\n",
              "      <td>72</td>\n",
              "      <td>2000.0</td>\n",
              "      <td>1420</td>\n",
              "      <td>1313</td>\n",
              "      <td>866</td>\n",
              "      <td>0.0</td>\n",
              "      <td>3.500000e+07</td>\n",
              "      <td>36</td>\n",
              "      <td>0</td>\n",
              "    </tr>\n",
              "    <tr>\n",
              "      <th>4</th>\n",
              "      <td>10BestThings</td>\n",
              "      <td>41</td>\n",
              "      <td>1207</td>\n",
              "      <td>3</td>\n",
              "      <td>0</td>\n",
              "      <td>34</td>\n",
              "      <td>76</td>\n",
              "      <td>159</td>\n",
              "      <td>1</td>\n",
              "      <td>203</td>\n",
              "      <td>109</td>\n",
              "      <td>2009.0</td>\n",
              "      <td>1171</td>\n",
              "      <td>1059</td>\n",
              "      <td>0</td>\n",
              "      <td>0.0</td>\n",
              "      <td>5.000000e+04</td>\n",
              "      <td>41</td>\n",
              "      <td>0</td>\n",
              "    </tr>\n",
              "  </tbody>\n",
              "</table>\n",
              "</div>"
            ],
            "text/plain": [
              "            name  category_code  funding_total_usd  status  country_code  \\\n",
              "0  1-800-DENTIST             15                  1       3             0   \n",
              "1   1000memories             41                688       0             0   \n",
              "2        100Plus              1                188       0             0   \n",
              "3       1010data             36                938       3             0   \n",
              "4   10BestThings             41               1207       3             0   \n",
              "\n",
              "   state_code  region  city  funding_rounds  founded_month  founded_quarter  \\\n",
              "0           3     215   495               1             37               36   \n",
              "1           3     359   857               2            218              114   \n",
              "2           3     359   857               2            232              118   \n",
              "3          33     281   644               1             96               72   \n",
              "4          34      76   159               1            203              109   \n",
              "\n",
              "   founded_year  first_funding_at  last_funding_at  last_milestone_at  Target  \\\n",
              "0        1986.0              1537             1436                534     0.0   \n",
              "1        2010.0              1370             1581               1240     1.0   \n",
              "2        2011.0              1790             1734               1149     1.0   \n",
              "3        2000.0              1420             1313                866     0.0   \n",
              "4        2009.0              1171             1059                  0     0.0   \n",
              "\n",
              "   avg_raise_usd  cat_list  float_time_bw_first_rounds  \n",
              "0   1.085854e+07        15                           0  \n",
              "1   1.267500e+06        41                         411  \n",
              "2   6.250000e+05         1                          28  \n",
              "3   3.500000e+07        36                           0  \n",
              "4   5.000000e+04        41                           0  "
            ]
          },
          "metadata": {
            "tags": []
          },
          "execution_count": 52
        }
      ]
    },
    {
      "cell_type": "code",
      "metadata": {
        "id": "sglgwCIAcGlR",
        "colab_type": "code",
        "outputId": "44485091-df8d-4726-f2df-da88f7e2c98a",
        "colab": {
          "base_uri": "https://localhost:8080/",
          "height": 35
        }
      },
      "source": [
        "final.shape"
      ],
      "execution_count": 53,
      "outputs": [
        {
          "output_type": "execute_result",
          "data": {
            "text/plain": [
              "(6983, 19)"
            ]
          },
          "metadata": {
            "tags": []
          },
          "execution_count": 53
        }
      ]
    },
    {
      "cell_type": "markdown",
      "metadata": {
        "id": "8UaH29KpPlEQ",
        "colab_type": "text"
      },
      "source": [
        "#X for features,y for Target(0/1)"
      ]
    },
    {
      "cell_type": "code",
      "metadata": {
        "id": "nc67X4ilmUlY",
        "colab_type": "code",
        "colab": {}
      },
      "source": [
        "X = (final.drop(['Target'], axis=1)).drop(['name'],axis=1)"
      ],
      "execution_count": 0,
      "outputs": []
    },
    {
      "cell_type": "code",
      "metadata": {
        "id": "aWYJNZDzVHj1",
        "colab_type": "code",
        "outputId": "70b506e0-4f7a-4d36-8fe4-7f40f44ba33a",
        "colab": {
          "base_uri": "https://localhost:8080/",
          "height": 224
        }
      },
      "source": [
        "X.head()"
      ],
      "execution_count": 103,
      "outputs": [
        {
          "output_type": "execute_result",
          "data": {
            "text/html": [
              "<div>\n",
              "<style scoped>\n",
              "    .dataframe tbody tr th:only-of-type {\n",
              "        vertical-align: middle;\n",
              "    }\n",
              "\n",
              "    .dataframe tbody tr th {\n",
              "        vertical-align: top;\n",
              "    }\n",
              "\n",
              "    .dataframe thead th {\n",
              "        text-align: right;\n",
              "    }\n",
              "</style>\n",
              "<table border=\"1\" class=\"dataframe\">\n",
              "  <thead>\n",
              "    <tr style=\"text-align: right;\">\n",
              "      <th></th>\n",
              "      <th>category_code</th>\n",
              "      <th>funding_total_usd</th>\n",
              "      <th>status</th>\n",
              "      <th>country_code</th>\n",
              "      <th>state_code</th>\n",
              "      <th>region</th>\n",
              "      <th>city</th>\n",
              "      <th>funding_rounds</th>\n",
              "      <th>founded_month</th>\n",
              "      <th>founded_quarter</th>\n",
              "      <th>founded_year</th>\n",
              "      <th>first_funding_at</th>\n",
              "      <th>last_funding_at</th>\n",
              "      <th>last_milestone_at</th>\n",
              "      <th>avg_raise_usd</th>\n",
              "      <th>cat_list</th>\n",
              "      <th>float_time_bw_first_rounds</th>\n",
              "    </tr>\n",
              "  </thead>\n",
              "  <tbody>\n",
              "    <tr>\n",
              "      <th>0</th>\n",
              "      <td>15</td>\n",
              "      <td>1</td>\n",
              "      <td>3</td>\n",
              "      <td>0</td>\n",
              "      <td>3</td>\n",
              "      <td>215</td>\n",
              "      <td>495</td>\n",
              "      <td>1</td>\n",
              "      <td>37</td>\n",
              "      <td>36</td>\n",
              "      <td>1986.0</td>\n",
              "      <td>1537</td>\n",
              "      <td>1436</td>\n",
              "      <td>534</td>\n",
              "      <td>1.085854e+07</td>\n",
              "      <td>15</td>\n",
              "      <td>0</td>\n",
              "    </tr>\n",
              "    <tr>\n",
              "      <th>1</th>\n",
              "      <td>41</td>\n",
              "      <td>688</td>\n",
              "      <td>0</td>\n",
              "      <td>0</td>\n",
              "      <td>3</td>\n",
              "      <td>359</td>\n",
              "      <td>857</td>\n",
              "      <td>2</td>\n",
              "      <td>218</td>\n",
              "      <td>114</td>\n",
              "      <td>2010.0</td>\n",
              "      <td>1370</td>\n",
              "      <td>1581</td>\n",
              "      <td>1240</td>\n",
              "      <td>1.267500e+06</td>\n",
              "      <td>41</td>\n",
              "      <td>411</td>\n",
              "    </tr>\n",
              "    <tr>\n",
              "      <th>2</th>\n",
              "      <td>1</td>\n",
              "      <td>188</td>\n",
              "      <td>0</td>\n",
              "      <td>0</td>\n",
              "      <td>3</td>\n",
              "      <td>359</td>\n",
              "      <td>857</td>\n",
              "      <td>2</td>\n",
              "      <td>232</td>\n",
              "      <td>118</td>\n",
              "      <td>2011.0</td>\n",
              "      <td>1790</td>\n",
              "      <td>1734</td>\n",
              "      <td>1149</td>\n",
              "      <td>6.250000e+05</td>\n",
              "      <td>1</td>\n",
              "      <td>28</td>\n",
              "    </tr>\n",
              "    <tr>\n",
              "      <th>3</th>\n",
              "      <td>36</td>\n",
              "      <td>938</td>\n",
              "      <td>3</td>\n",
              "      <td>0</td>\n",
              "      <td>33</td>\n",
              "      <td>281</td>\n",
              "      <td>644</td>\n",
              "      <td>1</td>\n",
              "      <td>96</td>\n",
              "      <td>72</td>\n",
              "      <td>2000.0</td>\n",
              "      <td>1420</td>\n",
              "      <td>1313</td>\n",
              "      <td>866</td>\n",
              "      <td>3.500000e+07</td>\n",
              "      <td>36</td>\n",
              "      <td>0</td>\n",
              "    </tr>\n",
              "    <tr>\n",
              "      <th>4</th>\n",
              "      <td>41</td>\n",
              "      <td>1207</td>\n",
              "      <td>3</td>\n",
              "      <td>0</td>\n",
              "      <td>34</td>\n",
              "      <td>76</td>\n",
              "      <td>159</td>\n",
              "      <td>1</td>\n",
              "      <td>203</td>\n",
              "      <td>109</td>\n",
              "      <td>2009.0</td>\n",
              "      <td>1171</td>\n",
              "      <td>1059</td>\n",
              "      <td>0</td>\n",
              "      <td>5.000000e+04</td>\n",
              "      <td>41</td>\n",
              "      <td>0</td>\n",
              "    </tr>\n",
              "  </tbody>\n",
              "</table>\n",
              "</div>"
            ],
            "text/plain": [
              "   category_code  funding_total_usd  status  country_code  state_code  region  \\\n",
              "0             15                  1       3             0           3     215   \n",
              "1             41                688       0             0           3     359   \n",
              "2              1                188       0             0           3     359   \n",
              "3             36                938       3             0          33     281   \n",
              "4             41               1207       3             0          34      76   \n",
              "\n",
              "   city  funding_rounds  founded_month  founded_quarter  founded_year  \\\n",
              "0   495               1             37               36        1986.0   \n",
              "1   857               2            218              114        2010.0   \n",
              "2   857               2            232              118        2011.0   \n",
              "3   644               1             96               72        2000.0   \n",
              "4   159               1            203              109        2009.0   \n",
              "\n",
              "   first_funding_at  last_funding_at  last_milestone_at  avg_raise_usd  \\\n",
              "0              1537             1436                534   1.085854e+07   \n",
              "1              1370             1581               1240   1.267500e+06   \n",
              "2              1790             1734               1149   6.250000e+05   \n",
              "3              1420             1313                866   3.500000e+07   \n",
              "4              1171             1059                  0   5.000000e+04   \n",
              "\n",
              "   cat_list  float_time_bw_first_rounds  \n",
              "0        15                           0  \n",
              "1        41                         411  \n",
              "2         1                          28  \n",
              "3        36                           0  \n",
              "4        41                           0  "
            ]
          },
          "metadata": {
            "tags": []
          },
          "execution_count": 103
        }
      ]
    },
    {
      "cell_type": "code",
      "metadata": {
        "id": "O3V0IhSpdYhZ",
        "colab_type": "code",
        "outputId": "04ee94ad-cd24-4266-a080-86e46859eca4",
        "colab": {
          "base_uri": "https://localhost:8080/",
          "height": 341
        }
      },
      "source": [
        "X.dtypes"
      ],
      "execution_count": 56,
      "outputs": [
        {
          "output_type": "execute_result",
          "data": {
            "text/plain": [
              "category_code                   int64\n",
              "funding_total_usd               int64\n",
              "status                          int64\n",
              "country_code                    int64\n",
              "state_code                      int64\n",
              "region                          int64\n",
              "city                            int64\n",
              "funding_rounds                  int64\n",
              "founded_month                   int64\n",
              "founded_quarter                 int64\n",
              "founded_year                  float64\n",
              "first_funding_at                int64\n",
              "last_funding_at                 int64\n",
              "last_milestone_at               int64\n",
              "avg_raise_usd                 float64\n",
              "cat_list                        int64\n",
              "float_time_bw_first_rounds      int64\n",
              "dtype: object"
            ]
          },
          "metadata": {
            "tags": []
          },
          "execution_count": 56
        }
      ]
    },
    {
      "cell_type": "code",
      "metadata": {
        "id": "mraDQeyvmUlc",
        "colab_type": "code",
        "colab": {}
      },
      "source": [
        "y = final.Target"
      ],
      "execution_count": 0,
      "outputs": []
    },
    {
      "cell_type": "markdown",
      "metadata": {
        "id": "pm0ZiT5EPQy6",
        "colab_type": "text"
      },
      "source": [
        "#Separate data to training and testing"
      ]
    },
    {
      "cell_type": "code",
      "metadata": {
        "id": "mb9UtsOWcQnd",
        "colab_type": "code",
        "colab": {}
      },
      "source": [
        "from sklearn.model_selection import train_test_split \n",
        "from sklearn import metrics "
      ],
      "execution_count": 0,
      "outputs": []
    },
    {
      "cell_type": "code",
      "metadata": {
        "id": "t6CnUrlKmUlj",
        "colab_type": "code",
        "colab": {}
      },
      "source": [
        "X_train, X_test, y_train, y_test = train_test_split(X, y, test_size=0.3, random_state=1)"
      ],
      "execution_count": 0,
      "outputs": []
    },
    {
      "cell_type": "code",
      "metadata": {
        "id": "rTvEwtdKO7Pa",
        "colab_type": "code",
        "colab": {
          "base_uri": "https://localhost:8080/",
          "height": 35
        },
        "outputId": "d6629218-7746-4cd4-c5ba-76ebf510ff76"
      },
      "source": [
        "len(X_train)"
      ],
      "execution_count": 125,
      "outputs": [
        {
          "output_type": "execute_result",
          "data": {
            "text/plain": [
              "4888"
            ]
          },
          "metadata": {
            "tags": []
          },
          "execution_count": 125
        }
      ]
    },
    {
      "cell_type": "code",
      "metadata": {
        "id": "4Hyn-11KPD_A",
        "colab_type": "code",
        "outputId": "7cce8c2f-02df-4feb-e569-bde6b50b1f5e",
        "colab": {
          "base_uri": "https://localhost:8080/",
          "height": 35
        }
      },
      "source": [
        "len(X_test)"
      ],
      "execution_count": 126,
      "outputs": [
        {
          "output_type": "execute_result",
          "data": {
            "text/plain": [
              "2095"
            ]
          },
          "metadata": {
            "tags": []
          },
          "execution_count": 126
        }
      ]
    },
    {
      "cell_type": "code",
      "metadata": {
        "id": "MC9jPc4scbx4",
        "colab_type": "code",
        "outputId": "ed6e4d13-9338-444f-aef4-01a916dc8b36",
        "colab": {
          "base_uri": "https://localhost:8080/",
          "height": 224
        }
      },
      "source": [
        "X_train.head()"
      ],
      "execution_count": 127,
      "outputs": [
        {
          "output_type": "execute_result",
          "data": {
            "text/html": [
              "<div>\n",
              "<style scoped>\n",
              "    .dataframe tbody tr th:only-of-type {\n",
              "        vertical-align: middle;\n",
              "    }\n",
              "\n",
              "    .dataframe tbody tr th {\n",
              "        vertical-align: top;\n",
              "    }\n",
              "\n",
              "    .dataframe thead th {\n",
              "        text-align: right;\n",
              "    }\n",
              "</style>\n",
              "<table border=\"1\" class=\"dataframe\">\n",
              "  <thead>\n",
              "    <tr style=\"text-align: right;\">\n",
              "      <th></th>\n",
              "      <th>category_code</th>\n",
              "      <th>funding_total_usd</th>\n",
              "      <th>status</th>\n",
              "      <th>country_code</th>\n",
              "      <th>state_code</th>\n",
              "      <th>region</th>\n",
              "      <th>city</th>\n",
              "      <th>funding_rounds</th>\n",
              "      <th>founded_month</th>\n",
              "      <th>founded_quarter</th>\n",
              "      <th>founded_year</th>\n",
              "      <th>first_funding_at</th>\n",
              "      <th>last_funding_at</th>\n",
              "      <th>last_milestone_at</th>\n",
              "      <th>avg_raise_usd</th>\n",
              "      <th>cat_list</th>\n",
              "      <th>float_time_bw_first_rounds</th>\n",
              "    </tr>\n",
              "  </thead>\n",
              "  <tbody>\n",
              "    <tr>\n",
              "      <th>6979</th>\n",
              "      <td>32</td>\n",
              "      <td>1</td>\n",
              "      <td>3</td>\n",
              "      <td>0</td>\n",
              "      <td>18</td>\n",
              "      <td>43</td>\n",
              "      <td>108</td>\n",
              "      <td>1</td>\n",
              "      <td>183</td>\n",
              "      <td>102</td>\n",
              "      <td>2007.0</td>\n",
              "      <td>865</td>\n",
              "      <td>723</td>\n",
              "      <td>968</td>\n",
              "      <td>1.085854e+07</td>\n",
              "      <td>32</td>\n",
              "      <td>0</td>\n",
              "    </tr>\n",
              "    <tr>\n",
              "      <th>4597</th>\n",
              "      <td>36</td>\n",
              "      <td>554</td>\n",
              "      <td>3</td>\n",
              "      <td>0</td>\n",
              "      <td>8</td>\n",
              "      <td>410</td>\n",
              "      <td>970</td>\n",
              "      <td>3</td>\n",
              "      <td>118</td>\n",
              "      <td>80</td>\n",
              "      <td>2002.0</td>\n",
              "      <td>281</td>\n",
              "      <td>1237</td>\n",
              "      <td>659</td>\n",
              "      <td>7.153554e+06</td>\n",
              "      <td>36</td>\n",
              "      <td>983</td>\n",
              "    </tr>\n",
              "    <tr>\n",
              "      <th>4856</th>\n",
              "      <td>36</td>\n",
              "      <td>673</td>\n",
              "      <td>3</td>\n",
              "      <td>0</td>\n",
              "      <td>4</td>\n",
              "      <td>94</td>\n",
              "      <td>210</td>\n",
              "      <td>1</td>\n",
              "      <td>200</td>\n",
              "      <td>108</td>\n",
              "      <td>2009.0</td>\n",
              "      <td>1431</td>\n",
              "      <td>1323</td>\n",
              "      <td>0</td>\n",
              "      <td>2.500000e+05</td>\n",
              "      <td>36</td>\n",
              "      <td>0</td>\n",
              "    </tr>\n",
              "    <tr>\n",
              "      <th>4745</th>\n",
              "      <td>0</td>\n",
              "      <td>168</td>\n",
              "      <td>0</td>\n",
              "      <td>0</td>\n",
              "      <td>3</td>\n",
              "      <td>359</td>\n",
              "      <td>857</td>\n",
              "      <td>2</td>\n",
              "      <td>128</td>\n",
              "      <td>84</td>\n",
              "      <td>2003.0</td>\n",
              "      <td>642</td>\n",
              "      <td>886</td>\n",
              "      <td>118</td>\n",
              "      <td>6.125000e+06</td>\n",
              "      <td>0</td>\n",
              "      <td>543</td>\n",
              "    </tr>\n",
              "    <tr>\n",
              "      <th>6691</th>\n",
              "      <td>36</td>\n",
              "      <td>972</td>\n",
              "      <td>0</td>\n",
              "      <td>0</td>\n",
              "      <td>3</td>\n",
              "      <td>359</td>\n",
              "      <td>725</td>\n",
              "      <td>2</td>\n",
              "      <td>75</td>\n",
              "      <td>64</td>\n",
              "      <td>1998.0</td>\n",
              "      <td>752</td>\n",
              "      <td>631</td>\n",
              "      <td>1307</td>\n",
              "      <td>1.842500e+08</td>\n",
              "      <td>36</td>\n",
              "      <td>21</td>\n",
              "    </tr>\n",
              "  </tbody>\n",
              "</table>\n",
              "</div>"
            ],
            "text/plain": [
              "      category_code  funding_total_usd  status  country_code  state_code  \\\n",
              "6979             32                  1       3             0          18   \n",
              "4597             36                554       3             0           8   \n",
              "4856             36                673       3             0           4   \n",
              "4745              0                168       0             0           3   \n",
              "6691             36                972       0             0           3   \n",
              "\n",
              "      region  city  funding_rounds  founded_month  founded_quarter  \\\n",
              "6979      43   108               1            183              102   \n",
              "4597     410   970               3            118               80   \n",
              "4856      94   210               1            200              108   \n",
              "4745     359   857               2            128               84   \n",
              "6691     359   725               2             75               64   \n",
              "\n",
              "      founded_year  first_funding_at  last_funding_at  last_milestone_at  \\\n",
              "6979        2007.0               865              723                968   \n",
              "4597        2002.0               281             1237                659   \n",
              "4856        2009.0              1431             1323                  0   \n",
              "4745        2003.0               642              886                118   \n",
              "6691        1998.0               752              631               1307   \n",
              "\n",
              "      avg_raise_usd  cat_list  float_time_bw_first_rounds  \n",
              "6979   1.085854e+07        32                           0  \n",
              "4597   7.153554e+06        36                         983  \n",
              "4856   2.500000e+05        36                           0  \n",
              "4745   6.125000e+06         0                         543  \n",
              "6691   1.842500e+08        36                          21  "
            ]
          },
          "metadata": {
            "tags": []
          },
          "execution_count": 127
        }
      ]
    },
    {
      "cell_type": "markdown",
      "metadata": {
        "id": "Vp7osGF8S8zY",
        "colab_type": "text"
      },
      "source": [
        "# standardize the features"
      ]
    },
    {
      "cell_type": "code",
      "metadata": {
        "id": "IC0HqVpiS6tj",
        "colab_type": "code",
        "outputId": "424adbd8-0c64-4fc3-d4d0-5f8ba766fe31",
        "colab": {
          "base_uri": "https://localhost:8080/",
          "height": 251
        }
      },
      "source": [
        "from sklearn.preprocessing import StandardScaler as ss\n",
        "sc = ss()\n",
        "X_train_std = sc.fit_transform(X_train)\n",
        "X_test_std = sc.transform(X_test)\n",
        "print(X_train_std)"
      ],
      "execution_count": 128,
      "outputs": [
        {
          "output_type": "stream",
          "text": [
            "[[ 6.45390662e-01 -1.33800305e+00  7.06757966e-01 ...  6.57208811e-04\n",
            "   6.45390662e-01 -4.22777775e-01]\n",
            " [ 9.21118363e-01 -3.00111087e-01  7.06757966e-01 ... -9.61211205e-02\n",
            "   9.21118363e-01  1.89859368e+00]\n",
            " [ 9.21118363e-01 -7.67672459e-02  7.06757966e-01 ... -2.76449710e-01\n",
            "   9.21118363e-01 -4.22777775e-01]\n",
            " ...\n",
            " [-1.28470324e+00  9.31095297e-01  7.06757966e-01 ...  1.02307614e+00\n",
            "  -1.28470324e+00 -4.22777775e-01]\n",
            " [-1.35363517e+00 -3.95829876e-01  7.06757966e-01 ...  2.39442462e-01\n",
            "  -1.35363517e+00 -4.22777775e-01]\n",
            " [-9.40043617e-01  1.90142106e+00 -7.25411402e-02 ...  5.86995640e-01\n",
            "  -9.40043617e-01  3.68330502e-01]]\n"
          ],
          "name": "stdout"
        }
      ]
    },
    {
      "cell_type": "markdown",
      "metadata": {
        "id": "emXLUri5O-l2",
        "colab_type": "text"
      },
      "source": [
        "#Applying Decision Tree Classifier"
      ]
    },
    {
      "cell_type": "code",
      "metadata": {
        "id": "uGA26ghyQrHq",
        "colab_type": "code",
        "colab": {}
      },
      "source": [
        "from sklearn.tree import DecisionTreeClassifier \n",
        "from sklearn.pipeline import Pipeline\n",
        "from sklearn.model_selection import GridSearchCV\n",
        "from sklearn.preprocessing import StandardScaler "
      ],
      "execution_count": 0,
      "outputs": []
    },
    {
      "cell_type": "code",
      "metadata": {
        "id": "UWL-nfluRFK8",
        "colab_type": "code",
        "colab": {}
      },
      "source": [
        "pipe_step=[('scaler',StandardScaler()),('DT',DecisionTreeClassifier())]\n",
        "\n",
        "check_params={'DT_criterion':['gini','entropy'],'DT_max_depth':np.arange(3,)}"
      ],
      "execution_count": 0,
      "outputs": []
    },
    {
      "cell_type": "code",
      "metadata": {
        "id": "FprDXsQUmUlk",
        "colab_type": "code",
        "colab": {}
      },
      "source": [
        "clf = DecisionTreeClassifier(criterion='gini',max_depth=10)"
      ],
      "execution_count": 0,
      "outputs": []
    },
    {
      "cell_type": "code",
      "metadata": {
        "id": "X2BK256hmUll",
        "colab_type": "code",
        "colab": {}
      },
      "source": [
        "clf = clf.fit(X_train_std,y_train)"
      ],
      "execution_count": 0,
      "outputs": []
    },
    {
      "cell_type": "code",
      "metadata": {
        "id": "6QFarTn_mUlm",
        "colab_type": "code",
        "colab": {}
      },
      "source": [
        "y_pred = clf.predict(X_test_std)"
      ],
      "execution_count": 0,
      "outputs": []
    },
    {
      "cell_type": "code",
      "metadata": {
        "id": "qeZ5NQTkmUln",
        "colab_type": "code",
        "outputId": "9973369f-45f9-4e0f-b24d-79411c45163b",
        "colab": {
          "base_uri": "https://localhost:8080/",
          "height": 53
        }
      },
      "source": [
        "pip install pydotplus"
      ],
      "execution_count": 134,
      "outputs": [
        {
          "output_type": "stream",
          "text": [
            "Requirement already satisfied: pydotplus in /usr/local/lib/python3.6/dist-packages (2.0.2)\n",
            "Requirement already satisfied: pyparsing>=2.0.1 in /usr/local/lib/python3.6/dist-packages (from pydotplus) (2.4.6)\n"
          ],
          "name": "stdout"
        }
      ]
    },
    {
      "cell_type": "code",
      "metadata": {
        "id": "YJ7Ef0ilmUlp",
        "colab_type": "code",
        "colab": {}
      },
      "source": [
        "#final.to_csv(r'Desktop/dataframe.csv', index = False, header=True)"
      ],
      "execution_count": 0,
      "outputs": []
    },
    {
      "cell_type": "code",
      "metadata": {
        "id": "Lp5lpA8AhWsD",
        "colab_type": "code",
        "outputId": "b36fbb12-6de4-4fdc-a3e1-64f28ac2ee2d",
        "colab": {
          "base_uri": "https://localhost:8080/",
          "height": 55
        }
      },
      "source": [
        "features=X_train.columns.to_list()\n",
        "print(features)"
      ],
      "execution_count": 136,
      "outputs": [
        {
          "output_type": "stream",
          "text": [
            "['category_code', 'funding_total_usd', 'status', 'country_code', 'state_code', 'region', 'city', 'funding_rounds', 'founded_month', 'founded_quarter', 'founded_year', 'first_funding_at', 'last_funding_at', 'last_milestone_at', 'avg_raise_usd', 'cat_list', 'float_time_bw_first_rounds']\n"
          ],
          "name": "stdout"
        }
      ]
    },
    {
      "cell_type": "code",
      "metadata": {
        "id": "0-Xwys7sjhIW",
        "colab_type": "code",
        "colab": {}
      },
      "source": [
        "from sklearn.externals.six import StringIO\n",
        "from IPython.display import Image\n",
        "from sklearn.tree import export_graphviz\n",
        "import pydotplus\n",
        "dot_data =StringIO()"
      ],
      "execution_count": 0,
      "outputs": []
    },
    {
      "cell_type": "code",
      "metadata": {
        "id": "Nu7moHjUkHcV",
        "colab_type": "code",
        "outputId": "91d6a274-319e-487e-aab1-cc1bfa1ccce2",
        "colab": {
          "base_uri": "https://localhost:8080/",
          "height": 35
        }
      },
      "source": [
        "export_graphviz(clf,out_file =dot_data,max_depth=20,feature_names=features,filled=True,\n",
        "                rounded=True,special_characters=True,class_names=['0','1'])\n",
        "\n",
        "\n",
        "graph=pydotplus.graph_from_dot_data(dot_data.getvalue())\n",
        "print(graph)"
      ],
      "execution_count": 138,
      "outputs": [
        {
          "output_type": "stream",
          "text": [
            "<pydotplus.graphviz.Dot object at 0x7f14cf1c05c0>\n"
          ],
          "name": "stdout"
        }
      ]
    },
    {
      "cell_type": "code",
      "metadata": {
        "id": "CyI1BIcNnwTa",
        "colab_type": "code",
        "outputId": "c1d36d88-7eec-4d65-98c9-02b0719b317d",
        "colab": {
          "base_uri": "https://localhost:8080/",
          "height": 594
        }
      },
      "source": [
        "graph.write_png('DT.png')\n",
        "\n",
        "Image(graph.create_png())\n"
      ],
      "execution_count": 139,
      "outputs": [
        {
          "output_type": "execute_result",
          "data": {
            "image/png": "[encoded data removed]",
            "text/plain": [
              "<IPython.core.display.Image object>"
            ]
          },
          "metadata": {
            "tags": []
          },
          "execution_count": 139
        }
      ]
    },
    {
      "cell_type": "markdown",
      "metadata": {
        "id": "1T0R5eSTf3oL",
        "colab_type": "text"
      },
      "source": [
        "# At each node, we choose the feature f which maximizes the information gain. \n",
        "\n",
        "#Here \"status\" of a start-up seems be the most important feature.\n",
        "\n",
        "But* it sometimes maybe have the same meaning of \"Target\".*"
      ]
    },
    {
      "cell_type": "markdown",
      "metadata": {
        "id": "VqEsez5zVTFh",
        "colab_type": "text"
      },
      "source": [
        "#Try other features without status?"
      ]
    },
    {
      "cell_type": "code",
      "metadata": {
        "id": "-Y685xaCWt5o",
        "colab_type": "code",
        "colab": {}
      },
      "source": [
        "X_train2=X_train.drop(['status'],axis=1)"
      ],
      "execution_count": 0,
      "outputs": []
    },
    {
      "cell_type": "code",
      "metadata": {
        "id": "usNEDReoYP5e",
        "colab_type": "code",
        "colab": {
          "base_uri": "https://localhost:8080/",
          "height": 131
        },
        "outputId": "da657364-ab88-437b-d569-e9280ab313ce"
      },
      "source": [
        "X_train2.head(2)"
      ],
      "execution_count": 141,
      "outputs": [
        {
          "output_type": "execute_result",
          "data": {
            "text/html": [
              "<div>\n",
              "<style scoped>\n",
              "    .dataframe tbody tr th:only-of-type {\n",
              "        vertical-align: middle;\n",
              "    }\n",
              "\n",
              "    .dataframe tbody tr th {\n",
              "        vertical-align: top;\n",
              "    }\n",
              "\n",
              "    .dataframe thead th {\n",
              "        text-align: right;\n",
              "    }\n",
              "</style>\n",
              "<table border=\"1\" class=\"dataframe\">\n",
              "  <thead>\n",
              "    <tr style=\"text-align: right;\">\n",
              "      <th></th>\n",
              "      <th>category_code</th>\n",
              "      <th>funding_total_usd</th>\n",
              "      <th>country_code</th>\n",
              "      <th>state_code</th>\n",
              "      <th>region</th>\n",
              "      <th>city</th>\n",
              "      <th>funding_rounds</th>\n",
              "      <th>founded_month</th>\n",
              "      <th>founded_quarter</th>\n",
              "      <th>founded_year</th>\n",
              "      <th>first_funding_at</th>\n",
              "      <th>last_funding_at</th>\n",
              "      <th>last_milestone_at</th>\n",
              "      <th>avg_raise_usd</th>\n",
              "      <th>cat_list</th>\n",
              "      <th>float_time_bw_first_rounds</th>\n",
              "    </tr>\n",
              "  </thead>\n",
              "  <tbody>\n",
              "    <tr>\n",
              "      <th>6979</th>\n",
              "      <td>32</td>\n",
              "      <td>1</td>\n",
              "      <td>0</td>\n",
              "      <td>18</td>\n",
              "      <td>43</td>\n",
              "      <td>108</td>\n",
              "      <td>1</td>\n",
              "      <td>183</td>\n",
              "      <td>102</td>\n",
              "      <td>2007.0</td>\n",
              "      <td>865</td>\n",
              "      <td>723</td>\n",
              "      <td>968</td>\n",
              "      <td>1.085854e+07</td>\n",
              "      <td>32</td>\n",
              "      <td>0</td>\n",
              "    </tr>\n",
              "    <tr>\n",
              "      <th>4597</th>\n",
              "      <td>36</td>\n",
              "      <td>554</td>\n",
              "      <td>0</td>\n",
              "      <td>8</td>\n",
              "      <td>410</td>\n",
              "      <td>970</td>\n",
              "      <td>3</td>\n",
              "      <td>118</td>\n",
              "      <td>80</td>\n",
              "      <td>2002.0</td>\n",
              "      <td>281</td>\n",
              "      <td>1237</td>\n",
              "      <td>659</td>\n",
              "      <td>7.153554e+06</td>\n",
              "      <td>36</td>\n",
              "      <td>983</td>\n",
              "    </tr>\n",
              "  </tbody>\n",
              "</table>\n",
              "</div>"
            ],
            "text/plain": [
              "      category_code  funding_total_usd  country_code  state_code  region  \\\n",
              "6979             32                  1             0          18      43   \n",
              "4597             36                554             0           8     410   \n",
              "\n",
              "      city  funding_rounds  founded_month  founded_quarter  founded_year  \\\n",
              "6979   108               1            183              102        2007.0   \n",
              "4597   970               3            118               80        2002.0   \n",
              "\n",
              "      first_funding_at  last_funding_at  last_milestone_at  avg_raise_usd  \\\n",
              "6979               865              723                968   1.085854e+07   \n",
              "4597               281             1237                659   7.153554e+06   \n",
              "\n",
              "      cat_list  float_time_bw_first_rounds  \n",
              "6979        32                           0  \n",
              "4597        36                         983  "
            ]
          },
          "metadata": {
            "tags": []
          },
          "execution_count": 141
        }
      ]
    },
    {
      "cell_type": "code",
      "metadata": {
        "id": "XR99ggd3X6KY",
        "colab_type": "code",
        "colab": {}
      },
      "source": [
        "X_test2=X_test.drop(['status'],axis=1)"
      ],
      "execution_count": 0,
      "outputs": []
    },
    {
      "cell_type": "code",
      "metadata": {
        "id": "Ti-T3XKnXlXQ",
        "colab_type": "code",
        "colab": {
          "base_uri": "https://localhost:8080/",
          "height": 251
        },
        "outputId": "8d8b3878-91f6-42e2-e6ac-234dd8580d60"
      },
      "source": [
        "X_train2_std = sc.fit_transform(X_train2)\n",
        "X_test2_std = sc.transform(X_test2)\n",
        "print(X_train2_std)"
      ],
      "execution_count": 143,
      "outputs": [
        {
          "output_type": "stream",
          "text": [
            "[[ 6.45390662e-01 -1.33800305e+00  0.00000000e+00 ...  6.57208811e-04\n",
            "   6.45390662e-01 -4.22777775e-01]\n",
            " [ 9.21118363e-01 -3.00111087e-01  0.00000000e+00 ... -9.61211205e-02\n",
            "   9.21118363e-01  1.89859368e+00]\n",
            " [ 9.21118363e-01 -7.67672459e-02  0.00000000e+00 ... -2.76449710e-01\n",
            "   9.21118363e-01 -4.22777775e-01]\n",
            " ...\n",
            " [-1.28470324e+00  9.31095297e-01  0.00000000e+00 ...  1.02307614e+00\n",
            "  -1.28470324e+00 -4.22777775e-01]\n",
            " [-1.35363517e+00 -3.95829876e-01  0.00000000e+00 ...  2.39442462e-01\n",
            "  -1.35363517e+00 -4.22777775e-01]\n",
            " [-9.40043617e-01  1.90142106e+00  0.00000000e+00 ...  5.86995640e-01\n",
            "  -9.40043617e-01  3.68330502e-01]]\n"
          ],
          "name": "stdout"
        }
      ]
    },
    {
      "cell_type": "code",
      "metadata": {
        "id": "1s7qiMKxVZOI",
        "colab_type": "code",
        "colab": {}
      },
      "source": [
        "clf = clf.fit(X_train2_std,y_train)"
      ],
      "execution_count": 0,
      "outputs": []
    },
    {
      "cell_type": "code",
      "metadata": {
        "id": "duAYvNr-ZVkM",
        "colab_type": "code",
        "colab": {
          "base_uri": "https://localhost:8080/",
          "height": 55
        },
        "outputId": "d8ea7988-58c3-40c6-cafc-e6d05958eb7b"
      },
      "source": [
        "features2=X_train2.columns.to_list()\n",
        "print(features2)"
      ],
      "execution_count": 163,
      "outputs": [
        {
          "output_type": "stream",
          "text": [
            "['category_code', 'funding_total_usd', 'country_code', 'state_code', 'region', 'city', 'funding_rounds', 'founded_month', 'founded_quarter', 'founded_year', 'first_funding_at', 'last_funding_at', 'last_milestone_at', 'avg_raise_usd', 'cat_list', 'float_time_bw_first_rounds']\n"
          ],
          "name": "stdout"
        }
      ]
    },
    {
      "cell_type": "code",
      "metadata": {
        "id": "FnP9q6OkZLCR",
        "colab_type": "code",
        "colab": {}
      },
      "source": [
        "dot_data2 =StringIO()"
      ],
      "execution_count": 0,
      "outputs": []
    },
    {
      "cell_type": "code",
      "metadata": {
        "id": "e2SbUitOVRZi",
        "colab_type": "code",
        "colab": {
          "base_uri": "https://localhost:8080/",
          "height": 35
        },
        "outputId": "755dedef-0e4b-4b41-941b-c3f44ef53dad"
      },
      "source": [
        "export_graphviz(clf,out_file =dot_data2,max_depth=4,feature_names=features2,filled=True,\n",
        "                rounded=True,special_characters=True,class_names=['0','1'])\n",
        "\n",
        "\n",
        "graph=pydotplus.graph_from_dot_data(dot_data2.getvalue())\n",
        "print(graph)"
      ],
      "execution_count": 168,
      "outputs": [
        {
          "output_type": "stream",
          "text": [
            "<pydotplus.graphviz.Dot object at 0x7f14cd074a58>\n"
          ],
          "name": "stdout"
        }
      ]
    },
    {
      "cell_type": "code",
      "metadata": {
        "id": "jUTaS9kcZEqf",
        "colab_type": "code",
        "colab": {
          "base_uri": "https://localhost:8080/",
          "height": 889
        },
        "outputId": "ea75398b-5747-4495-dc4c-a180227a2182"
      },
      "source": [
        "graph.write_png('DT2.pn',)\n",
        "\n",
        "Image(graph.create_png())"
      ],
      "execution_count": 169,
      "outputs": [
        {
          "output_type": "execute_result",
          "data": {
            "image/png": "[encoded data removed]",
            "text/plain": [
              "<IPython.core.display.Image object>"
            ]
          },
          "metadata": {
            "tags": []
          },
          "execution_count": 169
        }
      ]
    },
    {
      "cell_type": "markdown",
      "metadata": {
        "id": "-bHrb2FScHyK",
        "colab_type": "text"
      },
      "source": [
        "Here \"last_funding_at\" is most important feature, and  \"first_dunding_at\"  and \"avg_raise_usd\" are the second deepth(which means that they are the important ones too).\n"
      ]
    },
    {
      "cell_type": "markdown",
      "metadata": {
        "id": "kKJQhDwic5E9",
        "colab_type": "text"
      },
      "source": [
        "#It seems that the Timing  is very important for the success!"
      ]
    },
    {
      "cell_type": "markdown",
      "metadata": {
        "id": "oLa7g9vtddhH",
        "colab_type": "text"
      },
      "source": [
        "Then let us do the ramdom forests now.\n",
        "\n"
      ]
    },
    {
      "cell_type": "markdown",
      "metadata": {
        "id": "y9UVW-kMdpVH",
        "colab_type": "text"
      },
      "source": [
        "#Feature Selection Using Random forest"
      ]
    },
    {
      "cell_type": "markdown",
      "metadata": {
        "id": "FV-0goisdu-M",
        "colab_type": "text"
      },
      "source": [
        "reference:\n",
        "https://scikit-learn.org/stable/modules/generated/sklearn.ensemble.RandomForestClassifier.html\n",
        "\n",
        "https://towardsdatascience.com/feature-selection-using-random-forest-26d7b747597f\n",
        "\n",
        "https://chrisalbon.com/machine_learning/trees_and_forests/feature_selection_using_random_forest/"
      ]
    },
    {
      "cell_type": "code",
      "metadata": {
        "id": "iUXkxFJ_d5nz",
        "colab_type": "code",
        "colab": {}
      },
      "source": [
        "from sklearn.ensemble import RandomForestClassifier\n",
        "from sklearn.feature_selection import SelectFromModel"
      ],
      "execution_count": 0,
      "outputs": []
    },
    {
      "cell_type": "code",
      "metadata": {
        "id": "gwXCzEuEerrC",
        "colab_type": "code",
        "colab": {
          "base_uri": "https://localhost:8080/",
          "height": 323
        },
        "outputId": "d518919e-3151-4507-fe02-16c9d90e972f"
      },
      "source": [
        "sel = SelectFromModel(RandomForestClassifier(n_estimators = 100))\n",
        "sel.fit(X_train_std, y_train)"
      ],
      "execution_count": 203,
      "outputs": [
        {
          "output_type": "execute_result",
          "data": {
            "text/plain": [
              "SelectFromModel(estimator=RandomForestClassifier(bootstrap=True, ccp_alpha=0.0,\n",
              "                                                 class_weight=None,\n",
              "                                                 criterion='gini',\n",
              "                                                 max_depth=None,\n",
              "                                                 max_features='auto',\n",
              "                                                 max_leaf_nodes=None,\n",
              "                                                 max_samples=None,\n",
              "                                                 min_impurity_decrease=0.0,\n",
              "                                                 min_impurity_split=None,\n",
              "                                                 min_samples_leaf=1,\n",
              "                                                 min_samples_split=2,\n",
              "                                                 min_weight_fraction_leaf=0.0,\n",
              "                                                 n_estimators=100, n_jobs=None,\n",
              "                                                 oob_score=False,\n",
              "                                                 random_state=None, verbose=0,\n",
              "                                                 warm_start=False),\n",
              "                max_features=None, norm_order=1, prefit=False, threshold=None)"
            ]
          },
          "metadata": {
            "tags": []
          },
          "execution_count": 203
        }
      ]
    },
    {
      "cell_type": "markdown",
      "metadata": {
        "id": "tv_R8lzee5du",
        "colab_type": "text"
      },
      "source": [
        "Here,SelectFromModel  select those features which importance is greater than the mean importance of all the features by default, but we can alter this threshold if we want."
      ]
    },
    {
      "cell_type": "markdown",
      "metadata": {
        "id": "GXPYygk1fRdz",
        "colab_type": "text"
      },
      "source": [
        "To see which features are important we can use get_support method on the fitted model."
      ]
    },
    {
      "cell_type": "code",
      "metadata": {
        "id": "Nlu92gbRf70z",
        "colab_type": "code",
        "colab": {
          "base_uri": "https://localhost:8080/",
          "height": 53
        },
        "outputId": "a1e38a2e-627d-4084-d706-333b73bfd3f3"
      },
      "source": [
        "sel.get_support()"
      ],
      "execution_count": 204,
      "outputs": [
        {
          "output_type": "execute_result",
          "data": {
            "text/plain": [
              "array([False, False,  True, False, False, False, False, False, False,\n",
              "       False, False, False,  True, False, False, False, False])"
            ]
          },
          "metadata": {
            "tags": []
          },
          "execution_count": 204
        }
      ]
    },
    {
      "cell_type": "code",
      "metadata": {
        "id": "swOh7ipgftwq",
        "colab_type": "code",
        "colab": {
          "base_uri": "https://localhost:8080/",
          "height": 55
        },
        "outputId": "96e98fc4-41cf-4859-a3e2-460381b2ed3f"
      },
      "source": [
        "print(features)"
      ],
      "execution_count": 205,
      "outputs": [
        {
          "output_type": "stream",
          "text": [
            "['category_code', 'funding_total_usd', 'status', 'country_code', 'state_code', 'region', 'city', 'funding_rounds', 'founded_month', 'founded_quarter', 'founded_year', 'first_funding_at', 'last_funding_at', 'last_milestone_at', 'avg_raise_usd', 'cat_list', 'float_time_bw_first_rounds']\n"
          ],
          "name": "stdout"
        }
      ]
    },
    {
      "cell_type": "code",
      "metadata": {
        "id": "upo03UZom0eH",
        "colab_type": "code",
        "colab": {
          "base_uri": "https://localhost:8080/",
          "height": 35
        },
        "outputId": "79b29378-46ea-47cb-fbeb-5ef8c4a66e6f"
      },
      "source": [
        "selected_feat= X_train.columns[(sel.get_support())]\n",
        "len(selected_feat)\n"
      ],
      "execution_count": 211,
      "outputs": [
        {
          "output_type": "execute_result",
          "data": {
            "text/plain": [
              "2"
            ]
          },
          "metadata": {
            "tags": []
          },
          "execution_count": 211
        }
      ]
    },
    {
      "cell_type": "code",
      "metadata": {
        "id": "Y8Kr_Z1Cm3GE",
        "colab_type": "code",
        "colab": {
          "base_uri": "https://localhost:8080/",
          "height": 35
        },
        "outputId": "1615e819-21ff-43f6-cf32-c7c3f1afb45d"
      },
      "source": [
        "print(selected_feat)"
      ],
      "execution_count": 212,
      "outputs": [
        {
          "output_type": "stream",
          "text": [
            "Index(['status', 'last_funding_at'], dtype='object')\n"
          ],
          "name": "stdout"
        }
      ]
    },
    {
      "cell_type": "code",
      "metadata": {
        "id": "BFcbZxRmnyc_",
        "colab_type": "code",
        "colab": {}
      },
      "source": [
        "import matplotlib.pyplot as plt"
      ],
      "execution_count": 0,
      "outputs": []
    },
    {
      "cell_type": "code",
      "metadata": {
        "id": "PtuFusHBm8Pi",
        "colab_type": "code",
        "colab": {
          "base_uri": "https://localhost:8080/",
          "height": 281
        },
        "outputId": "4fc29518-62fb-49d3-86d8-e32b77df6dfe"
      },
      "source": [
        "importances = sel.estimator_.feature_importances_\n",
        "indices = np.argsort(importances)[::-1]\n",
        "# X is the train data used to fit the model \n",
        "plt.figure()\n",
        "plt.title(\"Feature importances\")\n",
        "plt.bar(range(X_train.shape[1]), importances[indices],\n",
        "       color=\"r\", align=\"center\")\n",
        "plt.xticks(range(X_train.shape[1]), indices)\n",
        "plt.xlim([-1, X_train.shape[1]])\n",
        "plt.show()"
      ],
      "execution_count": 221,
      "outputs": [
        {
          "output_type": "display_data",
          "data": {
            "image/png": "[encoded data removed]",
            "text/plain": [
              "<Figure size 432x288 with 1 Axes>"
            ]
          },
          "metadata": {
            "tags": []
          }
        }
      ]
    },
    {
      "cell_type": "markdown",
      "metadata": {
        "id": "TV7xCRtNh7Iy",
        "colab_type": "text"
      },
      "source": [
        "#So we can see that 'status' and 'last_funding_at' are important here."
      ]
    },
    {
      "cell_type": "markdown",
      "metadata": {
        "id": "D85RwN0iiUbe",
        "colab_type": "text"
      },
      "source": [
        "#It means that if you are alive, you will have more opportunity to success.Just like the period of now."
      ]
    },
    {
      "cell_type": "markdown",
      "metadata": {
        "id": "grpOOGf-iNVU",
        "colab_type": "text"
      },
      "source": [
        "try without the 'status'"
      ]
    },
    {
      "cell_type": "code",
      "metadata": {
        "id": "YSABt-jcjvhm",
        "colab_type": "code",
        "colab": {
          "base_uri": "https://localhost:8080/",
          "height": 323
        },
        "outputId": "39231214-d3fc-4a21-9a09-1a73a49e3f60"
      },
      "source": [
        "sel2 = SelectFromModel(RandomForestClassifier(n_estimators = 100))\n",
        "sel2.fit(X_train2_std, y_train)"
      ],
      "execution_count": 206,
      "outputs": [
        {
          "output_type": "execute_result",
          "data": {
            "text/plain": [
              "SelectFromModel(estimator=RandomForestClassifier(bootstrap=True, ccp_alpha=0.0,\n",
              "                                                 class_weight=None,\n",
              "                                                 criterion='gini',\n",
              "                                                 max_depth=None,\n",
              "                                                 max_features='auto',\n",
              "                                                 max_leaf_nodes=None,\n",
              "                                                 max_samples=None,\n",
              "                                                 min_impurity_decrease=0.0,\n",
              "                                                 min_impurity_split=None,\n",
              "                                                 min_samples_leaf=1,\n",
              "                                                 min_samples_split=2,\n",
              "                                                 min_weight_fraction_leaf=0.0,\n",
              "                                                 n_estimators=100, n_jobs=None,\n",
              "                                                 oob_score=False,\n",
              "                                                 random_state=None, verbose=0,\n",
              "                                                 warm_start=False),\n",
              "                max_features=None, norm_order=1, prefit=False, threshold=None)"
            ]
          },
          "metadata": {
            "tags": []
          },
          "execution_count": 206
        }
      ]
    },
    {
      "cell_type": "code",
      "metadata": {
        "id": "eHQ4Gjmuj3CR",
        "colab_type": "code",
        "colab": {
          "base_uri": "https://localhost:8080/",
          "height": 53
        },
        "outputId": "2576ae61-9d9e-43fb-8cdf-4d2155836357"
      },
      "source": [
        "sel2.get_support()"
      ],
      "execution_count": 207,
      "outputs": [
        {
          "output_type": "execute_result",
          "data": {
            "text/plain": [
              "array([False,  True, False, False, False,  True, False, False, False,\n",
              "       False,  True,  True,  True,  True, False, False])"
            ]
          },
          "metadata": {
            "tags": []
          },
          "execution_count": 207
        }
      ]
    },
    {
      "cell_type": "code",
      "metadata": {
        "id": "v1dtnv7Dj6Wy",
        "colab_type": "code",
        "colab": {
          "base_uri": "https://localhost:8080/",
          "height": 55
        },
        "outputId": "de5c9a43-353a-4c24-eb20-f21427ddf6fb"
      },
      "source": [
        "print(features2)"
      ],
      "execution_count": 208,
      "outputs": [
        {
          "output_type": "stream",
          "text": [
            "['category_code', 'funding_total_usd', 'country_code', 'state_code', 'region', 'city', 'funding_rounds', 'founded_month', 'founded_quarter', 'founded_year', 'first_funding_at', 'last_funding_at', 'last_milestone_at', 'avg_raise_usd', 'cat_list', 'float_time_bw_first_rounds']\n"
          ],
          "name": "stdout"
        }
      ]
    },
    {
      "cell_type": "code",
      "metadata": {
        "id": "-0fH3rjyob-N",
        "colab_type": "code",
        "colab": {
          "base_uri": "https://localhost:8080/",
          "height": 35
        },
        "outputId": "0d75809a-75e6-4bf8-c865-b9bef44447f6"
      },
      "source": [
        "selected_feat2= X_train2.columns[(sel2.get_support())]\n",
        "len(selected_feat2)"
      ],
      "execution_count": 227,
      "outputs": [
        {
          "output_type": "execute_result",
          "data": {
            "text/plain": [
              "6"
            ]
          },
          "metadata": {
            "tags": []
          },
          "execution_count": 227
        }
      ]
    },
    {
      "cell_type": "code",
      "metadata": {
        "id": "p9GDbRyvopXQ",
        "colab_type": "code",
        "colab": {
          "base_uri": "https://localhost:8080/",
          "height": 71
        },
        "outputId": "628ef498-d163-4b5d-d3f3-d70400506f7d"
      },
      "source": [
        "print(selected_feat2)"
      ],
      "execution_count": 228,
      "outputs": [
        {
          "output_type": "stream",
          "text": [
            "Index(['funding_total_usd', 'city', 'first_funding_at', 'last_funding_at',\n",
            "       'last_milestone_at', 'avg_raise_usd'],\n",
            "      dtype='object')\n"
          ],
          "name": "stdout"
        }
      ]
    },
    {
      "cell_type": "code",
      "metadata": {
        "id": "h06XcPFMovKo",
        "colab_type": "code",
        "colab": {
          "base_uri": "https://localhost:8080/",
          "height": 281
        },
        "outputId": "c11e0d8e-2a0e-4ee0-9220-6c02bd4dc68a"
      },
      "source": [
        "importances = sel2.estimator_.feature_importances_\n",
        "indices = np.argsort(importances)[::-1]\n",
        "\n",
        "plt.figure()\n",
        "plt.title(\"Feature importances\")\n",
        "plt.bar(range(X_train2.shape[1]), importances[indices],\n",
        "       color=\"r\", align=\"center\")\n",
        "plt.xticks(range(X_train2.shape[1]), indices)\n",
        "plt.xlim([-1, X_train2.shape[1]])\n",
        "plt.show()"
      ],
      "execution_count": 229,
      "outputs": [
        {
          "output_type": "display_data",
          "data": {
            "image/png": "[encoded data removed]",
            "text/plain": [
              "<Figure size 432x288 with 1 Axes>"
            ]
          },
          "metadata": {
            "tags": []
          }
        }
      ]
    },
    {
      "cell_type": "markdown",
      "metadata": {
        "id": "uiYMAxyRj9F8",
        "colab_type": "text"
      },
      "source": [
        "#Now,we can see that 'funding_total_usd',  'city',  'first_funding_at',  'last_funding_at', 'last_milestone_at', 'avg_raise_usd' (total 6 features) are important here!"
      ]
    },
    {
      "cell_type": "markdown",
      "metadata": {
        "id": "PGy382y8iSSY",
        "colab_type": "text"
      },
      "source": [
        "#It means that if you have more enough money to keep alive in your city in the right timing, you will have more opportunity to success.Just like the period of now?"
      ]
    },
    {
      "cell_type": "markdown",
      "metadata": {
        "id": "iZyajYvnqNTh",
        "colab_type": "text"
      },
      "source": [
        "#The most difficult part of the project is how to define the so-called success(‘Target’=0） for a startup? Just keep alive?? Not changing the world?"
      ]
    }
  ]
}